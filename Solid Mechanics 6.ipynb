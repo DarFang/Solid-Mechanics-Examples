{
 "cells": [
  {
   "cell_type": "markdown",
   "metadata": {},
   "source": [
    "6.4.1"
   ]
  },
  {
   "cell_type": "code",
   "execution_count": 1,
   "metadata": {},
   "outputs": [
    {
     "data": {
      "text/plain": [
       "'stress field over a body'"
      ]
     },
     "metadata": {},
     "output_type": "display_data"
    },
    {
     "data": {
      "text/plain": [
       "'σ ='"
      ]
     },
     "metadata": {},
     "output_type": "display_data"
    },
    {
     "data": {
      "text/latex": [
       "$\\displaystyle \\left[\\begin{matrix}5 x_{1}^{2} + 3 x_{2} + x_{3} & - x_{1} x_{2} & 0\\\\- x_{1} x_{2} & 5 x_{2} & 0\\\\0 & 0 & 9 x_{3}^{2}\\end{matrix}\\right]$"
      ],
      "text/plain": [
       "⎡    2                           ⎤\n",
       "⎢5⋅x₁  + 3⋅x₂ + x₃  -x₁⋅x₂    0  ⎥\n",
       "⎢                                ⎥\n",
       "⎢     -x₁⋅x₂         5⋅x₂     0  ⎥\n",
       "⎢                                ⎥\n",
       "⎢                               2⎥\n",
       "⎣        0            0     9⋅x₃ ⎦"
      ]
     },
     "metadata": {},
     "output_type": "display_data"
    },
    {
     "data": {
      "text/plain": [
       "'vector field'"
      ]
     },
     "metadata": {},
     "output_type": "display_data"
    },
    {
     "data": {
      "text/plain": [
       "'pb ='"
      ]
     },
     "metadata": {},
     "output_type": "display_data"
    },
    {
     "data": {
      "text/latex": [
       "$\\displaystyle \\left[\\begin{matrix}- 9 x_{1}\\\\x_{2} - 5\\\\- 18 x_{3}\\end{matrix}\\right]$"
      ],
      "text/plain": [
       "⎡-9⋅x₁ ⎤\n",
       "⎢      ⎥\n",
       "⎢x₂ - 5⎥\n",
       "⎢      ⎥\n",
       "⎣-18⋅x₃⎦"
      ]
     },
     "metadata": {},
     "output_type": "display_data"
    }
   ],
   "source": [
    "from sympy import Matrix,diff,symbols\n",
    "import sympy as sp\n",
    "sp.init_printing(use_latex=\"mathjax\")\n",
    "x1,x2,x3 = symbols(\"x1 x2 x3\")\n",
    "s = Matrix([[5*x1**2+3*x2+x3, -x2*x1, 0],[-x2*x1,5*x2,0],[0,0,9*x3**2]])\n",
    "display(\"stress field over a body\")\n",
    "display(\"\\u03C3 =\", s)\n",
    "x = Matrix([x1,x2,x3])\n",
    "pb = Matrix([-sum([diff(s[i,j], x[i]) for i in range(3)]) for j in range(3)])\n",
    "display(\"vector field\")\n",
    "display(\"pb =\",pb) "
   ]
  },
  {
   "cell_type": "markdown",
   "metadata": {},
   "source": [
    "6.4.2"
   ]
  },
  {
   "cell_type": "code",
   "execution_count": 2,
   "metadata": {},
   "outputs": [
    {
     "data": {
      "text/plain": [
       "'area varying with X_2'"
      ]
     },
     "metadata": {},
     "output_type": "display_data"
    },
    {
     "data": {
      "text/plain": [
       "'A ='"
      ]
     },
     "metadata": {},
     "output_type": "display_data"
    },
    {
     "data": {
      "text/latex": [
       "$\\displaystyle \\pi \\left(2 - \\frac{x}{L}\\right)^{2}$"
      ],
      "text/plain": [
       "         2\n",
       "  ⎛    x⎞ \n",
       "π⋅⎜2 - ─⎟ \n",
       "  ⎝    L⎠ "
      ]
     },
     "metadata": {},
     "output_type": "display_data"
    },
    {
     "data": {
      "text/plain": [
       "'A x@L='"
      ]
     },
     "metadata": {},
     "output_type": "display_data"
    },
    {
     "data": {
      "text/latex": [
       "$\\displaystyle \\pi$"
      ],
      "text/plain": [
       "π"
      ]
     },
     "metadata": {},
     "output_type": "display_data"
    },
    {
     "data": {
      "text/plain": [
       "'solution f(x)='"
      ]
     },
     "metadata": {},
     "output_type": "display_data"
    },
    {
     "data": {
      "text/latex": [
       "$\\displaystyle \\frac{- 4 L^{2} g \\rho x + \\frac{L^{2} \\left(\\frac{7 \\pi L g \\rho}{3} + P\\right)}{\\pi} + 2 L g \\rho x^{2} - \\frac{g \\rho x^{3}}{3}}{\\left(- 2 L + x\\right)^{2}}$"
      ],
      "text/plain": [
       "                2 ⎛7⋅π⋅L⋅g⋅ρ    ⎞                      \n",
       "               L ⋅⎜───────── + P⎟                     3\n",
       "     2            ⎝    3        ⎠            2   g⋅ρ⋅x \n",
       "- 4⋅L ⋅g⋅ρ⋅x + ────────────────── + 2⋅L⋅g⋅ρ⋅x  - ──────\n",
       "                       π                           3   \n",
       "───────────────────────────────────────────────────────\n",
       "                                2                      \n",
       "                      (-2⋅L + x)                       "
      ]
     },
     "metadata": {},
     "output_type": "display_data"
    },
    {
     "data": {
      "text/plain": [
       "'comparison with the Mathematica solution'"
      ]
     },
     "metadata": {},
     "output_type": "display_data"
    },
    {
     "data": {
      "text/plain": [
       "'Mathematica solution:'"
      ]
     },
     "metadata": {},
     "output_type": "display_data"
    },
    {
     "data": {
      "text/latex": [
       "$\\displaystyle \\frac{L^{2} \\left(- \\pi L g \\rho + 3 P\\right)}{3 \\pi \\left(- 2 L + x\\right)^{2}} + \\frac{2 L g \\rho}{3} - \\frac{g \\rho x}{3}$"
      ],
      "text/plain": [
       " 2                                   \n",
       "L ⋅(-π⋅L⋅g⋅ρ + 3⋅P)   2⋅L⋅g⋅ρ   g⋅ρ⋅x\n",
       "─────────────────── + ─────── - ─────\n",
       "                2        3        3  \n",
       "  3⋅π⋅(-2⋅L + x)                     "
      ]
     },
     "metadata": {},
     "output_type": "display_data"
    },
    {
     "data": {
      "text/plain": [
       "'difference:'"
      ]
     },
     "metadata": {},
     "output_type": "display_data"
    },
    {
     "data": {
      "text/latex": [
       "$\\displaystyle 0$"
      ],
      "text/plain": [
       "0"
      ]
     },
     "metadata": {},
     "output_type": "display_data"
    }
   ],
   "source": [
    "from sympy import diff,dsolve,simplify\n",
    "import sympy as sp\n",
    "x, rho, g, L, P = sp.symbols(\"x rho g L P\")\n",
    "f = sp.Function('f')\n",
    "A = sp.pi*(2-x/L)**2\n",
    "# sub in L into A\n",
    "Al = A.subs({x:L})\n",
    "display(\"area varying with X_2\")\n",
    "display(\"A =\",A)\n",
    "display(\"A x@L=\",Al)\n",
    "# partial derivative with respect to x, select f(L)=P/A \n",
    "sol = dsolve(f(x).diff(x)*A+A.diff(x)*f(x)+rho*g*A,f(x),ics={f(L):P/Al})\n",
    "fsol=sol.rhs\n",
    "display('solution f(x)=',fsol)\n",
    "display(\"comparison with the Mathematica solution\")\n",
    "onethird = sp.Rational('1/3')\n",
    "s = onethird*(2*rho*g*L-rho*g*x+L**2*(3*P-rho*g*L*sp.pi)/sp.pi/(x-2*L)**2)\n",
    "display(\"Mathematica solution:\",s)\n",
    "dif = simplify(s-fsol)\n",
    "display(\"difference:\",dif)"
   ]
  },
  {
   "cell_type": "markdown",
   "metadata": {},
   "source": [
    "6.4.3"
   ]
  },
  {
   "cell_type": "code",
   "execution_count": 3,
   "metadata": {},
   "outputs": [
    {
     "data": {
      "text/plain": [
       "'equation of equilibrium ='"
      ]
     },
     "metadata": {},
     "output_type": "display_data"
    },
    {
     "data": {
      "text/latex": [
       "$\\displaystyle b_{1} \\rho + \\frac{d}{d x_{1}} f{\\left(x_{1} \\right)} = 0$"
      ],
      "text/plain": [
       "        d            \n",
       "b₁⋅ρ + ───(f(x₁)) = 0\n",
       "       dx₁           "
      ]
     },
     "metadata": {},
     "output_type": "display_data"
    },
    {
     "data": {
      "text/plain": [
       "'solution for the stress f(x1) (N/m^2)'"
      ]
     },
     "metadata": {},
     "output_type": "display_data"
    },
    {
     "data": {
      "text/latex": [
       "$\\displaystyle f{\\left(x_{1} \\right)} = 70 - 10 x_{1}$"
      ],
      "text/plain": [
       "f(x₁) = 70 - 10⋅x₁"
      ]
     },
     "metadata": {},
     "output_type": "display_data"
    }
   ],
   "source": [
    "from sympy import Eq,diff,integrate, dsolve\n",
    "import sympy as sp\n",
    "sp.init_printing(use_latex=\"mathjax\")\n",
    "rho, b1, x1, c, s = sp.symbols(\"rho b_1 x_1 C sigma\")\n",
    "f = sp.Function(\"f\")\n",
    "equation = f(x1).diff(x1)+rho*b1\n",
    "display(\"equation of equilibrium =\",Eq(equation,0))\n",
    "#intEqu = integrate(equation, x1)\n",
    "#intEqu = intEqu.subs({b1:10,rho:1})\n",
    "sol = dsolve(equation.subs({b1:10,rho:1}),f(x1),ics={f(5):20})\n",
    "display(\"solution for the stress f(x1) (N/m^2)\",sol)"
   ]
  },
  {
   "cell_type": "markdown",
   "metadata": {},
   "source": [
    "6.4.4"
   ]
  },
  {
   "cell_type": "code",
   "execution_count": 4,
   "metadata": {},
   "outputs": [
    {
     "data": {
      "text/plain": [
       "'stress field inside a body in static equilibrium'"
      ]
     },
     "metadata": {},
     "output_type": "display_data"
    },
    {
     "data": {
      "text/plain": [
       "'σ ='"
      ]
     },
     "metadata": {},
     "output_type": "display_data"
    },
    {
     "data": {
      "text/latex": [
       "$\\displaystyle \\left[\\begin{matrix}x_{1}^{2} α + x_{1} δ + 3 x_{2} + x_{3} & - x_{1} x_{2} β & 0\\\\- x_{1} x_{2} β & 5 x_{2}^{2} & 0\\\\0 & 0 & x_{3}^{2} γ\\end{matrix}\\right]$"
      ],
      "text/plain": [
       "⎡  2                                      ⎤\n",
       "⎢x₁ ⋅α + x₁⋅δ + 3⋅x₂ + x₃  -x₁⋅x₂⋅β    0  ⎥\n",
       "⎢                                         ⎥\n",
       "⎢                               2         ⎥\n",
       "⎢        -x₁⋅x₂⋅β           5⋅x₂       0  ⎥\n",
       "⎢                                         ⎥\n",
       "⎢                                      2  ⎥\n",
       "⎣           0                 0      x₃ ⋅γ⎦"
      ]
     },
     "metadata": {},
     "output_type": "display_data"
    },
    {
     "data": {
      "text/plain": [
       "'body force vector'"
      ]
     },
     "metadata": {},
     "output_type": "display_data"
    },
    {
     "data": {
      "text/plain": [
       "'pb ='"
      ]
     },
     "metadata": {},
     "output_type": "display_data"
    },
    {
     "data": {
      "text/latex": [
       "$\\displaystyle \\left[\\begin{matrix}10 x_{1}\\\\10 x_{2}\\\\10 x_{3}\\end{matrix}\\right]$"
      ],
      "text/plain": [
       "⎡10⋅x₁⎤\n",
       "⎢     ⎥\n",
       "⎢10⋅x₂⎥\n",
       "⎢     ⎥\n",
       "⎣10⋅x₃⎦"
      ]
     },
     "metadata": {},
     "output_type": "display_data"
    },
    {
     "data": {
      "text/plain": [
       "'system of equations ='"
      ]
     },
     "metadata": {},
     "output_type": "display_data"
    },
    {
     "data": {
      "text/latex": [
       "$\\displaystyle 2 x_{1} α - x_{1} β + 10 x_{1} + δ = 0$"
      ],
      "text/plain": [
       "2⋅x₁⋅α - x₁⋅β + 10⋅x₁ + δ = 0"
      ]
     },
     "metadata": {},
     "output_type": "display_data"
    },
    {
     "data": {
      "text/latex": [
       "$\\displaystyle - x_{2} β + 20 x_{2} = 0$"
      ],
      "text/plain": [
       "-x₂⋅β + 20⋅x₂ = 0"
      ]
     },
     "metadata": {},
     "output_type": "display_data"
    },
    {
     "data": {
      "text/latex": [
       "$\\displaystyle 2 x_{3} γ + 10 x_{3} = 0$"
      ],
      "text/plain": [
       "2⋅x₃⋅γ + 10⋅x₃ = 0"
      ]
     },
     "metadata": {},
     "output_type": "display_data"
    },
    {
     "data": {
      "text/plain": [
       "'because these equations are valid for all values of x1, x2, and x3. They can be refined to ='"
      ]
     },
     "metadata": {},
     "output_type": "display_data"
    },
    {
     "data": {
      "text/latex": [
       "$\\displaystyle δ = 0$"
      ],
      "text/plain": [
       "δ = 0"
      ]
     },
     "metadata": {},
     "output_type": "display_data"
    },
    {
     "data": {
      "text/latex": [
       "$\\displaystyle 2 α - β + 10 = 0$"
      ],
      "text/plain": [
       "2⋅α - β + 10 = 0"
      ]
     },
     "metadata": {},
     "output_type": "display_data"
    },
    {
     "data": {
      "text/latex": [
       "$\\displaystyle 20 - β = 0$"
      ],
      "text/plain": [
       "20 - β = 0"
      ]
     },
     "metadata": {},
     "output_type": "display_data"
    },
    {
     "data": {
      "text/latex": [
       "$\\displaystyle 2 γ + 10 = 0$"
      ],
      "text/plain": [
       "2⋅γ + 10 = 0"
      ]
     },
     "metadata": {},
     "output_type": "display_data"
    },
    {
     "data": {
      "text/plain": [
       "'Solution:'"
      ]
     },
     "metadata": {},
     "output_type": "display_data"
    },
    {
     "data": {
      "text/plain": [
       "'α ='"
      ]
     },
     "metadata": {},
     "output_type": "display_data"
    },
    {
     "data": {
      "text/latex": [
       "$\\displaystyle 5$"
      ],
      "text/plain": [
       "5"
      ]
     },
     "metadata": {},
     "output_type": "display_data"
    },
    {
     "data": {
      "text/plain": [
       "'β ='"
      ]
     },
     "metadata": {},
     "output_type": "display_data"
    },
    {
     "data": {
      "text/latex": [
       "$\\displaystyle 20$"
      ],
      "text/plain": [
       "20"
      ]
     },
     "metadata": {},
     "output_type": "display_data"
    },
    {
     "data": {
      "text/plain": [
       "'γ ='"
      ]
     },
     "metadata": {},
     "output_type": "display_data"
    },
    {
     "data": {
      "text/latex": [
       "$\\displaystyle -5$"
      ],
      "text/plain": [
       "-5"
      ]
     },
     "metadata": {},
     "output_type": "display_data"
    },
    {
     "data": {
      "text/plain": [
       "'δ ='"
      ]
     },
     "metadata": {},
     "output_type": "display_data"
    },
    {
     "data": {
      "text/latex": [
       "$\\displaystyle 0$"
      ],
      "text/plain": [
       "0"
      ]
     },
     "metadata": {},
     "output_type": "display_data"
    }
   ],
   "source": [
    "from sympy import diff,Eq,solve,Matrix\n",
    "import sympy as sp\n",
    "sp.init_printing(use_latex=\"mathjax\")\n",
    "x1,x2,x3 = sp.symbols(\"x1 x2 x3\")\n",
    "a,b,c,d = sp.symbols(\"\\u03B1 \\u03B2 \\u03B3 \\u03B4\")\n",
    "x = Matrix([x1,x2,x3])\n",
    "s = Matrix([[a*x1**2+d*x1+3*x2+x3,-b*x2*x1,0],\n",
    "            [-b*x2*x1, 5*x2**2,0],\n",
    "            [0,0,c*x3**2]])\n",
    "display(\"stress field inside a body in static equilibrium\")\n",
    "display(\"\\u03C3 =\", s)\n",
    "pb = Matrix([x1, x2, x3])*10\n",
    "display(\"body force vector\")\n",
    "display(\"pb =\", pb)\n",
    "# systems of equation:\n",
    "# d/dx_1[x_11]+d/dx_2[x_21]+d/dx_3[x_31]+pb_1=0\n",
    "# d/dx_1[x_12]+d/dx_2[x_22]+d/dx_3[x_32]+pb_2=0\n",
    "# d/dx_1[x_13]+d/dx_2[x_23]+d/dx_3[x_33]+pb_3=0\n",
    "equation = [sum([diff(s[i,j], x[i])for i in range(3)])+pb[j] for j in range(3)]\n",
    "display(\"system of equations =\",Eq(equation[0],0),Eq(equation[1],0),Eq(equation[2],0))\n",
    "Eq0 = Eq(d,0)\n",
    "Eq1 = Eq(equation[0].coeff(x1),0)\n",
    "Eq2 = Eq(equation[1].coeff(x2),0)\n",
    "Eq3 = Eq(equation[2].coeff(x3),0)\n",
    "display(\"because these equations are valid for all values of x1, x2, and x3. They can be refined to =\",Eq0,Eq1,Eq2,Eq3)\n",
    "equations=[d,equation[0].coeff(x1),equation[1].coeff(x2),equation[2].coeff(x3)]\n",
    "sol = solve(equations,[a,b,c,d])\n",
    "display(\"Solution:\")\n",
    "display(\"\\u03B1 =\", sol[a])\n",
    "display(\"\\u03B2 =\", sol[b])\n",
    "display(\"\\u03B3 =\", sol[c])\n",
    "display(\"\\u03B4 =\", sol[d])"
   ]
  }
 ],
 "metadata": {
  "kernelspec": {
   "display_name": "Python 3",
   "language": "python",
   "name": "python3"
  },
  "language_info": {
   "codemirror_mode": {
    "name": "ipython",
    "version": 3
   },
   "file_extension": ".py",
   "mimetype": "text/x-python",
   "name": "python",
   "nbconvert_exporter": "python",
   "pygments_lexer": "ipython3",
   "version": "3.8.5"
  }
 },
 "nbformat": 4,
 "nbformat_minor": 4
}
