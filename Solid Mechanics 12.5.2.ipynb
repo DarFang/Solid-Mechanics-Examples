{
 "cells": [
  {
   "cell_type": "markdown",
   "metadata": {},
   "source": [
    "12.5.2.1"
   ]
  },
  {
   "cell_type": "code",
   "execution_count": 4,
   "metadata": {
    "scrolled": false
   },
   "outputs": [
    {
     "data": {
      "text/plain": [
       "'Mapping Functions'"
      ]
     },
     "metadata": {},
     "output_type": "display_data"
    },
    {
     "data": {
      "text/plain": [
       "'x ='"
      ]
     },
     "metadata": {},
     "output_type": "display_data"
    },
    {
     "data": {
      "text/latex": [
       "$\\displaystyle 0.25 \\eta + 1.5 \\xi + 1.75$"
      ],
      "text/plain": [
       "0.25*eta + 1.5*xi + 1.75"
      ]
     },
     "metadata": {},
     "output_type": "display_data"
    },
    {
     "data": {
      "text/plain": [
       "'y ='"
      ]
     },
     "metadata": {},
     "output_type": "display_data"
    },
    {
     "data": {
      "text/latex": [
       "$\\displaystyle - 0.2 \\eta \\xi + 1.3 \\eta + 0.3 \\xi + 1.8$"
      ],
      "text/plain": [
       "-0.2*eta*xi + 1.3*eta + 0.3*xi + 1.8"
      ]
     },
     "metadata": {},
     "output_type": "display_data"
    },
    {
     "data": {
      "text/plain": [
       "'Gradient of the Map'"
      ]
     },
     "metadata": {},
     "output_type": "display_data"
    },
    {
     "data": {
      "text/plain": [
       "'J ='"
      ]
     },
     "metadata": {},
     "output_type": "display_data"
    },
    {
     "data": {
      "text/latex": [
       "$\\displaystyle \\left[\\begin{matrix}1.5 & 0.25\\\\0.3 - 0.2 \\eta & 1.3 - 0.2 \\xi\\end{matrix}\\right]$"
      ],
      "text/plain": [
       "Matrix([\n",
       "[          1.5,         0.25],\n",
       "[0.3 - 0.2*eta, 1.3 - 0.2*xi]])"
      ]
     },
     "metadata": {},
     "output_type": "display_data"
    },
    {
     "data": {
      "text/plain": [
       "'J^-1 ='"
      ]
     },
     "metadata": {},
     "output_type": "display_data"
    },
    {
     "data": {
      "text/latex": [
       "$\\displaystyle \\left[\\begin{matrix}- \\frac{1.0 \\left(0.3 \\xi - 1.95\\right)}{0.075 \\eta - 0.45 \\xi + 2.8125} & \\frac{1.0 \\left(0.3 \\eta - 0.45\\right)}{0.075 \\eta - 0.45 \\xi + 2.8125}\\\\- \\frac{0.25}{0.05 \\eta - 0.3 \\xi + 1.875} & \\frac{1.5}{0.05 \\eta - 0.3 \\xi + 1.875}\\end{matrix}\\right]$"
      ],
      "text/plain": [
       "Matrix([\n",
       "[-1.0*(0.3*xi - 1.95)/(0.075*eta - 0.45*xi + 2.8125), 1.0*(0.3*eta - 0.45)/(0.075*eta - 0.45*xi + 2.8125)],\n",
       "[                  -0.25/(0.05*eta - 0.3*xi + 1.875),                     1.5/(0.05*eta - 0.3*xi + 1.875)]])"
      ]
     },
     "metadata": {},
     "output_type": "display_data"
    },
    {
     "data": {
      "text/plain": [
       "'B ='"
      ]
     },
     "metadata": {},
     "output_type": "display_data"
    },
    {
     "data": {
      "text/latex": [
       "$\\displaystyle \\left[\\begin{matrix}\\frac{1.0 \\left(0.4125 \\eta - 0.0375 \\xi - 0.375\\right)}{0.075 \\eta - 0.45 \\xi + 2.8125} & 0 & \\frac{- 0.5625 \\eta + 0.0375 \\xi + 0.6}{0.075 \\eta - 0.45 \\xi + 2.8125} & 0 & \\frac{1.0 \\left(0.5625 \\eta - 0.1875 \\xi + 0.375\\right)}{0.075 \\eta - 0.45 \\xi + 2.8125} & 0 & \\frac{- 0.4125 \\eta + 0.1875 \\xi - 0.6}{0.075 \\eta - 0.45 \\xi + 2.8125} & 0\\\\0 & \\frac{0.0625 \\left(1 - \\eta\\right) \\left(0.05 \\eta - 0.3 \\xi + 1.875\\right) + 0.375 \\left(\\xi - 1\\right) \\left(0.05 \\eta - 0.3 \\xi + 1.875\\right)}{\\left(0.05 \\eta - 0.3 \\xi + 1.875\\right) \\left(0.05 \\eta - 0.3 \\xi + 1.875\\right)} & 0 & \\frac{0.0625 \\left(\\eta - 1\\right) \\left(0.05 \\eta - 0.3 \\xi + 1.875\\right) - 0.375 \\left(\\xi + 1\\right) \\left(0.05 \\eta - 0.3 \\xi + 1.875\\right)}{\\left(0.05 \\eta - 0.3 \\xi + 1.875\\right) \\left(0.05 \\eta - 0.3 \\xi + 1.875\\right)} & 0 & \\frac{- 0.0625 \\left(\\eta + 1\\right) \\left(0.05 \\eta - 0.3 \\xi + 1.875\\right) + 0.375 \\left(\\xi + 1\\right) \\left(0.05 \\eta - 0.3 \\xi + 1.875\\right)}{\\left(0.05 \\eta - 0.3 \\xi + 1.875\\right) \\left(0.05 \\eta - 0.3 \\xi + 1.875\\right)} & 0 & \\frac{0.375 \\left(1 - \\xi\\right) \\left(0.05 \\eta - 0.3 \\xi + 1.875\\right) + 0.0625 \\left(\\eta + 1\\right) \\left(0.05 \\eta - 0.3 \\xi + 1.875\\right)}{\\left(0.05 \\eta - 0.3 \\xi + 1.875\\right) \\left(0.05 \\eta - 0.3 \\xi + 1.875\\right)}\\\\\\frac{0.0625 \\left(1 - \\eta\\right) \\left(0.05 \\eta - 0.3 \\xi + 1.875\\right) + 0.375 \\left(\\xi - 1\\right) \\left(0.05 \\eta - 0.3 \\xi + 1.875\\right)}{\\left(0.05 \\eta - 0.3 \\xi + 1.875\\right) \\left(0.05 \\eta - 0.3 \\xi + 1.875\\right)} & \\frac{1.0 \\left(0.4125 \\eta - 0.0375 \\xi - 0.375\\right)}{0.075 \\eta - 0.45 \\xi + 2.8125} & \\frac{0.0625 \\left(\\eta - 1\\right) \\left(0.05 \\eta - 0.3 \\xi + 1.875\\right) - 0.375 \\left(\\xi + 1\\right) \\left(0.05 \\eta - 0.3 \\xi + 1.875\\right)}{\\left(0.05 \\eta - 0.3 \\xi + 1.875\\right) \\left(0.05 \\eta - 0.3 \\xi + 1.875\\right)} & \\frac{- 0.5625 \\eta + 0.0375 \\xi + 0.6}{0.075 \\eta - 0.45 \\xi + 2.8125} & \\frac{- 0.0625 \\left(\\eta + 1\\right) \\left(0.05 \\eta - 0.3 \\xi + 1.875\\right) + 0.375 \\left(\\xi + 1\\right) \\left(0.05 \\eta - 0.3 \\xi + 1.875\\right)}{\\left(0.05 \\eta - 0.3 \\xi + 1.875\\right) \\left(0.05 \\eta - 0.3 \\xi + 1.875\\right)} & \\frac{1.0 \\left(0.5625 \\eta - 0.1875 \\xi + 0.375\\right)}{0.075 \\eta - 0.45 \\xi + 2.8125} & \\frac{0.375 \\left(1 - \\xi\\right) \\left(0.05 \\eta - 0.3 \\xi + 1.875\\right) + 0.0625 \\left(\\eta + 1\\right) \\left(0.05 \\eta - 0.3 \\xi + 1.875\\right)}{\\left(0.05 \\eta - 0.3 \\xi + 1.875\\right) \\left(0.05 \\eta - 0.3 \\xi + 1.875\\right)} & \\frac{- 0.4125 \\eta + 0.1875 \\xi - 0.6}{0.075 \\eta - 0.45 \\xi + 2.8125}\\end{matrix}\\right]$"
      ],
      "text/plain": [
       "Matrix([\n",
       "[                                                                                  1.0*(0.4125*eta - 0.0375*xi - 0.375)/(0.075*eta - 0.45*xi + 2.8125),                                                                                                                                                     0,                                                                                        (-0.5625*eta + 0.0375*xi + 0.6)/(0.075*eta - 0.45*xi + 2.8125),                                                                                                                                                     0,                                                                                    1.0*(0.5625*eta - 0.1875*xi + 0.375)/(0.075*eta - 0.45*xi + 2.8125),                                                                                                                                                      0,                                                                                        (-0.4125*eta + 0.1875*xi - 0.6)/(0.075*eta - 0.45*xi + 2.8125),                                                                                                                                                     0],\n",
       "[                                                                                                                                                    0, (0.0625*(1 - eta)*(0.05*eta - 0.3*xi + 1.875) + 0.375*(xi - 1)*(0.05*eta - 0.3*xi + 1.875))/((0.05*eta - 0.3*xi + 1.875)*(0.05*eta - 0.3*xi + 1.875)),                                                                                                                                                     0, (0.0625*(eta - 1)*(0.05*eta - 0.3*xi + 1.875) - 0.375*(xi + 1)*(0.05*eta - 0.3*xi + 1.875))/((0.05*eta - 0.3*xi + 1.875)*(0.05*eta - 0.3*xi + 1.875)),                                                                                                                                                      0, (-0.0625*(eta + 1)*(0.05*eta - 0.3*xi + 1.875) + 0.375*(xi + 1)*(0.05*eta - 0.3*xi + 1.875))/((0.05*eta - 0.3*xi + 1.875)*(0.05*eta - 0.3*xi + 1.875)),                                                                                                                                                     0, (0.375*(1 - xi)*(0.05*eta - 0.3*xi + 1.875) + 0.0625*(eta + 1)*(0.05*eta - 0.3*xi + 1.875))/((0.05*eta - 0.3*xi + 1.875)*(0.05*eta - 0.3*xi + 1.875))],\n",
       "[(0.0625*(1 - eta)*(0.05*eta - 0.3*xi + 1.875) + 0.375*(xi - 1)*(0.05*eta - 0.3*xi + 1.875))/((0.05*eta - 0.3*xi + 1.875)*(0.05*eta - 0.3*xi + 1.875)),                                                                                   1.0*(0.4125*eta - 0.0375*xi - 0.375)/(0.075*eta - 0.45*xi + 2.8125), (0.0625*(eta - 1)*(0.05*eta - 0.3*xi + 1.875) - 0.375*(xi + 1)*(0.05*eta - 0.3*xi + 1.875))/((0.05*eta - 0.3*xi + 1.875)*(0.05*eta - 0.3*xi + 1.875)),                                                                                        (-0.5625*eta + 0.0375*xi + 0.6)/(0.075*eta - 0.45*xi + 2.8125), (-0.0625*(eta + 1)*(0.05*eta - 0.3*xi + 1.875) + 0.375*(xi + 1)*(0.05*eta - 0.3*xi + 1.875))/((0.05*eta - 0.3*xi + 1.875)*(0.05*eta - 0.3*xi + 1.875)),                                                                                    1.0*(0.5625*eta - 0.1875*xi + 0.375)/(0.075*eta - 0.45*xi + 2.8125), (0.375*(1 - xi)*(0.05*eta - 0.3*xi + 1.875) + 0.0625*(eta + 1)*(0.05*eta - 0.3*xi + 1.875))/((0.05*eta - 0.3*xi + 1.875)*(0.05*eta - 0.3*xi + 1.875)),                                                                                        (-0.4125*eta + 0.1875*xi - 0.6)/(0.075*eta - 0.45*xi + 2.8125)]])"
      ]
     },
     "metadata": {},
     "output_type": "display_data"
    },
    {
     "data": {
      "text/plain": [
       "'Stiffness Matrix'"
      ]
     },
     "metadata": {},
     "output_type": "display_data"
    },
    {
     "data": {
      "text/plain": [
       "'K ='"
      ]
     },
     "metadata": {},
     "output_type": "display_data"
    },
    {
     "data": {
      "text/latex": [
       "$\\displaystyle \\left[\\begin{matrix}0.323 & 0.1 & -0.254 & 0.000187 & -0.101 & -0.144 & 0.032 & 0.0433\\\\0.1 & 0.39 & 0.0277 & 0.0887 & -0.144 & -0.137 & 0.0159 & -0.341\\\\-0.254 & 0.0277 & 0.713 & -0.302 & -0.05 & 0.0319 & -0.409 & 0.242\\\\0.000187 & 0.0887 & -0.302 & 0.785 & 0.0594 & -0.434 & 0.242 & -0.44\\\\-0.101 & -0.144 & -0.05 & 0.0594 & 0.391 & 0.0868 & -0.24 & -0.00249\\\\-0.144 & -0.137 & 0.0319 & -0.434 & 0.0868 & 0.467 & 0.025 & 0.104\\\\0.032 & 0.0159 & -0.409 & 0.242 & -0.24 & 0.025 & 0.617 & -0.283\\\\0.0433 & -0.341 & 0.242 & -0.44 & -0.00249 & 0.104 & -0.283 & 0.676\\end{matrix}\\right]$"
      ],
      "text/plain": [
       "Matrix([\n",
       "[   0.323,    0.1, -0.254, 0.000187,   -0.101, -0.144,  0.032,   0.0433],\n",
       "[     0.1,   0.39, 0.0277,   0.0887,   -0.144, -0.137, 0.0159,   -0.341],\n",
       "[  -0.254, 0.0277,  0.713,   -0.302,    -0.05, 0.0319, -0.409,    0.242],\n",
       "[0.000187, 0.0887, -0.302,    0.785,   0.0594, -0.434,  0.242,    -0.44],\n",
       "[  -0.101, -0.144,  -0.05,   0.0594,    0.391, 0.0868,  -0.24, -0.00249],\n",
       "[  -0.144, -0.137, 0.0319,   -0.434,   0.0868,  0.467,  0.025,    0.104],\n",
       "[   0.032, 0.0159, -0.409,    0.242,    -0.24,  0.025,  0.617,   -0.283],\n",
       "[  0.0433, -0.341,  0.242,    -0.44, -0.00249,  0.104, -0.283,    0.676]])"
      ]
     },
     "metadata": {},
     "output_type": "display_data"
    },
    {
     "data": {
      "text/plain": [
       "'k_{Full Integration} ='"
      ]
     },
     "metadata": {},
     "output_type": "display_data"
    },
    {
     "data": {
      "text/latex": [
       "$\\displaystyle \\left[\\begin{matrix}0.322589737926487 & 4.75877363019351 \\cdot 10^{-18} \\sqrt{3} + 0.100264451314756 & -0.253618645387425 + 1.48915651120431 \\cdot 10^{-17} \\sqrt{3} & 7.74655624329098 \\cdot 10^{-5} & -0.101186538823098 - 2.32680704875673 \\cdot 10^{-19} \\sqrt{3} & -0.143610223005978 + 1.17561803068343 \\cdot 10^{-18} \\sqrt{3} & 0.0322154462840355 & 2.35123606136687 \\cdot 10^{-18} \\sqrt{3} + 0.0432683061287894\\\\4.75877363019351 \\cdot 10^{-18} \\sqrt{3} + 0.100264451314756 & 0.38896890135662 & 6.26996283031164 \\cdot 10^{-18} \\sqrt{3} + 0.0275499930349604 & 0.0895588956741736 & -0.143610223005978 - 3.33091775360307 \\cdot 10^{-18} \\sqrt{3} & -0.138009391040836 + 6.98042114627019 \\cdot 10^{-19} \\sqrt{3} & 0.0157957786562619 - 1.56749070757791 \\cdot 10^{-18} \\sqrt{3} & -0.340518405989957 + 2.23373476680646 \\cdot 10^{-17} \\sqrt{3}\\\\-0.253618645387425 + 1.48915651120431 \\cdot 10^{-17} \\sqrt{3} & 6.26996283031164 \\cdot 10^{-18} \\sqrt{3} + 0.0275499930349604 & 0.712013086896493 - 4.09518040581184 \\cdot 10^{-17} \\sqrt{3} & -0.301881216160633 - 6.79824804313358 \\cdot 10^{-18} \\sqrt{3} & -0.0495334272310621 + 3.72289127801077 \\cdot 10^{-18} \\sqrt{3} & 0.0318003712807132 & -0.408861014278006 + 7.44578255602153 \\cdot 10^{-18} \\sqrt{3} & 2.74310873826135 \\cdot 10^{-18} \\sqrt{3} + 0.242530851844959\\\\7.74655624329098 \\cdot 10^{-5} & 0.0895588956741736 & -0.301881216160633 - 6.79824804313358 \\cdot 10^{-18} \\sqrt{3} & 0.783882080124238 & 0.0592728987532407 - 7.83745353788963 \\cdot 10^{-18} \\sqrt{3} & -0.433180379029631 - 1.48915651120431 \\cdot 10^{-17} \\sqrt{3} & 3.13498141515582 \\cdot 10^{-18} \\sqrt{3} + 0.242530851844959 & -0.440260596768781 + 4.65361409751346 \\cdot 10^{-18} \\sqrt{3}\\\\-0.101186538823098 - 2.32680704875673 \\cdot 10^{-19} \\sqrt{3} & -0.143610223005978 - 3.33091775360307 \\cdot 10^{-18} \\sqrt{3} & -0.0495334272310621 + 3.72289127801077 \\cdot 10^{-18} \\sqrt{3} & 0.0592728987532407 - 7.83745353788963 \\cdot 10^{-18} \\sqrt{3} & 0.390713799189068 - 7.44578255602153 \\cdot 10^{-18} \\sqrt{3} & 0.08692729079438 - 3.39912402156679 \\cdot 10^{-18} \\sqrt{3} & -0.239993833134909 & -0.0025899665416423 - 3.13498141515582 \\cdot 10^{-18} \\sqrt{3}\\\\-0.143610223005978 + 1.17561803068343 \\cdot 10^{-18} \\sqrt{3} & -0.138009391040836 + 6.98042114627019 \\cdot 10^{-19} \\sqrt{3} & 0.0318003712807132 & -0.433180379029631 - 1.48915651120431 \\cdot 10^{-17} \\sqrt{3} & 0.08692729079438 - 3.39912402156679 \\cdot 10^{-18} \\sqrt{3} & 0.466187212223014 - 7.44578255602153 \\cdot 10^{-18} \\sqrt{3} & 6.26996283031164 \\cdot 10^{-18} \\sqrt{3} + 0.0248825609308852 & 0.105002557847453\\\\0.0322154462840355 & 0.0157957786562619 - 1.56749070757791 \\cdot 10^{-18} \\sqrt{3} & -0.408861014278006 + 7.44578255602153 \\cdot 10^{-18} \\sqrt{3} & 3.13498141515582 \\cdot 10^{-18} \\sqrt{3} + 0.242530851844959 & -0.239993833134909 & 6.26996283031164 \\cdot 10^{-18} \\sqrt{3} + 0.0248825609308852 & 0.616639401128879 - 1.86144563900538 \\cdot 10^{-18} \\sqrt{3} & -0.283209191432106 - 1.42763208905805 \\cdot 10^{-17} \\sqrt{3}\\\\2.35123606136687 \\cdot 10^{-18} \\sqrt{3} + 0.0432683061287894 & -0.340518405989957 + 2.23373476680646 \\cdot 10^{-17} \\sqrt{3} & 2.74310873826135 \\cdot 10^{-18} \\sqrt{3} + 0.242530851844959 & -0.440260596768781 + 4.65361409751346 \\cdot 10^{-18} \\sqrt{3} & -0.0025899665416423 - 3.13498141515582 \\cdot 10^{-18} \\sqrt{3} & 0.105002557847453 & -0.283209191432106 - 1.42763208905805 \\cdot 10^{-17} \\sqrt{3} & 0.675776444911285 - 2.23373476680646 \\cdot 10^{-17} \\sqrt{3}\\end{matrix}\\right]$"
      ],
      "text/plain": [
       "Matrix([\n",
       "[                                0.322589737926487,  4.75877363019351e-18*sqrt(3) + 0.100264451314756,  -0.253618645387425 + 1.48915651120431e-17*sqrt(3),                               7.74655624329098e-5,  -0.101186538823098 - 2.32680704875673e-19*sqrt(3), -0.143610223005978 + 1.17561803068343e-18*sqrt(3),                                0.0322154462840355,  2.35123606136687e-18*sqrt(3) + 0.0432683061287894],\n",
       "[ 4.75877363019351e-18*sqrt(3) + 0.100264451314756,                                  0.38896890135662,  6.26996283031164e-18*sqrt(3) + 0.0275499930349604,                                0.0895588956741736,  -0.143610223005978 - 3.33091775360307e-18*sqrt(3), -0.138009391040836 + 6.98042114627019e-19*sqrt(3), 0.0157957786562619 - 1.56749070757791e-18*sqrt(3),  -0.340518405989957 + 2.23373476680646e-17*sqrt(3)],\n",
       "[-0.253618645387425 + 1.48915651120431e-17*sqrt(3), 6.26996283031164e-18*sqrt(3) + 0.0275499930349604,   0.712013086896493 - 4.09518040581184e-17*sqrt(3), -0.301881216160633 - 6.79824804313358e-18*sqrt(3), -0.0495334272310621 + 3.72289127801077e-18*sqrt(3),                                0.0318003712807132, -0.408861014278006 + 7.44578255602153e-18*sqrt(3),   2.74310873826135e-18*sqrt(3) + 0.242530851844959],\n",
       "[                              7.74655624329098e-5,                                0.0895588956741736,  -0.301881216160633 - 6.79824804313358e-18*sqrt(3),                                 0.783882080124238,  0.0592728987532407 - 7.83745353788963e-18*sqrt(3), -0.433180379029631 - 1.48915651120431e-17*sqrt(3),  3.13498141515582e-18*sqrt(3) + 0.242530851844959,  -0.440260596768781 + 4.65361409751346e-18*sqrt(3)],\n",
       "[-0.101186538823098 - 2.32680704875673e-19*sqrt(3), -0.143610223005978 - 3.33091775360307e-18*sqrt(3), -0.0495334272310621 + 3.72289127801077e-18*sqrt(3), 0.0592728987532407 - 7.83745353788963e-18*sqrt(3),   0.390713799189068 - 7.44578255602153e-18*sqrt(3),   0.08692729079438 - 3.39912402156679e-18*sqrt(3),                                -0.239993833134909, -0.0025899665416423 - 3.13498141515582e-18*sqrt(3)],\n",
       "[-0.143610223005978 + 1.17561803068343e-18*sqrt(3), -0.138009391040836 + 6.98042114627019e-19*sqrt(3),                                 0.0318003712807132, -0.433180379029631 - 1.48915651120431e-17*sqrt(3),    0.08692729079438 - 3.39912402156679e-18*sqrt(3),  0.466187212223014 - 7.44578255602153e-18*sqrt(3), 6.26996283031164e-18*sqrt(3) + 0.0248825609308852,                                  0.105002557847453],\n",
       "[                               0.0322154462840355, 0.0157957786562619 - 1.56749070757791e-18*sqrt(3),  -0.408861014278006 + 7.44578255602153e-18*sqrt(3),  3.13498141515582e-18*sqrt(3) + 0.242530851844959,                                 -0.239993833134909, 6.26996283031164e-18*sqrt(3) + 0.0248825609308852,  0.616639401128879 - 1.86144563900538e-18*sqrt(3),  -0.283209191432106 - 1.42763208905805e-17*sqrt(3)],\n",
       "[2.35123606136687e-18*sqrt(3) + 0.0432683061287894, -0.340518405989957 + 2.23373476680646e-17*sqrt(3),   2.74310873826135e-18*sqrt(3) + 0.242530851844959, -0.440260596768781 + 4.65361409751346e-18*sqrt(3), -0.0025899665416423 - 3.13498141515582e-18*sqrt(3),                                 0.105002557847453, -0.283209191432106 - 1.42763208905805e-17*sqrt(3),   0.675776444911285 - 2.23373476680646e-17*sqrt(3)]])"
      ]
     },
     "metadata": {},
     "output_type": "display_data"
    },
    {
     "data": {
      "text/plain": [
       "'k_{Reduced Integration}='"
      ]
     },
     "metadata": {},
     "output_type": "display_data"
    },
    {
     "data": {
      "text/latex": [
       "$\\displaystyle \\left[\\begin{matrix}0.226648351648352 & 0.119047619047619 & -0.122252747252747 & -0.0256410256410256 & -0.226648351648352 & -0.119047619047619 & 0.122252747252747 & 0.0256410256410256\\\\0.119047619047619 & 0.28021978021978 & 0.00183150183150182 & 0.238461538461538 & -0.119047619047619 & -0.28021978021978 & -0.00183150183150182 & -0.238461538461538\\\\-0.122252747252747 & 0.00183150183150182 & 0.532142857142857 & -0.266666666666667 & 0.122252747252747 & -0.00183150183150182 & -0.532142857142857 & 0.266666666666667\\\\-0.0256410256410256 & 0.238461538461538 & -0.266666666666667 & 0.58 & 0.0256410256410256 & -0.238461538461538 & 0.266666666666667 & -0.58\\\\-0.226648351648352 & -0.119047619047619 & 0.122252747252747 & 0.0256410256410256 & 0.226648351648352 & 0.119047619047619 & -0.122252747252747 & -0.0256410256410256\\\\-0.119047619047619 & -0.28021978021978 & -0.00183150183150182 & -0.238461538461538 & 0.119047619047619 & 0.28021978021978 & 0.00183150183150182 & 0.238461538461538\\\\0.122252747252747 & -0.00183150183150182 & -0.532142857142857 & 0.266666666666667 & -0.122252747252747 & 0.00183150183150182 & 0.532142857142857 & -0.266666666666667\\\\0.0256410256410256 & -0.238461538461538 & 0.266666666666667 & -0.58 & -0.0256410256410256 & 0.238461538461538 & -0.266666666666667 & 0.58\\end{matrix}\\right]$"
      ],
      "text/plain": [
       "Matrix([\n",
       "[  0.226648351648352,    0.119047619047619,   -0.122252747252747, -0.0256410256410256,  -0.226648351648352,   -0.119047619047619,    0.122252747252747,  0.0256410256410256],\n",
       "[  0.119047619047619,     0.28021978021978,  0.00183150183150182,   0.238461538461538,  -0.119047619047619,    -0.28021978021978, -0.00183150183150182,  -0.238461538461538],\n",
       "[ -0.122252747252747,  0.00183150183150182,    0.532142857142857,  -0.266666666666667,   0.122252747252747, -0.00183150183150182,   -0.532142857142857,   0.266666666666667],\n",
       "[-0.0256410256410256,    0.238461538461538,   -0.266666666666667,                0.58,  0.0256410256410256,   -0.238461538461538,    0.266666666666667,               -0.58],\n",
       "[ -0.226648351648352,   -0.119047619047619,    0.122252747252747,  0.0256410256410256,   0.226648351648352,    0.119047619047619,   -0.122252747252747, -0.0256410256410256],\n",
       "[ -0.119047619047619,    -0.28021978021978, -0.00183150183150182,  -0.238461538461538,   0.119047619047619,     0.28021978021978,  0.00183150183150182,   0.238461538461538],\n",
       "[  0.122252747252747, -0.00183150183150182,   -0.532142857142857,   0.266666666666667,  -0.122252747252747,  0.00183150183150182,    0.532142857142857,  -0.266666666666667],\n",
       "[ 0.0256410256410256,   -0.238461538461538,    0.266666666666667,               -0.58, -0.0256410256410256,    0.238461538461538,   -0.266666666666667,                0.58]])"
      ]
     },
     "metadata": {},
     "output_type": "display_data"
    },
    {
     "data": {
      "text/plain": [
       "'Body Forces'"
      ]
     },
     "metadata": {},
     "output_type": "display_data"
    },
    {
     "data": {
      "text/plain": [
       "'ρ_b ='"
      ]
     },
     "metadata": {},
     "output_type": "display_data"
    },
    {
     "data": {
      "text/latex": [
       "$\\displaystyle \\left[\\begin{matrix}0\\\\-1\\end{matrix}\\right]$"
      ],
      "text/plain": [
       "Matrix([\n",
       "[ 0],\n",
       "[-1]])"
      ]
     },
     "metadata": {},
     "output_type": "display_data"
    },
    {
     "data": {
      "text/plain": [
       "'Body Force Vetor'"
      ]
     },
     "metadata": {},
     "output_type": "display_data"
    },
    {
     "data": {
      "text/plain": [
       "'f_{Exact Integration} ='"
      ]
     },
     "metadata": {},
     "output_type": "display_data"
    },
    {
     "data": {
      "text/latex": [
       "$\\displaystyle \\left[\\begin{matrix}0\\\\-1.95833333333333\\\\0\\\\-1.75833333333333\\\\0\\\\-1.79166666666667\\\\0\\\\-1.99166666666667\\end{matrix}\\right]$"
      ],
      "text/plain": [
       "Matrix([\n",
       "[                0],\n",
       "[-1.95833333333333],\n",
       "[                0],\n",
       "[-1.75833333333333],\n",
       "[                0],\n",
       "[-1.79166666666667],\n",
       "[                0],\n",
       "[-1.99166666666667]])"
      ]
     },
     "metadata": {},
     "output_type": "display_data"
    },
    {
     "data": {
      "text/plain": [
       "'f_{Full Integration} ='"
      ]
     },
     "metadata": {},
     "output_type": "display_data"
    },
    {
     "data": {
      "text/latex": [
       "$\\displaystyle \\left[\\begin{matrix}0\\\\-1.95833333333333\\\\0\\\\-1.75833333333333 - 2.46716227694479 \\cdot 10^{-17} \\sqrt{3}\\\\0\\\\-1.79166666666667\\\\0\\\\-1.99166666666667 - 2.46716227694479 \\cdot 10^{-17} \\sqrt{3}\\end{matrix}\\right]$"
      ],
      "text/plain": [
       "Matrix([\n",
       "[                                               0],\n",
       "[                               -1.95833333333333],\n",
       "[                                               0],\n",
       "[-1.75833333333333 - 2.46716227694479e-17*sqrt(3)],\n",
       "[                                               0],\n",
       "[                               -1.79166666666667],\n",
       "[                                               0],\n",
       "[-1.99166666666667 - 2.46716227694479e-17*sqrt(3)]])"
      ]
     },
     "metadata": {},
     "output_type": "display_data"
    },
    {
     "data": {
      "text/plain": [
       "'f_{Reduced Integration}='"
      ]
     },
     "metadata": {},
     "output_type": "display_data"
    },
    {
     "data": {
      "text/latex": [
       "$\\displaystyle \\left[\\begin{matrix}0\\\\-1.875\\\\0\\\\-1.875\\\\0\\\\-1.875\\\\0\\\\-1.875\\end{matrix}\\right]$"
      ],
      "text/plain": [
       "Matrix([\n",
       "[     0],\n",
       "[-1.875],\n",
       "[     0],\n",
       "[-1.875],\n",
       "[     0],\n",
       "[-1.875],\n",
       "[     0],\n",
       "[-1.875]])"
      ]
     },
     "metadata": {},
     "output_type": "display_data"
    },
    {
     "data": {
      "text/plain": [
       "'Traction Vectors'"
      ]
     },
     "metadata": {},
     "output_type": "display_data"
    },
    {
     "data": {
      "text/plain": [
       "'t_n ='"
      ]
     },
     "metadata": {},
     "output_type": "display_data"
    },
    {
     "data": {
      "text/latex": [
       "$\\displaystyle \\left[\\begin{matrix}-1\\\\0\\end{matrix}\\right]$"
      ],
      "text/plain": [
       "Matrix([\n",
       "[-1],\n",
       "[ 0]])"
      ]
     },
     "metadata": {},
     "output_type": "display_data"
    },
    {
     "data": {
      "text/plain": [
       "'Spatial Coordinate System ='"
      ]
     },
     "metadata": {},
     "output_type": "display_data"
    },
    {
     "data": {
      "text/latex": [
       "$\\displaystyle 1.12805141726785$"
      ],
      "text/plain": [
       "1.12805141726785"
      ]
     },
     "metadata": {},
     "output_type": "display_data"
    },
    {
     "data": {
      "text/plain": [
       "'Nodal Forces due to Traction Forces'"
      ]
     },
     "metadata": {},
     "output_type": "display_data"
    },
    {
     "data": {
      "text/plain": [
       "'f_{Exact Integration}'"
      ]
     },
     "metadata": {},
     "output_type": "display_data"
    },
    {
     "data": {
      "text/latex": [
       "$\\displaystyle \\left[\\begin{matrix}0\\\\0\\\\-1.12805141726785\\\\0\\\\-1.12805141726785\\\\0\\\\0\\\\0\\end{matrix}\\right]$"
      ],
      "text/plain": [
       "Matrix([\n",
       "[                0],\n",
       "[                0],\n",
       "[-1.12805141726785],\n",
       "[                0],\n",
       "[-1.12805141726785],\n",
       "[                0],\n",
       "[                0],\n",
       "[                0]])"
      ]
     },
     "metadata": {},
     "output_type": "display_data"
    },
    {
     "data": {
      "text/plain": [
       "'f_{Full Integration} ='"
      ]
     },
     "metadata": {},
     "output_type": "display_data"
    },
    {
     "data": {
      "text/latex": [
       "$\\displaystyle \\left[\\begin{matrix}0\\\\0\\\\-1.12805141726785\\\\0\\\\-1.12805141726785\\\\0\\\\0\\\\0\\end{matrix}\\right]$"
      ],
      "text/plain": [
       "Matrix([\n",
       "[                0],\n",
       "[                0],\n",
       "[-1.12805141726785],\n",
       "[                0],\n",
       "[-1.12805141726785],\n",
       "[                0],\n",
       "[                0],\n",
       "[                0]])"
      ]
     },
     "metadata": {},
     "output_type": "display_data"
    },
    {
     "data": {
      "text/plain": [
       "'f_{Reduced Integration}'"
      ]
     },
     "metadata": {},
     "output_type": "display_data"
    },
    {
     "data": {
      "text/latex": [
       "$\\displaystyle \\left[\\begin{matrix}0\\\\0\\\\-1.12805141726785\\\\0\\\\-1.12805141726785\\\\0\\\\0\\\\0\\end{matrix}\\right]$"
      ],
      "text/plain": [
       "Matrix([\n",
       "[                0],\n",
       "[                0],\n",
       "[-1.12805141726785],\n",
       "[                0],\n",
       "[-1.12805141726785],\n",
       "[                0],\n",
       "[                0],\n",
       "[                0]])"
      ]
     },
     "metadata": {},
     "output_type": "display_data"
    },
    {
     "data": {
      "image/png": "[encoded data removed]",
      "text/plain": [
       "<Figure size 432x288 with 1 Axes>"
      ]
     },
     "metadata": {
      "needs_background": "light"
     },
     "output_type": "display_data"
    }
   ],
   "source": [
    "from sympy import Matrix,simplify,diff,integrate,lambdify\n",
    "import sympy as sp\n",
    "import matplotlib.pyplot as plt\n",
    "from mpmath import quad,mp\n",
    "xi,eta = sp.symbols(\"xi eta\")\n",
    "coordinates = Matrix([[0,0],[3,1],[35/10,32/10],[5/10,3]])\n",
    "# coordinates = Matrix([[0,0],[1,0],[1,1],[0,1]])\n",
    "# plot coordinates\n",
    "a = Matrix([[0,0],[3,1],[35/10,32/10],[5/10,3],[0,0]])\n",
    "# a = Matrix([[0,0],[1,0],[1,1],[0,1],[0,0]])\n",
    "t = 1\n",
    "Ee = 1\n",
    "Nu = 3/10\n",
    "Cc = Ee/(1+Nu)*Matrix([[1/(1 - Nu), Nu/(1 - Nu), 0], \n",
    "                       [Nu/(1 - Nu), 1/(1 - Nu), 0], \n",
    "                       [0, 0, 1/2]])\n",
    "fig = plt.figure()\n",
    "ax = fig.add_subplot(111)\n",
    "cp = ax.plot(a[:,0], a[:,1])\n",
    "ax.grid(True, which='both')\n",
    "plt.xlabel(\"x\")\n",
    "plt.ylabel(\"y\")\n",
    "plt.title(\"Shape\")\n",
    "ax.axhline(y = 0, color = 'k')\n",
    "ax.axvline(x = 0, color = 'k')\n",
    "Shapefun = Matrix([[(1-xi)*(1-eta)],[(1+xi)*(1-eta)],\n",
    "                   [(1+xi)*(1+eta)],[(1-xi)*(1+eta)]])/4\n",
    "display(\"Mapping Functions\")\n",
    "Nn = Matrix([[0 for x in range(8)] for y in range(2)])\n",
    "for i in range(4):\n",
    "    Nn[0,2*i] = Nn[1,2*i+1] = Shapefun[i]\n",
    "x = simplify(sum([Shapefun[i]*coordinates[i,0] for i in range(4)]))\n",
    "display(\"x =\",x)\n",
    "y = simplify(sum([Shapefun[i]*coordinates[i,1] for i in range(4)]))\n",
    "display(\"y =\",y)\n",
    "J = Matrix([[diff(x,xi),diff(x,eta)],[diff(y,xi),diff(y,eta)]])\n",
    "display(\"Gradient of the Map\")\n",
    "display(\"J =\",J)\n",
    "JinvT = J.T.inv()\n",
    "display(\"J^-1 =\",JinvT)\n",
    "mat1 = Matrix([[1,0,0,0],[0,0,0,1],[0,1,1,0]])\n",
    "mat2 = Matrix([[JinvT[0,0],JinvT[0,1],0,0], \n",
    "               [JinvT[1,0],JinvT[1,1],0,0], \n",
    "               [0,0,JinvT[0,0],JinvT[0,1]], \n",
    "               [0,0,JinvT[1,0],JinvT[1,1]]])\n",
    "mat3 = Matrix([[0 for x in range(8)] for y in range(4)])\n",
    "for i in range(4):\n",
    "    mat3[0,2*i] = mat3[2,2*i+1] = diff(Shapefun[i],xi)\n",
    "    mat3[1,2*i] = mat3[3,2*i+1] = diff(Shapefun[i],eta)\n",
    "B = simplify(mat1*mat2*mat3)\n",
    "display(\"B =\",B)\n",
    "kbeforeintegration = simplify(B.T*Cc*B)\n",
    "display(\"Stiffness Matrix\")\n",
    "K1 = Matrix([[0 for x in range(8)] for y in range(8)])\n",
    "for i in range(8):\n",
    "    for j in range(8):\n",
    "        integrand = kbeforeintegration[i,j]*J.det()\n",
    "        intlam = lambdify((eta,xi),integrand)\n",
    "        mp.dps = 3\n",
    "        K1[i,j] = quad(intlam,[-1,1],[-1,1])\n",
    "display(\"K =\",K1)\n",
    "xiset = Matrix([[-1/sp.sqrt(3),1/sp.sqrt(3)]])\n",
    "etaset = Matrix([[-1/sp.sqrt(3),1/sp.sqrt(3)]])\n",
    "kfull = t*Matrix([[simplify(sum([sum([(kbeforeintegration[i,j]*J.det()).subs({xi:k,eta:l}) for k in xiset]) for l in etaset]))for i in range(8)]for j in range(8)])\n",
    "display(\"k_{Full Integration} =\",kfull)\n",
    "xiset = Matrix([[0]])\n",
    "etaset = Matrix([[0]])\n",
    "kreduced = 4*t*Matrix([[simplify(sum([sum([(kbeforeintegration[i,j]*J.det()).subs({xi:k,eta:l}) for k in xiset]) for l in etaset]))for i in range(8)]for j in range(8)])\n",
    "display(\"k_{Reduced Integration}=\",kreduced)\n",
    "display(\"Body Forces\")\n",
    "rb = Matrix([0,-1])\n",
    "display(\"\\u03C1_b =\",rb)\n",
    "fbeforeintegration = t*Nn.T*rb*J.det()\n",
    "f1 = Matrix([integrate(fbeforeintegration[i],(xi,-1,1),(eta,-1,1))for i in range(8)])\n",
    "display(\"Body Force Vetor\")\n",
    "display(\"f_{Exact Integration} =\",f1)\n",
    "xiset = Matrix([[-1/sp.sqrt(3),1/sp.sqrt(3)]])\n",
    "etaset = Matrix([[-1/sp.sqrt(3),1/sp.sqrt(3)]])\n",
    "ffull = Matrix([simplify(sum([sum([(fbeforeintegration[i]).subs({xi:l,eta:k}) for k in etaset]) for l in xiset]))for i in range(8)])\n",
    "display(\"f_{Full Integration} =\",ffull)\n",
    "xiset = Matrix([[0]])\n",
    "etaset = Matrix([[0]])\n",
    "freduced = 4*Matrix([simplify(sum([sum([(fbeforeintegration[i]).subs({xi:l,eta:k}) for k in etaset]) for l in xiset]))for i in range(8)])\n",
    "display(\"f_{Reduced Integration}=\",freduced)\n",
    "display(\"Traction Vectors\")\n",
    "dldeta = sp.sqrt(J[0,1]**2 + J[1,1]**2).subs({xi:1})\n",
    "tn = Matrix([-1,0])\n",
    "display(\"t_n =\",tn)\n",
    "display(\"Spatial Coordinate System =\",dldeta)\n",
    "fbeforeintegration = t*Nn.T*tn*dldeta\n",
    "f1 = Matrix([(integrate(fbeforeintegration[i],(eta,-1,1))).subs({xi:1})for i in range(8)])\n",
    "display(\"Nodal Forces due to Traction Forces\")\n",
    "display(\"f_{Exact Integration}\",f1)\n",
    "xiset = Matrix([[-1/sp.sqrt(3),1/sp.sqrt(3)]])\n",
    "etaset = Matrix([[-1/sp.sqrt(3),1/sp.sqrt(3)]])\n",
    "ffull = Matrix([simplify(sum([(fbeforeintegration[i]).subs({xi:1,eta:k}) for k in etaset]))for i in range(8)])\n",
    "display(\"f_{Full Integration} =\",ffull)\n",
    "xiset = Matrix([[0]])\n",
    "etaset = Matrix([[0]])\n",
    "freduced = 2*Matrix([simplify(sum([(fbeforeintegration[i]).subs({xi:1,eta:k}) for k in etaset]))for i in range(8)])\n",
    "display(\"f_{Reduced Integration}\",freduced)"
   ]
  },
  {
   "cell_type": "markdown",
   "metadata": {},
   "source": [
    "12.5.2.3"
   ]
  },
  {
   "cell_type": "code",
   "execution_count": 4,
   "metadata": {},
   "outputs": [
    {
     "data": {
      "text/plain": [
       "'Plane Strain: '"
      ]
     },
     "metadata": {},
     "output_type": "display_data"
    },
    {
     "data": {
      "text/latex": [
       "$\\displaystyle \\left[\\begin{matrix}22222222222.2222 & 5555555555.55556 & 0\\\\5555555555.55556 & 22222222222.2222 & 0\\\\0 & 0 & 8333333333.33333\\end{matrix}\\right]$"
      ],
      "text/plain": [
       "Matrix([\n",
       "[22222222222.2222, 5555555555.55556,                0],\n",
       "[5555555555.55556, 22222222222.2222,                0],\n",
       "[               0,                0, 8333333333.33333]])"
      ]
     },
     "metadata": {},
     "output_type": "display_data"
    },
    {
     "data": {
      "text/plain": [
       "'Element E1'"
      ]
     },
     "metadata": {},
     "output_type": "display_data"
    },
    {
     "data": {
      "text/plain": [
       "'Mapping functions ='"
      ]
     },
     "metadata": {},
     "output_type": "display_data"
    },
    {
     "data": {
      "text/latex": [
       "$\\displaystyle 2 \\eta + 5 \\xi$"
      ],
      "text/plain": [
       "2*eta + 5*xi"
      ]
     },
     "metadata": {},
     "output_type": "display_data"
    },
    {
     "data": {
      "text/latex": [
       "$\\displaystyle 6 \\eta$"
      ],
      "text/plain": [
       "6*eta"
      ]
     },
     "metadata": {},
     "output_type": "display_data"
    },
    {
     "data": {
      "text/plain": [
       "'Jacobian Transformation ='"
      ]
     },
     "metadata": {},
     "output_type": "display_data"
    },
    {
     "data": {
      "text/latex": [
       "$\\displaystyle \\left[\\begin{matrix}5 & 2\\\\0 & 6\\end{matrix}\\right]$"
      ],
      "text/plain": [
       "Matrix([\n",
       "[5, 2],\n",
       "[0, 6]])"
      ]
     },
     "metadata": {},
     "output_type": "display_data"
    },
    {
     "data": {
      "text/plain": [
       "'Inverse ='"
      ]
     },
     "metadata": {},
     "output_type": "display_data"
    },
    {
     "data": {
      "text/latex": [
       "$\\displaystyle \\left[\\begin{matrix}\\frac{1}{5} & 0\\\\- \\frac{1}{15} & \\frac{1}{6}\\end{matrix}\\right]$"
      ],
      "text/plain": [
       "Matrix([\n",
       "[  1/5,   0],\n",
       "[-1/15, 1/6]])"
      ]
     },
     "metadata": {},
     "output_type": "display_data"
    },
    {
     "data": {
      "text/plain": [
       "'Determinant ='"
      ]
     },
     "metadata": {},
     "output_type": "display_data"
    },
    {
     "data": {
      "text/latex": [
       "$\\displaystyle 30$"
      ],
      "text/plain": [
       "30"
      ]
     },
     "metadata": {},
     "output_type": "display_data"
    },
    {
     "data": {
      "text/plain": [
       "'B ='"
      ]
     },
     "metadata": {},
     "output_type": "display_data"
    },
    {
     "data": {
      "text/latex": [
       "$\\displaystyle \\left[\\begin{matrix}- \\frac{1}{5} & 0 & \\frac{1}{5} & 0 & 0 & 0\\\\0 & - \\frac{1}{10} & 0 & - \\frac{1}{15} & 0 & \\frac{1}{6}\\\\- \\frac{1}{10} & - \\frac{1}{5} & - \\frac{1}{15} & \\frac{1}{5} & \\frac{1}{6} & 0\\end{matrix}\\right]$"
      ],
      "text/plain": [
       "Matrix([\n",
       "[ -1/5,     0,   1/5,     0,   0,   0],\n",
       "[    0, -1/10,     0, -1/15,   0, 1/6],\n",
       "[-1/10,  -1/5, -1/15,   1/5, 1/6,   0]])"
      ]
     },
     "metadata": {},
     "output_type": "display_data"
    },
    {
     "data": {
      "text/plain": [
       "'Ki ='"
      ]
     },
     "metadata": {},
     "output_type": "display_data"
    },
    {
     "data": {
      "text/latex": [
       "$\\displaystyle \\left[\\begin{matrix}14583333333.3333 & 4166666666.66667 & -12500000000.0 & -1388888888.88889 & -2083333333.33333 & -2777777777.77778\\\\4166666666.66667 & 8333333333.33334 & -2.23517417907715 \\cdot 10^{-7} & -2777777777.77778 & -4166666666.66667 & -5555555555.55556\\\\-12500000000.0 & -4.4703483581543 \\cdot 10^{-7} & 13888888888.8889 & -2777777777.77778 & -1388888888.88889 & 2777777777.77778\\\\-1388888888.88889 & -2777777777.77778 & -2777777777.77778 & 6481481481.48148 & 4166666666.66667 & -3703703703.7037\\\\-2083333333.33333 & -4166666666.66667 & -1388888888.88889 & 4166666666.66667 & 3472222222.22222 & 0\\\\-2777777777.77778 & -5555555555.55556 & 2777777777.77778 & -3703703703.7037 & 0 & 9259259259.25926\\end{matrix}\\right]$"
      ],
      "text/plain": [
       "Matrix([\n",
       "[ 14583333333.3333,    4166666666.66667,       -12500000000.0, -1388888888.88889, -2083333333.33333, -2777777777.77778],\n",
       "[ 4166666666.66667,    8333333333.33334, -2.23517417907715e-7, -2777777777.77778, -4166666666.66667, -5555555555.55556],\n",
       "[   -12500000000.0, -4.4703483581543e-7,     13888888888.8889, -2777777777.77778, -1388888888.88889,  2777777777.77778],\n",
       "[-1388888888.88889,   -2777777777.77778,    -2777777777.77778,  6481481481.48148,  4166666666.66667,  -3703703703.7037],\n",
       "[-2083333333.33333,   -4166666666.66667,    -1388888888.88889,  4166666666.66667,  3472222222.22222,                 0],\n",
       "[-2777777777.77778,   -5555555555.55556,     2777777777.77778,  -3703703703.7037,                 0,  9259259259.25926]])"
      ]
     },
     "metadata": {},
     "output_type": "display_data"
    },
    {
     "data": {
      "text/plain": [
       "'Element E2'"
      ]
     },
     "metadata": {},
     "output_type": "display_data"
    },
    {
     "data": {
      "text/plain": [
       "'Mapping functions ='"
      ]
     },
     "metadata": {},
     "output_type": "display_data"
    },
    {
     "data": {
      "text/latex": [
       "$\\displaystyle 2 \\xi$"
      ],
      "text/plain": [
       "2*xi"
      ]
     },
     "metadata": {},
     "output_type": "display_data"
    },
    {
     "data": {
      "text/latex": [
       "$\\displaystyle 6 \\eta + 6 \\xi$"
      ],
      "text/plain": [
       "6*eta + 6*xi"
      ]
     },
     "metadata": {},
     "output_type": "display_data"
    },
    {
     "data": {
      "text/plain": [
       "'Jacobian Transformation ='"
      ]
     },
     "metadata": {},
     "output_type": "display_data"
    },
    {
     "data": {
      "text/latex": [
       "$\\displaystyle \\left[\\begin{matrix}2 & 0\\\\6 & 6\\end{matrix}\\right]$"
      ],
      "text/plain": [
       "Matrix([\n",
       "[2, 0],\n",
       "[6, 6]])"
      ]
     },
     "metadata": {},
     "output_type": "display_data"
    },
    {
     "data": {
      "text/plain": [
       "'Inverse ='"
      ]
     },
     "metadata": {},
     "output_type": "display_data"
    },
    {
     "data": {
      "text/latex": [
       "$\\displaystyle \\left[\\begin{matrix}\\frac{1}{2} & - \\frac{1}{2}\\\\0 & \\frac{1}{6}\\end{matrix}\\right]$"
      ],
      "text/plain": [
       "Matrix([\n",
       "[1/2, -1/2],\n",
       "[  0,  1/6]])"
      ]
     },
     "metadata": {},
     "output_type": "display_data"
    },
    {
     "data": {
      "text/plain": [
       "'Determinant ='"
      ]
     },
     "metadata": {},
     "output_type": "display_data"
    },
    {
     "data": {
      "text/latex": [
       "$\\displaystyle 12$"
      ],
      "text/plain": [
       "12"
      ]
     },
     "metadata": {},
     "output_type": "display_data"
    },
    {
     "data": {
      "text/plain": [
       "'B ='"
      ]
     },
     "metadata": {},
     "output_type": "display_data"
    },
    {
     "data": {
      "text/latex": [
       "$\\displaystyle \\left[\\begin{matrix}0 & 0 & \\frac{1}{2} & 0 & - \\frac{1}{2} & 0\\\\0 & - \\frac{1}{6} & 0 & 0 & 0 & \\frac{1}{6}\\\\- \\frac{1}{6} & 0 & 0 & \\frac{1}{2} & \\frac{1}{6} & - \\frac{1}{2}\\end{matrix}\\right]$"
      ],
      "text/plain": [
       "Matrix([\n",
       "[   0,    0, 1/2,   0, -1/2,    0],\n",
       "[   0, -1/6,   0,   0,    0,  1/6],\n",
       "[-1/6,    0,   0, 1/2,  1/6, -1/2]])"
      ]
     },
     "metadata": {},
     "output_type": "display_data"
    },
    {
     "data": {
      "text/plain": [
       "'Ki ='"
      ]
     },
     "metadata": {},
     "output_type": "display_data"
    },
    {
     "data": {
      "text/latex": [
       "$\\displaystyle \\left[\\begin{matrix}1388888888.88889 & 0 & 0 & -4166666666.66667 & -1388888888.88889 & 4166666666.66667\\\\0 & 3703703703.7037 & -2777777777.77778 & 0 & 2777777777.77778 & -3703703703.7037\\\\0 & -2777777777.77778 & 33333333333.3333 & 0 & -33333333333.3333 & 2777777777.77778\\\\-4166666666.66667 & 0 & 0 & 12500000000.0 & 4166666666.66667 & -12500000000.0\\\\-1388888888.88889 & 2777777777.77778 & -33333333333.3333 & 4166666666.66667 & 34722222222.2222 & -6944444444.44444\\\\4166666666.66667 & -3703703703.7037 & 2777777777.77778 & -12500000000.0 & -6944444444.44444 & 16203703703.7037\\end{matrix}\\right]$"
      ],
      "text/plain": [
       "Matrix([\n",
       "[ 1388888888.88889,                 0,                 0, -4166666666.66667, -1388888888.88889,  4166666666.66667],\n",
       "[                0,   3703703703.7037, -2777777777.77778,                 0,  2777777777.77778,  -3703703703.7037],\n",
       "[                0, -2777777777.77778,  33333333333.3333,                 0, -33333333333.3333,  2777777777.77778],\n",
       "[-4166666666.66667,                 0,                 0,     12500000000.0,  4166666666.66667,    -12500000000.0],\n",
       "[-1388888888.88889,  2777777777.77778, -33333333333.3333,  4166666666.66667,  34722222222.2222, -6944444444.44444],\n",
       "[ 4166666666.66667,  -3703703703.7037,  2777777777.77778,    -12500000000.0, -6944444444.44444,  16203703703.7037]])"
      ]
     },
     "metadata": {},
     "output_type": "display_data"
    },
    {
     "data": {
      "text/plain": [
       "'ktotal ='"
      ]
     },
     "metadata": {},
     "output_type": "display_data"
    },
    {
     "data": {
      "text/latex": [
       "$\\displaystyle \\left[\\begin{matrix}15972222222.2222 & 4166666666.66667 & -12500000000.0 & -1388888888.88889 & -2083333333.33333 & -6944444444.44444 & -1388888888.88889 & 4166666666.66667\\\\4166666666.66667 & 12037037037.037 & -2.23517417907715 \\cdot 10^{-7} & -2777777777.77778 & -6944444444.44444 & -5555555555.55556 & 2777777777.77778 & -3703703703.7037\\\\-12500000000.0 & -4.4703483581543 \\cdot 10^{-7} & 13888888888.8889 & -2777777777.77778 & -1388888888.88889 & 2777777777.77778 & 0 & 0\\\\-1388888888.88889 & -2777777777.77778 & -2777777777.77778 & 6481481481.48148 & 4166666666.66667 & -3703703703.7037 & 0 & 0\\\\-2083333333.33333 & -6944444444.44444 & -1388888888.88889 & 4166666666.66667 & 36805555555.5556 & 0 & -33333333333.3333 & 2777777777.77778\\\\-6944444444.44444 & -5555555555.55556 & 2777777777.77778 & -3703703703.7037 & 0 & 21759259259.2593 & 4166666666.66667 & -12500000000.0\\\\-1388888888.88889 & 2777777777.77778 & 0 & 0 & -33333333333.3333 & 4166666666.66667 & 34722222222.2222 & -6944444444.44444\\\\4166666666.66667 & -3703703703.7037 & 0 & 0 & 2777777777.77778 & -12500000000.0 & -6944444444.44444 & 16203703703.7037\\end{matrix}\\right]$"
      ],
      "text/plain": [
       "Matrix([\n",
       "[ 15972222222.2222,    4166666666.66667,       -12500000000.0, -1388888888.88889, -2083333333.33333, -6944444444.44444, -1388888888.88889,  4166666666.66667],\n",
       "[ 4166666666.66667,     12037037037.037, -2.23517417907715e-7, -2777777777.77778, -6944444444.44444, -5555555555.55556,  2777777777.77778,  -3703703703.7037],\n",
       "[   -12500000000.0, -4.4703483581543e-7,     13888888888.8889, -2777777777.77778, -1388888888.88889,  2777777777.77778,                 0,                 0],\n",
       "[-1388888888.88889,   -2777777777.77778,    -2777777777.77778,  6481481481.48148,  4166666666.66667,  -3703703703.7037,                 0,                 0],\n",
       "[-2083333333.33333,   -6944444444.44444,    -1388888888.88889,  4166666666.66667,  36805555555.5556,                 0, -33333333333.3333,  2777777777.77778],\n",
       "[-6944444444.44444,   -5555555555.55556,     2777777777.77778,  -3703703703.7037,                 0,  21759259259.2593,  4166666666.66667,    -12500000000.0],\n",
       "[-1388888888.88889,    2777777777.77778,                    0,                 0, -33333333333.3333,  4166666666.66667,  34722222222.2222, -6944444444.44444],\n",
       "[ 4166666666.66667,    -3703703703.7037,                    0,                 0,  2777777777.77778,    -12500000000.0, -6944444444.44444,  16203703703.7037]])"
      ]
     },
     "metadata": {},
     "output_type": "display_data"
    },
    {
     "data": {
      "text/latex": [
       "$\\displaystyle \\left[\\begin{matrix}36805555555.5556 & 0 & -33333333333.3333 & 2777777777.77778\\\\0 & 21759259259.2593 & 4166666666.66667 & -12500000000.0\\\\-33333333333.3333 & 4166666666.66667 & 34722222222.2222 & -6944444444.44444\\\\2777777777.77778 & -12500000000.0 & -6944444444.44444 & 16203703703.7037\\end{matrix}\\right]$"
      ],
      "text/plain": [
       "Matrix([\n",
       "[ 36805555555.5556,                0, -33333333333.3333,  2777777777.77778],\n",
       "[                0, 21759259259.2593,  4166666666.66667,    -12500000000.0],\n",
       "[-33333333333.3333, 4166666666.66667,  34722222222.2222, -6944444444.44444],\n",
       "[ 2777777777.77778,   -12500000000.0, -6944444444.44444,  16203703703.7037]])"
      ]
     },
     "metadata": {},
     "output_type": "display_data"
    },
    {
     "data": {
      "text/plain": [
       "'Force vector ='"
      ]
     },
     "metadata": {},
     "output_type": "display_data"
    },
    {
     "data": {
      "text/latex": [
       "$\\displaystyle \\left[\\begin{matrix}0\\\\0\\\\0\\\\-50000000\\end{matrix}\\right]$"
      ],
      "text/plain": [
       "Matrix([\n",
       "[        0],\n",
       "[        0],\n",
       "[        0],\n",
       "[-50000000]])"
      ]
     },
     "metadata": {},
     "output_type": "display_data"
    },
    {
     "data": {
      "text/plain": [
       "'Displacements ='"
      ]
     },
     "metadata": {},
     "output_type": "display_data"
    },
    {
     "data": {
      "text/latex": [
       "$\\displaystyle \\left[\\begin{matrix}-0.00271210762331838\\\\-0.00305112107623319\\\\-0.00353542600896861\\\\-0.00648968609865471\\end{matrix}\\right]$"
      ],
      "text/plain": [
       "Matrix([\n",
       "[-0.00271210762331838],\n",
       "[-0.00305112107623319],\n",
       "[-0.00353542600896861],\n",
       "[-0.00648968609865471]])"
      ]
     },
     "metadata": {},
     "output_type": "display_data"
    }
   ],
   "source": [
    "import sympy as sp\n",
    "from sympy import Matrix,diff\n",
    "xi,eta = sp.symbols(\"xi eta\")\n",
    "nodes = [[0,0],[5,0],[2,6],[0,6]]\n",
    "el1 = Matrix([1,2,3])\n",
    "el2 = Matrix([1,3,4])\n",
    "e1 = Matrix([nodes[0],nodes[1],nodes[2]])\n",
    "e2 = Matrix([nodes[0],nodes[2],nodes[3]])\n",
    "map1 = [2*el1[0]-1,2*el1[0],2*el1[1]-1,2*el1[1],2*el1[2]-1,2*el1[2]]\n",
    "map2 = [2*el2[0]-1,2*el2[0],2*el2[1]-1,2*el2[1],2*el2[2]-1,2*el2[2]]\n",
    "E = 20000000000\n",
    "nu = 0.2\n",
    "Nn = Matrix([[1-xi-eta],[xi],[eta]])\n",
    "Cc1 = E/(1+nu)*Matrix([[(1-nu)/(1-2*nu),nu/(1-2*nu),0], \n",
    "                       [nu/(1-2*nu),(1-nu)/(1-2*nu),0], \n",
    "                       [0,0,1/2]])\n",
    "display(\"Plane Strain: \", Cc1)\n",
    "def calculate(e):\n",
    "    xe = sum(Nn[i]*e[i,0] for i in range(3)) \n",
    "    ye = sum(Nn[i]*e[i,1] for i in range(3))\n",
    "    display(\"Mapping functions =\",xe,ye)\n",
    "    J = Matrix([[xe.diff(xi), xe.diff(eta)], [ye.diff(xi), ye.diff(eta)]])\n",
    "    display(\"Jacobian Transformation =\", J)\n",
    "    Jin1t = J.T.inv()\n",
    "    display(\"Inverse =\", Jin1t)\n",
    "    JD = J.det()\n",
    "    display(\"Determinant =\", JD)\n",
    "    Mat1 = Matrix([[1,0,0,0],[0,0,0,1],[0,1,1,0]])\n",
    "    Mat2 = Matrix([[Jin1t[0,0], Jin1t[0,1],0,0],\n",
    "                    [Jin1t[1,0],Jin1t[1,1],0,0],\n",
    "                    [0,0,Jin1t[0,0],Jin1t[0,1]],\n",
    "                    [0,0,Jin1t[1,0],Jin1t[1,1]]])\n",
    "    Mat3 = Matrix([[Nn[0].diff(xi),0,Nn[1].diff(xi),0,Nn[2].diff(xi),0],\n",
    "                   [Nn[0].diff(eta),0,Nn[1].diff(eta),0,Nn[2].diff(eta),0],\n",
    "                   [0,Nn[0].diff(xi),0,Nn[1].diff(xi),0,Nn[2].diff(xi)],\n",
    "                   [0,Nn[0].diff(eta),0,Nn[1].diff(eta),0,Nn[2].diff(eta)]])\n",
    "    B = Mat1*Mat2*Mat3\n",
    "    display(\"B =\", B)\n",
    "    Kb2 = B.T*Cc1*B\n",
    "    K = JD*Kb2\n",
    "    Ki = (1/2)*K\n",
    "    display(\"Ki =\",Ki)\n",
    "    return Ki\n",
    "display(\"Element E1\")\n",
    "Ki1 = calculate(e1)\n",
    "display(\"Element E2\")\n",
    "Ki2 = calculate(e2)\n",
    "ktotal = Matrix([[0 for x in range(8)] for y in range(8)])\n",
    "for i in range(6):\n",
    "    for j in range(6):\n",
    "        i1,j1 = map1[i]-1,map1[j]-1\n",
    "        i2,j2 = map2[i]-1,map2[j]-1\n",
    "        ktotal[i1,j1] = ktotal[i1,j1]+Ki1[i,j]\n",
    "        ktotal[i2,j2] = ktotal[i2,j2]+Ki2[i,j]\n",
    "display(\"ktotal =\",ktotal)\n",
    "Kk = Matrix(ktotal[4:8,4:8])\n",
    "display(Kk)\n",
    "ff = Matrix([0,0,0,-50000000])\n",
    "display(\"Force vector =\",ff)\n",
    "u = Kk.inv()*ff\n",
    "display(\"Displacements =\",u)"
   ]
  },
  {
   "cell_type": "code",
   "execution_count": null,
   "metadata": {},
   "outputs": [],
   "source": []
  }
 ],
 "metadata": {
  "kernelspec": {
   "display_name": "Python 3",
   "language": "python",
   "name": "python3"
  },
  "language_info": {
   "codemirror_mode": {
    "name": "ipython",
    "version": 3
   },
   "file_extension": ".py",
   "mimetype": "text/x-python",
   "name": "python",
   "nbconvert_exporter": "python",
   "pygments_lexer": "ipython3",
   "version": "3.8.5"
  }
 },
 "nbformat": 4,
 "nbformat_minor": 4
}
