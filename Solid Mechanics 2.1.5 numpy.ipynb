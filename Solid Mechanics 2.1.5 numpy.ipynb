{
 "cells": [
  {
   "cell_type": "markdown",
   "metadata": {},
   "source": [
    "https://engcourses-uofa.ca/books/introduction-to-solid-mechanics/linear-algebra/linear-vector-spaces/examples-and-problems/"
   ]
  },
  {
   "cell_type": "markdown",
   "metadata": {},
   "source": [
    "Example 2.1.5.1"
   ]
  },
  {
   "cell_type": "code",
   "execution_count": 1,
   "metadata": {},
   "outputs": [
    {
     "name": "stdout",
     "output_type": "stream",
     "text": [
      "B1 = [1 0 0] [0.         0.70710678 0.70710678] [ 0.          0.70710678 -0.70710678]\n",
      "B2 = [1 0 0] [0.         0.70710678 0.70710678] [ 0.         -0.70710678 -0.70710678]\n",
      "Check orthogonality\n",
      "e1.e1 = 1\n",
      "e2.e2 = 0.9999999999999998\n",
      "e3.e3 = 0.9999999999999998\n",
      "e1.e2 = 0.0\n",
      "e1.e3 = 0.0\n",
      "e2.e3 = 0.0\n",
      "e'1.e'1 = 1\n",
      "e'2.e'2 = 0.9999999999999998\n",
      "e'3.e'3 = 0.9999999999999998\n",
      "e'1.e'2 = 0.0\n",
      "e'1.e'3 = 0.0\n",
      "e'2.e'3 = -0.9999999999999998\n"
     ]
    }
   ],
   "source": [
    "import numpy as np\n",
    "e1 = np.array([1, 0, 0]); # Matrix []\n",
    "e2 = np.array([0, 1/np.sqrt(2), 1/np.sqrt(2)]);\n",
    "e3 = np.array([0, 1/np.sqrt(2), -1/np.sqrt(2)]);\n",
    "ep1 = np.array([1, 0, 0]);\n",
    "ep2 = np.array([0, 1/np.sqrt(2), 1/np.sqrt(2)]);\n",
    "ep3 = np.array([0, -1/np.sqrt(2), -1/np.sqrt(2)]);\n",
    "print(\"B1 =\",e1,e2,e3)\n",
    "print(\"B2 =\",ep1,ep2,ep3)\n",
    "print(\"Check orthogonality\")\n",
    "print(\"e1.e1 =\",np.dot(e1,e1)) # dot operation\n",
    "print(\"e2.e2 =\",np.dot(e2,e2))\n",
    "print(\"e3.e3 =\",np.dot(e3,e3))\n",
    "print(\"e1.e2 =\",np.dot(e1,e2))\n",
    "print(\"e1.e3 =\",np.dot(e1,e3))\n",
    "print(\"e2.e3 =\",np.dot(e2,e3))\n",
    "print(\"e'1.e'1 =\",np.dot(ep1,ep1))\n",
    "print(\"e'2.e'2 =\",np.dot(ep2,ep2))\n",
    "print(\"e'3.e'3 =\",np.dot(ep3,ep3))\n",
    "print(\"e'1.e'2 =\",np.dot(ep1,ep2))\n",
    "print(\"e'1.e'3 =\",np.dot(ep1,ep3))\n",
    "print(\"e'2.e'3 =\",np.dot(ep2,ep3))"
   ]
  },
  {
   "cell_type": "markdown",
   "metadata": {},
   "source": [
    "2.1.5.2"
   ]
  },
  {
   "cell_type": "code",
   "execution_count": 11,
   "metadata": {},
   "outputs": [
    {
     "name": "stdout",
     "output_type": "stream",
     "text": [
      "x= [1 1 1]\n",
      "y= [-1  2 -1]\n",
      "x×y= [-3  0  3]\n",
      "|x|= 1.7320508075688772\n",
      "|y|= 2.449489742783178\n",
      "θ= 1.5707963267948966\n"
     ]
    }
   ],
   "source": [
    "import numpy as np\n",
    "from numpy.linalg import norm\n",
    "x = np.array([1, 1, 1])\n",
    "y = np.array([-1, 2, -1])\n",
    "z = np.cross(x,y) # cross product\n",
    "print(\"x =\",x)\n",
    "print(\"y =\",y)\n",
    "print(\"x\\u00D7y =\",z)\n",
    "print(\"|x| =\",norm(x)) #gives rounded value normalization\n",
    "print(\"|y| =\",norm(y))\n",
    "# angle formula (a*b)/(norm a)(norm b)\n",
    "print(\"\\u03B8 =\",np.arccos(np.dot(x,y)/norm(x)/norm(y)))"
   ]
  }
 ],
 "metadata": {
  "kernelspec": {
   "display_name": "Python 3",
   "language": "python",
   "name": "python3"
  },
  "language_info": {
   "codemirror_mode": {
    "name": "ipython",
    "version": 3
   },
   "file_extension": ".py",
   "mimetype": "text/x-python",
   "name": "python",
   "nbconvert_exporter": "python",
   "pygments_lexer": "ipython3",
   "version": "3.8.5"
  }
 },
 "nbformat": 4,
 "nbformat_minor": 4
}
