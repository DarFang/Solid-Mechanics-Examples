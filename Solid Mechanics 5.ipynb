{
 "cells": [
  {
   "cell_type": "markdown",
   "metadata": {},
   "source": [
    "https://engcourses-uofa.ca/books/introduction-to-solid-mechanics/stress/stress-measures-and-stress-invariants/"
   ]
  },
  {
   "cell_type": "markdown",
   "metadata": {},
   "source": [
    "5.2.4"
   ]
  },
  {
   "cell_type": "code",
   "execution_count": 1,
   "metadata": {
    "scrolled": false
   },
   "outputs": [
    {
     "data": {
      "text/plain": [
       "'σ ='"
      ]
     },
     "metadata": {},
     "output_type": "display_data"
    },
    {
     "data": {
      "text/latex": [
       "$\\displaystyle \\left[\\begin{matrix}\\sigma_{1} & 0\\\\0 & \\sigma_{2}\\end{matrix}\\right]$"
      ],
      "text/plain": [
       "Matrix([\n",
       "[sigma_1,       0],\n",
       "[      0, sigma_2]])"
      ]
     },
     "metadata": {},
     "output_type": "display_data"
    },
    {
     "data": {
      "text/plain": [
       "'Q ='"
      ]
     },
     "metadata": {},
     "output_type": "display_data"
    },
    {
     "data": {
      "text/latex": [
       "$\\displaystyle \\left[\\begin{matrix}\\cos{\\left(\\theta \\right)} & - \\sin{\\left(\\theta \\right)}\\\\\\sin{\\left(\\theta \\right)} & \\cos{\\left(\\theta \\right)}\\end{matrix}\\right]$"
      ],
      "text/plain": [
       "Matrix([\n",
       "[cos(theta), -sin(theta)],\n",
       "[sin(theta),  cos(theta)]])"
      ]
     },
     "metadata": {},
     "output_type": "display_data"
    },
    {
     "data": {
      "text/plain": [
       "'Stress Matrix'"
      ]
     },
     "metadata": {},
     "output_type": "display_data"
    },
    {
     "data": {
      "text/plain": [
       "\"σ' =\""
      ]
     },
     "metadata": {},
     "output_type": "display_data"
    },
    {
     "data": {
      "text/latex": [
       "$\\displaystyle \\left[\\begin{matrix}\\sigma_{1} \\cos^{2}{\\left(\\theta \\right)} + \\sigma_{2} \\sin^{2}{\\left(\\theta \\right)} & \\frac{\\left(\\sigma_{1} - \\sigma_{2}\\right) \\sin{\\left(2 \\theta \\right)}}{2}\\\\\\frac{\\left(\\sigma_{1} - \\sigma_{2}\\right) \\sin{\\left(2 \\theta \\right)}}{2} & \\sigma_{1} \\sin^{2}{\\left(\\theta \\right)} + \\sigma_{2} \\cos^{2}{\\left(\\theta \\right)}\\end{matrix}\\right]$"
      ],
      "text/plain": [
       "Matrix([\n",
       "[sigma_1*cos(theta)**2 + sigma_2*sin(theta)**2,            (sigma_1 - sigma_2)*sin(2*theta)/2],\n",
       "[           (sigma_1 - sigma_2)*sin(2*theta)/2, sigma_1*sin(theta)**2 + sigma_2*cos(theta)**2]])"
      ]
     },
     "metadata": {},
     "output_type": "display_data"
    },
    {
     "data": {
      "text/plain": [
       "\"Max value of σ'_12 =\""
      ]
     },
     "metadata": {},
     "output_type": "display_data"
    },
    {
     "data": {
      "text/latex": [
       "$\\displaystyle 2 \\left(\\frac{\\sigma_{1}}{2} - \\frac{\\sigma_{2}}{2}\\right) \\cos{\\left(2 \\theta \\right)}$"
      ],
      "text/plain": [
       "2*(sigma_1/2 - sigma_2/2)*cos(2*theta)"
      ]
     },
     "metadata": {},
     "output_type": "display_data"
    },
    {
     "data": {
      "text/plain": [
       "'θ ='"
      ]
     },
     "metadata": {},
     "output_type": "display_data"
    },
    {
     "data": {
      "text/plain": [
       "[pi/4, 3*pi/4]"
      ]
     },
     "metadata": {},
     "output_type": "display_data"
    },
    {
     "data": {
      "text/plain": [
       "'degrees: '"
      ]
     },
     "metadata": {},
     "output_type": "display_data"
    },
    {
     "data": {
      "text/plain": [
       "[45, 135]"
      ]
     },
     "metadata": {},
     "output_type": "display_data"
    }
   ],
   "source": [
    "from sympy import Matrix,simplify,diff,solve\n",
    "import sympy as sp\n",
    "s1,s2,t = sp.symbols(\"sigma_1 sigma_2 theta\")\n",
    "ss = Matrix([[s1,0],[0,s2]])\n",
    "display(\"\\u03C3 =\",ss)\n",
    "Q = Matrix([[sp.cos(t), -sp.sin(t)], \n",
    "            [sp.sin(t), sp.cos(t)]])\n",
    "display(\"Q =\",Q)\n",
    "news = simplify(Q*ss*Q.T)\n",
    "display(\"Stress Matrix\")\n",
    "display(\"\\u03C3' =\",news)\n",
    "eq1 = diff(news[0,1],t)\n",
    "display(\"Max value of \\u03C3'_12 =\",eq1)\n",
    "s = solve(eq1,t)\n",
    "display(\"\\u03B8 =\",s,\"degrees: \",[i*180/sp.pi for i in s])"
   ]
  },
  {
   "cell_type": "markdown",
   "metadata": {},
   "source": [
    "https://engcourses-uofa.ca/books/introduction-to-solid-mechanics/stress/first-and-second-piola-kirchhoff-stress-tensors/#example2"
   ]
  },
  {
   "cell_type": "markdown",
   "metadata": {},
   "source": [
    "5.5.1"
   ]
  },
  {
   "cell_type": "code",
   "execution_count": 4,
   "metadata": {},
   "outputs": [
    {
     "data": {
      "image/png": "[encoded data removed]",
      "text/plain": [
       "<Figure size 432x576 with 2 Axes>"
      ]
     },
     "metadata": {
      "needs_background": "light"
     },
     "output_type": "display_data"
    }
   ],
   "source": [
    "from sympy import Matrix\n",
    "import sympy as sp\n",
    "from matplotlib import pyplot as plt\n",
    "F = Matrix([[1.2,0.4],[0.4,1.2]])\n",
    "coordinates=[[0,0],[0,1],[1,1],[1,0],[0,0]]\n",
    "newcoordinates=[F*Matrix(coordinates[i]) for i in range(len(coordinates))]\n",
    "bx =[Matrix(coordinates)[:,0], Matrix(coordinates)[:,1]]\n",
    "bx2 = [[newcoordinates[i][0] for i in range(5)],[newcoordinates[i][1] for i in range(5)]]\n",
    "Sigma = Matrix([[5,2],[2,3]])\n",
    "N1 = Matrix([1,0])\n",
    "N2 = Matrix([0,1])\n",
    "Farea = F.det()*F.T.inv()\n",
    "an1 = Farea*N1\n",
    "an2 = Farea*N2\n",
    "tn1 = Sigma.T*an1\n",
    "tn2 = Sigma.T*an2\n",
    "FirstPiola = Sigma.T*F.T.inv()*F.det()\n",
    "SecondPiola = F.inv()*FirstPiola\n",
    "TN1 = FirstPiola*N1\n",
    "TN2 = FirstPiola*N2\n",
    "STN1 = SecondPiola*N1\n",
    "STN2 = SecondPiola*N2\n",
    "Pt11 = F*N1+1/2*F*N2\n",
    "Pt12 = Pt11+an1\n",
    "Pt21 = 1/2*F*N1+F*N2\n",
    "Pt22 = Pt21+an2\n",
    "ar1 = Matrix([Pt11,Pt12]).reshape(2,2)\n",
    "ar2 = Matrix([[Pt21],[Pt22]]).reshape(2,2)\n",
    "A1dotted = Matrix([Pt11,Pt11+Matrix([1,0])]).reshape(2,2)\n",
    "A2dotted = Matrix([Pt21,Pt21+Matrix([0,1])]).reshape(2,2)\n",
    "A1 = Matrix([[1,0.5],[2,0.5]])\n",
    "A2 = Matrix([[0.5,1],[0.5,2]])\n",
    "artn1 = Matrix([Pt11,Pt11+tn1/10]).reshape(2,2)\n",
    "artn2 = Matrix([Pt21,Pt21+tn2/10]).reshape(2,2)\n",
    "arTN1 = Matrix([Matrix([1,0.5]),Matrix([1,0.5])+TN1/10]).reshape(2,2)\n",
    "arTN2 = Matrix([Matrix([0.5,1]),Matrix([0.5,1])+TN2/10]).reshape(2,2)\n",
    "arSTN1 = Matrix([Matrix([1,0.5]),Matrix([1,0.5])+STN1/10]).reshape(2,2)\n",
    "arSTN2 = Matrix([Matrix([0.5,1]),Matrix([0.5,1])+STN2/10]).reshape(2,2)\n",
    "fig, ax = plt.subplots(2, figsize=(6,8))\n",
    "def plotArrow(p,M,t):\n",
    "    x,y,dx,dy = M[0,0],M[0,1],float(M[1,0]-M[0,0]),float(M[1,1]-M[0,1])\n",
    "    p.arrow(x,y,dx,dy,length_includes_head = True,head_width=.05, head_length=.05,alpha=t)\n",
    "plotArrow(ax[0],A1,1)\n",
    "plotArrow(ax[0],A2,1)\n",
    "plotArrow(ax[0],arTN1,1)\n",
    "plotArrow(ax[0],arTN2,1)\n",
    "plotArrow(ax[0],arSTN1,.5)\n",
    "plotArrow(ax[0],arSTN2,.5)\n",
    "#rectangle coordinates\n",
    "ax[0].plot(bx[0][:],bx[1][:])\n",
    "ax[1].plot(bx2[0][:],bx2[1][:])\n",
    "plotArrow(ax[1],ar1,1)\n",
    "plotArrow(ax[1],ar2,1)\n",
    "plotArrow(ax[1],artn1,1)\n",
    "plotArrow(ax[1],artn2,1)\n",
    "plotArrow(ax[1],A1dotted,.5)\n",
    "plotArrow(ax[1],A2dotted,.5)\n",
    "for i in ax:\n",
    "    i.grid(True, which='both')\n",
    "    i.axhline(y = 0, color = 'k',alpha = 0.5)\n",
    "    i.axvline(x = 0, color = 'k',alpha = 0.5)\n",
    "    i.set_xlabel(\"x\")\n",
    "    i.set_ylabel(\"y\")"
   ]
  },
  {
   "cell_type": "markdown",
   "metadata": {},
   "source": [
    "5.6.1"
   ]
  },
  {
   "cell_type": "code",
   "execution_count": 5,
   "metadata": {},
   "outputs": [
    {
     "data": {
      "text/plain": [
       "'σ ='"
      ]
     },
     "metadata": {},
     "output_type": "display_data"
    },
    {
     "data": {
      "text/latex": [
       "$\\displaystyle \\left[\\begin{matrix}1 & -1 & 0\\\\-1 & -5 & 0\\\\0 & 0 & 4\\end{matrix}\\right]$"
      ],
      "text/plain": [
       "⎡1   -1  0⎤\n",
       "⎢         ⎥\n",
       "⎢-1  -5  0⎥\n",
       "⎢         ⎥\n",
       "⎣0   0   4⎦"
      ]
     },
     "metadata": {},
     "output_type": "display_data"
    },
    {
     "data": {
      "text/plain": [
       "'u = '"
      ]
     },
     "metadata": {},
     "output_type": "display_data"
    },
    {
     "data": {
      "text/latex": [
       "$\\displaystyle \\left[\\begin{matrix}1\\\\1\\\\1\\end{matrix}\\right]$"
      ],
      "text/plain": [
       "⎡1⎤\n",
       "⎢ ⎥\n",
       "⎢1⎥\n",
       "⎢ ⎥\n",
       "⎣1⎦"
      ]
     },
     "metadata": {},
     "output_type": "display_data"
    },
    {
     "data": {
      "text/plain": [
       "'n = '"
      ]
     },
     "metadata": {},
     "output_type": "display_data"
    },
    {
     "data": {
      "text/latex": [
       "$\\displaystyle \\left[\\begin{matrix}\\frac{\\sqrt{3}}{3}\\\\\\frac{\\sqrt{3}}{3}\\\\\\frac{\\sqrt{3}}{3}\\end{matrix}\\right]$"
      ],
      "text/plain": [
       "⎡√3⎤\n",
       "⎢──⎥\n",
       "⎢3 ⎥\n",
       "⎢  ⎥\n",
       "⎢√3⎥\n",
       "⎢──⎥\n",
       "⎢3 ⎥\n",
       "⎢  ⎥\n",
       "⎢√3⎥\n",
       "⎢──⎥\n",
       "⎣3 ⎦"
      ]
     },
     "metadata": {},
     "output_type": "display_data"
    },
    {
     "data": {
      "text/plain": [
       "'traction vector = σn ='"
      ]
     },
     "metadata": {},
     "output_type": "display_data"
    },
    {
     "data": {
      "text/latex": [
       "$\\displaystyle \\left[\\begin{matrix}0\\\\- 2 \\sqrt{3}\\\\\\frac{4 \\sqrt{3}}{3}\\end{matrix}\\right]$"
      ],
      "text/plain": [
       "⎡  0  ⎤\n",
       "⎢     ⎥\n",
       "⎢-2⋅√3⎥\n",
       "⎢     ⎥\n",
       "⎢4⋅√3 ⎥\n",
       "⎢──── ⎥\n",
       "⎣ 3   ⎦"
      ]
     },
     "metadata": {},
     "output_type": "display_data"
    },
    {
     "data": {
      "text/plain": [
       "'normal stress ='"
      ]
     },
     "metadata": {},
     "output_type": "display_data"
    },
    {
     "data": {
      "text/latex": [
       "$\\displaystyle - \\frac{2}{3}$"
      ],
      "text/plain": [
       "-2/3"
      ]
     },
     "metadata": {},
     "output_type": "display_data"
    },
    {
     "data": {
      "text/plain": [
       "'shear stress vector on n ='"
      ]
     },
     "metadata": {},
     "output_type": "display_data"
    },
    {
     "data": {
      "text/latex": [
       "$\\displaystyle \\left[\\begin{matrix}\\frac{2 \\sqrt{3}}{9}\\\\- \\frac{16 \\sqrt{3}}{9}\\\\\\frac{14 \\sqrt{3}}{9}\\end{matrix}\\right]$"
      ],
      "text/plain": [
       "⎡ 2⋅√3  ⎤\n",
       "⎢ ────  ⎥\n",
       "⎢  9    ⎥\n",
       "⎢       ⎥\n",
       "⎢-16⋅√3 ⎥\n",
       "⎢───────⎥\n",
       "⎢   9   ⎥\n",
       "⎢       ⎥\n",
       "⎢ 14⋅√3 ⎥\n",
       "⎢ ───── ⎥\n",
       "⎣   9   ⎦"
      ]
     },
     "metadata": {},
     "output_type": "display_data"
    },
    {
     "data": {
      "text/plain": [
       "'τ_n ='"
      ]
     },
     "metadata": {},
     "output_type": "display_data"
    },
    {
     "data": {
      "text/latex": [
       "$\\displaystyle \\frac{2 \\sqrt{38}}{3}$"
      ],
      "text/plain": [
       "2⋅√38\n",
       "─────\n",
       "  3  "
      ]
     },
     "metadata": {},
     "output_type": "display_data"
    },
    {
     "data": {
      "text/plain": [
       "'eigensystem'"
      ]
     },
     "metadata": {},
     "output_type": "display_data"
    },
    {
     "data": {
      "text/latex": [
       "$\\displaystyle \\left[ \\left( 4, \\  1, \\  \\left[ \\left[\\begin{matrix}0\\\\0\\\\1\\end{matrix}\\right]\\right]\\right), \\  \\left( -2 + \\sqrt{10}, \\  1, \\  \\left[ \\left[\\begin{matrix}\\frac{1}{3 - \\sqrt{10}}\\\\1\\\\0\\end{matrix}\\right]\\right]\\right), \\  \\left( - \\sqrt{10} - 2, \\  1, \\  \\left[ \\left[\\begin{matrix}\\frac{1}{3 + \\sqrt{10}}\\\\1\\\\0\\end{matrix}\\right]\\right]\\right)\\right]$"
      ],
      "text/plain": [
       "⎡               ⎛             ⎡⎡   1   ⎤⎤⎞  ⎛             ⎡⎡   1   ⎤⎤⎞⎤\n",
       "⎢⎛      ⎡⎡0⎤⎤⎞  ⎜             ⎢⎢───────⎥⎥⎟  ⎜             ⎢⎢───────⎥⎥⎟⎥\n",
       "⎢⎜      ⎢⎢ ⎥⎥⎟  ⎜             ⎢⎢3 - √10⎥⎥⎟  ⎜             ⎢⎢3 + √10⎥⎥⎟⎥\n",
       "⎢⎜4, 1, ⎢⎢0⎥⎥⎟, ⎜-2 + √10, 1, ⎢⎢       ⎥⎥⎟, ⎜-√10 - 2, 1, ⎢⎢       ⎥⎥⎟⎥\n",
       "⎢⎜      ⎢⎢ ⎥⎥⎟  ⎜             ⎢⎢   1   ⎥⎥⎟  ⎜             ⎢⎢   1   ⎥⎥⎟⎥\n",
       "⎢⎝      ⎣⎣1⎦⎦⎠  ⎜             ⎢⎢       ⎥⎥⎟  ⎜             ⎢⎢       ⎥⎥⎟⎥\n",
       "⎣               ⎝             ⎣⎣   0   ⎦⎦⎠  ⎝             ⎣⎣   0   ⎦⎦⎠⎦"
      ]
     },
     "metadata": {},
     "output_type": "display_data"
    },
    {
     "data": {
      "text/plain": [
       "'eigenvalues (principal Stresses) ='"
      ]
     },
     "metadata": {},
     "output_type": "display_data"
    },
    {
     "data": {
      "text/latex": [
       "$\\displaystyle \\left[ 4, \\  -2 + \\sqrt{10}, \\  - \\sqrt{10} - 2\\right]$"
      ],
      "text/plain": [
       "[4, -2 + √10, -√10 - 2]"
      ]
     },
     "metadata": {},
     "output_type": "display_data"
    },
    {
     "data": {
      "text/plain": [
       "'eigenvectors (principal directions) ='"
      ]
     },
     "metadata": {},
     "output_type": "display_data"
    },
    {
     "data": {
      "text/latex": [
       "$\\displaystyle \\left[ \\left[\\begin{matrix}0 & 0 & 1\\end{matrix}\\right], \\  \\left[\\begin{matrix}\\frac{1}{3 - \\sqrt{10}} & 1 & 0\\end{matrix}\\right], \\  \\left[\\begin{matrix}\\frac{1}{3 + \\sqrt{10}} & 1 & 0\\end{matrix}\\right]\\right]$"
      ],
      "text/plain": [
       "⎡           ⎡   1         ⎤  ⎡   1         ⎤⎤\n",
       "⎢[0  0  1], ⎢───────  1  0⎥, ⎢───────  1  0⎥⎥\n",
       "⎣           ⎣3 - √10      ⎦  ⎣3 + √10      ⎦⎦"
      ]
     },
     "metadata": {},
     "output_type": "display_data"
    },
    {
     "data": {
      "text/plain": [
       "'Normalized eigenvectors (principal directions) ='"
      ]
     },
     "metadata": {},
     "output_type": "display_data"
    },
    {
     "data": {
      "text/latex": [
       "$\\displaystyle \\left[ \\left[\\begin{matrix}0 & 0 & 1.0\\end{matrix}\\right], \\  \\left[\\begin{matrix}-0.987087457637497 & 0.160182243006967 & 0\\end{matrix}\\right], \\  \\left[\\begin{matrix}0.160182243006967 & 0.987087457637497 & 0\\end{matrix}\\right]\\right]$"
      ],
      "text/plain": [
       "[[0  0  1.0], [-0.987087457637497  0.160182243006967  0], [0.160182243006967  \n",
       "0.987087457637497  0]]"
      ]
     },
     "metadata": {},
     "output_type": "display_data"
    },
    {
     "data": {
      "text/plain": [
       "'Q ='"
      ]
     },
     "metadata": {},
     "output_type": "display_data"
    },
    {
     "data": {
      "text/latex": [
       "$\\displaystyle \\left[\\begin{matrix}0.16 & 0.987 & 0\\\\-0.987 & 0.16 & 0\\\\0 & 0 & 1.0\\end{matrix}\\right]$"
      ],
      "text/plain": [
       "⎡ 0.16   0.987   0 ⎤\n",
       "⎢                  ⎥\n",
       "⎢-0.987  0.16    0 ⎥\n",
       "⎢                  ⎥\n",
       "⎣  0       0    1.0⎦"
      ]
     },
     "metadata": {},
     "output_type": "display_data"
    },
    {
     "data": {
      "text/plain": [
       "\"σ' = Q*σ*Q^T =\""
      ]
     },
     "metadata": {},
     "output_type": "display_data"
    },
    {
     "data": {
      "text/latex": [
       "$\\displaystyle \\left[\\begin{matrix}-5.16 & -1.11 \\cdot 10^{-16} & 0\\\\-8.33 \\cdot 10^{-17} & 1.16 & 0\\\\0 & 0 & 4.0\\end{matrix}\\right]$"
      ],
      "text/plain": [
       "⎡  -5.16    -1.11e-16   0 ⎤\n",
       "⎢                         ⎥\n",
       "⎢-8.33e-17    1.16      0 ⎥\n",
       "⎢                         ⎥\n",
       "⎣    0          0      4.0⎦"
      ]
     },
     "metadata": {},
     "output_type": "display_data"
    }
   ],
   "source": [
    "from sympy import Matrix\n",
    "import sympy as sp\n",
    "sp.init_printing(use_latex=\"mathjax\")\n",
    "s = Matrix([[1,-1,0],[-1,-5,0],[0,0,4]])\n",
    "display(\"\\u03C3 =\",s)\n",
    "u = Matrix([1,1,1])\n",
    "display(\"u = \",u)\n",
    "n = u/u.norm()\n",
    "display(\"n = \",n)\n",
    "t = s*n\n",
    "display(\"traction vector = \\u03C3n =\",t)\n",
    "n_stress = t.dot(n)\n",
    "display(\"normal stress =\", n_stress)\n",
    "shear_stress = t - n_stress*n\n",
    "display(\"shear stress vector on n =\",shear_stress)\n",
    "display(\"\\u03C4_n =\", shear_stress.norm())\n",
    "eigensystem = s.eigenvects()\n",
    "display(\"eigensystem\", eigensystem)\n",
    "eigenvalues = [i[0] for i in eigensystem]\n",
    "eigenvectors = [i[2][0].T for i in eigensystem]\n",
    "neigenvectors = [(i/i.norm()).evalf() for i in eigenvectors]\n",
    "display(\"eigenvalues (principal Stresses) =\",eigenvalues)\n",
    "display(\"eigenvectors (principal directions) =\",eigenvectors)\n",
    "display(\"Normalized eigenvectors (principal directions) =\",neigenvectors)\n",
    "Q = Matrix(neigenvectors)\n",
    "# rearrange \n",
    "Q = Matrix([Q[2,:],Q[1,:],Q[0,:]])\n",
    "display(\"Q =\",Q.evalf(3))\n",
    "sp = Q*s*Q.T\n",
    "display(\"\\u03C3' = Q*\\u03C3*Q^T =\",sp.evalf(3))"
   ]
  },
  {
   "cell_type": "markdown",
   "metadata": {},
   "source": [
    "5.6.2"
   ]
  },
  {
   "cell_type": "code",
   "execution_count": 6,
   "metadata": {},
   "outputs": [
    {
     "data": {
      "text/plain": [
       "'σ ='"
      ]
     },
     "metadata": {},
     "output_type": "display_data"
    },
    {
     "data": {
      "text/latex": [
       "$\\displaystyle \\left[\\begin{matrix}2 & 2 & 0\\\\2 & 5 & 0\\\\0 & 0 & -5\\end{matrix}\\right]$"
      ],
      "text/plain": [
       "⎡2  2  0 ⎤\n",
       "⎢        ⎥\n",
       "⎢2  5  0 ⎥\n",
       "⎢        ⎥\n",
       "⎣0  0  -5⎦"
      ]
     },
     "metadata": {},
     "output_type": "display_data"
    },
    {
     "data": {
      "text/plain": [
       "'eigensystem'"
      ]
     },
     "metadata": {},
     "output_type": "display_data"
    },
    {
     "data": {
      "text/latex": [
       "$\\displaystyle \\left[ \\left( -5, \\  1, \\  \\left[ \\left[\\begin{matrix}0\\\\0\\\\1\\end{matrix}\\right]\\right]\\right), \\  \\left( 1, \\  1, \\  \\left[ \\left[\\begin{matrix}-2\\\\1\\\\0\\end{matrix}\\right]\\right]\\right), \\  \\left( 6, \\  1, \\  \\left[ \\left[\\begin{matrix}\\frac{1}{2}\\\\1\\\\0\\end{matrix}\\right]\\right]\\right)\\right]$"
      ],
      "text/plain": [
       "⎡⎛       ⎡⎡0⎤⎤⎞  ⎛      ⎡⎡-2⎤⎤⎞  ⎛      ⎡⎡1/2⎤⎤⎞⎤\n",
       "⎢⎜       ⎢⎢ ⎥⎥⎟  ⎜      ⎢⎢  ⎥⎥⎟  ⎜      ⎢⎢   ⎥⎥⎟⎥\n",
       "⎢⎜-5, 1, ⎢⎢0⎥⎥⎟, ⎜1, 1, ⎢⎢1 ⎥⎥⎟, ⎜6, 1, ⎢⎢ 1 ⎥⎥⎟⎥\n",
       "⎢⎜       ⎢⎢ ⎥⎥⎟  ⎜      ⎢⎢  ⎥⎥⎟  ⎜      ⎢⎢   ⎥⎥⎟⎥\n",
       "⎣⎝       ⎣⎣1⎦⎦⎠  ⎝      ⎣⎣0 ⎦⎦⎠  ⎝      ⎣⎣ 0 ⎦⎦⎠⎦"
      ]
     },
     "metadata": {},
     "output_type": "display_data"
    },
    {
     "data": {
      "text/plain": [
       "'eigenvalues (principal Stresses) ='"
      ]
     },
     "metadata": {},
     "output_type": "display_data"
    },
    {
     "data": {
      "text/latex": [
       "$\\displaystyle \\left[ -5, \\  1, \\  6\\right]$"
      ],
      "text/plain": [
       "[-5, 1, 6]"
      ]
     },
     "metadata": {},
     "output_type": "display_data"
    },
    {
     "data": {
      "text/plain": [
       "'eigenvectors (principal directions) ='"
      ]
     },
     "metadata": {},
     "output_type": "display_data"
    },
    {
     "data": {
      "text/latex": [
       "$\\displaystyle \\left[ \\left[\\begin{matrix}0 & 0 & 1\\end{matrix}\\right], \\  \\left[\\begin{matrix}-2 & 1 & 0\\end{matrix}\\right], \\  \\left[\\begin{matrix}\\frac{1}{2} & 1 & 0\\end{matrix}\\right]\\right]$"
      ],
      "text/plain": [
       "[[0  0  1], [-2  1  0], [1/2  1  0]]"
      ]
     },
     "metadata": {},
     "output_type": "display_data"
    },
    {
     "data": {
      "text/plain": [
       "'Normalized eigenvectors (principal directions) ='"
      ]
     },
     "metadata": {},
     "output_type": "display_data"
    },
    {
     "data": {
      "text/latex": [
       "$\\displaystyle \\left[ \\left[\\begin{matrix}0 & 0 & 1.0\\end{matrix}\\right], \\  \\left[\\begin{matrix}-0.894427190999916 & 0.447213595499958 & 0\\end{matrix}\\right], \\  \\left[\\begin{matrix}0.447213595499958 & 0.894427190999916 & 0\\end{matrix}\\right]\\right]$"
      ],
      "text/plain": [
       "[[0  0  1.0], [-0.894427190999916  0.447213595499958  0], [0.447213595499958  \n",
       "0.894427190999916  0]]"
      ]
     },
     "metadata": {},
     "output_type": "display_data"
    },
    {
     "data": {
      "text/plain": [
       "'Q ='"
      ]
     },
     "metadata": {},
     "output_type": "display_data"
    },
    {
     "data": {
      "text/latex": [
       "$\\displaystyle \\left[\\begin{matrix}-0.894 & 0.447 & 0\\\\0 & 0 & 1.0\\\\0.447 & 0.894 & 0\\end{matrix}\\right]$"
      ],
      "text/plain": [
       "⎡-0.894  0.447   0 ⎤\n",
       "⎢                  ⎥\n",
       "⎢  0       0    1.0⎥\n",
       "⎢                  ⎥\n",
       "⎣0.447   0.894   0 ⎦"
      ]
     },
     "metadata": {},
     "output_type": "display_data"
    },
    {
     "data": {
      "text/plain": [
       "\"σ' =\""
      ]
     },
     "metadata": {},
     "output_type": "display_data"
    },
    {
     "data": {
      "text/latex": [
       "$\\displaystyle \\left[\\begin{matrix}1.0 & 0 & 1.66533453693773 \\cdot 10^{-16}\\\\0 & -5.0 & 0\\\\0 & 0 & 6.0\\end{matrix}\\right]$"
      ],
      "text/plain": [
       "⎡1.0   0    1.66533453693773e-16⎤\n",
       "⎢                               ⎥\n",
       "⎢ 0   -5.0           0          ⎥\n",
       "⎢                               ⎥\n",
       "⎣ 0    0            6.0         ⎦"
      ]
     },
     "metadata": {},
     "output_type": "display_data"
    }
   ],
   "source": [
    "from sympy import Matrix, N\n",
    "import sympy as sp\n",
    "sp.init_printing(use_latex=\"mathjax\")\n",
    "s = Matrix([[2,2,0],[2,5,0],[0,0,-5]])\n",
    "display(\"\\u03C3 =\",s)\n",
    "eigensystem = s.eigenvects()\n",
    "display(\"eigensystem\", eigensystem)\n",
    "eigenvalues = [i[0] for i in eigensystem]\n",
    "eigenvectors = [i[2][0].T for i in eigensystem]\n",
    "neigenvectors = [(i/i.norm()).evalf() for i in eigenvectors]\n",
    "display(\"eigenvalues (principal Stresses) =\",eigenvalues)\n",
    "display(\"eigenvectors (principal directions) =\",eigenvectors)\n",
    "display(\"Normalized eigenvectors (principal directions) =\",neigenvectors)\n",
    "Q = Matrix(neigenvectors)\n",
    "# rearrange \n",
    "Q = Matrix([Q[1,:],Q[0,:],Q[2,:]])\n",
    "display(\"Q =\",Q.evalf(3))\n",
    "sp = N(Q*s*Q.T,chop=True)\n",
    "display(\"\\u03C3' =\",sp)"
   ]
  },
  {
   "cell_type": "markdown",
   "metadata": {},
   "source": [
    "5.6.3"
   ]
  },
  {
   "cell_type": "code",
   "execution_count": 7,
   "metadata": {},
   "outputs": [
    {
     "data": {
      "text/plain": [
       "'s_1 ='"
      ]
     },
     "metadata": {},
     "output_type": "display_data"
    },
    {
     "data": {
      "text/latex": [
       "$\\displaystyle \\left[\\begin{matrix}2 & 2 & 0\\\\2 & 5 & 0\\\\0 & 0 & -5\\end{matrix}\\right]$"
      ],
      "text/plain": [
       "⎡2  2  0 ⎤\n",
       "⎢        ⎥\n",
       "⎢2  5  0 ⎥\n",
       "⎢        ⎥\n",
       "⎣0  0  -5⎦"
      ]
     },
     "metadata": {},
     "output_type": "display_data"
    },
    {
     "data": {
      "text/plain": [
       "'Von Mises ='"
      ]
     },
     "metadata": {},
     "output_type": "display_data"
    },
    {
     "data": {
      "text/latex": [
       "$\\displaystyle 9.53939201416946$"
      ],
      "text/plain": [
       "9.53939201416946"
      ]
     },
     "metadata": {},
     "output_type": "display_data"
    },
    {
     "data": {
      "text/latex": [
       "$\\displaystyle 9.53939201416946$"
      ],
      "text/plain": [
       "9.53939201416946"
      ]
     },
     "metadata": {},
     "output_type": "display_data"
    },
    {
     "data": {
      "text/plain": [
       "'s_2 ='"
      ]
     },
     "metadata": {},
     "output_type": "display_data"
    },
    {
     "data": {
      "text/latex": [
       "$\\displaystyle \\left[\\begin{matrix}2 & 2 & 1\\\\2 & 4 & -3\\\\1 & -3 & 7\\end{matrix}\\right]$"
      ],
      "text/plain": [
       "⎡2  2   1 ⎤\n",
       "⎢         ⎥\n",
       "⎢2  4   -3⎥\n",
       "⎢         ⎥\n",
       "⎣1  -3  7 ⎦"
      ]
     },
     "metadata": {},
     "output_type": "display_data"
    },
    {
     "data": {
      "text/plain": [
       "'Von Mises ='"
      ]
     },
     "metadata": {},
     "output_type": "display_data"
    },
    {
     "data": {
      "text/latex": [
       "$\\displaystyle 7.81024967590665$"
      ],
      "text/plain": [
       "7.81024967590665"
      ]
     },
     "metadata": {},
     "output_type": "display_data"
    },
    {
     "data": {
      "text/latex": [
       "$\\displaystyle 7.81024967590665$"
      ],
      "text/plain": [
       "7.81024967590665"
      ]
     },
     "metadata": {},
     "output_type": "display_data"
    }
   ],
   "source": [
    "from sympy import Matrix\n",
    "import sympy as sp\n",
    "sp.init_printing(use_latex=\"mathjax\")\n",
    "s1 = Matrix([[2,2,0],[2,5,0],[0,0,-5]])\n",
    "s2 = Matrix([[2,2,1],[2,4,-3],[1,-3,7]])\n",
    "# vonMises function\n",
    "def vonMises(M):\n",
    "    return sp.sqrt(1/2*((M[0,0] - M[1,1])**2+(M[1,1] - M[2,2])**2+\n",
    "                       (M[2,2] - M[0,0])**2+6*(M[0,1]**2+M[0,2]**2+M[1,2]**2)))\n",
    "# example of a rotation matrix\n",
    "t = sp.symbols(\"\\u03B8\")\n",
    "Qx = Matrix([[1, 0, 0], \n",
    "            [0, sp.cos(t), -sp.sin(t)], \n",
    "            [0, sp.sin(t), sp.cos(t)]])\n",
    "Qx = Qx.subs({t:30*sp.pi/180})\n",
    "# outputs\n",
    "display(\"s_1 =\",s1)\n",
    "display(\"Von Mises =\",vonMises(s1))\n",
    "display(vonMises(Qx*s1*Qx.T))\n",
    "display(\"s_2 =\",s2)\n",
    "display(\"Von Mises =\",vonMises(s2))\n",
    "display(vonMises(Qx*s2*Qx.T).evalf())"
   ]
  },
  {
   "cell_type": "markdown",
   "metadata": {},
   "source": [
    "5.6.4"
   ]
  },
  {
   "cell_type": "code",
   "execution_count": 9,
   "metadata": {},
   "outputs": [
    {
     "data": {
      "text/plain": [
       "'eigenvalues (principal Stresses) ='"
      ]
     },
     "metadata": {},
     "output_type": "display_data"
    },
    {
     "data": {
      "text/latex": [
       "$\\displaystyle \\left[\\begin{matrix}21.7958664928811\\\\71.6852057714666\\\\-28.4810722643477\\end{matrix}\\right]$"
      ],
      "text/plain": [
       "⎡21.7958664928811 ⎤\n",
       "⎢                 ⎥\n",
       "⎢71.6852057714666 ⎥\n",
       "⎢                 ⎥\n",
       "⎣-28.4810722643477⎦"
      ]
     },
     "metadata": {},
     "output_type": "display_data"
    },
    {
     "data": {
      "text/plain": [
       "'max shear stress ='"
      ]
     },
     "metadata": {},
     "output_type": "display_data"
    },
    {
     "data": {
      "text/latex": [
       "$\\displaystyle 50.0831390179071$"
      ],
      "text/plain": [
       "50.0831390179071"
      ]
     },
     "metadata": {},
     "output_type": "display_data"
    },
    {
     "data": {
      "text/plain": [
       "'Von Mises stress ='"
      ]
     },
     "metadata": {},
     "output_type": "display_data"
    },
    {
     "data": {
      "text/latex": [
       "$\\displaystyle 86.7467578644874$"
      ],
      "text/plain": [
       "86.7467578644874"
      ]
     },
     "metadata": {},
     "output_type": "display_data"
    }
   ],
   "source": [
    "from sympy import Matrix,N\n",
    "import sympy as sp\n",
    "sp.init_printing(use_latex=\"mathjax\")\n",
    "s1 = Matrix([[25,40,0],[40,20,30],[0,30,20]])\n",
    "eVals = Matrix([i[0] for i in s1.eigenvects()]).evalf()\n",
    "#Added chop=True to remove the small numbers.\n",
    "display(\"eigenvalues (principal Stresses) =\",N(eVals,chop=True))\n",
    "e1, e2, e3 = eVals\n",
    "maxShearStress = max([abs(e1-e2),abs(e2-e3),abs(e2-e3)])/2\n",
    "display(\"max shear stress =\",maxShearStress)\n",
    "MisesStress = sp.sqrt((abs(e1-e2)**2+abs(e1-e3)**2+abs(e2-e3)**2)/2)\n",
    "display(\"Von Mises stress =\",MisesStress.evalf())"
   ]
  },
  {
   "cell_type": "markdown",
   "metadata": {},
   "source": [
    "5.6.5"
   ]
  },
  {
   "cell_type": "code",
   "execution_count": 10,
   "metadata": {},
   "outputs": [
    {
     "data": {
      "text/plain": [
       "'Units are in MPa'"
      ]
     },
     "metadata": {},
     "output_type": "display_data"
    },
    {
     "data": {
      "text/plain": [
       "'σ_11 ='"
      ]
     },
     "metadata": {},
     "output_type": "display_data"
    },
    {
     "data": {
      "text/latex": [
       "$\\displaystyle 150.0$"
      ],
      "text/plain": [
       "150.000000000000"
      ]
     },
     "metadata": {},
     "output_type": "display_data"
    },
    {
     "data": {
      "text/plain": [
       "'σ_22 ='"
      ]
     },
     "metadata": {},
     "output_type": "display_data"
    },
    {
     "data": {
      "text/latex": [
       "$\\displaystyle 300.0$"
      ],
      "text/plain": [
       "300.0"
      ]
     },
     "metadata": {},
     "output_type": "display_data"
    },
    {
     "data": {
      "text/plain": [
       "'σ ='"
      ]
     },
     "metadata": {},
     "output_type": "display_data"
    },
    {
     "data": {
      "text/latex": [
       "$\\displaystyle \\left[\\begin{matrix}150.0 & 0 & 0\\\\0 & 300.0 & 0\\\\0 & 0 & 0\\end{matrix}\\right]$"
      ],
      "text/plain": [
       "⎡150.0    0    0⎤\n",
       "⎢               ⎥\n",
       "⎢  0    300.0  0⎥\n",
       "⎢               ⎥\n",
       "⎣  0      0    0⎦"
      ]
     },
     "metadata": {},
     "output_type": "display_data"
    },
    {
     "data": {
      "text/plain": [
       "'Von Mises ='"
      ]
     },
     "metadata": {},
     "output_type": "display_data"
    },
    {
     "data": {
      "text/latex": [
       "$\\displaystyle 259.807621135332$"
      ],
      "text/plain": [
       "259.807621135332"
      ]
     },
     "metadata": {},
     "output_type": "display_data"
    }
   ],
   "source": [
    "from sympy import Matrix\n",
    "import sympy as sp\n",
    "sp.init_printing(use_latex=\"mathjax\")\n",
    "display(\"Units are in MPa\")\n",
    "P = 3\n",
    "d = 2000\n",
    "t = 10\n",
    "r = d/2\n",
    "def vonMises(M):\n",
    "    return sp.sqrt(1/2*((M[0,0] - M[1,1])**2+(M[1,1] - M[2,2])**2+\n",
    "                       (M[2,2] - M[0,0])**2+6*(M[0,1]**2+M[0,2]**2+M[1,2]**2)))\n",
    "s_11 = (P*sp.pi*r**2)/(2*sp.pi*r*t)\n",
    "display(\"\\u03C3_11 =\",s_11)\n",
    "s_22 = P*r/t\n",
    "display(\"\\u03C3_22 =\",s_22)\n",
    "s = Matrix([[s_11,0,0],[0,s_22,0],[0,0,0]])\n",
    "display(\"\\u03C3 =\",s)\n",
    "display(\"Von Mises =\",vonMises(s))"
   ]
  },
  {
   "cell_type": "markdown",
   "metadata": {},
   "source": [
    "5.6.6"
   ]
  },
  {
   "cell_type": "code",
   "execution_count": 11,
   "metadata": {},
   "outputs": [
    {
     "data": {
      "text/plain": [
       "'max shear stress (MPa) ='"
      ]
     },
     "metadata": {},
     "output_type": "display_data"
    },
    {
     "data": {
      "text/latex": [
       "$\\displaystyle 200.0$"
      ],
      "text/plain": [
       "200.0"
      ]
     },
     "metadata": {},
     "output_type": "display_data"
    }
   ],
   "source": [
    "import sympy as sp\n",
    "sp.init_printing(use_latex=\"mathjax\")\n",
    "e1, e2, e3 = -500, -100, -500\n",
    "maxShearStress = max([abs(e1-e2),abs(e2-e3),abs(e2-e3)])/2\n",
    "display(\"max shear stress (MPa) =\",maxShearStress)"
   ]
  }
 ],
 "metadata": {
  "kernelspec": {
   "display_name": "Python 3",
   "language": "python",
   "name": "python3"
  },
  "language_info": {
   "codemirror_mode": {
    "name": "ipython",
    "version": 3
   },
   "file_extension": ".py",
   "mimetype": "text/x-python",
   "name": "python",
   "nbconvert_exporter": "python",
   "pygments_lexer": "ipython3",
   "version": "3.8.5"
  }
 },
 "nbformat": 4,
 "nbformat_minor": 4
}
