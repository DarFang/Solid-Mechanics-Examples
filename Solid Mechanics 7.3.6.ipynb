{
 "cells": [
  {
   "cell_type": "markdown",
   "metadata": {},
   "source": [
    "https://engcourses-uofa.ca/books/introduction-to-solid-mechanics/constitutive-laws/hyperelastic-materials/examples-and-exercises/"
   ]
  },
  {
   "cell_type": "markdown",
   "metadata": {},
   "source": [
    "7.3.6.2.1"
   ]
  },
  {
   "cell_type": "code",
   "execution_count": 1,
   "metadata": {
    "scrolled": false
   },
   "outputs": [
    {
     "data": {
      "text/plain": [
       "'J = det(F) ='"
      ]
     },
     "metadata": {},
     "output_type": "display_data"
    },
    {
     "data": {
      "text/latex": [
       "$\\displaystyle 1.0$"
      ],
      "text/plain": [
       "1.00000000000000"
      ]
     },
     "metadata": {},
     "output_type": "display_data"
    },
    {
     "data": {
      "text/plain": [
       "'F ='"
      ]
     },
     "metadata": {},
     "output_type": "display_data"
    },
    {
     "data": {
      "text/latex": [
       "$\\displaystyle \\left[\\begin{matrix}0.8 & 0 & 0\\\\0 & 0.625 & 0\\\\0 & 0 & 2\\end{matrix}\\right]$"
      ],
      "text/plain": [
       "Matrix([\n",
       "[0.8,     0, 0],\n",
       "[  0, 0.625, 0],\n",
       "[  0,     0, 2]])"
      ]
     },
     "metadata": {},
     "output_type": "display_data"
    },
    {
     "data": {
      "text/plain": [
       "'I = sum(FF^T)'"
      ]
     },
     "metadata": {},
     "output_type": "display_data"
    },
    {
     "data": {
      "text/latex": [
       "$\\displaystyle 5.030625$"
      ],
      "text/plain": [
       "5.03062500000000"
      ]
     },
     "metadata": {},
     "output_type": "display_data"
    },
    {
     "data": {
      "text/plain": [
       "'P = 4μF + JpF^(-T) ='"
      ]
     },
     "metadata": {},
     "output_type": "display_data"
    },
    {
     "data": {
      "text/latex": [
       "$\\displaystyle \\left[\\begin{matrix}1.25 p + 3.2 & 0 & 0\\\\0 & 1.6 p + 2.5 & 0\\\\0 & 0 & 0.5 p + 8\\end{matrix}\\right]$"
      ],
      "text/plain": [
       "Matrix([\n",
       "[1.25*p + 3.2,           0,         0],\n",
       "[           0, 1.6*p + 2.5,         0],\n",
       "[           0,           0, 0.5*p + 8]])"
      ]
     },
     "metadata": {},
     "output_type": "display_data"
    },
    {
     "data": {
      "text/plain": [
       "'σ = 4μFFF^T+pI ='"
      ]
     },
     "metadata": {},
     "output_type": "display_data"
    },
    {
     "data": {
      "text/latex": [
       "$\\displaystyle \\left[\\begin{matrix}p + 2.56 & 0 & 0\\\\0 & p + 1.5625 & 0\\\\0 & 0 & p + 16\\end{matrix}\\right]$"
      ],
      "text/plain": [
       "Matrix([\n",
       "[p + 2.56,          0,      0],\n",
       "[       0, p + 1.5625,      0],\n",
       "[       0,          0, p + 16]])"
      ]
     },
     "metadata": {},
     "output_type": "display_data"
    }
   ],
   "source": [
    "import sympy as sp\n",
    "from sympy import *\n",
    "F = Matrix([[0.8, 0, 0],[0, 0.625, 0],[0,0,2]])\n",
    "J = det(F)\n",
    "mu = 1\n",
    "p = sp.symbols(\"p\")\n",
    "display(\"J = det(F) =\",J)\n",
    "display(\"F =\",F)\n",
    "I = sum(F*F.T)\n",
    "display(\"I = sum(FF^T)\",I)\n",
    "P = 4*mu*F+J*p*F.inv().T\n",
    "display(\"P = 4\\u03BCF + JpF^(-T) =\",P)\n",
    "s = 4*mu*F*F.T+p*eye(3)\n",
    "display(\"\\u03C3 = 4\\u03BCFFF^T+pI =\",s)"
   ]
  },
  {
   "cell_type": "markdown",
   "metadata": {},
   "source": [
    "7.3.6.2"
   ]
  },
  {
   "cell_type": "code",
   "execution_count": 2,
   "metadata": {
    "scrolled": true
   },
   "outputs": [
    {
     "data": {
      "text/plain": [
       "'J = det(F) ='"
      ]
     },
     "metadata": {},
     "output_type": "display_data"
    },
    {
     "data": {
      "text/latex": [
       "$\\displaystyle 1.0$"
      ],
      "text/plain": [
       "1.00000000000000"
      ]
     },
     "metadata": {},
     "output_type": "display_data"
    },
    {
     "data": {
      "text/plain": [
       "'F ='"
      ]
     },
     "metadata": {},
     "output_type": "display_data"
    },
    {
     "data": {
      "text/latex": [
       "$\\displaystyle \\left[\\begin{matrix}0.25 & - \\frac{\\sqrt{2}}{4} & 0.25\\\\0.25 & \\frac{\\sqrt{2}}{4} & 0.25\\\\- 2 \\sqrt{2} & 0 & 2 \\sqrt{2}\\end{matrix}\\right]$"
      ],
      "text/plain": [
       "Matrix([\n",
       "[      0.25, -sqrt(2)/4,      0.25],\n",
       "[      0.25,  sqrt(2)/4,      0.25],\n",
       "[-2*sqrt(2),          0, 2*sqrt(2)]])"
      ]
     },
     "metadata": {},
     "output_type": "display_data"
    },
    {
     "data": {
      "text/plain": [
       "'I = sum(FF^T)'"
      ]
     },
     "metadata": {},
     "output_type": "display_data"
    },
    {
     "data": {
      "text/latex": [
       "$\\displaystyle 16.5$"
      ],
      "text/plain": [
       "16.5000000000000"
      ]
     },
     "metadata": {},
     "output_type": "display_data"
    },
    {
     "data": {
      "text/plain": [
       "'P = 4μF + JpF^(-T) ='"
      ]
     },
     "metadata": {},
     "output_type": "display_data"
    },
    {
     "data": {
      "text/latex": [
       "$\\displaystyle \\left[\\begin{matrix}1.0 p + 1.0 & - 1.0 \\sqrt{2} p - \\sqrt{2} & 1.0 p + 1.0\\\\1.0 p + 1.0 & 1.0 \\sqrt{2} p + \\sqrt{2} & 1.0 p + 1.0\\\\- 0.125 \\sqrt{2} p - 8 \\sqrt{2} & 0 & 0.125 \\sqrt{2} p + 8 \\sqrt{2}\\end{matrix}\\right]$"
      ],
      "text/plain": [
       "Matrix([\n",
       "[                 1.0*p + 1.0, -1.0*sqrt(2)*p - sqrt(2),                 1.0*p + 1.0],\n",
       "[                 1.0*p + 1.0,  1.0*sqrt(2)*p + sqrt(2),                 1.0*p + 1.0],\n",
       "[-0.125*sqrt(2)*p - 8*sqrt(2),                        0, 0.125*sqrt(2)*p + 8*sqrt(2)]])"
      ]
     },
     "metadata": {},
     "output_type": "display_data"
    },
    {
     "data": {
      "text/plain": [
       "'σ = 4μFFF^T+pI ='"
      ]
     },
     "metadata": {},
     "output_type": "display_data"
    },
    {
     "data": {
      "text/latex": [
       "$\\displaystyle \\left[\\begin{matrix}p + 1.0 & 0 & 0\\\\0 & p + 1.0 & 0\\\\0 & 0 & p + 64\\end{matrix}\\right]$"
      ],
      "text/plain": [
       "Matrix([\n",
       "[p + 1.0,       0,      0],\n",
       "[      0, p + 1.0,      0],\n",
       "[      0,       0, p + 64]])"
      ]
     },
     "metadata": {},
     "output_type": "display_data"
    }
   ],
   "source": [
    "import sympy as sp\n",
    "from sympy import *\n",
    "F = Matrix([[1/4,-1/(2*sp.sqrt(2)),1/4],\n",
    "           [1/4,1/(2*sp.sqrt(2)),1/4],\n",
    "           [-2*sp.sqrt(2),0,2*sp.sqrt(2)]])\n",
    "J = det(F)\n",
    "mu = 1\n",
    "p = sp.symbols(\"p\")\n",
    "display(\"J = det(F) =\",J)\n",
    "display(\"F =\",F)\n",
    "I = sum(F*F.T)\n",
    "display(\"I = sum(FF^T)\",I)\n",
    "P = 4*mu*F+J*p*F.inv().T\n",
    "display(\"P = 4\\u03BCF + JpF^(-T) =\",P)\n",
    "s = 4*mu*F*F.T+p*eye(3)\n",
    "display(\"\\u03C3 = 4\\u03BCFFF^T+pI =\",s)"
   ]
  },
  {
   "cell_type": "markdown",
   "metadata": {},
   "source": [
    "7.3.6.2.3"
   ]
  },
  {
   "cell_type": "code",
   "execution_count": 3,
   "metadata": {
    "scrolled": false
   },
   "outputs": [
    {
     "data": {
      "text/plain": [
       "'F ='"
      ]
     },
     "metadata": {},
     "output_type": "display_data"
    },
    {
     "data": {
      "text/latex": [
       "$\\displaystyle \\left[\\begin{matrix}\\lambda_{1} & 0 & 0\\\\0 & \\lambda_{2} & 0\\\\0 & 0 & \\lambda_{2}\\end{matrix}\\right]$"
      ],
      "text/plain": [
       "Matrix([\n",
       "[lambda_1,        0,        0],\n",
       "[       0, lambda_2,        0],\n",
       "[       0,        0, lambda_2]])"
      ]
     },
     "metadata": {},
     "output_type": "display_data"
    },
    {
     "data": {
      "text/plain": [
       "'F^(-T) ='"
      ]
     },
     "metadata": {},
     "output_type": "display_data"
    },
    {
     "data": {
      "text/latex": [
       "$\\displaystyle \\left[\\begin{matrix}\\frac{1}{\\lambda_{1}} & 0 & 0\\\\0 & \\frac{1}{\\lambda_{2}} & 0\\\\0 & 0 & \\frac{1}{\\lambda_{2}}\\end{matrix}\\right]$"
      ],
      "text/plain": [
       "Matrix([\n",
       "[1/lambda_1,          0,          0],\n",
       "[         0, 1/lambda_2,          0],\n",
       "[         0,          0, 1/lambda_2]])"
      ]
     },
     "metadata": {},
     "output_type": "display_data"
    },
    {
     "data": {
      "text/plain": [
       "'Set Nu ='"
      ]
     },
     "metadata": {},
     "output_type": "display_data"
    },
    {
     "data": {
      "text/plain": [
       "0.49"
      ]
     },
     "metadata": {},
     "output_type": "display_data"
    },
    {
     "data": {
      "text/plain": [
       "'Linear Elastic Material'"
      ]
     },
     "metadata": {},
     "output_type": "display_data"
    },
    {
     "data": {
      "text/plain": [
       "'ε ='"
      ]
     },
     "metadata": {},
     "output_type": "display_data"
    },
    {
     "data": {
      "text/latex": [
       "$\\displaystyle \\left[\\begin{matrix}\\lambda_{1} - 1 & 0 & 0\\\\0 & \\lambda_{2} - 1 & 0\\\\0 & 0 & \\lambda_{2} - 1\\end{matrix}\\right]$"
      ],
      "text/plain": [
       "Matrix([\n",
       "[lambda_1 - 1,            0,            0],\n",
       "[           0, lambda_2 - 1,            0],\n",
       "[           0,            0, lambda_2 - 1]])"
      ]
     },
     "metadata": {},
     "output_type": "display_data"
    },
    {
     "data": {
      "text/plain": [
       "'For σ_22 = 0: '"
      ]
     },
     "metadata": {},
     "output_type": "display_data"
    },
    {
     "data": {
      "text/latex": [
       "$\\displaystyle \\frac{\\epsilon \\left(\\nu \\left(\\lambda_{1} - 1\\right) + \\nu \\left(\\lambda_{2} - 1\\right) + \\left(1 - \\nu\\right) \\left(\\lambda_{2} - 1\\right)\\right)}{\\left(1 - 2 \\nu\\right) \\left(\\nu + 1\\right)} = 0$"
      ],
      "text/plain": [
       "Eq(epsilon*(nu*(lambda_1 - 1) + nu*(lambda_2 - 1) + (1 - nu)*(lambda_2 - 1))/((1 - 2*nu)*(nu + 1)), 0)"
      ]
     },
     "metadata": {},
     "output_type": "display_data"
    },
    {
     "data": {
      "text/plain": [
       "'λ2 ='"
      ]
     },
     "metadata": {},
     "output_type": "display_data"
    },
    {
     "data": {
      "text/latex": [
       "$\\displaystyle - \\lambda_{1} \\nu + \\nu + 1$"
      ],
      "text/plain": [
       "-lambda_1*nu + nu + 1"
      ]
     },
     "metadata": {},
     "output_type": "display_data"
    },
    {
     "data": {
      "text/plain": [
       "'σ ='"
      ]
     },
     "metadata": {},
     "output_type": "display_data"
    },
    {
     "data": {
      "text/latex": [
       "$\\displaystyle \\left[\\begin{matrix}\\epsilon \\left(\\lambda_{1} - 1\\right) & 0 & 0\\\\0 & 0 & 0\\\\0 & 0 & 0\\end{matrix}\\right]$"
      ],
      "text/plain": [
       "Matrix([\n",
       "[epsilon*(lambda_1 - 1), 0, 0],\n",
       "[                     0, 0, 0],\n",
       "[                     0, 0, 0]])"
      ]
     },
     "metadata": {},
     "output_type": "display_data"
    },
    {
     "data": {
      "text/plain": [
       "'P ='"
      ]
     },
     "metadata": {},
     "output_type": "display_data"
    },
    {
     "data": {
      "text/latex": [
       "$\\displaystyle \\left[\\begin{matrix}\\epsilon \\left(\\lambda_{1} - 1\\right) \\left(- \\lambda_{1} \\nu + \\nu + 1\\right)^{2} & 0 & 0\\\\0 & 0 & 0\\\\0 & 0 & 0\\end{matrix}\\right]$"
      ],
      "text/plain": [
       "Matrix([\n",
       "[epsilon*(lambda_1 - 1)*(-lambda_1*nu + nu + 1)**2, 0, 0],\n",
       "[                                                0, 0, 0],\n",
       "[                                                0, 0, 0]])"
      ]
     },
     "metadata": {},
     "output_type": "display_data"
    },
    {
     "data": {
      "text/plain": [
       "'Compressible Neo-Hookean materials'"
      ]
     },
     "metadata": {},
     "output_type": "display_data"
    },
    {
     "data": {
      "text/plain": [
       "'C10 ='"
      ]
     },
     "metadata": {},
     "output_type": "display_data"
    },
    {
     "data": {
      "text/latex": [
       "$\\displaystyle 3355.70469798658$"
      ],
      "text/plain": [
       "3355.70469798658"
      ]
     },
     "metadata": {},
     "output_type": "display_data"
    },
    {
     "data": {
      "text/plain": [
       "'Dd ='"
      ]
     },
     "metadata": {},
     "output_type": "display_data"
    },
    {
     "data": {
      "text/latex": [
       "$\\displaystyle 6.0 \\cdot 10^{-6}$"
      ],
      "text/plain": [
       "6.00000000000000e-6"
      ]
     },
     "metadata": {},
     "output_type": "display_data"
    },
    {
     "data": {
      "text/plain": [
       "'σ ='"
      ]
     },
     "metadata": {},
     "output_type": "display_data"
    },
    {
     "data": {
      "text/latex": [
       "$\\displaystyle \\left[\\begin{matrix}\\frac{4474.27293064877 \\lambda_{1}^{2} - 4474.27293064877 \\lambda_{2}^{2} + 333333.333333333 \\left(\\lambda_{1} \\lambda_{2}^{2}\\right)^{1.66666666666667} \\left(\\lambda_{1} \\lambda_{2}^{2} - 1\\right)}{\\left(\\lambda_{1} \\lambda_{2}^{2}\\right)^{1.66666666666667}} & 0 & 0\\\\0 & \\frac{- 2237.13646532438 \\lambda_{1}^{2} + 2237.13646532438 \\lambda_{2}^{2} + 333333.333333333 \\left(\\lambda_{1} \\lambda_{2}^{2}\\right)^{1.66666666666667} \\left(\\lambda_{1} \\lambda_{2}^{2} - 1\\right)}{\\left(\\lambda_{1} \\lambda_{2}^{2}\\right)^{1.66666666666667}} & 0\\\\0 & 0 & \\frac{- 2237.13646532438 \\lambda_{1}^{2} + 2237.13646532438 \\lambda_{2}^{2} + 333333.333333333 \\left(\\lambda_{1} \\lambda_{2}^{2}\\right)^{1.66666666666667} \\left(\\lambda_{1} \\lambda_{2}^{2} - 1\\right)}{\\left(\\lambda_{1} \\lambda_{2}^{2}\\right)^{1.66666666666667}}\\end{matrix}\\right]$"
      ],
      "text/plain": [
       "Matrix([\n",
       "[(lambda_1*lambda_2**2)**(-1.66666666666667)*(4474.27293064877*lambda_1**2 - 4474.27293064877*lambda_2**2 + 333333.333333333*(lambda_1*lambda_2**2)**1.66666666666667*(lambda_1*lambda_2**2 - 1)),                                                                                                                                                                                                 0,                                                                                                                                                                                                 0],\n",
       "[                                                                                                                                                                                               0, (lambda_1*lambda_2**2)**(-1.66666666666667)*(-2237.13646532438*lambda_1**2 + 2237.13646532438*lambda_2**2 + 333333.333333333*(lambda_1*lambda_2**2)**1.66666666666667*(lambda_1*lambda_2**2 - 1)),                                                                                                                                                                                                 0],\n",
       "[                                                                                                                                                                                               0,                                                                                                                                                                                                 0, (lambda_1*lambda_2**2)**(-1.66666666666667)*(-2237.13646532438*lambda_1**2 + 2237.13646532438*lambda_2**2 + 333333.333333333*(lambda_1*lambda_2**2)**1.66666666666667*(lambda_1*lambda_2**2 - 1))]])"
      ]
     },
     "metadata": {},
     "output_type": "display_data"
    },
    {
     "data": {
      "text/plain": [
       "'P ='"
      ]
     },
     "metadata": {},
     "output_type": "display_data"
    },
    {
     "data": {
      "text/latex": [
       "$\\displaystyle \\left[\\begin{matrix}\\frac{\\lambda_{2}^{2} \\left(4474.27293064877 \\lambda_{1}^{2} - 4474.27293064877 \\lambda_{2}^{2} + 333333.333333333 \\left(\\lambda_{1} \\lambda_{2}^{2}\\right)^{1.66666666666667} \\left(\\lambda_{1} \\lambda_{2}^{2} - 1\\right)\\right)}{\\left(\\lambda_{1} \\lambda_{2}^{2}\\right)^{1.66666666666667}} & 0 & 0\\\\0 & \\frac{\\lambda_{1} \\lambda_{2} \\left(- 2237.13646532438 \\lambda_{1}^{2} + 2237.13646532438 \\lambda_{2}^{2} + 333333.333333333 \\left(\\lambda_{1} \\lambda_{2}^{2}\\right)^{1.66666666666667} \\left(\\lambda_{1} \\lambda_{2}^{2} - 1\\right)\\right)}{\\left(\\lambda_{1} \\lambda_{2}^{2}\\right)^{1.66666666666667}} & 0\\\\0 & 0 & \\frac{\\lambda_{1} \\lambda_{2} \\left(- 2237.13646532438 \\lambda_{1}^{2} + 2237.13646532438 \\lambda_{2}^{2} + 333333.333333333 \\left(\\lambda_{1} \\lambda_{2}^{2}\\right)^{1.66666666666667} \\left(\\lambda_{1} \\lambda_{2}^{2} - 1\\right)\\right)}{\\left(\\lambda_{1} \\lambda_{2}^{2}\\right)^{1.66666666666667}}\\end{matrix}\\right]$"
      ],
      "text/plain": [
       "Matrix([\n",
       "[lambda_2**2*(lambda_1*lambda_2**2)**(-1.66666666666667)*(4474.27293064877*lambda_1**2 - 4474.27293064877*lambda_2**2 + 333333.333333333*(lambda_1*lambda_2**2)**1.66666666666667*(lambda_1*lambda_2**2 - 1)),                                                                                                                                                                                                                   0,                                                                                                                                                                                                                   0],\n",
       "[                                                                                                                                                                                                           0, lambda_1*lambda_2*(lambda_1*lambda_2**2)**(-1.66666666666667)*(-2237.13646532438*lambda_1**2 + 2237.13646532438*lambda_2**2 + 333333.333333333*(lambda_1*lambda_2**2)**1.66666666666667*(lambda_1*lambda_2**2 - 1)),                                                                                                                                                                                                                   0],\n",
       "[                                                                                                                                                                                                           0,                                                                                                                                                                                                                   0, lambda_1*lambda_2*(lambda_1*lambda_2**2)**(-1.66666666666667)*(-2237.13646532438*lambda_1**2 + 2237.13646532438*lambda_2**2 + 333333.333333333*(lambda_1*lambda_2**2)**1.66666666666667*(lambda_1*lambda_2**2 - 1))]])"
      ]
     },
     "metadata": {},
     "output_type": "display_data"
    },
    {
     "data": {
      "text/plain": [
       "'Compressible Mooney-Rivlin materials'"
      ]
     },
     "metadata": {},
     "output_type": "display_data"
    },
    {
     "data": {
      "text/plain": [
       "'C10 ='"
      ]
     },
     "metadata": {},
     "output_type": "display_data"
    },
    {
     "data": {
      "text/latex": [
       "$\\displaystyle 1677.85234899329$"
      ],
      "text/plain": [
       "1677.85234899329"
      ]
     },
     "metadata": {},
     "output_type": "display_data"
    },
    {
     "data": {
      "text/plain": [
       "'C01 ='"
      ]
     },
     "metadata": {},
     "output_type": "display_data"
    },
    {
     "data": {
      "text/latex": [
       "$\\displaystyle 1677.85234899329$"
      ],
      "text/plain": [
       "1677.85234899329"
      ]
     },
     "metadata": {},
     "output_type": "display_data"
    },
    {
     "data": {
      "text/plain": [
       "'σ ='"
      ]
     },
     "metadata": {},
     "output_type": "display_data"
    },
    {
     "data": {
      "text/latex": [
       "$\\displaystyle \\left[\\begin{matrix}\\frac{\\left(\\lambda_{1} \\lambda_{2}^{2}\\right)^{1.66666666666667} \\left(- 2237.13646532438 \\lambda_{1}^{4} + \\lambda_{1}^{2} \\left(3355.70469798658 \\lambda_{1}^{2} + 6711.40939597315 \\lambda_{2}^{2}\\right) + 2237.13646532438 \\lambda_{2}^{4} - 1118.56823266219 \\left(\\lambda_{1}^{2} + 2 \\lambda_{2}^{2}\\right)^{2}\\right) + 2237.13646532438 \\left(\\lambda_{1} \\lambda_{2}^{2}\\right)^{2.33333333333333} \\left(\\lambda_{1}^{2} - \\lambda_{2}^{2}\\right) + 333333.333333333 \\left(\\lambda_{1} \\lambda_{2}^{2}\\right)^{4.0} \\left(\\lambda_{1} \\lambda_{2}^{2} - 1\\right)}{\\left(\\lambda_{1} \\lambda_{2}^{2}\\right)^{4.0}} & 0 & 0\\\\0 & \\frac{\\left(\\lambda_{1} \\lambda_{2}^{2}\\right)^{1.66666666666667} \\left(1118.56823266219 \\lambda_{1}^{4} - 1118.56823266219 \\lambda_{2}^{4} + \\lambda_{2}^{2} \\left(3355.70469798658 \\lambda_{1}^{2} + 6711.40939597315 \\lambda_{2}^{2}\\right) - 1118.56823266219 \\left(\\lambda_{1}^{2} + 2 \\lambda_{2}^{2}\\right)^{2}\\right) + 1118.56823266219 \\left(\\lambda_{1} \\lambda_{2}^{2}\\right)^{2.33333333333333} \\left(- \\lambda_{1}^{2} + \\lambda_{2}^{2}\\right) + 333333.333333333 \\left(\\lambda_{1} \\lambda_{2}^{2}\\right)^{4.0} \\left(\\lambda_{1} \\lambda_{2}^{2} - 1\\right)}{\\left(\\lambda_{1} \\lambda_{2}^{2}\\right)^{4.0}} & 0\\\\0 & 0 & \\frac{\\left(\\lambda_{1} \\lambda_{2}^{2}\\right)^{1.66666666666667} \\left(1118.56823266219 \\lambda_{1}^{4} - 1118.56823266219 \\lambda_{2}^{4} + \\lambda_{2}^{2} \\left(3355.70469798658 \\lambda_{1}^{2} + 6711.40939597315 \\lambda_{2}^{2}\\right) - 1118.56823266219 \\left(\\lambda_{1}^{2} + 2 \\lambda_{2}^{2}\\right)^{2}\\right) + 1118.56823266219 \\left(\\lambda_{1} \\lambda_{2}^{2}\\right)^{2.33333333333333} \\left(- \\lambda_{1}^{2} + \\lambda_{2}^{2}\\right) + 333333.333333333 \\left(\\lambda_{1} \\lambda_{2}^{2}\\right)^{4.0} \\left(\\lambda_{1} \\lambda_{2}^{2} - 1\\right)}{\\left(\\lambda_{1} \\lambda_{2}^{2}\\right)^{4.0}}\\end{matrix}\\right]$"
      ],
      "text/plain": [
       "Matrix([\n",
       "[(lambda_1*lambda_2**2)**(-4.0)*((lambda_1*lambda_2**2)**1.66666666666667*(-2237.13646532438*lambda_1**4 + lambda_1**2*(3355.70469798658*lambda_1**2 + 6711.40939597315*lambda_2**2) + 2237.13646532438*lambda_2**4 - 1118.56823266219*(lambda_1**2 + 2*lambda_2**2)**2) + 2237.13646532438*(lambda_1*lambda_2**2)**2.33333333333333*(lambda_1**2 - lambda_2**2) + 333333.333333333*(lambda_1*lambda_2**2)**4.0*(lambda_1*lambda_2**2 - 1)),                                                                                                                                                                                                                                                                                                                                                                                                                                          0,                                                                                                                                                                                                                                                                                                                                                                                                                                          0],\n",
       "[                                                                                                                                                                                                                                                                                                                                                                                                                                         0, (lambda_1*lambda_2**2)**(-4.0)*((lambda_1*lambda_2**2)**1.66666666666667*(1118.56823266219*lambda_1**4 - 1118.56823266219*lambda_2**4 + lambda_2**2*(3355.70469798658*lambda_1**2 + 6711.40939597315*lambda_2**2) - 1118.56823266219*(lambda_1**2 + 2*lambda_2**2)**2) + 1118.56823266219*(lambda_1*lambda_2**2)**2.33333333333333*(-lambda_1**2 + lambda_2**2) + 333333.333333333*(lambda_1*lambda_2**2)**4.0*(lambda_1*lambda_2**2 - 1)),                                                                                                                                                                                                                                                                                                                                                                                                                                          0],\n",
       "[                                                                                                                                                                                                                                                                                                                                                                                                                                         0,                                                                                                                                                                                                                                                                                                                                                                                                                                          0, (lambda_1*lambda_2**2)**(-4.0)*((lambda_1*lambda_2**2)**1.66666666666667*(1118.56823266219*lambda_1**4 - 1118.56823266219*lambda_2**4 + lambda_2**2*(3355.70469798658*lambda_1**2 + 6711.40939597315*lambda_2**2) - 1118.56823266219*(lambda_1**2 + 2*lambda_2**2)**2) + 1118.56823266219*(lambda_1*lambda_2**2)**2.33333333333333*(-lambda_1**2 + lambda_2**2) + 333333.333333333*(lambda_1*lambda_2**2)**4.0*(lambda_1*lambda_2**2 - 1))]])"
      ]
     },
     "metadata": {},
     "output_type": "display_data"
    },
    {
     "data": {
      "text/plain": [
       "'P ='"
      ]
     },
     "metadata": {},
     "output_type": "display_data"
    },
    {
     "data": {
      "text/latex": [
       "$\\displaystyle \\left[\\begin{matrix}\\frac{\\lambda_{2}^{2} \\left(\\left(\\lambda_{1} \\lambda_{2}^{2}\\right)^{1.66666666666667} \\left(- 2237.13646532438 \\lambda_{1}^{4} + \\lambda_{1}^{2} \\left(3355.70469798658 \\lambda_{1}^{2} + 6711.40939597315 \\lambda_{2}^{2}\\right) + 2237.13646532438 \\lambda_{2}^{4} - 1118.56823266219 \\left(\\lambda_{1}^{2} + 2 \\lambda_{2}^{2}\\right)^{2}\\right) + 2237.13646532438 \\left(\\lambda_{1} \\lambda_{2}^{2}\\right)^{2.33333333333333} \\left(\\lambda_{1}^{2} - \\lambda_{2}^{2}\\right) + 333333.333333333 \\left(\\lambda_{1} \\lambda_{2}^{2}\\right)^{4.0} \\left(\\lambda_{1} \\lambda_{2}^{2} - 1\\right)\\right)}{\\left(\\lambda_{1} \\lambda_{2}^{2}\\right)^{4.0}} & 0 & 0\\\\0 & \\frac{\\lambda_{1} \\lambda_{2} \\left(\\left(\\lambda_{1} \\lambda_{2}^{2}\\right)^{1.66666666666667} \\left(1118.56823266219 \\lambda_{1}^{4} - 1118.56823266219 \\lambda_{2}^{4} + \\lambda_{2}^{2} \\left(3355.70469798658 \\lambda_{1}^{2} + 6711.40939597315 \\lambda_{2}^{2}\\right) - 1118.56823266219 \\left(\\lambda_{1}^{2} + 2 \\lambda_{2}^{2}\\right)^{2}\\right) + 1118.56823266219 \\left(\\lambda_{1} \\lambda_{2}^{2}\\right)^{2.33333333333333} \\left(- \\lambda_{1}^{2} + \\lambda_{2}^{2}\\right) + 333333.333333333 \\left(\\lambda_{1} \\lambda_{2}^{2}\\right)^{4.0} \\left(\\lambda_{1} \\lambda_{2}^{2} - 1\\right)\\right)}{\\left(\\lambda_{1} \\lambda_{2}^{2}\\right)^{4.0}} & 0\\\\0 & 0 & \\frac{\\lambda_{1} \\lambda_{2} \\left(\\left(\\lambda_{1} \\lambda_{2}^{2}\\right)^{1.66666666666667} \\left(1118.56823266219 \\lambda_{1}^{4} - 1118.56823266219 \\lambda_{2}^{4} + \\lambda_{2}^{2} \\left(3355.70469798658 \\lambda_{1}^{2} + 6711.40939597315 \\lambda_{2}^{2}\\right) - 1118.56823266219 \\left(\\lambda_{1}^{2} + 2 \\lambda_{2}^{2}\\right)^{2}\\right) + 1118.56823266219 \\left(\\lambda_{1} \\lambda_{2}^{2}\\right)^{2.33333333333333} \\left(- \\lambda_{1}^{2} + \\lambda_{2}^{2}\\right) + 333333.333333333 \\left(\\lambda_{1} \\lambda_{2}^{2}\\right)^{4.0} \\left(\\lambda_{1} \\lambda_{2}^{2} - 1\\right)\\right)}{\\left(\\lambda_{1} \\lambda_{2}^{2}\\right)^{4.0}}\\end{matrix}\\right]$"
      ],
      "text/plain": [
       "Matrix([\n",
       "[lambda_2**2*(lambda_1*lambda_2**2)**(-4.0)*((lambda_1*lambda_2**2)**1.66666666666667*(-2237.13646532438*lambda_1**4 + lambda_1**2*(3355.70469798658*lambda_1**2 + 6711.40939597315*lambda_2**2) + 2237.13646532438*lambda_2**4 - 1118.56823266219*(lambda_1**2 + 2*lambda_2**2)**2) + 2237.13646532438*(lambda_1*lambda_2**2)**2.33333333333333*(lambda_1**2 - lambda_2**2) + 333333.333333333*(lambda_1*lambda_2**2)**4.0*(lambda_1*lambda_2**2 - 1)),                                                                                                                                                                                                                                                                                                                                                                                                                                                            0,                                                                                                                                                                                                                                                                                                                                                                                                                                                            0],\n",
       "[                                                                                                                                                                                                                                                                                                                                                                                                                                                     0, lambda_1*lambda_2*(lambda_1*lambda_2**2)**(-4.0)*((lambda_1*lambda_2**2)**1.66666666666667*(1118.56823266219*lambda_1**4 - 1118.56823266219*lambda_2**4 + lambda_2**2*(3355.70469798658*lambda_1**2 + 6711.40939597315*lambda_2**2) - 1118.56823266219*(lambda_1**2 + 2*lambda_2**2)**2) + 1118.56823266219*(lambda_1*lambda_2**2)**2.33333333333333*(-lambda_1**2 + lambda_2**2) + 333333.333333333*(lambda_1*lambda_2**2)**4.0*(lambda_1*lambda_2**2 - 1)),                                                                                                                                                                                                                                                                                                                                                                                                                                                            0],\n",
       "[                                                                                                                                                                                                                                                                                                                                                                                                                                                     0,                                                                                                                                                                                                                                                                                                                                                                                                                                                            0, lambda_1*lambda_2*(lambda_1*lambda_2**2)**(-4.0)*((lambda_1*lambda_2**2)**1.66666666666667*(1118.56823266219*lambda_1**4 - 1118.56823266219*lambda_2**4 + lambda_2**2*(3355.70469798658*lambda_1**2 + 6711.40939597315*lambda_2**2) - 1118.56823266219*(lambda_1**2 + 2*lambda_2**2)**2) + 1118.56823266219*(lambda_1*lambda_2**2)**2.33333333333333*(-lambda_1**2 + lambda_2**2) + 333333.333333333*(lambda_1*lambda_2**2)**4.0*(lambda_1*lambda_2**2 - 1))]])"
      ]
     },
     "metadata": {},
     "output_type": "display_data"
    },
    {
     "data": {
      "text/plain": [
       "'Set Nu ='"
      ]
     },
     "metadata": {},
     "output_type": "display_data"
    },
    {
     "data": {
      "text/plain": [
       "0.2"
      ]
     },
     "metadata": {},
     "output_type": "display_data"
    },
    {
     "data": {
      "text/plain": [
       "'Linear Elastic Material'"
      ]
     },
     "metadata": {},
     "output_type": "display_data"
    },
    {
     "data": {
      "text/plain": [
       "'ε ='"
      ]
     },
     "metadata": {},
     "output_type": "display_data"
    },
    {
     "data": {
      "text/latex": [
       "$\\displaystyle \\left[\\begin{matrix}\\lambda_{1} - 1 & 0 & 0\\\\0 & \\lambda_{2} - 1 & 0\\\\0 & 0 & \\lambda_{2} - 1\\end{matrix}\\right]$"
      ],
      "text/plain": [
       "Matrix([\n",
       "[lambda_1 - 1,            0,            0],\n",
       "[           0, lambda_2 - 1,            0],\n",
       "[           0,            0, lambda_2 - 1]])"
      ]
     },
     "metadata": {},
     "output_type": "display_data"
    },
    {
     "data": {
      "text/plain": [
       "'For σ_22 = 0: '"
      ]
     },
     "metadata": {},
     "output_type": "display_data"
    },
    {
     "data": {
      "text/latex": [
       "$\\displaystyle \\frac{\\epsilon \\left(\\nu \\left(\\lambda_{1} - 1\\right) + \\nu \\left(\\lambda_{2} - 1\\right) + \\left(1 - \\nu\\right) \\left(\\lambda_{2} - 1\\right)\\right)}{\\left(1 - 2 \\nu\\right) \\left(\\nu + 1\\right)} = 0$"
      ],
      "text/plain": [
       "Eq(epsilon*(nu*(lambda_1 - 1) + nu*(lambda_2 - 1) + (1 - nu)*(lambda_2 - 1))/((1 - 2*nu)*(nu + 1)), 0)"
      ]
     },
     "metadata": {},
     "output_type": "display_data"
    },
    {
     "data": {
      "text/plain": [
       "'λ2 ='"
      ]
     },
     "metadata": {},
     "output_type": "display_data"
    },
    {
     "data": {
      "text/latex": [
       "$\\displaystyle - \\lambda_{1} \\nu + \\nu + 1$"
      ],
      "text/plain": [
       "-lambda_1*nu + nu + 1"
      ]
     },
     "metadata": {},
     "output_type": "display_data"
    },
    {
     "data": {
      "text/plain": [
       "'σ ='"
      ]
     },
     "metadata": {},
     "output_type": "display_data"
    },
    {
     "data": {
      "text/latex": [
       "$\\displaystyle \\left[\\begin{matrix}\\epsilon \\left(\\lambda_{1} - 1\\right) & 0 & 0\\\\0 & 0 & 0\\\\0 & 0 & 0\\end{matrix}\\right]$"
      ],
      "text/plain": [
       "Matrix([\n",
       "[epsilon*(lambda_1 - 1), 0, 0],\n",
       "[                     0, 0, 0],\n",
       "[                     0, 0, 0]])"
      ]
     },
     "metadata": {},
     "output_type": "display_data"
    },
    {
     "data": {
      "text/plain": [
       "'P ='"
      ]
     },
     "metadata": {},
     "output_type": "display_data"
    },
    {
     "data": {
      "text/latex": [
       "$\\displaystyle \\left[\\begin{matrix}\\epsilon \\left(\\lambda_{1} - 1\\right) \\left(- \\lambda_{1} \\nu + \\nu + 1\\right)^{2} & 0 & 0\\\\0 & 0 & 0\\\\0 & 0 & 0\\end{matrix}\\right]$"
      ],
      "text/plain": [
       "Matrix([\n",
       "[epsilon*(lambda_1 - 1)*(-lambda_1*nu + nu + 1)**2, 0, 0],\n",
       "[                                                0, 0, 0],\n",
       "[                                                0, 0, 0]])"
      ]
     },
     "metadata": {},
     "output_type": "display_data"
    },
    {
     "data": {
      "text/plain": [
       "'Compressible Neo-Hookean materials'"
      ]
     },
     "metadata": {},
     "output_type": "display_data"
    },
    {
     "data": {
      "text/plain": [
       "'C10 ='"
      ]
     },
     "metadata": {},
     "output_type": "display_data"
    },
    {
     "data": {
      "text/latex": [
       "$\\displaystyle 4166.66666666667$"
      ],
      "text/plain": [
       "4166.66666666667"
      ]
     },
     "metadata": {},
     "output_type": "display_data"
    },
    {
     "data": {
      "text/plain": [
       "'Dd ='"
      ]
     },
     "metadata": {},
     "output_type": "display_data"
    },
    {
     "data": {
      "text/latex": [
       "$\\displaystyle 0.00018$"
      ],
      "text/plain": [
       "0.000180000000000000"
      ]
     },
     "metadata": {},
     "output_type": "display_data"
    },
    {
     "data": {
      "text/plain": [
       "'σ ='"
      ]
     },
     "metadata": {},
     "output_type": "display_data"
    },
    {
     "data": {
      "text/latex": [
       "$\\displaystyle \\left[\\begin{matrix}\\frac{5555.55555555556 \\lambda_{1}^{2} - 5555.55555555556 \\lambda_{2}^{2} + 11111.1111111111 \\left(\\lambda_{1} \\lambda_{2}^{2}\\right)^{1.66666666666667} \\left(\\lambda_{1} \\lambda_{2}^{2} - 1\\right)}{\\left(\\lambda_{1} \\lambda_{2}^{2}\\right)^{1.66666666666667}} & 0 & 0\\\\0 & \\frac{- 2777.77777777778 \\lambda_{1}^{2} + 2777.77777777778 \\lambda_{2}^{2} + 11111.1111111111 \\left(\\lambda_{1} \\lambda_{2}^{2}\\right)^{1.66666666666667} \\left(\\lambda_{1} \\lambda_{2}^{2} - 1\\right)}{\\left(\\lambda_{1} \\lambda_{2}^{2}\\right)^{1.66666666666667}} & 0\\\\0 & 0 & \\frac{- 2777.77777777778 \\lambda_{1}^{2} + 2777.77777777778 \\lambda_{2}^{2} + 11111.1111111111 \\left(\\lambda_{1} \\lambda_{2}^{2}\\right)^{1.66666666666667} \\left(\\lambda_{1} \\lambda_{2}^{2} - 1\\right)}{\\left(\\lambda_{1} \\lambda_{2}^{2}\\right)^{1.66666666666667}}\\end{matrix}\\right]$"
      ],
      "text/plain": [
       "Matrix([\n",
       "[(lambda_1*lambda_2**2)**(-1.66666666666667)*(5555.55555555556*lambda_1**2 - 5555.55555555556*lambda_2**2 + 11111.1111111111*(lambda_1*lambda_2**2)**1.66666666666667*(lambda_1*lambda_2**2 - 1)),                                                                                                                                                                                                 0,                                                                                                                                                                                                 0],\n",
       "[                                                                                                                                                                                               0, (lambda_1*lambda_2**2)**(-1.66666666666667)*(-2777.77777777778*lambda_1**2 + 2777.77777777778*lambda_2**2 + 11111.1111111111*(lambda_1*lambda_2**2)**1.66666666666667*(lambda_1*lambda_2**2 - 1)),                                                                                                                                                                                                 0],\n",
       "[                                                                                                                                                                                               0,                                                                                                                                                                                                 0, (lambda_1*lambda_2**2)**(-1.66666666666667)*(-2777.77777777778*lambda_1**2 + 2777.77777777778*lambda_2**2 + 11111.1111111111*(lambda_1*lambda_2**2)**1.66666666666667*(lambda_1*lambda_2**2 - 1))]])"
      ]
     },
     "metadata": {},
     "output_type": "display_data"
    },
    {
     "data": {
      "text/plain": [
       "'P ='"
      ]
     },
     "metadata": {},
     "output_type": "display_data"
    },
    {
     "data": {
      "text/latex": [
       "$\\displaystyle \\left[\\begin{matrix}\\frac{\\lambda_{2}^{2} \\left(5555.55555555556 \\lambda_{1}^{2} - 5555.55555555556 \\lambda_{2}^{2} + 11111.1111111111 \\left(\\lambda_{1} \\lambda_{2}^{2}\\right)^{1.66666666666667} \\left(\\lambda_{1} \\lambda_{2}^{2} - 1\\right)\\right)}{\\left(\\lambda_{1} \\lambda_{2}^{2}\\right)^{1.66666666666667}} & 0 & 0\\\\0 & \\frac{\\lambda_{1} \\lambda_{2} \\left(- 2777.77777777778 \\lambda_{1}^{2} + 2777.77777777778 \\lambda_{2}^{2} + 11111.1111111111 \\left(\\lambda_{1} \\lambda_{2}^{2}\\right)^{1.66666666666667} \\left(\\lambda_{1} \\lambda_{2}^{2} - 1\\right)\\right)}{\\left(\\lambda_{1} \\lambda_{2}^{2}\\right)^{1.66666666666667}} & 0\\\\0 & 0 & \\frac{\\lambda_{1} \\lambda_{2} \\left(- 2777.77777777778 \\lambda_{1}^{2} + 2777.77777777778 \\lambda_{2}^{2} + 11111.1111111111 \\left(\\lambda_{1} \\lambda_{2}^{2}\\right)^{1.66666666666667} \\left(\\lambda_{1} \\lambda_{2}^{2} - 1\\right)\\right)}{\\left(\\lambda_{1} \\lambda_{2}^{2}\\right)^{1.66666666666667}}\\end{matrix}\\right]$"
      ],
      "text/plain": [
       "Matrix([\n",
       "[lambda_2**2*(lambda_1*lambda_2**2)**(-1.66666666666667)*(5555.55555555556*lambda_1**2 - 5555.55555555556*lambda_2**2 + 11111.1111111111*(lambda_1*lambda_2**2)**1.66666666666667*(lambda_1*lambda_2**2 - 1)),                                                                                                                                                                                                                   0,                                                                                                                                                                                                                   0],\n",
       "[                                                                                                                                                                                                           0, lambda_1*lambda_2*(lambda_1*lambda_2**2)**(-1.66666666666667)*(-2777.77777777778*lambda_1**2 + 2777.77777777778*lambda_2**2 + 11111.1111111111*(lambda_1*lambda_2**2)**1.66666666666667*(lambda_1*lambda_2**2 - 1)),                                                                                                                                                                                                                   0],\n",
       "[                                                                                                                                                                                                           0,                                                                                                                                                                                                                   0, lambda_1*lambda_2*(lambda_1*lambda_2**2)**(-1.66666666666667)*(-2777.77777777778*lambda_1**2 + 2777.77777777778*lambda_2**2 + 11111.1111111111*(lambda_1*lambda_2**2)**1.66666666666667*(lambda_1*lambda_2**2 - 1))]])"
      ]
     },
     "metadata": {},
     "output_type": "display_data"
    },
    {
     "data": {
      "text/plain": [
       "'Compressible Mooney-Rivlin materials'"
      ]
     },
     "metadata": {},
     "output_type": "display_data"
    },
    {
     "data": {
      "text/plain": [
       "'C10 ='"
      ]
     },
     "metadata": {},
     "output_type": "display_data"
    },
    {
     "data": {
      "text/latex": [
       "$\\displaystyle 2083.33333333333$"
      ],
      "text/plain": [
       "2083.33333333333"
      ]
     },
     "metadata": {},
     "output_type": "display_data"
    },
    {
     "data": {
      "text/plain": [
       "'C01 ='"
      ]
     },
     "metadata": {},
     "output_type": "display_data"
    },
    {
     "data": {
      "text/latex": [
       "$\\displaystyle 2083.33333333333$"
      ],
      "text/plain": [
       "2083.33333333333"
      ]
     },
     "metadata": {},
     "output_type": "display_data"
    },
    {
     "data": {
      "text/plain": [
       "'σ ='"
      ]
     },
     "metadata": {},
     "output_type": "display_data"
    },
    {
     "data": {
      "text/latex": [
       "$\\displaystyle \\left[\\begin{matrix}\\frac{\\left(\\lambda_{1} \\lambda_{2}^{2}\\right)^{1.66666666666667} \\left(- 2777.77777777778 \\lambda_{1}^{4} + \\lambda_{1}^{2} \\left(4166.66666666667 \\lambda_{1}^{2} + 8333.33333333333 \\lambda_{2}^{2}\\right) + 2777.77777777778 \\lambda_{2}^{4} - 1388.88888888889 \\left(\\lambda_{1}^{2} + 2 \\lambda_{2}^{2}\\right)^{2}\\right) + 2777.77777777778 \\left(\\lambda_{1} \\lambda_{2}^{2}\\right)^{2.33333333333333} \\left(\\lambda_{1}^{2} - \\lambda_{2}^{2}\\right) + 11111.1111111111 \\left(\\lambda_{1} \\lambda_{2}^{2}\\right)^{4.0} \\left(\\lambda_{1} \\lambda_{2}^{2} - 1\\right)}{\\left(\\lambda_{1} \\lambda_{2}^{2}\\right)^{4.0}} & 0 & 0\\\\0 & \\frac{\\left(\\lambda_{1} \\lambda_{2}^{2}\\right)^{1.66666666666667} \\left(1388.88888888889 \\lambda_{1}^{4} - 1388.88888888889 \\lambda_{2}^{4} + \\lambda_{2}^{2} \\left(4166.66666666667 \\lambda_{1}^{2} + 8333.33333333333 \\lambda_{2}^{2}\\right) - 1388.88888888889 \\left(\\lambda_{1}^{2} + 2 \\lambda_{2}^{2}\\right)^{2}\\right) + 1388.88888888889 \\left(\\lambda_{1} \\lambda_{2}^{2}\\right)^{2.33333333333333} \\left(- \\lambda_{1}^{2} + \\lambda_{2}^{2}\\right) + 11111.1111111111 \\left(\\lambda_{1} \\lambda_{2}^{2}\\right)^{4.0} \\left(\\lambda_{1} \\lambda_{2}^{2} - 1\\right)}{\\left(\\lambda_{1} \\lambda_{2}^{2}\\right)^{4.0}} & 0\\\\0 & 0 & \\frac{\\left(\\lambda_{1} \\lambda_{2}^{2}\\right)^{1.66666666666667} \\left(1388.88888888889 \\lambda_{1}^{4} - 1388.88888888889 \\lambda_{2}^{4} + \\lambda_{2}^{2} \\left(4166.66666666667 \\lambda_{1}^{2} + 8333.33333333333 \\lambda_{2}^{2}\\right) - 1388.88888888889 \\left(\\lambda_{1}^{2} + 2 \\lambda_{2}^{2}\\right)^{2}\\right) + 1388.88888888889 \\left(\\lambda_{1} \\lambda_{2}^{2}\\right)^{2.33333333333333} \\left(- \\lambda_{1}^{2} + \\lambda_{2}^{2}\\right) + 11111.1111111111 \\left(\\lambda_{1} \\lambda_{2}^{2}\\right)^{4.0} \\left(\\lambda_{1} \\lambda_{2}^{2} - 1\\right)}{\\left(\\lambda_{1} \\lambda_{2}^{2}\\right)^{4.0}}\\end{matrix}\\right]$"
      ],
      "text/plain": [
       "Matrix([\n",
       "[(lambda_1*lambda_2**2)**(-4.0)*((lambda_1*lambda_2**2)**1.66666666666667*(-2777.77777777778*lambda_1**4 + lambda_1**2*(4166.66666666667*lambda_1**2 + 8333.33333333333*lambda_2**2) + 2777.77777777778*lambda_2**4 - 1388.88888888889*(lambda_1**2 + 2*lambda_2**2)**2) + 2777.77777777778*(lambda_1*lambda_2**2)**2.33333333333333*(lambda_1**2 - lambda_2**2) + 11111.1111111111*(lambda_1*lambda_2**2)**4.0*(lambda_1*lambda_2**2 - 1)),                                                                                                                                                                                                                                                                                                                                                                                                                                          0,                                                                                                                                                                                                                                                                                                                                                                                                                                          0],\n",
       "[                                                                                                                                                                                                                                                                                                                                                                                                                                         0, (lambda_1*lambda_2**2)**(-4.0)*((lambda_1*lambda_2**2)**1.66666666666667*(1388.88888888889*lambda_1**4 - 1388.88888888889*lambda_2**4 + lambda_2**2*(4166.66666666667*lambda_1**2 + 8333.33333333333*lambda_2**2) - 1388.88888888889*(lambda_1**2 + 2*lambda_2**2)**2) + 1388.88888888889*(lambda_1*lambda_2**2)**2.33333333333333*(-lambda_1**2 + lambda_2**2) + 11111.1111111111*(lambda_1*lambda_2**2)**4.0*(lambda_1*lambda_2**2 - 1)),                                                                                                                                                                                                                                                                                                                                                                                                                                          0],\n",
       "[                                                                                                                                                                                                                                                                                                                                                                                                                                         0,                                                                                                                                                                                                                                                                                                                                                                                                                                          0, (lambda_1*lambda_2**2)**(-4.0)*((lambda_1*lambda_2**2)**1.66666666666667*(1388.88888888889*lambda_1**4 - 1388.88888888889*lambda_2**4 + lambda_2**2*(4166.66666666667*lambda_1**2 + 8333.33333333333*lambda_2**2) - 1388.88888888889*(lambda_1**2 + 2*lambda_2**2)**2) + 1388.88888888889*(lambda_1*lambda_2**2)**2.33333333333333*(-lambda_1**2 + lambda_2**2) + 11111.1111111111*(lambda_1*lambda_2**2)**4.0*(lambda_1*lambda_2**2 - 1))]])"
      ]
     },
     "metadata": {},
     "output_type": "display_data"
    },
    {
     "data": {
      "text/plain": [
       "'P ='"
      ]
     },
     "metadata": {},
     "output_type": "display_data"
    },
    {
     "data": {
      "text/latex": [
       "$\\displaystyle \\left[\\begin{matrix}\\frac{\\lambda_{2}^{2} \\left(\\left(\\lambda_{1} \\lambda_{2}^{2}\\right)^{1.66666666666667} \\left(- 2777.77777777778 \\lambda_{1}^{4} + \\lambda_{1}^{2} \\left(4166.66666666667 \\lambda_{1}^{2} + 8333.33333333333 \\lambda_{2}^{2}\\right) + 2777.77777777778 \\lambda_{2}^{4} - 1388.88888888889 \\left(\\lambda_{1}^{2} + 2 \\lambda_{2}^{2}\\right)^{2}\\right) + 2777.77777777778 \\left(\\lambda_{1} \\lambda_{2}^{2}\\right)^{2.33333333333333} \\left(\\lambda_{1}^{2} - \\lambda_{2}^{2}\\right) + 11111.1111111111 \\left(\\lambda_{1} \\lambda_{2}^{2}\\right)^{4.0} \\left(\\lambda_{1} \\lambda_{2}^{2} - 1\\right)\\right)}{\\left(\\lambda_{1} \\lambda_{2}^{2}\\right)^{4.0}} & 0 & 0\\\\0 & \\frac{\\lambda_{1} \\lambda_{2} \\left(\\left(\\lambda_{1} \\lambda_{2}^{2}\\right)^{1.66666666666667} \\left(1388.88888888889 \\lambda_{1}^{4} - 1388.88888888889 \\lambda_{2}^{4} + \\lambda_{2}^{2} \\left(4166.66666666667 \\lambda_{1}^{2} + 8333.33333333333 \\lambda_{2}^{2}\\right) - 1388.88888888889 \\left(\\lambda_{1}^{2} + 2 \\lambda_{2}^{2}\\right)^{2}\\right) + 1388.88888888889 \\left(\\lambda_{1} \\lambda_{2}^{2}\\right)^{2.33333333333333} \\left(- \\lambda_{1}^{2} + \\lambda_{2}^{2}\\right) + 11111.1111111111 \\left(\\lambda_{1} \\lambda_{2}^{2}\\right)^{4.0} \\left(\\lambda_{1} \\lambda_{2}^{2} - 1\\right)\\right)}{\\left(\\lambda_{1} \\lambda_{2}^{2}\\right)^{4.0}} & 0\\\\0 & 0 & \\frac{\\lambda_{1} \\lambda_{2} \\left(\\left(\\lambda_{1} \\lambda_{2}^{2}\\right)^{1.66666666666667} \\left(1388.88888888889 \\lambda_{1}^{4} - 1388.88888888889 \\lambda_{2}^{4} + \\lambda_{2}^{2} \\left(4166.66666666667 \\lambda_{1}^{2} + 8333.33333333333 \\lambda_{2}^{2}\\right) - 1388.88888888889 \\left(\\lambda_{1}^{2} + 2 \\lambda_{2}^{2}\\right)^{2}\\right) + 1388.88888888889 \\left(\\lambda_{1} \\lambda_{2}^{2}\\right)^{2.33333333333333} \\left(- \\lambda_{1}^{2} + \\lambda_{2}^{2}\\right) + 11111.1111111111 \\left(\\lambda_{1} \\lambda_{2}^{2}\\right)^{4.0} \\left(\\lambda_{1} \\lambda_{2}^{2} - 1\\right)\\right)}{\\left(\\lambda_{1} \\lambda_{2}^{2}\\right)^{4.0}}\\end{matrix}\\right]$"
      ],
      "text/plain": [
       "Matrix([\n",
       "[lambda_2**2*(lambda_1*lambda_2**2)**(-4.0)*((lambda_1*lambda_2**2)**1.66666666666667*(-2777.77777777778*lambda_1**4 + lambda_1**2*(4166.66666666667*lambda_1**2 + 8333.33333333333*lambda_2**2) + 2777.77777777778*lambda_2**4 - 1388.88888888889*(lambda_1**2 + 2*lambda_2**2)**2) + 2777.77777777778*(lambda_1*lambda_2**2)**2.33333333333333*(lambda_1**2 - lambda_2**2) + 11111.1111111111*(lambda_1*lambda_2**2)**4.0*(lambda_1*lambda_2**2 - 1)),                                                                                                                                                                                                                                                                                                                                                                                                                                                            0,                                                                                                                                                                                                                                                                                                                                                                                                                                                            0],\n",
       "[                                                                                                                                                                                                                                                                                                                                                                                                                                                     0, lambda_1*lambda_2*(lambda_1*lambda_2**2)**(-4.0)*((lambda_1*lambda_2**2)**1.66666666666667*(1388.88888888889*lambda_1**4 - 1388.88888888889*lambda_2**4 + lambda_2**2*(4166.66666666667*lambda_1**2 + 8333.33333333333*lambda_2**2) - 1388.88888888889*(lambda_1**2 + 2*lambda_2**2)**2) + 1388.88888888889*(lambda_1*lambda_2**2)**2.33333333333333*(-lambda_1**2 + lambda_2**2) + 11111.1111111111*(lambda_1*lambda_2**2)**4.0*(lambda_1*lambda_2**2 - 1)),                                                                                                                                                                                                                                                                                                                                                                                                                                                            0],\n",
       "[                                                                                                                                                                                                                                                                                                                                                                                                                                                     0,                                                                                                                                                                                                                                                                                                                                                                                                                                                            0, lambda_1*lambda_2*(lambda_1*lambda_2**2)**(-4.0)*((lambda_1*lambda_2**2)**1.66666666666667*(1388.88888888889*lambda_1**4 - 1388.88888888889*lambda_2**4 + lambda_2**2*(4166.66666666667*lambda_1**2 + 8333.33333333333*lambda_2**2) - 1388.88888888889*(lambda_1**2 + 2*lambda_2**2)**2) + 1388.88888888889*(lambda_1*lambda_2**2)**2.33333333333333*(-lambda_1**2 + lambda_2**2) + 11111.1111111111*(lambda_1*lambda_2**2)**4.0*(lambda_1*lambda_2**2 - 1))]])"
      ]
     },
     "metadata": {},
     "output_type": "display_data"
    },
    {
     "data": {
      "image/png": "[encoded data removed]",
      "text/plain": [
       "<Figure size 432x288 with 1 Axes>"
      ]
     },
     "metadata": {
      "needs_background": "light"
     },
     "output_type": "display_data"
    },
    {
     "data": {
      "image/png": "[encoded data removed]",
      "text/plain": [
       "<Figure size 432x288 with 1 Axes>"
      ]
     },
     "metadata": {
      "needs_background": "light"
     },
     "output_type": "display_data"
    },
    {
     "data": {
      "image/png": "[encoded data removed]",
      "text/plain": [
       "<Figure size 432x288 with 1 Axes>"
      ]
     },
     "metadata": {
      "needs_background": "light"
     },
     "output_type": "display_data"
    },
    {
     "data": {
      "image/png": "[encoded data removed]",
      "text/plain": [
       "<Figure size 432x288 with 1 Axes>"
      ]
     },
     "metadata": {
      "needs_background": "light"
     },
     "output_type": "display_data"
    }
   ],
   "source": [
    "import sympy as sp\n",
    "from sympy import *\n",
    "l1,l2,Ee,nu = sp.symbols(\"lambda_1 lambda_2 epsilon nu\")\n",
    "from matplotlib import pyplot as plt\n",
    "from scipy.optimize import root\n",
    "# plot\n",
    "x = [0]*100\n",
    "RelC1 = [0]*100\n",
    "RelP1 = [0]*100\n",
    "RelC2 = [0]*100\n",
    "RelP2 = [0]*100\n",
    "RelC3 = [0]*100\n",
    "RelP3 = [0]*100\n",
    "for i in range(100):\n",
    "    x[i] = 0.4 + (i+1)/50\n",
    "F = Matrix([[l1,0,0],[0,l2,0],[0,0,l2]])\n",
    "display(\"F =\",F)\n",
    "Fnt = F.inv().T\n",
    "display(\"F^(-T) =\",Fnt)\n",
    "J = det(F)\n",
    "U2 = F.T*F\n",
    "U4 = U2*U2\n",
    "I1 = sum(U2)\n",
    "I2 = 1/2*(I1**2 - sum(U4))\n",
    "def plot(Nu):\n",
    "    display(\"Set Nu =\",Nu)\n",
    "    # linear elastic material\n",
    "    E = F -eye(3)\n",
    "    display(\"Linear Elastic Material\")\n",
    "    display(\"\\u03B5 =\", E)\n",
    "    E11, E22, E33 = E[0,0], E[1,1], E[2,2]\n",
    "    s11 = Ee/(1-2*nu)/(1+nu)*(E11*(1-nu)+E22*nu+E33*nu)\n",
    "    s22 = Ee/(1-2*nu)/(1+nu)*(E22*(1-nu)+E11*nu+E33*nu)\n",
    "    display(\"For \\u03C3_22 = 0: \",Eq(s22,0))\n",
    "    a1 = solve(s22, [l2])[0]\n",
    "    display(\"\\u03BB2 =\", a1)\n",
    "    sigma = Matrix([[s11,0,0],[0,s22,0],[0,0,s22]])\n",
    "    sigma = simplify(sigma.subs({l2:a1}))\n",
    "    P = (J*sigma*Fnt).subs({l2:a1})\n",
    "    display(\"\\u03C3 =\",sigma)\n",
    "    display(\"P =\",P)\n",
    "    sigma = sigma.subs({Ee:20000, nu:Nu})\n",
    "    P = P.subs({Ee:20000, nu:0.2})\n",
    "    for i in range(100):\n",
    "        RelC1[i] = sigma[0,0].subs({l1:x[i]})\n",
    "        RelP1[i] = P[0,0].subs({l1:x[i]})\n",
    "    # Compressible Neo-Hookean materials\n",
    "    display(\"Compressible Neo-Hookean materials\")\n",
    "    G = Ee/2/(1+nu)\n",
    "    G = G.subs({nu:Nu,Ee:20000})\n",
    "    Kk = Ee/3/(1-2*nu)\n",
    "    Kk = Kk.subs({nu:Nu,Ee:20000})\n",
    "    C10 = G/2\n",
    "    display(\"C10 =\",C10)\n",
    "    Dd = 2/Kk\n",
    "    display(\"Dd =\",Dd)\n",
    "    sigmaNH = simplify(C10*J**(-5/3)*(2*F*F.T-2*I1/3*eye(3))\n",
    "                      +2/Dd*(J-1)*eye(3))\n",
    "    PiolaNH = simplify(J*sigmaNH*Fnt)\n",
    "    display(\"\\u03C3 =\",sigmaNH)\n",
    "    display(\"P =\",PiolaNH)\n",
    "    SolsigmaNH = sigmaNH[1,1].subs({l1:x[0]})\n",
    "    for i in range(100):\n",
    "        SolsigmaNH = sigmaNH[1,1].subs({l1:x[i]})\n",
    "        SolsigmaNH = lambdify(l2,SolsigmaNH)\n",
    "        sol = root(SolsigmaNH,[2])\n",
    "        RelC2[i] = sigmaNH[0,0].subs({l1:x[i], l2:sol.x[0]})\n",
    "        RelP2[i] = PiolaNH[0,0].subs({l1:x[i], l2:sol.x[0]})\n",
    "    # Compressible Mooney-Rivlin materials\n",
    "    display(\"Compressible Mooney-Rivlin materials\")\n",
    "    C10 = G/4\n",
    "    C01 = G/4\n",
    "    display(\"C10 =\",C10)\n",
    "    display(\"C01 =\",C01)\n",
    "    sigmaMN = simplify(C10*J**(-5/3)*(2*F*F.T-2*I1/3*eye(3))\n",
    "                      +C01*J**(-7/3)*(2*I1*F*F.T-2*F*F.T*F*F.T-4*I2/3*eye(3))\n",
    "                      +2/Dd*(J-1)*eye(3))\n",
    "    PiolaMN = simplify(J*sigmaMN*Fnt)\n",
    "    display(\"\\u03C3 =\",sigmaMN)\n",
    "    display(\"P =\",PiolaMN)\n",
    "    for i in range(100):\n",
    "        SolsigmaNH = sigmaNH[1,1].subs({l1:x[i]})\n",
    "        SolsigmaNH = lambdify(l2,SolsigmaNH)\n",
    "        sol = root(SolsigmaNH,[2])\n",
    "        RelC3[i] = sigmaMN[0,0].subs({l1:x[i], l2:sol.x[0]})\n",
    "        RelP3[i] = PiolaMN[0,0].subs({l1:x[i], l2:sol.x[0]})\n",
    "    # plots\n",
    "    xL = [i -1 for i in x]\n",
    "    fig, ax = plt.subplots()\n",
    "    title = \"\\u03BC = \" + str(Nu)\n",
    "    plt.title(title)\n",
    "    plt.xlabel(\"\\u03BB - 1\")\n",
    "    plt.ylabel(\"P11\")\n",
    "    ax.scatter(xL, RelP1, label=\"Linear Elastic\", s=1)\n",
    "    ax.scatter(xL, RelP2, label=\"NeoHookean\",s=1)\n",
    "    ax.scatter(xL, RelP3, label=\"Mooney-Rivlin \",s=1)\n",
    "    ax.legend()\n",
    "    ax.grid(True, which='both')\n",
    "    ax.axhline(y = 0, color = 'k')\n",
    "    ax.axvline(x = 0, color = 'k')\n",
    "    fig, ax = plt.subplots()\n",
    "    plt.title(title)\n",
    "    plt.xlabel(\"\\u03BB - 1\")\n",
    "    plt.ylabel(\"Sigma11\")\n",
    "    ax.scatter(xL, RelC1, label=\"Linear Elastic\",s=1)\n",
    "    ax.scatter(xL, RelC2, label=\"NeoHookean\",s=1)\n",
    "    ax.scatter(xL, RelC3, label=\"Mooney-Rivlin\",s=1)\n",
    "    ax.legend()\n",
    "    ax.grid(True, which='both')\n",
    "    ax.axhline(y = 0, color = 'k')\n",
    "    ax.axvline(x = 0, color = 'k')\n",
    "#please select nu\n",
    "plot(0.49)\n",
    "plot(0.2)"
   ]
  }
 ],
 "metadata": {
  "kernelspec": {
   "display_name": "Python 3",
   "language": "python",
   "name": "python3"
  },
  "language_info": {
   "codemirror_mode": {
    "name": "ipython",
    "version": 3
   },
   "file_extension": ".py",
   "mimetype": "text/x-python",
   "name": "python",
   "nbconvert_exporter": "python",
   "pygments_lexer": "ipython3",
   "version": "3.8.5"
  }
 },
 "nbformat": 4,
 "nbformat_minor": 4
}
