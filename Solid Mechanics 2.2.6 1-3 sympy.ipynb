{
 "cells": [
  {
   "cell_type": "markdown",
   "metadata": {},
   "source": [
    "https://engcourses-uofa.ca/books/introduction-to-solid-mechanics/linear-algebra/2-2-linear-maps-between-vector-spaces/examples-and-problems/"
   ]
  },
  {
   "cell_type": "markdown",
   "metadata": {},
   "source": [
    "2.2.6.1"
   ]
  },
  {
   "cell_type": "code",
   "execution_count": 1,
   "metadata": {
    "scrolled": false
   },
   "outputs": [
    {
     "data": {
      "text/plain": [
       "'Transpose ='"
      ]
     },
     "metadata": {},
     "output_type": "display_data"
    },
    {
     "data": {
      "text/latex": [
       "$\\displaystyle \\left[\\begin{matrix}1 & 1 & 0\\\\1 & 1 & 0\\\\0 & 0 & 1\\end{matrix}\\right]$"
      ],
      "text/plain": [
       "⎡1  1  0⎤\n",
       "⎢       ⎥\n",
       "⎢1  1  0⎥\n",
       "⎢       ⎥\n",
       "⎣0  0  1⎦"
      ]
     },
     "metadata": {},
     "output_type": "display_data"
    },
    {
     "data": {
      "text/plain": [
       "'Det='"
      ]
     },
     "metadata": {},
     "output_type": "display_data"
    },
    {
     "data": {
      "text/latex": [
       "$\\displaystyle 0$"
      ],
      "text/plain": [
       "0"
      ]
     },
     "metadata": {},
     "output_type": "display_data"
    },
    {
     "data": {
      "text/plain": [
       "'Vectors in the Kernel (Nullspace) ='"
      ]
     },
     "metadata": {},
     "output_type": "display_data"
    },
    {
     "data": {
      "text/latex": [
       "$\\displaystyle \\left[ \\left[\\begin{matrix}-1\\\\1\\\\0\\end{matrix}\\right]\\right]$"
      ],
      "text/plain": [
       "⎡⎡-1⎤⎤\n",
       "⎢⎢  ⎥⎥\n",
       "⎢⎢1 ⎥⎥\n",
       "⎢⎢  ⎥⎥\n",
       "⎣⎣0 ⎦⎦"
      ]
     },
     "metadata": {},
     "output_type": "display_data"
    },
    {
     "data": {
      "text/plain": [
       "'Eigenvalues='"
      ]
     },
     "metadata": {},
     "output_type": "display_data"
    },
    {
     "data": {
      "text/latex": [
       "$\\displaystyle \\left\\{ 0 : 1, \\  1 : 1, \\  2 : 1\\right\\}$"
      ],
      "text/plain": [
       "{0: 1, 1: 1, 2: 1}"
      ]
     },
     "metadata": {},
     "output_type": "display_data"
    },
    {
     "data": {
      "text/plain": [
       "'Eigenvalues and Eigenvectors ='"
      ]
     },
     "metadata": {},
     "output_type": "display_data"
    },
    {
     "data": {
      "text/latex": [
       "$\\displaystyle \\left[ \\left( 0, \\  1, \\  \\left[ \\left[\\begin{matrix}-1\\\\1\\\\0\\end{matrix}\\right]\\right]\\right), \\  \\left( 1, \\  1, \\  \\left[ \\left[\\begin{matrix}0\\\\0\\\\1\\end{matrix}\\right]\\right]\\right), \\  \\left( 2, \\  1, \\  \\left[ \\left[\\begin{matrix}1\\\\1\\\\0\\end{matrix}\\right]\\right]\\right)\\right]$"
      ],
      "text/plain": [
       "⎡⎛      ⎡⎡-1⎤⎤⎞  ⎛      ⎡⎡0⎤⎤⎞  ⎛      ⎡⎡1⎤⎤⎞⎤\n",
       "⎢⎜      ⎢⎢  ⎥⎥⎟  ⎜      ⎢⎢ ⎥⎥⎟  ⎜      ⎢⎢ ⎥⎥⎟⎥\n",
       "⎢⎜0, 1, ⎢⎢1 ⎥⎥⎟, ⎜1, 1, ⎢⎢0⎥⎥⎟, ⎜2, 1, ⎢⎢1⎥⎥⎟⎥\n",
       "⎢⎜      ⎢⎢  ⎥⎥⎟  ⎜      ⎢⎢ ⎥⎥⎟  ⎜      ⎢⎢ ⎥⎥⎟⎥\n",
       "⎣⎝      ⎣⎣0 ⎦⎦⎠  ⎝      ⎣⎣1⎦⎦⎠  ⎝      ⎣⎣0⎦⎦⎠⎦"
      ]
     },
     "metadata": {},
     "output_type": "display_data"
    },
    {
     "data": {
      "text/plain": [
       "'extracted eigenvectors'"
      ]
     },
     "metadata": {},
     "output_type": "display_data"
    },
    {
     "data": {
      "text/latex": [
       "$\\displaystyle \\left[ \\left[\\begin{matrix}-1 & 1 & 0\\end{matrix}\\right], \\  \\left[\\begin{matrix}0 & 0 & 1\\end{matrix}\\right], \\  \\left[\\begin{matrix}1 & 1 & 0\\end{matrix}\\right]\\right]$"
      ],
      "text/plain": [
       "[[-1  1  0], [0  0  1], [1  1  0]]"
      ]
     },
     "metadata": {},
     "output_type": "display_data"
    },
    {
     "data": {
      "text/plain": [
       "'normalized eigenvectors'"
      ]
     },
     "metadata": {},
     "output_type": "display_data"
    },
    {
     "data": {
      "text/latex": [
       "$\\displaystyle \\left[\\begin{matrix}- \\frac{\\sqrt{2}}{2} & \\frac{\\sqrt{2}}{2} & 0\\\\0 & 0 & 1\\\\\\frac{\\sqrt{2}}{2} & \\frac{\\sqrt{2}}{2} & 0\\end{matrix}\\right]$"
      ],
      "text/plain": [
       "⎡-√2   √2   ⎤\n",
       "⎢────  ──  0⎥\n",
       "⎢ 2    2    ⎥\n",
       "⎢           ⎥\n",
       "⎢ 0    0   1⎥\n",
       "⎢           ⎥\n",
       "⎢ √2   √2   ⎥\n",
       "⎢ ──   ──  0⎥\n",
       "⎣ 2    2    ⎦"
      ]
     },
     "metadata": {},
     "output_type": "display_data"
    },
    {
     "data": {
      "text/plain": [
       "'Check that triple product is positive'"
      ]
     },
     "metadata": {},
     "output_type": "display_data"
    },
    {
     "data": {
      "text/plain": [
       "'Diagonalized matrix = Q.M.Q^T'"
      ]
     },
     "metadata": {},
     "output_type": "display_data"
    },
    {
     "data": {
      "text/latex": [
       "$\\displaystyle \\left[\\begin{matrix}0 & 0 & 0\\\\0 & 1 & 0\\\\0 & 0 & 2\\end{matrix}\\right]$"
      ],
      "text/plain": [
       "⎡0  0  0⎤\n",
       "⎢       ⎥\n",
       "⎢0  1  0⎥\n",
       "⎢       ⎥\n",
       "⎣0  0  2⎦"
      ]
     },
     "metadata": {},
     "output_type": "display_data"
    },
    {
     "data": {
      "text/plain": [
       "'A different order could be used for Q'"
      ]
     },
     "metadata": {},
     "output_type": "display_data"
    },
    {
     "data": {
      "text/latex": [
       "$\\displaystyle \\left[\\begin{matrix}\\frac{\\sqrt{2}}{2} & \\frac{\\sqrt{2}}{2} & 0\\\\- \\frac{\\sqrt{2}}{2} & \\frac{\\sqrt{2}}{2} & 0\\\\0 & 0 & 1\\end{matrix}\\right]$"
      ],
      "text/plain": [
       "⎡ √2   √2   ⎤\n",
       "⎢ ──   ──  0⎥\n",
       "⎢ 2    2    ⎥\n",
       "⎢           ⎥\n",
       "⎢-√2   √2   ⎥\n",
       "⎢────  ──  0⎥\n",
       "⎢ 2    2    ⎥\n",
       "⎢           ⎥\n",
       "⎣ 0    0   1⎦"
      ]
     },
     "metadata": {},
     "output_type": "display_data"
    },
    {
     "data": {
      "text/plain": [
       "'Diagonalized matrix = Q.M.Q^T'"
      ]
     },
     "metadata": {},
     "output_type": "display_data"
    },
    {
     "data": {
      "text/latex": [
       "$\\displaystyle \\left[\\begin{matrix}2 & 0 & 0\\\\0 & 0 & 0\\\\0 & 0 & 1\\end{matrix}\\right]$"
      ],
      "text/plain": [
       "⎡2  0  0⎤\n",
       "⎢       ⎥\n",
       "⎢0  0  0⎥\n",
       "⎢       ⎥\n",
       "⎣0  0  1⎦"
      ]
     },
     "metadata": {},
     "output_type": "display_data"
    }
   ],
   "source": [
    "from sympy.matrices import Matrix\n",
    "import sympy as sp\n",
    "sp.init_printing(use_latex = \"mathjax\")\n",
    "M = Matrix([[1, 1, 0], [1, 1, 0], [0, 0, 1]])\n",
    "# transpose matrix\n",
    "display(\"Transpose =\",M.T) \n",
    "# determinant\n",
    "display(\"Det=\",M.det())\n",
    "# null space\n",
    "display(\"Vectors in the Kernel (Nullspace) =\",M.nullspace())\n",
    "# eigen values\n",
    "display(\"Eigenvalues=\",M.eigenvals())\n",
    "# eigen vectors\n",
    "vector = M.eigenvects()\n",
    "display(\"Eigenvalues and Eigenvectors =\",vector)\n",
    "ev = [i[2][0].T for i in vector]\n",
    "display(\"extracted eigenvectors\",ev)\n",
    "#The function Matrix ensures the list is a sympy matrix\n",
    "Q = Matrix([i/i.norm() for i in ev])\n",
    "display(\"normalized eigenvectors\",Q)\n",
    "display(\"Check that triple product is positive\")\n",
    "Q[0,:].dot(Q[1,:].cross(Q[2,:]))\n",
    "# matrix multiply\n",
    "display(\"Diagonalized matrix = Q.M.Q^T\",Q*M*Q.T)\n",
    "Q2 = Matrix([Q[2,:],Q[0,:],Q[1,:]])\n",
    "display(\"A different order could be used for Q\",Q2)\n",
    "display(\"Diagonalized matrix = Q.M.Q^T\",Q2*M*Q2.T)"
   ]
  },
  {
   "cell_type": "markdown",
   "metadata": {},
   "source": [
    "2.2.6.2"
   ]
  },
  {
   "cell_type": "code",
   "execution_count": 2,
   "metadata": {
    "scrolled": false
   },
   "outputs": [
    {
     "data": {
      "text/latex": [
       "$\\displaystyle \\left[\\begin{matrix}3\\\\8\\\\4\\end{matrix}\\right]$"
      ],
      "text/plain": [
       "⎡3⎤\n",
       "⎢ ⎥\n",
       "⎢8⎥\n",
       "⎢ ⎥\n",
       "⎣4⎦"
      ]
     },
     "metadata": {},
     "output_type": "display_data"
    },
    {
     "data": {
      "text/plain": [
       "'Check the length of each vector'"
      ]
     },
     "metadata": {},
     "output_type": "display_data"
    },
    {
     "data": {
      "text/latex": [
       "$\\displaystyle 1.0$"
      ],
      "text/plain": [
       "1.00000000000000"
      ]
     },
     "metadata": {},
     "output_type": "display_data"
    },
    {
     "data": {
      "text/latex": [
       "$\\displaystyle 1.0$"
      ],
      "text/plain": [
       "1.00000000000000"
      ]
     },
     "metadata": {},
     "output_type": "display_data"
    },
    {
     "data": {
      "text/latex": [
       "$\\displaystyle 1$"
      ],
      "text/plain": [
       "1"
      ]
     },
     "metadata": {},
     "output_type": "display_data"
    },
    {
     "data": {
      "text/plain": [
       "'Check the mutual orthogonality'"
      ]
     },
     "metadata": {},
     "output_type": "display_data"
    },
    {
     "data": {
      "text/latex": [
       "$\\displaystyle 0$"
      ],
      "text/plain": [
       "0"
      ]
     },
     "metadata": {},
     "output_type": "display_data"
    },
    {
     "data": {
      "text/latex": [
       "$\\displaystyle 0$"
      ],
      "text/plain": [
       "0"
      ]
     },
     "metadata": {},
     "output_type": "display_data"
    },
    {
     "data": {
      "text/latex": [
       "$\\displaystyle 0$"
      ],
      "text/plain": [
       "0"
      ]
     },
     "metadata": {},
     "output_type": "display_data"
    },
    {
     "data": {
      "text/plain": [
       "'Check the orientation'"
      ]
     },
     "metadata": {},
     "output_type": "display_data"
    },
    {
     "data": {
      "text/latex": [
       "$\\displaystyle 1.0$"
      ],
      "text/plain": [
       "1.00000000000000"
      ]
     },
     "metadata": {},
     "output_type": "display_data"
    },
    {
     "data": {
      "text/plain": [
       "'Change of coordinate system matrix='"
      ]
     },
     "metadata": {},
     "output_type": "display_data"
    },
    {
     "data": {
      "text/latex": [
       "$\\displaystyle \\left[\\begin{matrix}0.6 & 0.8 & 0\\\\-0.8 & 0.6 & 0\\\\0 & 0 & 1\\end{matrix}\\right]$"
      ],
      "text/plain": [
       "⎡0.6   0.8  0⎤\n",
       "⎢            ⎥\n",
       "⎢-0.8  0.6  0⎥\n",
       "⎢            ⎥\n",
       "⎣ 0     0   1⎦"
      ]
     },
     "metadata": {},
     "output_type": "display_data"
    },
    {
     "data": {
      "text/plain": [
       "\"x in new coordinate system=x'=Qx\""
      ]
     },
     "metadata": {},
     "output_type": "display_data"
    },
    {
     "data": {
      "text/latex": [
       "$\\displaystyle \\left[\\begin{matrix}1.4\\\\-0.2\\\\1\\end{matrix}\\right]$"
      ],
      "text/plain": [
       "⎡1.4 ⎤\n",
       "⎢    ⎥\n",
       "⎢-0.2⎥\n",
       "⎢    ⎥\n",
       "⎣ 1  ⎦"
      ]
     },
     "metadata": {},
     "output_type": "display_data"
    },
    {
     "data": {
      "text/plain": [
       "\"M in new coordinate system=M'=QMQ^T\""
      ]
     },
     "metadata": {},
     "output_type": "display_data"
    },
    {
     "data": {
      "text/latex": [
       "$\\displaystyle \\left[\\begin{matrix}4.88 & 1.16 & 1.6\\\\1.16 & 2.12 & 1.2\\\\0.4 & -2.2 & 3\\end{matrix}\\right]$"
      ],
      "text/plain": [
       "⎡4.88  1.16  1.6⎤\n",
       "⎢               ⎥\n",
       "⎢1.16  2.12  1.2⎥\n",
       "⎢               ⎥\n",
       "⎣0.4   -2.2   3 ⎦"
      ]
     },
     "metadata": {},
     "output_type": "display_data"
    },
    {
     "data": {
      "text/plain": [
       "\"y in new coordinate system=y'=Qy\""
      ]
     },
     "metadata": {},
     "output_type": "display_data"
    },
    {
     "data": {
      "text/latex": [
       "$\\displaystyle \\left[\\begin{matrix}8.2\\\\2.4\\\\4\\end{matrix}\\right]$"
      ],
      "text/plain": [
       "⎡8.2⎤\n",
       "⎢   ⎥\n",
       "⎢2.4⎥\n",
       "⎢   ⎥\n",
       "⎣ 4 ⎦"
      ]
     },
     "metadata": {},
     "output_type": "display_data"
    },
    {
     "data": {
      "text/plain": [
       "\"y in new coordinate system=y'=M'x'\""
      ]
     },
     "metadata": {},
     "output_type": "display_data"
    },
    {
     "data": {
      "text/latex": [
       "$\\displaystyle \\left[\\begin{matrix}8.2\\\\2.4\\\\4.0\\end{matrix}\\right]$"
      ],
      "text/plain": [
       "⎡8.2⎤\n",
       "⎢   ⎥\n",
       "⎢2.4⎥\n",
       "⎢   ⎥\n",
       "⎣4.0⎦"
      ]
     },
     "metadata": {},
     "output_type": "display_data"
    }
   ],
   "source": [
    "from sympy.matrices import Matrix\n",
    "import sympy as sp\n",
    "sp.init_printing(use_latex = \"mathjax\")\n",
    "# vector []\n",
    "x = Matrix([1, 1, 1])\n",
    "M = Matrix([[2, 1, 0], [1, 5, 2], [2, -1, 3]])\n",
    "y = M*x\n",
    "display(y)\n",
    "# you need [[]] to use matrix operations\n",
    "ul = [3/5, 4/5, 0]\n",
    "vl = [-4/5, 3/5, 0]\n",
    "wl = [0, 0, 1]\n",
    "u = Matrix(ul)\n",
    "v = Matrix(vl)\n",
    "w = Matrix(wl)\n",
    "display(\"Check the length of each vector\")\n",
    "display(u.norm())\n",
    "display(v.norm())\n",
    "display(w.norm())\n",
    "display(\"Check the mutual orthogonality\")\n",
    "display(u.dot(v))\n",
    "display(u.dot(w))\n",
    "display(v.dot(w))\n",
    "display(\"Check the orientation\")\n",
    "display(u.dot(v.cross(w)))\n",
    "Q = Matrix([ul,vl,wl])\n",
    "xp = Q*x\n",
    "Mp = Q*M*Q.T\n",
    "yp1 = Q*y\n",
    "yp2 = Mp*xp\n",
    "display(\"Change of coordinate system matrix=\",Q)\n",
    "display(\"x in new coordinate system=x'=Qx\",xp)\n",
    "display(\"M in new coordinate system=M'=QMQ^T\",Mp)\n",
    "display(\"y in new coordinate system=y'=Qy\",yp1)\n",
    "display(\"y in new coordinate system=y'=M'x'\",yp2)"
   ]
  },
  {
   "cell_type": "markdown",
   "metadata": {},
   "source": [
    "2.2.6.3"
   ]
  },
  {
   "cell_type": "code",
   "execution_count": 1,
   "metadata": {
    "scrolled": false
   },
   "outputs": [
    {
     "data": {
      "text/latex": [
       "$\\displaystyle \\left[\\begin{matrix}\\cos{\\left(rot \\right)} & - \\sin{\\left(rot \\right)}\\\\\\sin{\\left(rot \\right)} & \\cos{\\left(rot \\right)}\\end{matrix}\\right]$"
      ],
      "text/plain": [
       "⎡cos(rot)  -sin(rot)⎤\n",
       "⎢                   ⎥\n",
       "⎣sin(rot)  cos(rot) ⎦"
      ]
     },
     "metadata": {},
     "output_type": "display_data"
    },
    {
     "data": {
      "text/plain": [
       "'Q ='"
      ]
     },
     "metadata": {},
     "output_type": "display_data"
    },
    {
     "data": {
      "text/latex": [
       "$\\displaystyle \\left[\\begin{matrix}\\cos{\\left(\\frac{\\pi}{9} \\right)} & - \\sin{\\left(\\frac{\\pi}{9} \\right)}\\\\\\sin{\\left(\\frac{\\pi}{9} \\right)} & \\cos{\\left(\\frac{\\pi}{9} \\right)}\\end{matrix}\\right]$"
      ],
      "text/plain": [
       "⎡   ⎛π⎞      ⎛π⎞⎤\n",
       "⎢cos⎜─⎟  -sin⎜─⎟⎥\n",
       "⎢   ⎝9⎠      ⎝9⎠⎥\n",
       "⎢               ⎥\n",
       "⎢   ⎛π⎞     ⎛π⎞ ⎥\n",
       "⎢sin⎜─⎟  cos⎜─⎟ ⎥\n",
       "⎣   ⎝9⎠     ⎝9⎠ ⎦"
      ]
     },
     "metadata": {},
     "output_type": "display_data"
    },
    {
     "data": {
      "text/plain": [
       "'v='"
      ]
     },
     "metadata": {},
     "output_type": "display_data"
    },
    {
     "data": {
      "text/latex": [
       "$\\displaystyle \\left[\\begin{matrix}- 2 \\sin{\\left(\\frac{\\pi}{9} \\right)} + 2 \\cos{\\left(\\frac{\\pi}{9} \\right)}\\\\2 \\sin{\\left(\\frac{\\pi}{9} \\right)} + 2 \\cos{\\left(\\frac{\\pi}{9} \\right)}\\end{matrix}\\right]$"
      ],
      "text/plain": [
       "⎡       ⎛π⎞        ⎛π⎞⎤\n",
       "⎢- 2⋅sin⎜─⎟ + 2⋅cos⎜─⎟⎥\n",
       "⎢       ⎝9⎠        ⎝9⎠⎥\n",
       "⎢                     ⎥\n",
       "⎢      ⎛π⎞        ⎛π⎞ ⎥\n",
       "⎢ 2⋅sin⎜─⎟ + 2⋅cos⎜─⎟ ⎥\n",
       "⎣      ⎝9⎠        ⎝9⎠ ⎦"
      ]
     },
     "metadata": {},
     "output_type": "display_data"
    },
    {
     "data": {
      "text/plain": [
       "'|u|='"
      ]
     },
     "metadata": {},
     "output_type": "display_data"
    },
    {
     "data": {
      "text/latex": [
       "$\\displaystyle 2 \\sqrt{2}$"
      ],
      "text/plain": [
       "2⋅√2"
      ]
     },
     "metadata": {},
     "output_type": "display_data"
    },
    {
     "data": {
      "text/plain": [
       "'|v|='"
      ]
     },
     "metadata": {},
     "output_type": "display_data"
    },
    {
     "data": {
      "text/latex": [
       "$\\displaystyle \\sqrt{\\left(- 2 \\sin{\\left(\\frac{\\pi}{9} \\right)} + 2 \\cos{\\left(\\frac{\\pi}{9} \\right)}\\right)^{2} + \\left(2 \\sin{\\left(\\frac{\\pi}{9} \\right)} + 2 \\cos{\\left(\\frac{\\pi}{9} \\right)}\\right)^{2}}$"
      ],
      "text/plain": [
       "     ___________________________________________________\n",
       "    ╱                        2                        2 \n",
       "   ╱  ⎛       ⎛π⎞        ⎛π⎞⎞    ⎛     ⎛π⎞        ⎛π⎞⎞  \n",
       "  ╱   ⎜- 2⋅sin⎜─⎟ + 2⋅cos⎜─⎟⎟  + ⎜2⋅sin⎜─⎟ + 2⋅cos⎜─⎟⎟  \n",
       "╲╱    ⎝       ⎝9⎠        ⎝9⎠⎠    ⎝     ⎝9⎠        ⎝9⎠⎠  "
      ]
     },
     "metadata": {},
     "output_type": "display_data"
    },
    {
     "data": {
      "text/latex": [
       "$\\displaystyle 2 \\sqrt{2}$"
      ],
      "text/plain": [
       "2⋅√2"
      ]
     },
     "metadata": {},
     "output_type": "display_data"
    },
    {
     "data": {
      "text/latex": [
       "$\\displaystyle 2.82842712474619$"
      ],
      "text/plain": [
       "2.82842712474619"
      ]
     },
     "metadata": {},
     "output_type": "display_data"
    },
    {
     "data": {
      "text/plain": [
       "'θ(rad) = '"
      ]
     },
     "metadata": {},
     "output_type": "display_data"
    },
    {
     "data": {
      "text/latex": [
       "$\\displaystyle \\operatorname{acos}{\\left(\\frac{2 \\sqrt{2} \\cos{\\left(\\frac{\\pi}{9} \\right)}}{\\sqrt{\\left(- 2 \\sin{\\left(\\frac{\\pi}{9} \\right)} + 2 \\cos{\\left(\\frac{\\pi}{9} \\right)}\\right)^{2} + \\left(2 \\sin{\\left(\\frac{\\pi}{9} \\right)} + 2 \\cos{\\left(\\frac{\\pi}{9} \\right)}\\right)^{2}}} \\right)}$"
      ],
      "text/plain": [
       "    ⎛                              ⎛π⎞                       ⎞\n",
       "    ⎜                      2⋅√2⋅cos⎜─⎟                       ⎟\n",
       "    ⎜                              ⎝9⎠                       ⎟\n",
       "acos⎜────────────────────────────────────────────────────────⎟\n",
       "    ⎜     ___________________________________________________⎟\n",
       "    ⎜    ╱                        2                        2 ⎟\n",
       "    ⎜   ╱  ⎛       ⎛π⎞        ⎛π⎞⎞    ⎛     ⎛π⎞        ⎛π⎞⎞  ⎟\n",
       "    ⎜  ╱   ⎜- 2⋅sin⎜─⎟ + 2⋅cos⎜─⎟⎟  + ⎜2⋅sin⎜─⎟ + 2⋅cos⎜─⎟⎟  ⎟\n",
       "    ⎝╲╱    ⎝       ⎝9⎠        ⎝9⎠⎠    ⎝     ⎝9⎠        ⎝9⎠⎠  ⎠"
      ]
     },
     "metadata": {},
     "output_type": "display_data"
    },
    {
     "data": {
      "text/plain": [
       "'θ(rad) = '"
      ]
     },
     "metadata": {},
     "output_type": "display_data"
    },
    {
     "data": {
      "text/latex": [
       "$\\displaystyle \\frac{\\pi}{9}$"
      ],
      "text/plain": [
       "π\n",
       "─\n",
       "9"
      ]
     },
     "metadata": {},
     "output_type": "display_data"
    },
    {
     "data": {
      "text/plain": [
       "'θ(rad) = '"
      ]
     },
     "metadata": {},
     "output_type": "display_data"
    },
    {
     "data": {
      "text/latex": [
       "$\\displaystyle 0.349065850398866$"
      ],
      "text/plain": [
       "0.349065850398866"
      ]
     },
     "metadata": {},
     "output_type": "display_data"
    }
   ],
   "source": [
    "from sympy.matrices import Matrix\n",
    "from mpmath import radians# degree radius conversion\n",
    "import sympy as sp\n",
    "from sympy import pi, simplify\n",
    "sp.init_printing(use_latex = \"mathjax\")\n",
    "# The following is a general rotation matrix with an angle rot in the counterclock wise direction\n",
    "rot = sp.symbols(\"rot\")\n",
    "Q = Matrix([[sp.cos(rot),-sp.sin(rot)],[sp.sin(rot),sp.cos(rot)]])\n",
    "display(Q)\n",
    "#Set rot = 20 degrees = 20 Pi/180 = pi/9 radians\n",
    "Q = Q.subs({rot:20*sp.pi/180})\n",
    "display(\"Q =\",Q)\n",
    "u = Matrix([2, 2]) \n",
    "v = Q*u\n",
    "display(\"v=\",v)\n",
    "display(\"|u|=\",u.norm())\n",
    "display(\"|v|=\",v.norm())\n",
    "# simplifies the expression above\n",
    "display(simplify(v.norm())) \n",
    "# evaluates the expression above\n",
    "display(v.norm().evalf()) \n",
    "theta = sp.acos(u.dot(v)/u.norm()/v.norm())\n",
    "# simplifies the expression above\n",
    "thetasimplified = simplify(theta)\n",
    "display(\"\\u03B8(rad) = \",theta)\n",
    "display(\"\\u03B8(rad) = \",thetasimplified)\n",
    "display(\"\\u03B8(rad) = \",thetasimplified.evalf())\n"
   ]
  }
 ],
 "metadata": {
  "kernelspec": {
   "display_name": "Python 3",
   "language": "python",
   "name": "python3"
  },
  "language_info": {
   "codemirror_mode": {
    "name": "ipython",
    "version": 3
   },
   "file_extension": ".py",
   "mimetype": "text/x-python",
   "name": "python",
   "nbconvert_exporter": "python",
   "pygments_lexer": "ipython3",
   "version": "3.8.5"
  }
 },
 "nbformat": 4,
 "nbformat_minor": 4
}
