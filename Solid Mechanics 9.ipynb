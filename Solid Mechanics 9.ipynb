{
 "cells": [
  {
   "cell_type": "markdown",
   "metadata": {},
   "source": [
    "https://engcourses-uofa.ca/books/introduction-to-solid-mechanics/energy/single-degree-of-freedom/#dynamic-equilibrium-of-a-mass-spring-system-5"
   ]
  },
  {
   "cell_type": "markdown",
   "metadata": {},
   "source": [
    "9.1.2"
   ]
  },
  {
   "cell_type": "code",
   "execution_count": 2,
   "metadata": {
    "scrolled": true
   },
   "outputs": [
    {
     "data": {
      "text/latex": [
       "$\\displaystyle x{\\left(t \\right)} = - \\frac{g m e^{t \\sqrt{- \\frac{k}{m}}}}{2 k} + \\frac{g m}{k} - \\frac{g m e^{- t \\sqrt{- \\frac{k}{m}}}}{2 k}$"
      ],
      "text/plain": [
       "Eq(x(t), -g*m*exp(t*sqrt(-k/m))/(2*k) + g*m/k - g*m*exp(-t*sqrt(-k/m))/(2*k))"
      ]
     },
     "metadata": {},
     "output_type": "display_data"
    },
    {
     "data": {
      "text/latex": [
       "$\\displaystyle x{\\left(t \\right)} = - \\frac{g m \\left(\\cosh{\\left(t \\sqrt{- \\frac{k}{m}} \\right)} - 1\\right)}{k}$"
      ],
      "text/plain": [
       "Eq(x(t), -g*m*(cosh(t*sqrt(-k/m)) - 1)/k)"
      ]
     },
     "metadata": {},
     "output_type": "display_data"
    },
    {
     "data": {
      "text/plain": [
       "'Note that for t,k and m > 0 the following two expressions are equal'"
      ]
     },
     "metadata": {},
     "output_type": "display_data"
    },
    {
     "data": {
      "text/latex": [
       "$\\displaystyle \\cosh{\\left(t \\sqrt{- \\frac{k}{m}} \\right)} = \\cos{\\left(t \\sqrt{\\frac{k}{m}} \\right)}$"
      ],
      "text/plain": [
       "Eq(cosh(t*sqrt(-k/m)), cos(t*sqrt(k/m)))"
      ]
     },
     "metadata": {},
     "output_type": "display_data"
    }
   ],
   "source": [
    "from sympy import dsolve,Eq,trigsimp\n",
    "import sympy as sp\n",
    "m,g,k,t = sp.symbols(\"m g k t\")\n",
    "x = sp.Function(\"x\")\n",
    "dx = x(t).diff(t)\n",
    "ddx = x(t).diff(t,2)\n",
    "x1 = x(t).subs(t,0)\n",
    "dx1 = dx.subs(t,0)\n",
    "s = trigsimp(dsolve(m*g-k*x(t)-m*ddx,x(t),ics ={x1:0,dx1:0}))\n",
    "display(s)\n",
    "display(s.rewrite(sp.cos).simplify())\n",
    "display(\"Note that for t,k and m > 0 the following two expressions are equal\")\n",
    "gg = Eq(sp.cosh(t*sp.sqrt((-k/m))),sp.cos(t*sp.sqrt((k/m))))\n",
    "display(gg)"
   ]
  },
  {
   "cell_type": "markdown",
   "metadata": {},
   "source": [
    "9.1.2 continued"
   ]
  },
  {
   "cell_type": "code",
   "execution_count": 3,
   "metadata": {},
   "outputs": [
    {
     "data": {
      "application/javascript": [
       "/* Put everything inside the global mpl namespace */\n",
       "/* global mpl */\n",
       "window.mpl = {};\n",
       "\n",
       "mpl.get_websocket_type = function () {\n",
       "    if (typeof WebSocket !== 'undefined') {\n",
       "        return WebSocket;\n",
       "    } else if (typeof MozWebSocket !== 'undefined') {\n",
       "        return MozWebSocket;\n",
       "    } else {\n",
       "        alert(\n",
       "            'Your browser does not have WebSocket support. ' +\n",
       "                'Please try Chrome, Safari or Firefox ≥ 6. ' +\n",
       "                'Firefox 4 and 5 are also supported but you ' +\n",
       "                'have to enable WebSockets in about:config.'\n",
       "        );\n",
       "    }\n",
       "};\n",
       "\n",
       "mpl.figure = function (figure_id, websocket, ondownload, parent_element) {\n",
       "    this.id = figure_id;\n",
       "\n",
       "    this.ws = websocket;\n",
       "\n",
       "    this.supports_binary = this.ws.binaryType !== undefined;\n",
       "\n",
       "    if (!this.supports_binary) {\n",
       "        var warnings = document.getElementById('mpl-warnings');\n",
       "        if (warnings) {\n",
       "            warnings.style.display = 'block';\n",
       "            warnings.textContent =\n",
       "                'This browser does not support binary websocket messages. ' +\n",
       "                'Performance may be slow.';\n",
       "        }\n",
       "    }\n",
       "\n",
       "    this.imageObj = new Image();\n",
       "\n",
       "    this.context = undefined;\n",
       "    this.message = undefined;\n",
       "    this.canvas = undefined;\n",
       "    this.rubberband_canvas = undefined;\n",
       "    this.rubberband_context = undefined;\n",
       "    this.format_dropdown = undefined;\n",
       "\n",
       "    this.image_mode = 'full';\n",
       "\n",
       "    this.root = document.createElement('div');\n",
       "    this.root.setAttribute('style', 'display: inline-block');\n",
       "    this._root_extra_style(this.root);\n",
       "\n",
       "    parent_element.appendChild(this.root);\n",
       "\n",
       "    this._init_header(this);\n",
       "    this._init_canvas(this);\n",
       "    this._init_toolbar(this);\n",
       "\n",
       "    var fig = this;\n",
       "\n",
       "    this.waiting = false;\n",
       "\n",
       "    this.ws.onopen = function () {\n",
       "        fig.send_message('supports_binary', { value: fig.supports_binary });\n",
       "        fig.send_message('send_image_mode', {});\n",
       "        if (fig.ratio !== 1) {\n",
       "            fig.send_message('set_dpi_ratio', { dpi_ratio: fig.ratio });\n",
       "        }\n",
       "        fig.send_message('refresh', {});\n",
       "    };\n",
       "\n",
       "    this.imageObj.onload = function () {\n",
       "        if (fig.image_mode === 'full') {\n",
       "            // Full images could contain transparency (where diff images\n",
       "            // almost always do), so we need to clear the canvas so that\n",
       "            // there is no ghosting.\n",
       "            fig.context.clearRect(0, 0, fig.canvas.width, fig.canvas.height);\n",
       "        }\n",
       "        fig.context.drawImage(fig.imageObj, 0, 0);\n",
       "    };\n",
       "\n",
       "    this.imageObj.onunload = function () {\n",
       "        fig.ws.close();\n",
       "    };\n",
       "\n",
       "    this.ws.onmessage = this._make_on_message_function(this);\n",
       "\n",
       "    this.ondownload = ondownload;\n",
       "};\n",
       "\n",
       "mpl.figure.prototype._init_header = function () {\n",
       "    var titlebar = document.createElement('div');\n",
       "    titlebar.classList =\n",
       "        'ui-dialog-titlebar ui-widget-header ui-corner-all ui-helper-clearfix';\n",
       "    var titletext = document.createElement('div');\n",
       "    titletext.classList = 'ui-dialog-title';\n",
       "    titletext.setAttribute(\n",
       "        'style',\n",
       "        'width: 100%; text-align: center; padding: 3px;'\n",
       "    );\n",
       "    titlebar.appendChild(titletext);\n",
       "    this.root.appendChild(titlebar);\n",
       "    this.header = titletext;\n",
       "};\n",
       "\n",
       "mpl.figure.prototype._canvas_extra_style = function (_canvas_div) {};\n",
       "\n",
       "mpl.figure.prototype._root_extra_style = function (_canvas_div) {};\n",
       "\n",
       "mpl.figure.prototype._init_canvas = function () {\n",
       "    var fig = this;\n",
       "\n",
       "    var canvas_div = (this.canvas_div = document.createElement('div'));\n",
       "    canvas_div.setAttribute(\n",
       "        'style',\n",
       "        'border: 1px solid #ddd;' +\n",
       "            'box-sizing: content-box;' +\n",
       "            'clear: both;' +\n",
       "            'min-height: 1px;' +\n",
       "            'min-width: 1px;' +\n",
       "            'outline: 0;' +\n",
       "            'overflow: hidden;' +\n",
       "            'position: relative;' +\n",
       "            'resize: both;'\n",
       "    );\n",
       "\n",
       "    function on_keyboard_event_closure(name) {\n",
       "        return function (event) {\n",
       "            return fig.key_event(event, name);\n",
       "        };\n",
       "    }\n",
       "\n",
       "    canvas_div.addEventListener(\n",
       "        'keydown',\n",
       "        on_keyboard_event_closure('key_press')\n",
       "    );\n",
       "    canvas_div.addEventListener(\n",
       "        'keyup',\n",
       "        on_keyboard_event_closure('key_release')\n",
       "    );\n",
       "\n",
       "    this._canvas_extra_style(canvas_div);\n",
       "    this.root.appendChild(canvas_div);\n",
       "\n",
       "    var canvas = (this.canvas = document.createElement('canvas'));\n",
       "    canvas.classList.add('mpl-canvas');\n",
       "    canvas.setAttribute('style', 'box-sizing: content-box;');\n",
       "\n",
       "    this.context = canvas.getContext('2d');\n",
       "\n",
       "    var backingStore =\n",
       "        this.context.backingStorePixelRatio ||\n",
       "        this.context.webkitBackingStorePixelRatio ||\n",
       "        this.context.mozBackingStorePixelRatio ||\n",
       "        this.context.msBackingStorePixelRatio ||\n",
       "        this.context.oBackingStorePixelRatio ||\n",
       "        this.context.backingStorePixelRatio ||\n",
       "        1;\n",
       "\n",
       "    this.ratio = (window.devicePixelRatio || 1) / backingStore;\n",
       "    if (this.ratio !== 1) {\n",
       "        fig.send_message('set_dpi_ratio', { dpi_ratio: this.ratio });\n",
       "    }\n",
       "\n",
       "    var rubberband_canvas = (this.rubberband_canvas = document.createElement(\n",
       "        'canvas'\n",
       "    ));\n",
       "    rubberband_canvas.setAttribute(\n",
       "        'style',\n",
       "        'box-sizing: content-box; position: absolute; left: 0; top: 0; z-index: 1;'\n",
       "    );\n",
       "\n",
       "    var resizeObserver = new ResizeObserver(function (entries) {\n",
       "        var nentries = entries.length;\n",
       "        for (var i = 0; i < nentries; i++) {\n",
       "            var entry = entries[i];\n",
       "            var width, height;\n",
       "            if (entry.contentBoxSize) {\n",
       "                if (entry.contentBoxSize instanceof Array) {\n",
       "                    // Chrome 84 implements new version of spec.\n",
       "                    width = entry.contentBoxSize[0].inlineSize;\n",
       "                    height = entry.contentBoxSize[0].blockSize;\n",
       "                } else {\n",
       "                    // Firefox implements old version of spec.\n",
       "                    width = entry.contentBoxSize.inlineSize;\n",
       "                    height = entry.contentBoxSize.blockSize;\n",
       "                }\n",
       "            } else {\n",
       "                // Chrome <84 implements even older version of spec.\n",
       "                width = entry.contentRect.width;\n",
       "                height = entry.contentRect.height;\n",
       "            }\n",
       "\n",
       "            // Keep the size of the canvas and rubber band canvas in sync with\n",
       "            // the canvas container.\n",
       "            if (entry.devicePixelContentBoxSize) {\n",
       "                // Chrome 84 implements new version of spec.\n",
       "                canvas.setAttribute(\n",
       "                    'width',\n",
       "                    entry.devicePixelContentBoxSize[0].inlineSize\n",
       "                );\n",
       "                canvas.setAttribute(\n",
       "                    'height',\n",
       "                    entry.devicePixelContentBoxSize[0].blockSize\n",
       "                );\n",
       "            } else {\n",
       "                canvas.setAttribute('width', width * fig.ratio);\n",
       "                canvas.setAttribute('height', height * fig.ratio);\n",
       "            }\n",
       "            canvas.setAttribute(\n",
       "                'style',\n",
       "                'width: ' + width + 'px; height: ' + height + 'px;'\n",
       "            );\n",
       "\n",
       "            rubberband_canvas.setAttribute('width', width);\n",
       "            rubberband_canvas.setAttribute('height', height);\n",
       "\n",
       "            // And update the size in Python. We ignore the initial 0/0 size\n",
       "            // that occurs as the element is placed into the DOM, which should\n",
       "            // otherwise not happen due to the minimum size styling.\n",
       "            if (width != 0 && height != 0) {\n",
       "                fig.request_resize(width, height);\n",
       "            }\n",
       "        }\n",
       "    });\n",
       "    resizeObserver.observe(canvas_div);\n",
       "\n",
       "    function on_mouse_event_closure(name) {\n",
       "        return function (event) {\n",
       "            return fig.mouse_event(event, name);\n",
       "        };\n",
       "    }\n",
       "\n",
       "    rubberband_canvas.addEventListener(\n",
       "        'mousedown',\n",
       "        on_mouse_event_closure('button_press')\n",
       "    );\n",
       "    rubberband_canvas.addEventListener(\n",
       "        'mouseup',\n",
       "        on_mouse_event_closure('button_release')\n",
       "    );\n",
       "    // Throttle sequential mouse events to 1 every 20ms.\n",
       "    rubberband_canvas.addEventListener(\n",
       "        'mousemove',\n",
       "        on_mouse_event_closure('motion_notify')\n",
       "    );\n",
       "\n",
       "    rubberband_canvas.addEventListener(\n",
       "        'mouseenter',\n",
       "        on_mouse_event_closure('figure_enter')\n",
       "    );\n",
       "    rubberband_canvas.addEventListener(\n",
       "        'mouseleave',\n",
       "        on_mouse_event_closure('figure_leave')\n",
       "    );\n",
       "\n",
       "    canvas_div.addEventListener('wheel', function (event) {\n",
       "        if (event.deltaY < 0) {\n",
       "            event.step = 1;\n",
       "        } else {\n",
       "            event.step = -1;\n",
       "        }\n",
       "        on_mouse_event_closure('scroll')(event);\n",
       "    });\n",
       "\n",
       "    canvas_div.appendChild(canvas);\n",
       "    canvas_div.appendChild(rubberband_canvas);\n",
       "\n",
       "    this.rubberband_context = rubberband_canvas.getContext('2d');\n",
       "    this.rubberband_context.strokeStyle = '#000000';\n",
       "\n",
       "    this._resize_canvas = function (width, height, forward) {\n",
       "        if (forward) {\n",
       "            canvas_div.style.width = width + 'px';\n",
       "            canvas_div.style.height = height + 'px';\n",
       "        }\n",
       "    };\n",
       "\n",
       "    // Disable right mouse context menu.\n",
       "    this.rubberband_canvas.addEventListener('contextmenu', function (_e) {\n",
       "        event.preventDefault();\n",
       "        return false;\n",
       "    });\n",
       "\n",
       "    function set_focus() {\n",
       "        canvas.focus();\n",
       "        canvas_div.focus();\n",
       "    }\n",
       "\n",
       "    window.setTimeout(set_focus, 100);\n",
       "};\n",
       "\n",
       "mpl.figure.prototype._init_toolbar = function () {\n",
       "    var fig = this;\n",
       "\n",
       "    var toolbar = document.createElement('div');\n",
       "    toolbar.classList = 'mpl-toolbar';\n",
       "    this.root.appendChild(toolbar);\n",
       "\n",
       "    function on_click_closure(name) {\n",
       "        return function (_event) {\n",
       "            return fig.toolbar_button_onclick(name);\n",
       "        };\n",
       "    }\n",
       "\n",
       "    function on_mouseover_closure(tooltip) {\n",
       "        return function (event) {\n",
       "            if (!event.currentTarget.disabled) {\n",
       "                return fig.toolbar_button_onmouseover(tooltip);\n",
       "            }\n",
       "        };\n",
       "    }\n",
       "\n",
       "    fig.buttons = {};\n",
       "    var buttonGroup = document.createElement('div');\n",
       "    buttonGroup.classList = 'mpl-button-group';\n",
       "    for (var toolbar_ind in mpl.toolbar_items) {\n",
       "        var name = mpl.toolbar_items[toolbar_ind][0];\n",
       "        var tooltip = mpl.toolbar_items[toolbar_ind][1];\n",
       "        var image = mpl.toolbar_items[toolbar_ind][2];\n",
       "        var method_name = mpl.toolbar_items[toolbar_ind][3];\n",
       "\n",
       "        if (!name) {\n",
       "            /* Instead of a spacer, we start a new button group. */\n",
       "            if (buttonGroup.hasChildNodes()) {\n",
       "                toolbar.appendChild(buttonGroup);\n",
       "            }\n",
       "            buttonGroup = document.createElement('div');\n",
       "            buttonGroup.classList = 'mpl-button-group';\n",
       "            continue;\n",
       "        }\n",
       "\n",
       "        var button = (fig.buttons[name] = document.createElement('button'));\n",
       "        button.classList = 'mpl-widget';\n",
       "        button.setAttribute('role', 'button');\n",
       "        button.setAttribute('aria-disabled', 'false');\n",
       "        button.addEventListener('click', on_click_closure(method_name));\n",
       "        button.addEventListener('mouseover', on_mouseover_closure(tooltip));\n",
       "\n",
       "        var icon_img = document.createElement('img');\n",
       "        icon_img.src = '_images/' + image + '.png';\n",
       "        icon_img.srcset = '_images/' + image + '_large.png 2x';\n",
       "        icon_img.alt = tooltip;\n",
       "        button.appendChild(icon_img);\n",
       "\n",
       "        buttonGroup.appendChild(button);\n",
       "    }\n",
       "\n",
       "    if (buttonGroup.hasChildNodes()) {\n",
       "        toolbar.appendChild(buttonGroup);\n",
       "    }\n",
       "\n",
       "    var fmt_picker = document.createElement('select');\n",
       "    fmt_picker.classList = 'mpl-widget';\n",
       "    toolbar.appendChild(fmt_picker);\n",
       "    this.format_dropdown = fmt_picker;\n",
       "\n",
       "    for (var ind in mpl.extensions) {\n",
       "        var fmt = mpl.extensions[ind];\n",
       "        var option = document.createElement('option');\n",
       "        option.selected = fmt === mpl.default_extension;\n",
       "        option.innerHTML = fmt;\n",
       "        fmt_picker.appendChild(option);\n",
       "    }\n",
       "\n",
       "    var status_bar = document.createElement('span');\n",
       "    status_bar.classList = 'mpl-message';\n",
       "    toolbar.appendChild(status_bar);\n",
       "    this.message = status_bar;\n",
       "};\n",
       "\n",
       "mpl.figure.prototype.request_resize = function (x_pixels, y_pixels) {\n",
       "    // Request matplotlib to resize the figure. Matplotlib will then trigger a resize in the client,\n",
       "    // which will in turn request a refresh of the image.\n",
       "    this.send_message('resize', { width: x_pixels, height: y_pixels });\n",
       "};\n",
       "\n",
       "mpl.figure.prototype.send_message = function (type, properties) {\n",
       "    properties['type'] = type;\n",
       "    properties['figure_id'] = this.id;\n",
       "    this.ws.send(JSON.stringify(properties));\n",
       "};\n",
       "\n",
       "mpl.figure.prototype.send_draw_message = function () {\n",
       "    if (!this.waiting) {\n",
       "        this.waiting = true;\n",
       "        this.ws.send(JSON.stringify({ type: 'draw', figure_id: this.id }));\n",
       "    }\n",
       "};\n",
       "\n",
       "mpl.figure.prototype.handle_save = function (fig, _msg) {\n",
       "    var format_dropdown = fig.format_dropdown;\n",
       "    var format = format_dropdown.options[format_dropdown.selectedIndex].value;\n",
       "    fig.ondownload(fig, format);\n",
       "};\n",
       "\n",
       "mpl.figure.prototype.handle_resize = function (fig, msg) {\n",
       "    var size = msg['size'];\n",
       "    if (size[0] !== fig.canvas.width || size[1] !== fig.canvas.height) {\n",
       "        fig._resize_canvas(size[0], size[1], msg['forward']);\n",
       "        fig.send_message('refresh', {});\n",
       "    }\n",
       "};\n",
       "\n",
       "mpl.figure.prototype.handle_rubberband = function (fig, msg) {\n",
       "    var x0 = msg['x0'] / fig.ratio;\n",
       "    var y0 = (fig.canvas.height - msg['y0']) / fig.ratio;\n",
       "    var x1 = msg['x1'] / fig.ratio;\n",
       "    var y1 = (fig.canvas.height - msg['y1']) / fig.ratio;\n",
       "    x0 = Math.floor(x0) + 0.5;\n",
       "    y0 = Math.floor(y0) + 0.5;\n",
       "    x1 = Math.floor(x1) + 0.5;\n",
       "    y1 = Math.floor(y1) + 0.5;\n",
       "    var min_x = Math.min(x0, x1);\n",
       "    var min_y = Math.min(y0, y1);\n",
       "    var width = Math.abs(x1 - x0);\n",
       "    var height = Math.abs(y1 - y0);\n",
       "\n",
       "    fig.rubberband_context.clearRect(\n",
       "        0,\n",
       "        0,\n",
       "        fig.canvas.width / fig.ratio,\n",
       "        fig.canvas.height / fig.ratio\n",
       "    );\n",
       "\n",
       "    fig.rubberband_context.strokeRect(min_x, min_y, width, height);\n",
       "};\n",
       "\n",
       "mpl.figure.prototype.handle_figure_label = function (fig, msg) {\n",
       "    // Updates the figure title.\n",
       "    fig.header.textContent = msg['label'];\n",
       "};\n",
       "\n",
       "mpl.figure.prototype.handle_cursor = function (fig, msg) {\n",
       "    var cursor = msg['cursor'];\n",
       "    switch (cursor) {\n",
       "        case 0:\n",
       "            cursor = 'pointer';\n",
       "            break;\n",
       "        case 1:\n",
       "            cursor = 'default';\n",
       "            break;\n",
       "        case 2:\n",
       "            cursor = 'crosshair';\n",
       "            break;\n",
       "        case 3:\n",
       "            cursor = 'move';\n",
       "            break;\n",
       "    }\n",
       "    fig.rubberband_canvas.style.cursor = cursor;\n",
       "};\n",
       "\n",
       "mpl.figure.prototype.handle_message = function (fig, msg) {\n",
       "    fig.message.textContent = msg['message'];\n",
       "};\n",
       "\n",
       "mpl.figure.prototype.handle_draw = function (fig, _msg) {\n",
       "    // Request the server to send over a new figure.\n",
       "    fig.send_draw_message();\n",
       "};\n",
       "\n",
       "mpl.figure.prototype.handle_image_mode = function (fig, msg) {\n",
       "    fig.image_mode = msg['mode'];\n",
       "};\n",
       "\n",
       "mpl.figure.prototype.handle_history_buttons = function (fig, msg) {\n",
       "    for (var key in msg) {\n",
       "        if (!(key in fig.buttons)) {\n",
       "            continue;\n",
       "        }\n",
       "        fig.buttons[key].disabled = !msg[key];\n",
       "        fig.buttons[key].setAttribute('aria-disabled', !msg[key]);\n",
       "    }\n",
       "};\n",
       "\n",
       "mpl.figure.prototype.handle_navigate_mode = function (fig, msg) {\n",
       "    if (msg['mode'] === 'PAN') {\n",
       "        fig.buttons['Pan'].classList.add('active');\n",
       "        fig.buttons['Zoom'].classList.remove('active');\n",
       "    } else if (msg['mode'] === 'ZOOM') {\n",
       "        fig.buttons['Pan'].classList.remove('active');\n",
       "        fig.buttons['Zoom'].classList.add('active');\n",
       "    } else {\n",
       "        fig.buttons['Pan'].classList.remove('active');\n",
       "        fig.buttons['Zoom'].classList.remove('active');\n",
       "    }\n",
       "};\n",
       "\n",
       "mpl.figure.prototype.updated_canvas_event = function () {\n",
       "    // Called whenever the canvas gets updated.\n",
       "    this.send_message('ack', {});\n",
       "};\n",
       "\n",
       "// A function to construct a web socket function for onmessage handling.\n",
       "// Called in the figure constructor.\n",
       "mpl.figure.prototype._make_on_message_function = function (fig) {\n",
       "    return function socket_on_message(evt) {\n",
       "        if (evt.data instanceof Blob) {\n",
       "            /* FIXME: We get \"Resource interpreted as Image but\n",
       "             * transferred with MIME type text/plain:\" errors on\n",
       "             * Chrome.  But how to set the MIME type?  It doesn't seem\n",
       "             * to be part of the websocket stream */\n",
       "            evt.data.type = 'image/png';\n",
       "\n",
       "            /* Free the memory for the previous frames */\n",
       "            if (fig.imageObj.src) {\n",
       "                (window.URL || window.webkitURL).revokeObjectURL(\n",
       "                    fig.imageObj.src\n",
       "                );\n",
       "            }\n",
       "\n",
       "            fig.imageObj.src = (window.URL || window.webkitURL).createObjectURL(\n",
       "                evt.data\n",
       "            );\n",
       "            fig.updated_canvas_event();\n",
       "            fig.waiting = false;\n",
       "            return;\n",
       "        } else if (\n",
       "            typeof evt.data === 'string' &&\n",
       "            evt.data.slice(0, 21) === 'data:image/png;base64'\n",
       "        ) {\n",
       "            fig.imageObj.src = evt.data;\n",
       "            fig.updated_canvas_event();\n",
       "            fig.waiting = false;\n",
       "            return;\n",
       "        }\n",
       "\n",
       "        var msg = JSON.parse(evt.data);\n",
       "        var msg_type = msg['type'];\n",
       "\n",
       "        // Call the  \"handle_{type}\" callback, which takes\n",
       "        // the figure and JSON message as its only arguments.\n",
       "        try {\n",
       "            var callback = fig['handle_' + msg_type];\n",
       "        } catch (e) {\n",
       "            console.log(\n",
       "                \"No handler for the '\" + msg_type + \"' message type: \",\n",
       "                msg\n",
       "            );\n",
       "            return;\n",
       "        }\n",
       "\n",
       "        if (callback) {\n",
       "            try {\n",
       "                // console.log(\"Handling '\" + msg_type + \"' message: \", msg);\n",
       "                callback(fig, msg);\n",
       "            } catch (e) {\n",
       "                console.log(\n",
       "                    \"Exception inside the 'handler_\" + msg_type + \"' callback:\",\n",
       "                    e,\n",
       "                    e.stack,\n",
       "                    msg\n",
       "                );\n",
       "            }\n",
       "        }\n",
       "    };\n",
       "};\n",
       "\n",
       "// from http://stackoverflow.com/questions/1114465/getting-mouse-location-in-canvas\n",
       "mpl.findpos = function (e) {\n",
       "    //this section is from http://www.quirksmode.org/js/events_properties.html\n",
       "    var targ;\n",
       "    if (!e) {\n",
       "        e = window.event;\n",
       "    }\n",
       "    if (e.target) {\n",
       "        targ = e.target;\n",
       "    } else if (e.srcElement) {\n",
       "        targ = e.srcElement;\n",
       "    }\n",
       "    if (targ.nodeType === 3) {\n",
       "        // defeat Safari bug\n",
       "        targ = targ.parentNode;\n",
       "    }\n",
       "\n",
       "    // pageX,Y are the mouse positions relative to the document\n",
       "    var boundingRect = targ.getBoundingClientRect();\n",
       "    var x = e.pageX - (boundingRect.left + document.body.scrollLeft);\n",
       "    var y = e.pageY - (boundingRect.top + document.body.scrollTop);\n",
       "\n",
       "    return { x: x, y: y };\n",
       "};\n",
       "\n",
       "/*\n",
       " * return a copy of an object with only non-object keys\n",
       " * we need this to avoid circular references\n",
       " * http://stackoverflow.com/a/24161582/3208463\n",
       " */\n",
       "function simpleKeys(original) {\n",
       "    return Object.keys(original).reduce(function (obj, key) {\n",
       "        if (typeof original[key] !== 'object') {\n",
       "            obj[key] = original[key];\n",
       "        }\n",
       "        return obj;\n",
       "    }, {});\n",
       "}\n",
       "\n",
       "mpl.figure.prototype.mouse_event = function (event, name) {\n",
       "    var canvas_pos = mpl.findpos(event);\n",
       "\n",
       "    if (name === 'button_press') {\n",
       "        this.canvas.focus();\n",
       "        this.canvas_div.focus();\n",
       "    }\n",
       "\n",
       "    var x = canvas_pos.x * this.ratio;\n",
       "    var y = canvas_pos.y * this.ratio;\n",
       "\n",
       "    this.send_message(name, {\n",
       "        x: x,\n",
       "        y: y,\n",
       "        button: event.button,\n",
       "        step: event.step,\n",
       "        guiEvent: simpleKeys(event),\n",
       "    });\n",
       "\n",
       "    /* This prevents the web browser from automatically changing to\n",
       "     * the text insertion cursor when the button is pressed.  We want\n",
       "     * to control all of the cursor setting manually through the\n",
       "     * 'cursor' event from matplotlib */\n",
       "    event.preventDefault();\n",
       "    return false;\n",
       "};\n",
       "\n",
       "mpl.figure.prototype._key_event_extra = function (_event, _name) {\n",
       "    // Handle any extra behaviour associated with a key event\n",
       "};\n",
       "\n",
       "mpl.figure.prototype.key_event = function (event, name) {\n",
       "    // Prevent repeat events\n",
       "    if (name === 'key_press') {\n",
       "        if (event.which === this._key) {\n",
       "            return;\n",
       "        } else {\n",
       "            this._key = event.which;\n",
       "        }\n",
       "    }\n",
       "    if (name === 'key_release') {\n",
       "        this._key = null;\n",
       "    }\n",
       "\n",
       "    var value = '';\n",
       "    if (event.ctrlKey && event.which !== 17) {\n",
       "        value += 'ctrl+';\n",
       "    }\n",
       "    if (event.altKey && event.which !== 18) {\n",
       "        value += 'alt+';\n",
       "    }\n",
       "    if (event.shiftKey && event.which !== 16) {\n",
       "        value += 'shift+';\n",
       "    }\n",
       "\n",
       "    value += 'k';\n",
       "    value += event.which.toString();\n",
       "\n",
       "    this._key_event_extra(event, name);\n",
       "\n",
       "    this.send_message(name, { key: value, guiEvent: simpleKeys(event) });\n",
       "    return false;\n",
       "};\n",
       "\n",
       "mpl.figure.prototype.toolbar_button_onclick = function (name) {\n",
       "    if (name === 'download') {\n",
       "        this.handle_save(this, null);\n",
       "    } else {\n",
       "        this.send_message('toolbar_button', { name: name });\n",
       "    }\n",
       "};\n",
       "\n",
       "mpl.figure.prototype.toolbar_button_onmouseover = function (tooltip) {\n",
       "    this.message.textContent = tooltip;\n",
       "};\n",
       "mpl.toolbar_items = [[\"Home\", \"Reset original view\", \"fa fa-home icon-home\", \"home\"], [\"Back\", \"Back to previous view\", \"fa fa-arrow-left icon-arrow-left\", \"back\"], [\"Forward\", \"Forward to next view\", \"fa fa-arrow-right icon-arrow-right\", \"forward\"], [\"\", \"\", \"\", \"\"], [\"Pan\", \"Left button pans, Right button zooms\\nx/y fixes axis, CTRL fixes aspect\", \"fa fa-arrows icon-move\", \"pan\"], [\"Zoom\", \"Zoom to rectangle\\nx/y fixes axis, CTRL fixes aspect\", \"fa fa-square-o icon-check-empty\", \"zoom\"], [\"\", \"\", \"\", \"\"], [\"Download\", \"Download plot\", \"fa fa-floppy-o icon-save\", \"download\"]];\n",
       "\n",
       "mpl.extensions = [\"eps\", \"jpeg\", \"pdf\", \"png\", \"ps\", \"raw\", \"svg\", \"tif\"];\n",
       "\n",
       "mpl.default_extension = \"png\";/* global mpl */\n",
       "\n",
       "var comm_websocket_adapter = function (comm) {\n",
       "    // Create a \"websocket\"-like object which calls the given IPython comm\n",
       "    // object with the appropriate methods. Currently this is a non binary\n",
       "    // socket, so there is still some room for performance tuning.\n",
       "    var ws = {};\n",
       "\n",
       "    ws.close = function () {\n",
       "        comm.close();\n",
       "    };\n",
       "    ws.send = function (m) {\n",
       "        //console.log('sending', m);\n",
       "        comm.send(m);\n",
       "    };\n",
       "    // Register the callback with on_msg.\n",
       "    comm.on_msg(function (msg) {\n",
       "        //console.log('receiving', msg['content']['data'], msg);\n",
       "        // Pass the mpl event to the overridden (by mpl) onmessage function.\n",
       "        ws.onmessage(msg['content']['data']);\n",
       "    });\n",
       "    return ws;\n",
       "};\n",
       "\n",
       "mpl.mpl_figure_comm = function (comm, msg) {\n",
       "    // This is the function which gets called when the mpl process\n",
       "    // starts-up an IPython Comm through the \"matplotlib\" channel.\n",
       "\n",
       "    var id = msg.content.data.id;\n",
       "    // Get hold of the div created by the display call when the Comm\n",
       "    // socket was opened in Python.\n",
       "    var element = document.getElementById(id);\n",
       "    var ws_proxy = comm_websocket_adapter(comm);\n",
       "\n",
       "    function ondownload(figure, _format) {\n",
       "        window.open(figure.canvas.toDataURL());\n",
       "    }\n",
       "\n",
       "    var fig = new mpl.figure(id, ws_proxy, ondownload, element);\n",
       "\n",
       "    // Call onopen now - mpl needs it, as it is assuming we've passed it a real\n",
       "    // web socket which is closed, not our websocket->open comm proxy.\n",
       "    ws_proxy.onopen();\n",
       "\n",
       "    fig.parent_element = element;\n",
       "    fig.cell_info = mpl.find_output_cell(\"<div id='\" + id + \"'></div>\");\n",
       "    if (!fig.cell_info) {\n",
       "        console.error('Failed to find cell for figure', id, fig);\n",
       "        return;\n",
       "    }\n",
       "    fig.cell_info[0].output_area.element.one(\n",
       "        'cleared',\n",
       "        { fig: fig },\n",
       "        fig._remove_fig_handler\n",
       "    );\n",
       "};\n",
       "\n",
       "mpl.figure.prototype.handle_close = function (fig, msg) {\n",
       "    var width = fig.canvas.width / fig.ratio;\n",
       "    fig.cell_info[0].output_area.element.off(\n",
       "        'cleared',\n",
       "        fig._remove_fig_handler\n",
       "    );\n",
       "\n",
       "    // Update the output cell to use the data from the current canvas.\n",
       "    fig.push_to_output();\n",
       "    var dataURL = fig.canvas.toDataURL();\n",
       "    // Re-enable the keyboard manager in IPython - without this line, in FF,\n",
       "    // the notebook keyboard shortcuts fail.\n",
       "    IPython.keyboard_manager.enable();\n",
       "    fig.parent_element.innerHTML =\n",
       "        '<img src=\"' + dataURL + '\" width=\"' + width + '\">';\n",
       "    fig.close_ws(fig, msg);\n",
       "};\n",
       "\n",
       "mpl.figure.prototype.close_ws = function (fig, msg) {\n",
       "    fig.send_message('closing', msg);\n",
       "    // fig.ws.close()\n",
       "};\n",
       "\n",
       "mpl.figure.prototype.push_to_output = function (_remove_interactive) {\n",
       "    // Turn the data on the canvas into data in the output cell.\n",
       "    var width = this.canvas.width / this.ratio;\n",
       "    var dataURL = this.canvas.toDataURL();\n",
       "    this.cell_info[1]['text/html'] =\n",
       "        '<img src=\"' + dataURL + '\" width=\"' + width + '\">';\n",
       "};\n",
       "\n",
       "mpl.figure.prototype.updated_canvas_event = function () {\n",
       "    // Tell IPython that the notebook contents must change.\n",
       "    IPython.notebook.set_dirty(true);\n",
       "    this.send_message('ack', {});\n",
       "    var fig = this;\n",
       "    // Wait a second, then push the new image to the DOM so\n",
       "    // that it is saved nicely (might be nice to debounce this).\n",
       "    setTimeout(function () {\n",
       "        fig.push_to_output();\n",
       "    }, 1000);\n",
       "};\n",
       "\n",
       "mpl.figure.prototype._init_toolbar = function () {\n",
       "    var fig = this;\n",
       "\n",
       "    var toolbar = document.createElement('div');\n",
       "    toolbar.classList = 'btn-toolbar';\n",
       "    this.root.appendChild(toolbar);\n",
       "\n",
       "    function on_click_closure(name) {\n",
       "        return function (_event) {\n",
       "            return fig.toolbar_button_onclick(name);\n",
       "        };\n",
       "    }\n",
       "\n",
       "    function on_mouseover_closure(tooltip) {\n",
       "        return function (event) {\n",
       "            if (!event.currentTarget.disabled) {\n",
       "                return fig.toolbar_button_onmouseover(tooltip);\n",
       "            }\n",
       "        };\n",
       "    }\n",
       "\n",
       "    fig.buttons = {};\n",
       "    var buttonGroup = document.createElement('div');\n",
       "    buttonGroup.classList = 'btn-group';\n",
       "    var button;\n",
       "    for (var toolbar_ind in mpl.toolbar_items) {\n",
       "        var name = mpl.toolbar_items[toolbar_ind][0];\n",
       "        var tooltip = mpl.toolbar_items[toolbar_ind][1];\n",
       "        var image = mpl.toolbar_items[toolbar_ind][2];\n",
       "        var method_name = mpl.toolbar_items[toolbar_ind][3];\n",
       "\n",
       "        if (!name) {\n",
       "            /* Instead of a spacer, we start a new button group. */\n",
       "            if (buttonGroup.hasChildNodes()) {\n",
       "                toolbar.appendChild(buttonGroup);\n",
       "            }\n",
       "            buttonGroup = document.createElement('div');\n",
       "            buttonGroup.classList = 'btn-group';\n",
       "            continue;\n",
       "        }\n",
       "\n",
       "        button = fig.buttons[name] = document.createElement('button');\n",
       "        button.classList = 'btn btn-default';\n",
       "        button.href = '#';\n",
       "        button.title = name;\n",
       "        button.innerHTML = '<i class=\"fa ' + image + ' fa-lg\"></i>';\n",
       "        button.addEventListener('click', on_click_closure(method_name));\n",
       "        button.addEventListener('mouseover', on_mouseover_closure(tooltip));\n",
       "        buttonGroup.appendChild(button);\n",
       "    }\n",
       "\n",
       "    if (buttonGroup.hasChildNodes()) {\n",
       "        toolbar.appendChild(buttonGroup);\n",
       "    }\n",
       "\n",
       "    // Add the status bar.\n",
       "    var status_bar = document.createElement('span');\n",
       "    status_bar.classList = 'mpl-message pull-right';\n",
       "    toolbar.appendChild(status_bar);\n",
       "    this.message = status_bar;\n",
       "\n",
       "    // Add the close button to the window.\n",
       "    var buttongrp = document.createElement('div');\n",
       "    buttongrp.classList = 'btn-group inline pull-right';\n",
       "    button = document.createElement('button');\n",
       "    button.classList = 'btn btn-mini btn-primary';\n",
       "    button.href = '#';\n",
       "    button.title = 'Stop Interaction';\n",
       "    button.innerHTML = '<i class=\"fa fa-power-off icon-remove icon-large\"></i>';\n",
       "    button.addEventListener('click', function (_evt) {\n",
       "        fig.handle_close(fig, {});\n",
       "    });\n",
       "    button.addEventListener(\n",
       "        'mouseover',\n",
       "        on_mouseover_closure('Stop Interaction')\n",
       "    );\n",
       "    buttongrp.appendChild(button);\n",
       "    var titlebar = this.root.querySelector('.ui-dialog-titlebar');\n",
       "    titlebar.insertBefore(buttongrp, titlebar.firstChild);\n",
       "};\n",
       "\n",
       "mpl.figure.prototype._remove_fig_handler = function (event) {\n",
       "    var fig = event.data.fig;\n",
       "    fig.close_ws(fig, {});\n",
       "};\n",
       "\n",
       "mpl.figure.prototype._root_extra_style = function (el) {\n",
       "    el.style.boxSizing = 'content-box'; // override notebook setting of border-box.\n",
       "};\n",
       "\n",
       "mpl.figure.prototype._canvas_extra_style = function (el) {\n",
       "    // this is important to make the div 'focusable\n",
       "    el.setAttribute('tabindex', 0);\n",
       "    // reach out to IPython and tell the keyboard manager to turn it's self\n",
       "    // off when our div gets focus\n",
       "\n",
       "    // location in version 3\n",
       "    if (IPython.notebook.keyboard_manager) {\n",
       "        IPython.notebook.keyboard_manager.register_events(el);\n",
       "    } else {\n",
       "        // location in version 2\n",
       "        IPython.keyboard_manager.register_events(el);\n",
       "    }\n",
       "};\n",
       "\n",
       "mpl.figure.prototype._key_event_extra = function (event, _name) {\n",
       "    var manager = IPython.notebook.keyboard_manager;\n",
       "    if (!manager) {\n",
       "        manager = IPython.keyboard_manager;\n",
       "    }\n",
       "\n",
       "    // Check for shift+enter\n",
       "    if (event.shiftKey && event.which === 13) {\n",
       "        this.canvas_div.blur();\n",
       "        // select the cell after this one\n",
       "        var index = IPython.notebook.find_cell_index(this.cell_info[0]);\n",
       "        IPython.notebook.select(index + 1);\n",
       "    }\n",
       "};\n",
       "\n",
       "mpl.figure.prototype.handle_save = function (fig, _msg) {\n",
       "    fig.ondownload(fig, null);\n",
       "};\n",
       "\n",
       "mpl.find_output_cell = function (html_output) {\n",
       "    // Return the cell and output element which can be found *uniquely* in the notebook.\n",
       "    // Note - this is a bit hacky, but it is done because the \"notebook_saving.Notebook\"\n",
       "    // IPython event is triggered only after the cells have been serialised, which for\n",
       "    // our purposes (turning an active figure into a static one), is too late.\n",
       "    var cells = IPython.notebook.get_cells();\n",
       "    var ncells = cells.length;\n",
       "    for (var i = 0; i < ncells; i++) {\n",
       "        var cell = cells[i];\n",
       "        if (cell.cell_type === 'code') {\n",
       "            for (var j = 0; j < cell.output_area.outputs.length; j++) {\n",
       "                var data = cell.output_area.outputs[j];\n",
       "                if (data.data) {\n",
       "                    // IPython >= 3 moved mimebundle to data attribute of output\n",
       "                    data = data.data;\n",
       "                }\n",
       "                if (data['text/html'] === html_output) {\n",
       "                    return [cell, data, j];\n",
       "                }\n",
       "            }\n",
       "        }\n",
       "    }\n",
       "};\n",
       "\n",
       "// Register the function which deals with the matplotlib target/channel.\n",
       "// The kernel may be null if the page has been refreshed.\n",
       "if (IPython.notebook.kernel !== null) {\n",
       "    IPython.notebook.kernel.comm_manager.register_target(\n",
       "        'matplotlib',\n",
       "        mpl.mpl_figure_comm\n",
       "    );\n",
       "}\n"
      ],
      "text/plain": [
       "<IPython.core.display.Javascript object>"
      ]
     },
     "metadata": {},
     "output_type": "display_data"
    },
    {
     "data": {
      "text/html": [
       "<img src=\"data:image/png;base64,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\" width=\"600\">"
      ],
      "text/plain": [
       "<IPython.core.display.HTML object>"
      ]
     },
     "metadata": {},
     "output_type": "display_data"
    }
   ],
   "source": [
    "import numpy as np\n",
    "import matplotlib.pyplot as plt\n",
    "from matplotlib.widgets import Slider\n",
    "from mpl_toolkits.mplot3d import Axes3D\n",
    "%matplotlib notebook\n",
    "class plot3dCube(object):\n",
    "    def __init__(self, origin, length, color):\n",
    "        # origin[x,y,z], length[Lx,Ly,Lz], \n",
    "        self.g = 1\n",
    "        self.origin = origin\n",
    "        self.length = length\n",
    "        #initial plot\n",
    "        self.updateCube(origin,length)\n",
    "        self.height = length[2]\n",
    "        # create plot figure\n",
    "        self.fig = plt.figure(figsize=(6,7))\n",
    "        self.ax = self.fig.add_subplot(111, projection='3d')\n",
    "        self.ax.set_xlim3d(-1, 0)\n",
    "        self.ax.set_ylim3d(-1, 0)\n",
    "        self.ax.set_zlim3d(-5, 10)\n",
    "        self.ax.set_xlabel('X')\n",
    "        self.ax.set_ylabel('Y')\n",
    "        self.ax.set_zlabel('Z')\n",
    "        # set color \n",
    "        self.color = color\n",
    "        # dictionary of surfaces and edges\n",
    "        self.dFrm = {}\n",
    "        # surface variable name\n",
    "        surface = \"self.surface\"\n",
    "        # edge variable name\n",
    "        edge = \"self.edge\"\n",
    "        # generate frame and edge plots\n",
    "        for i in range(len(self.sqrP)):\n",
    "            # number\n",
    "            n = str(i)\n",
    "            self.dFrm[surface+n], self.dFrm[edge+n] = self.initFrame(self.sqrP[i][:])\n",
    "        # slider plot\n",
    "        # adjust plot\n",
    "        plt.subplots_adjust(left = 0.1, bottom = 0.45)\n",
    "        # input the position of sliders\n",
    "        xSlider = plt.axes([0.2,0.2,0.5,0.03])\n",
    "        ySlider = plt.axes([0.2,0.15,0.5,0.03])\n",
    "        zSlider = plt.axes([0.2,0.1,0.5,0.03])\n",
    "        xSlider.set_xticks(np.array([90,180,270]), minor = True)\n",
    "        ySlider.set_xticks(np.array([1,2,3,4]), minor = True)\n",
    "        zSlider.set_xticks(np.array([1,2,3,4]), minor = True)\n",
    "        # input values and update graph\n",
    "        self.slider1 = Slider(xSlider, 't', 0, 4*np.pi*np.sqrt(5), valinit = 0, valstep = 0.1)\n",
    "        self.slider2 = Slider(ySlider, 'm', 1, 5, valinit = 1, valstep = 0.1)\n",
    "        self.slider3 = Slider(zSlider, 'k', 1, 5, valinit = 1, valstep = 0.1)\n",
    "        # updates the graph when input is changes\n",
    "        self.slider1.on_changed(self.updateGraph)\n",
    "        self.slider2.on_changed(self.updateGraph)\n",
    "        self.slider3.on_changed(self.updateGraph)\n",
    "    def updateCube(self,origin, length):\n",
    "        Lx,Ly,Lz = length\n",
    "        x1,y1,z1 = origin\n",
    "        x2,y2,z2 = [length[i]+origin[i] for i in range(3)]\n",
    "        # for A as X,Y,Z\n",
    "        # A_1212 uses [[x1, x2][x1,x2]]\n",
    "        # A_1122 is just X_1.T\n",
    "        # A_1111 all x1\n",
    "        # A_2222 all x2\n",
    "        r = [x1, x2]\n",
    "        X_1212 = np.array([r,r])\n",
    "        X_1111 = np.ones(4).reshape(2, 2)*x1\n",
    "        X_2222 = np.ones(4).reshape(2, 2)*x2\n",
    "        r = [y1, y2]\n",
    "        Y_1212, Y_1122 = np.meshgrid(r, r)\n",
    "        Y_1111 = np.ones(4).reshape(2, 2)*y1\n",
    "        Y_2222 = np.ones(4).reshape(2, 2)*y2\n",
    "        r = [z1, z2]\n",
    "        Z_1122 = np.array([r,r]).transpose()\n",
    "        Z_1111 = np.ones(4).reshape(2, 2)*z1\n",
    "        Z_2222 = np.ones(4).reshape(2, 2)*z2\n",
    "        # points of the cube\n",
    "        self.points = np.array([[x1, y1, z1],\n",
    "                               [x2, y1, z1],\n",
    "                               [x2, y2, z1],\n",
    "                               [x1, y2, z1],\n",
    "                               [x1, y1, z2],\n",
    "                               [x2, y1, z2],\n",
    "                               [x2, y2, z2],\n",
    "                               [x1, y2, z2]])\n",
    "        # square points for surface, edges\n",
    "        self.sqrP = [[X_1212,Y_1122,Z_1111],[X_1212,Y_1122,Z_2222],\n",
    "                     [X_1212,Y_1111,Z_1122],[X_1212,Y_2222,Z_1122],\n",
    "                     [X_1111,Y_1212,Z_1122],[X_2222,Y_1212,Z_1122]]\n",
    "    def initFrame(self, sqrP):\n",
    "        surface = self.ax.plot_surface(sqrP[0],sqrP[1],sqrP[2],alpha=0.5,color=self.color[0])\n",
    "        edge = self.ax.plot_wireframe(sqrP[0],sqrP[1],sqrP[2],alpha=0.5,color=self.color[1])\n",
    "        return surface, edge\n",
    "    def updateGraph(self, event):\n",
    "        t, m, k = self.slider1.val, self.slider2.val, self.slider3.val\n",
    "        g = self.g\n",
    "        z = (g*m-g*m*np.cos(np.sqrt(k/m)*t))/k\n",
    "        self.origin[2] = z\n",
    "        self.length[2] = self.height - z\n",
    "        self.updateCube(self.origin, self.length)\n",
    "        self.updateFrames()\n",
    "    def updateFrame(self, surface, edge, X, Y, Z):\n",
    "        #destory previous surfaces and edges\n",
    "        surface.remove()\n",
    "        edge.remove()\n",
    "        # plot surfaces and edges\n",
    "        surface = self.ax.plot_surface(X,Y,Z, alpha = 0.5, color = self.color[0])\n",
    "        edge = self.ax.plot_wireframe(X,Y,Z, alpha = 0.5, color = self.color[1])\n",
    "        return surface, edge\n",
    "    def updateFrames(self):        \n",
    "        surface = \"self.surface\"\n",
    "        edge = \"self.edge\"\n",
    "        # destroy current surface and edge, new surface and edge\n",
    "        for j in range(6):\n",
    "            n = str(j)\n",
    "            self.dFrm[surface+n], self.dFrm[edge+n]= self.updateFrame(self.dFrm[surface+n],self.dFrm[edge+n], \n",
    "                                                             self.sqrP[j][0],self.sqrP[j][1],self.sqrP[j][2])\n",
    "        plt.draw()\n",
    "        plt.pause(.01)\n",
    "# main function\n",
    "p = plot3dCube([0,0,0], [-1,-1,-5],[\"grey\",\"black\"])"
   ]
  },
  {
   "cell_type": "markdown",
   "metadata": {},
   "source": [
    "9.1.5.1"
   ]
  },
  {
   "cell_type": "code",
   "execution_count": 4,
   "metadata": {
    "scrolled": false
   },
   "outputs": [
    {
     "data": {
      "application/javascript": [
       "/* Put everything inside the global mpl namespace */\n",
       "/* global mpl */\n",
       "window.mpl = {};\n",
       "\n",
       "mpl.get_websocket_type = function () {\n",
       "    if (typeof WebSocket !== 'undefined') {\n",
       "        return WebSocket;\n",
       "    } else if (typeof MozWebSocket !== 'undefined') {\n",
       "        return MozWebSocket;\n",
       "    } else {\n",
       "        alert(\n",
       "            'Your browser does not have WebSocket support. ' +\n",
       "                'Please try Chrome, Safari or Firefox ≥ 6. ' +\n",
       "                'Firefox 4 and 5 are also supported but you ' +\n",
       "                'have to enable WebSockets in about:config.'\n",
       "        );\n",
       "    }\n",
       "};\n",
       "\n",
       "mpl.figure = function (figure_id, websocket, ondownload, parent_element) {\n",
       "    this.id = figure_id;\n",
       "\n",
       "    this.ws = websocket;\n",
       "\n",
       "    this.supports_binary = this.ws.binaryType !== undefined;\n",
       "\n",
       "    if (!this.supports_binary) {\n",
       "        var warnings = document.getElementById('mpl-warnings');\n",
       "        if (warnings) {\n",
       "            warnings.style.display = 'block';\n",
       "            warnings.textContent =\n",
       "                'This browser does not support binary websocket messages. ' +\n",
       "                'Performance may be slow.';\n",
       "        }\n",
       "    }\n",
       "\n",
       "    this.imageObj = new Image();\n",
       "\n",
       "    this.context = undefined;\n",
       "    this.message = undefined;\n",
       "    this.canvas = undefined;\n",
       "    this.rubberband_canvas = undefined;\n",
       "    this.rubberband_context = undefined;\n",
       "    this.format_dropdown = undefined;\n",
       "\n",
       "    this.image_mode = 'full';\n",
       "\n",
       "    this.root = document.createElement('div');\n",
       "    this.root.setAttribute('style', 'display: inline-block');\n",
       "    this._root_extra_style(this.root);\n",
       "\n",
       "    parent_element.appendChild(this.root);\n",
       "\n",
       "    this._init_header(this);\n",
       "    this._init_canvas(this);\n",
       "    this._init_toolbar(this);\n",
       "\n",
       "    var fig = this;\n",
       "\n",
       "    this.waiting = false;\n",
       "\n",
       "    this.ws.onopen = function () {\n",
       "        fig.send_message('supports_binary', { value: fig.supports_binary });\n",
       "        fig.send_message('send_image_mode', {});\n",
       "        if (fig.ratio !== 1) {\n",
       "            fig.send_message('set_dpi_ratio', { dpi_ratio: fig.ratio });\n",
       "        }\n",
       "        fig.send_message('refresh', {});\n",
       "    };\n",
       "\n",
       "    this.imageObj.onload = function () {\n",
       "        if (fig.image_mode === 'full') {\n",
       "            // Full images could contain transparency (where diff images\n",
       "            // almost always do), so we need to clear the canvas so that\n",
       "            // there is no ghosting.\n",
       "            fig.context.clearRect(0, 0, fig.canvas.width, fig.canvas.height);\n",
       "        }\n",
       "        fig.context.drawImage(fig.imageObj, 0, 0);\n",
       "    };\n",
       "\n",
       "    this.imageObj.onunload = function () {\n",
       "        fig.ws.close();\n",
       "    };\n",
       "\n",
       "    this.ws.onmessage = this._make_on_message_function(this);\n",
       "\n",
       "    this.ondownload = ondownload;\n",
       "};\n",
       "\n",
       "mpl.figure.prototype._init_header = function () {\n",
       "    var titlebar = document.createElement('div');\n",
       "    titlebar.classList =\n",
       "        'ui-dialog-titlebar ui-widget-header ui-corner-all ui-helper-clearfix';\n",
       "    var titletext = document.createElement('div');\n",
       "    titletext.classList = 'ui-dialog-title';\n",
       "    titletext.setAttribute(\n",
       "        'style',\n",
       "        'width: 100%; text-align: center; padding: 3px;'\n",
       "    );\n",
       "    titlebar.appendChild(titletext);\n",
       "    this.root.appendChild(titlebar);\n",
       "    this.header = titletext;\n",
       "};\n",
       "\n",
       "mpl.figure.prototype._canvas_extra_style = function (_canvas_div) {};\n",
       "\n",
       "mpl.figure.prototype._root_extra_style = function (_canvas_div) {};\n",
       "\n",
       "mpl.figure.prototype._init_canvas = function () {\n",
       "    var fig = this;\n",
       "\n",
       "    var canvas_div = (this.canvas_div = document.createElement('div'));\n",
       "    canvas_div.setAttribute(\n",
       "        'style',\n",
       "        'border: 1px solid #ddd;' +\n",
       "            'box-sizing: content-box;' +\n",
       "            'clear: both;' +\n",
       "            'min-height: 1px;' +\n",
       "            'min-width: 1px;' +\n",
       "            'outline: 0;' +\n",
       "            'overflow: hidden;' +\n",
       "            'position: relative;' +\n",
       "            'resize: both;'\n",
       "    );\n",
       "\n",
       "    function on_keyboard_event_closure(name) {\n",
       "        return function (event) {\n",
       "            return fig.key_event(event, name);\n",
       "        };\n",
       "    }\n",
       "\n",
       "    canvas_div.addEventListener(\n",
       "        'keydown',\n",
       "        on_keyboard_event_closure('key_press')\n",
       "    );\n",
       "    canvas_div.addEventListener(\n",
       "        'keyup',\n",
       "        on_keyboard_event_closure('key_release')\n",
       "    );\n",
       "\n",
       "    this._canvas_extra_style(canvas_div);\n",
       "    this.root.appendChild(canvas_div);\n",
       "\n",
       "    var canvas = (this.canvas = document.createElement('canvas'));\n",
       "    canvas.classList.add('mpl-canvas');\n",
       "    canvas.setAttribute('style', 'box-sizing: content-box;');\n",
       "\n",
       "    this.context = canvas.getContext('2d');\n",
       "\n",
       "    var backingStore =\n",
       "        this.context.backingStorePixelRatio ||\n",
       "        this.context.webkitBackingStorePixelRatio ||\n",
       "        this.context.mozBackingStorePixelRatio ||\n",
       "        this.context.msBackingStorePixelRatio ||\n",
       "        this.context.oBackingStorePixelRatio ||\n",
       "        this.context.backingStorePixelRatio ||\n",
       "        1;\n",
       "\n",
       "    this.ratio = (window.devicePixelRatio || 1) / backingStore;\n",
       "    if (this.ratio !== 1) {\n",
       "        fig.send_message('set_dpi_ratio', { dpi_ratio: this.ratio });\n",
       "    }\n",
       "\n",
       "    var rubberband_canvas = (this.rubberband_canvas = document.createElement(\n",
       "        'canvas'\n",
       "    ));\n",
       "    rubberband_canvas.setAttribute(\n",
       "        'style',\n",
       "        'box-sizing: content-box; position: absolute; left: 0; top: 0; z-index: 1;'\n",
       "    );\n",
       "\n",
       "    var resizeObserver = new ResizeObserver(function (entries) {\n",
       "        var nentries = entries.length;\n",
       "        for (var i = 0; i < nentries; i++) {\n",
       "            var entry = entries[i];\n",
       "            var width, height;\n",
       "            if (entry.contentBoxSize) {\n",
       "                if (entry.contentBoxSize instanceof Array) {\n",
       "                    // Chrome 84 implements new version of spec.\n",
       "                    width = entry.contentBoxSize[0].inlineSize;\n",
       "                    height = entry.contentBoxSize[0].blockSize;\n",
       "                } else {\n",
       "                    // Firefox implements old version of spec.\n",
       "                    width = entry.contentBoxSize.inlineSize;\n",
       "                    height = entry.contentBoxSize.blockSize;\n",
       "                }\n",
       "            } else {\n",
       "                // Chrome <84 implements even older version of spec.\n",
       "                width = entry.contentRect.width;\n",
       "                height = entry.contentRect.height;\n",
       "            }\n",
       "\n",
       "            // Keep the size of the canvas and rubber band canvas in sync with\n",
       "            // the canvas container.\n",
       "            if (entry.devicePixelContentBoxSize) {\n",
       "                // Chrome 84 implements new version of spec.\n",
       "                canvas.setAttribute(\n",
       "                    'width',\n",
       "                    entry.devicePixelContentBoxSize[0].inlineSize\n",
       "                );\n",
       "                canvas.setAttribute(\n",
       "                    'height',\n",
       "                    entry.devicePixelContentBoxSize[0].blockSize\n",
       "                );\n",
       "            } else {\n",
       "                canvas.setAttribute('width', width * fig.ratio);\n",
       "                canvas.setAttribute('height', height * fig.ratio);\n",
       "            }\n",
       "            canvas.setAttribute(\n",
       "                'style',\n",
       "                'width: ' + width + 'px; height: ' + height + 'px;'\n",
       "            );\n",
       "\n",
       "            rubberband_canvas.setAttribute('width', width);\n",
       "            rubberband_canvas.setAttribute('height', height);\n",
       "\n",
       "            // And update the size in Python. We ignore the initial 0/0 size\n",
       "            // that occurs as the element is placed into the DOM, which should\n",
       "            // otherwise not happen due to the minimum size styling.\n",
       "            if (width != 0 && height != 0) {\n",
       "                fig.request_resize(width, height);\n",
       "            }\n",
       "        }\n",
       "    });\n",
       "    resizeObserver.observe(canvas_div);\n",
       "\n",
       "    function on_mouse_event_closure(name) {\n",
       "        return function (event) {\n",
       "            return fig.mouse_event(event, name);\n",
       "        };\n",
       "    }\n",
       "\n",
       "    rubberband_canvas.addEventListener(\n",
       "        'mousedown',\n",
       "        on_mouse_event_closure('button_press')\n",
       "    );\n",
       "    rubberband_canvas.addEventListener(\n",
       "        'mouseup',\n",
       "        on_mouse_event_closure('button_release')\n",
       "    );\n",
       "    // Throttle sequential mouse events to 1 every 20ms.\n",
       "    rubberband_canvas.addEventListener(\n",
       "        'mousemove',\n",
       "        on_mouse_event_closure('motion_notify')\n",
       "    );\n",
       "\n",
       "    rubberband_canvas.addEventListener(\n",
       "        'mouseenter',\n",
       "        on_mouse_event_closure('figure_enter')\n",
       "    );\n",
       "    rubberband_canvas.addEventListener(\n",
       "        'mouseleave',\n",
       "        on_mouse_event_closure('figure_leave')\n",
       "    );\n",
       "\n",
       "    canvas_div.addEventListener('wheel', function (event) {\n",
       "        if (event.deltaY < 0) {\n",
       "            event.step = 1;\n",
       "        } else {\n",
       "            event.step = -1;\n",
       "        }\n",
       "        on_mouse_event_closure('scroll')(event);\n",
       "    });\n",
       "\n",
       "    canvas_div.appendChild(canvas);\n",
       "    canvas_div.appendChild(rubberband_canvas);\n",
       "\n",
       "    this.rubberband_context = rubberband_canvas.getContext('2d');\n",
       "    this.rubberband_context.strokeStyle = '#000000';\n",
       "\n",
       "    this._resize_canvas = function (width, height, forward) {\n",
       "        if (forward) {\n",
       "            canvas_div.style.width = width + 'px';\n",
       "            canvas_div.style.height = height + 'px';\n",
       "        }\n",
       "    };\n",
       "\n",
       "    // Disable right mouse context menu.\n",
       "    this.rubberband_canvas.addEventListener('contextmenu', function (_e) {\n",
       "        event.preventDefault();\n",
       "        return false;\n",
       "    });\n",
       "\n",
       "    function set_focus() {\n",
       "        canvas.focus();\n",
       "        canvas_div.focus();\n",
       "    }\n",
       "\n",
       "    window.setTimeout(set_focus, 100);\n",
       "};\n",
       "\n",
       "mpl.figure.prototype._init_toolbar = function () {\n",
       "    var fig = this;\n",
       "\n",
       "    var toolbar = document.createElement('div');\n",
       "    toolbar.classList = 'mpl-toolbar';\n",
       "    this.root.appendChild(toolbar);\n",
       "\n",
       "    function on_click_closure(name) {\n",
       "        return function (_event) {\n",
       "            return fig.toolbar_button_onclick(name);\n",
       "        };\n",
       "    }\n",
       "\n",
       "    function on_mouseover_closure(tooltip) {\n",
       "        return function (event) {\n",
       "            if (!event.currentTarget.disabled) {\n",
       "                return fig.toolbar_button_onmouseover(tooltip);\n",
       "            }\n",
       "        };\n",
       "    }\n",
       "\n",
       "    fig.buttons = {};\n",
       "    var buttonGroup = document.createElement('div');\n",
       "    buttonGroup.classList = 'mpl-button-group';\n",
       "    for (var toolbar_ind in mpl.toolbar_items) {\n",
       "        var name = mpl.toolbar_items[toolbar_ind][0];\n",
       "        var tooltip = mpl.toolbar_items[toolbar_ind][1];\n",
       "        var image = mpl.toolbar_items[toolbar_ind][2];\n",
       "        var method_name = mpl.toolbar_items[toolbar_ind][3];\n",
       "\n",
       "        if (!name) {\n",
       "            /* Instead of a spacer, we start a new button group. */\n",
       "            if (buttonGroup.hasChildNodes()) {\n",
       "                toolbar.appendChild(buttonGroup);\n",
       "            }\n",
       "            buttonGroup = document.createElement('div');\n",
       "            buttonGroup.classList = 'mpl-button-group';\n",
       "            continue;\n",
       "        }\n",
       "\n",
       "        var button = (fig.buttons[name] = document.createElement('button'));\n",
       "        button.classList = 'mpl-widget';\n",
       "        button.setAttribute('role', 'button');\n",
       "        button.setAttribute('aria-disabled', 'false');\n",
       "        button.addEventListener('click', on_click_closure(method_name));\n",
       "        button.addEventListener('mouseover', on_mouseover_closure(tooltip));\n",
       "\n",
       "        var icon_img = document.createElement('img');\n",
       "        icon_img.src = '_images/' + image + '.png';\n",
       "        icon_img.srcset = '_images/' + image + '_large.png 2x';\n",
       "        icon_img.alt = tooltip;\n",
       "        button.appendChild(icon_img);\n",
       "\n",
       "        buttonGroup.appendChild(button);\n",
       "    }\n",
       "\n",
       "    if (buttonGroup.hasChildNodes()) {\n",
       "        toolbar.appendChild(buttonGroup);\n",
       "    }\n",
       "\n",
       "    var fmt_picker = document.createElement('select');\n",
       "    fmt_picker.classList = 'mpl-widget';\n",
       "    toolbar.appendChild(fmt_picker);\n",
       "    this.format_dropdown = fmt_picker;\n",
       "\n",
       "    for (var ind in mpl.extensions) {\n",
       "        var fmt = mpl.extensions[ind];\n",
       "        var option = document.createElement('option');\n",
       "        option.selected = fmt === mpl.default_extension;\n",
       "        option.innerHTML = fmt;\n",
       "        fmt_picker.appendChild(option);\n",
       "    }\n",
       "\n",
       "    var status_bar = document.createElement('span');\n",
       "    status_bar.classList = 'mpl-message';\n",
       "    toolbar.appendChild(status_bar);\n",
       "    this.message = status_bar;\n",
       "};\n",
       "\n",
       "mpl.figure.prototype.request_resize = function (x_pixels, y_pixels) {\n",
       "    // Request matplotlib to resize the figure. Matplotlib will then trigger a resize in the client,\n",
       "    // which will in turn request a refresh of the image.\n",
       "    this.send_message('resize', { width: x_pixels, height: y_pixels });\n",
       "};\n",
       "\n",
       "mpl.figure.prototype.send_message = function (type, properties) {\n",
       "    properties['type'] = type;\n",
       "    properties['figure_id'] = this.id;\n",
       "    this.ws.send(JSON.stringify(properties));\n",
       "};\n",
       "\n",
       "mpl.figure.prototype.send_draw_message = function () {\n",
       "    if (!this.waiting) {\n",
       "        this.waiting = true;\n",
       "        this.ws.send(JSON.stringify({ type: 'draw', figure_id: this.id }));\n",
       "    }\n",
       "};\n",
       "\n",
       "mpl.figure.prototype.handle_save = function (fig, _msg) {\n",
       "    var format_dropdown = fig.format_dropdown;\n",
       "    var format = format_dropdown.options[format_dropdown.selectedIndex].value;\n",
       "    fig.ondownload(fig, format);\n",
       "};\n",
       "\n",
       "mpl.figure.prototype.handle_resize = function (fig, msg) {\n",
       "    var size = msg['size'];\n",
       "    if (size[0] !== fig.canvas.width || size[1] !== fig.canvas.height) {\n",
       "        fig._resize_canvas(size[0], size[1], msg['forward']);\n",
       "        fig.send_message('refresh', {});\n",
       "    }\n",
       "};\n",
       "\n",
       "mpl.figure.prototype.handle_rubberband = function (fig, msg) {\n",
       "    var x0 = msg['x0'] / fig.ratio;\n",
       "    var y0 = (fig.canvas.height - msg['y0']) / fig.ratio;\n",
       "    var x1 = msg['x1'] / fig.ratio;\n",
       "    var y1 = (fig.canvas.height - msg['y1']) / fig.ratio;\n",
       "    x0 = Math.floor(x0) + 0.5;\n",
       "    y0 = Math.floor(y0) + 0.5;\n",
       "    x1 = Math.floor(x1) + 0.5;\n",
       "    y1 = Math.floor(y1) + 0.5;\n",
       "    var min_x = Math.min(x0, x1);\n",
       "    var min_y = Math.min(y0, y1);\n",
       "    var width = Math.abs(x1 - x0);\n",
       "    var height = Math.abs(y1 - y0);\n",
       "\n",
       "    fig.rubberband_context.clearRect(\n",
       "        0,\n",
       "        0,\n",
       "        fig.canvas.width / fig.ratio,\n",
       "        fig.canvas.height / fig.ratio\n",
       "    );\n",
       "\n",
       "    fig.rubberband_context.strokeRect(min_x, min_y, width, height);\n",
       "};\n",
       "\n",
       "mpl.figure.prototype.handle_figure_label = function (fig, msg) {\n",
       "    // Updates the figure title.\n",
       "    fig.header.textContent = msg['label'];\n",
       "};\n",
       "\n",
       "mpl.figure.prototype.handle_cursor = function (fig, msg) {\n",
       "    var cursor = msg['cursor'];\n",
       "    switch (cursor) {\n",
       "        case 0:\n",
       "            cursor = 'pointer';\n",
       "            break;\n",
       "        case 1:\n",
       "            cursor = 'default';\n",
       "            break;\n",
       "        case 2:\n",
       "            cursor = 'crosshair';\n",
       "            break;\n",
       "        case 3:\n",
       "            cursor = 'move';\n",
       "            break;\n",
       "    }\n",
       "    fig.rubberband_canvas.style.cursor = cursor;\n",
       "};\n",
       "\n",
       "mpl.figure.prototype.handle_message = function (fig, msg) {\n",
       "    fig.message.textContent = msg['message'];\n",
       "};\n",
       "\n",
       "mpl.figure.prototype.handle_draw = function (fig, _msg) {\n",
       "    // Request the server to send over a new figure.\n",
       "    fig.send_draw_message();\n",
       "};\n",
       "\n",
       "mpl.figure.prototype.handle_image_mode = function (fig, msg) {\n",
       "    fig.image_mode = msg['mode'];\n",
       "};\n",
       "\n",
       "mpl.figure.prototype.handle_history_buttons = function (fig, msg) {\n",
       "    for (var key in msg) {\n",
       "        if (!(key in fig.buttons)) {\n",
       "            continue;\n",
       "        }\n",
       "        fig.buttons[key].disabled = !msg[key];\n",
       "        fig.buttons[key].setAttribute('aria-disabled', !msg[key]);\n",
       "    }\n",
       "};\n",
       "\n",
       "mpl.figure.prototype.handle_navigate_mode = function (fig, msg) {\n",
       "    if (msg['mode'] === 'PAN') {\n",
       "        fig.buttons['Pan'].classList.add('active');\n",
       "        fig.buttons['Zoom'].classList.remove('active');\n",
       "    } else if (msg['mode'] === 'ZOOM') {\n",
       "        fig.buttons['Pan'].classList.remove('active');\n",
       "        fig.buttons['Zoom'].classList.add('active');\n",
       "    } else {\n",
       "        fig.buttons['Pan'].classList.remove('active');\n",
       "        fig.buttons['Zoom'].classList.remove('active');\n",
       "    }\n",
       "};\n",
       "\n",
       "mpl.figure.prototype.updated_canvas_event = function () {\n",
       "    // Called whenever the canvas gets updated.\n",
       "    this.send_message('ack', {});\n",
       "};\n",
       "\n",
       "// A function to construct a web socket function for onmessage handling.\n",
       "// Called in the figure constructor.\n",
       "mpl.figure.prototype._make_on_message_function = function (fig) {\n",
       "    return function socket_on_message(evt) {\n",
       "        if (evt.data instanceof Blob) {\n",
       "            /* FIXME: We get \"Resource interpreted as Image but\n",
       "             * transferred with MIME type text/plain:\" errors on\n",
       "             * Chrome.  But how to set the MIME type?  It doesn't seem\n",
       "             * to be part of the websocket stream */\n",
       "            evt.data.type = 'image/png';\n",
       "\n",
       "            /* Free the memory for the previous frames */\n",
       "            if (fig.imageObj.src) {\n",
       "                (window.URL || window.webkitURL).revokeObjectURL(\n",
       "                    fig.imageObj.src\n",
       "                );\n",
       "            }\n",
       "\n",
       "            fig.imageObj.src = (window.URL || window.webkitURL).createObjectURL(\n",
       "                evt.data\n",
       "            );\n",
       "            fig.updated_canvas_event();\n",
       "            fig.waiting = false;\n",
       "            return;\n",
       "        } else if (\n",
       "            typeof evt.data === 'string' &&\n",
       "            evt.data.slice(0, 21) === 'data:image/png;base64'\n",
       "        ) {\n",
       "            fig.imageObj.src = evt.data;\n",
       "            fig.updated_canvas_event();\n",
       "            fig.waiting = false;\n",
       "            return;\n",
       "        }\n",
       "\n",
       "        var msg = JSON.parse(evt.data);\n",
       "        var msg_type = msg['type'];\n",
       "\n",
       "        // Call the  \"handle_{type}\" callback, which takes\n",
       "        // the figure and JSON message as its only arguments.\n",
       "        try {\n",
       "            var callback = fig['handle_' + msg_type];\n",
       "        } catch (e) {\n",
       "            console.log(\n",
       "                \"No handler for the '\" + msg_type + \"' message type: \",\n",
       "                msg\n",
       "            );\n",
       "            return;\n",
       "        }\n",
       "\n",
       "        if (callback) {\n",
       "            try {\n",
       "                // console.log(\"Handling '\" + msg_type + \"' message: \", msg);\n",
       "                callback(fig, msg);\n",
       "            } catch (e) {\n",
       "                console.log(\n",
       "                    \"Exception inside the 'handler_\" + msg_type + \"' callback:\",\n",
       "                    e,\n",
       "                    e.stack,\n",
       "                    msg\n",
       "                );\n",
       "            }\n",
       "        }\n",
       "    };\n",
       "};\n",
       "\n",
       "// from http://stackoverflow.com/questions/1114465/getting-mouse-location-in-canvas\n",
       "mpl.findpos = function (e) {\n",
       "    //this section is from http://www.quirksmode.org/js/events_properties.html\n",
       "    var targ;\n",
       "    if (!e) {\n",
       "        e = window.event;\n",
       "    }\n",
       "    if (e.target) {\n",
       "        targ = e.target;\n",
       "    } else if (e.srcElement) {\n",
       "        targ = e.srcElement;\n",
       "    }\n",
       "    if (targ.nodeType === 3) {\n",
       "        // defeat Safari bug\n",
       "        targ = targ.parentNode;\n",
       "    }\n",
       "\n",
       "    // pageX,Y are the mouse positions relative to the document\n",
       "    var boundingRect = targ.getBoundingClientRect();\n",
       "    var x = e.pageX - (boundingRect.left + document.body.scrollLeft);\n",
       "    var y = e.pageY - (boundingRect.top + document.body.scrollTop);\n",
       "\n",
       "    return { x: x, y: y };\n",
       "};\n",
       "\n",
       "/*\n",
       " * return a copy of an object with only non-object keys\n",
       " * we need this to avoid circular references\n",
       " * http://stackoverflow.com/a/24161582/3208463\n",
       " */\n",
       "function simpleKeys(original) {\n",
       "    return Object.keys(original).reduce(function (obj, key) {\n",
       "        if (typeof original[key] !== 'object') {\n",
       "            obj[key] = original[key];\n",
       "        }\n",
       "        return obj;\n",
       "    }, {});\n",
       "}\n",
       "\n",
       "mpl.figure.prototype.mouse_event = function (event, name) {\n",
       "    var canvas_pos = mpl.findpos(event);\n",
       "\n",
       "    if (name === 'button_press') {\n",
       "        this.canvas.focus();\n",
       "        this.canvas_div.focus();\n",
       "    }\n",
       "\n",
       "    var x = canvas_pos.x * this.ratio;\n",
       "    var y = canvas_pos.y * this.ratio;\n",
       "\n",
       "    this.send_message(name, {\n",
       "        x: x,\n",
       "        y: y,\n",
       "        button: event.button,\n",
       "        step: event.step,\n",
       "        guiEvent: simpleKeys(event),\n",
       "    });\n",
       "\n",
       "    /* This prevents the web browser from automatically changing to\n",
       "     * the text insertion cursor when the button is pressed.  We want\n",
       "     * to control all of the cursor setting manually through the\n",
       "     * 'cursor' event from matplotlib */\n",
       "    event.preventDefault();\n",
       "    return false;\n",
       "};\n",
       "\n",
       "mpl.figure.prototype._key_event_extra = function (_event, _name) {\n",
       "    // Handle any extra behaviour associated with a key event\n",
       "};\n",
       "\n",
       "mpl.figure.prototype.key_event = function (event, name) {\n",
       "    // Prevent repeat events\n",
       "    if (name === 'key_press') {\n",
       "        if (event.which === this._key) {\n",
       "            return;\n",
       "        } else {\n",
       "            this._key = event.which;\n",
       "        }\n",
       "    }\n",
       "    if (name === 'key_release') {\n",
       "        this._key = null;\n",
       "    }\n",
       "\n",
       "    var value = '';\n",
       "    if (event.ctrlKey && event.which !== 17) {\n",
       "        value += 'ctrl+';\n",
       "    }\n",
       "    if (event.altKey && event.which !== 18) {\n",
       "        value += 'alt+';\n",
       "    }\n",
       "    if (event.shiftKey && event.which !== 16) {\n",
       "        value += 'shift+';\n",
       "    }\n",
       "\n",
       "    value += 'k';\n",
       "    value += event.which.toString();\n",
       "\n",
       "    this._key_event_extra(event, name);\n",
       "\n",
       "    this.send_message(name, { key: value, guiEvent: simpleKeys(event) });\n",
       "    return false;\n",
       "};\n",
       "\n",
       "mpl.figure.prototype.toolbar_button_onclick = function (name) {\n",
       "    if (name === 'download') {\n",
       "        this.handle_save(this, null);\n",
       "    } else {\n",
       "        this.send_message('toolbar_button', { name: name });\n",
       "    }\n",
       "};\n",
       "\n",
       "mpl.figure.prototype.toolbar_button_onmouseover = function (tooltip) {\n",
       "    this.message.textContent = tooltip;\n",
       "};\n",
       "mpl.toolbar_items = [[\"Home\", \"Reset original view\", \"fa fa-home icon-home\", \"home\"], [\"Back\", \"Back to previous view\", \"fa fa-arrow-left icon-arrow-left\", \"back\"], [\"Forward\", \"Forward to next view\", \"fa fa-arrow-right icon-arrow-right\", \"forward\"], [\"\", \"\", \"\", \"\"], [\"Pan\", \"Left button pans, Right button zooms\\nx/y fixes axis, CTRL fixes aspect\", \"fa fa-arrows icon-move\", \"pan\"], [\"Zoom\", \"Zoom to rectangle\\nx/y fixes axis, CTRL fixes aspect\", \"fa fa-square-o icon-check-empty\", \"zoom\"], [\"\", \"\", \"\", \"\"], [\"Download\", \"Download plot\", \"fa fa-floppy-o icon-save\", \"download\"]];\n",
       "\n",
       "mpl.extensions = [\"eps\", \"jpeg\", \"pdf\", \"png\", \"ps\", \"raw\", \"svg\", \"tif\"];\n",
       "\n",
       "mpl.default_extension = \"png\";/* global mpl */\n",
       "\n",
       "var comm_websocket_adapter = function (comm) {\n",
       "    // Create a \"websocket\"-like object which calls the given IPython comm\n",
       "    // object with the appropriate methods. Currently this is a non binary\n",
       "    // socket, so there is still some room for performance tuning.\n",
       "    var ws = {};\n",
       "\n",
       "    ws.close = function () {\n",
       "        comm.close();\n",
       "    };\n",
       "    ws.send = function (m) {\n",
       "        //console.log('sending', m);\n",
       "        comm.send(m);\n",
       "    };\n",
       "    // Register the callback with on_msg.\n",
       "    comm.on_msg(function (msg) {\n",
       "        //console.log('receiving', msg['content']['data'], msg);\n",
       "        // Pass the mpl event to the overridden (by mpl) onmessage function.\n",
       "        ws.onmessage(msg['content']['data']);\n",
       "    });\n",
       "    return ws;\n",
       "};\n",
       "\n",
       "mpl.mpl_figure_comm = function (comm, msg) {\n",
       "    // This is the function which gets called when the mpl process\n",
       "    // starts-up an IPython Comm through the \"matplotlib\" channel.\n",
       "\n",
       "    var id = msg.content.data.id;\n",
       "    // Get hold of the div created by the display call when the Comm\n",
       "    // socket was opened in Python.\n",
       "    var element = document.getElementById(id);\n",
       "    var ws_proxy = comm_websocket_adapter(comm);\n",
       "\n",
       "    function ondownload(figure, _format) {\n",
       "        window.open(figure.canvas.toDataURL());\n",
       "    }\n",
       "\n",
       "    var fig = new mpl.figure(id, ws_proxy, ondownload, element);\n",
       "\n",
       "    // Call onopen now - mpl needs it, as it is assuming we've passed it a real\n",
       "    // web socket which is closed, not our websocket->open comm proxy.\n",
       "    ws_proxy.onopen();\n",
       "\n",
       "    fig.parent_element = element;\n",
       "    fig.cell_info = mpl.find_output_cell(\"<div id='\" + id + \"'></div>\");\n",
       "    if (!fig.cell_info) {\n",
       "        console.error('Failed to find cell for figure', id, fig);\n",
       "        return;\n",
       "    }\n",
       "    fig.cell_info[0].output_area.element.one(\n",
       "        'cleared',\n",
       "        { fig: fig },\n",
       "        fig._remove_fig_handler\n",
       "    );\n",
       "};\n",
       "\n",
       "mpl.figure.prototype.handle_close = function (fig, msg) {\n",
       "    var width = fig.canvas.width / fig.ratio;\n",
       "    fig.cell_info[0].output_area.element.off(\n",
       "        'cleared',\n",
       "        fig._remove_fig_handler\n",
       "    );\n",
       "\n",
       "    // Update the output cell to use the data from the current canvas.\n",
       "    fig.push_to_output();\n",
       "    var dataURL = fig.canvas.toDataURL();\n",
       "    // Re-enable the keyboard manager in IPython - without this line, in FF,\n",
       "    // the notebook keyboard shortcuts fail.\n",
       "    IPython.keyboard_manager.enable();\n",
       "    fig.parent_element.innerHTML =\n",
       "        '<img src=\"' + dataURL + '\" width=\"' + width + '\">';\n",
       "    fig.close_ws(fig, msg);\n",
       "};\n",
       "\n",
       "mpl.figure.prototype.close_ws = function (fig, msg) {\n",
       "    fig.send_message('closing', msg);\n",
       "    // fig.ws.close()\n",
       "};\n",
       "\n",
       "mpl.figure.prototype.push_to_output = function (_remove_interactive) {\n",
       "    // Turn the data on the canvas into data in the output cell.\n",
       "    var width = this.canvas.width / this.ratio;\n",
       "    var dataURL = this.canvas.toDataURL();\n",
       "    this.cell_info[1]['text/html'] =\n",
       "        '<img src=\"' + dataURL + '\" width=\"' + width + '\">';\n",
       "};\n",
       "\n",
       "mpl.figure.prototype.updated_canvas_event = function () {\n",
       "    // Tell IPython that the notebook contents must change.\n",
       "    IPython.notebook.set_dirty(true);\n",
       "    this.send_message('ack', {});\n",
       "    var fig = this;\n",
       "    // Wait a second, then push the new image to the DOM so\n",
       "    // that it is saved nicely (might be nice to debounce this).\n",
       "    setTimeout(function () {\n",
       "        fig.push_to_output();\n",
       "    }, 1000);\n",
       "};\n",
       "\n",
       "mpl.figure.prototype._init_toolbar = function () {\n",
       "    var fig = this;\n",
       "\n",
       "    var toolbar = document.createElement('div');\n",
       "    toolbar.classList = 'btn-toolbar';\n",
       "    this.root.appendChild(toolbar);\n",
       "\n",
       "    function on_click_closure(name) {\n",
       "        return function (_event) {\n",
       "            return fig.toolbar_button_onclick(name);\n",
       "        };\n",
       "    }\n",
       "\n",
       "    function on_mouseover_closure(tooltip) {\n",
       "        return function (event) {\n",
       "            if (!event.currentTarget.disabled) {\n",
       "                return fig.toolbar_button_onmouseover(tooltip);\n",
       "            }\n",
       "        };\n",
       "    }\n",
       "\n",
       "    fig.buttons = {};\n",
       "    var buttonGroup = document.createElement('div');\n",
       "    buttonGroup.classList = 'btn-group';\n",
       "    var button;\n",
       "    for (var toolbar_ind in mpl.toolbar_items) {\n",
       "        var name = mpl.toolbar_items[toolbar_ind][0];\n",
       "        var tooltip = mpl.toolbar_items[toolbar_ind][1];\n",
       "        var image = mpl.toolbar_items[toolbar_ind][2];\n",
       "        var method_name = mpl.toolbar_items[toolbar_ind][3];\n",
       "\n",
       "        if (!name) {\n",
       "            /* Instead of a spacer, we start a new button group. */\n",
       "            if (buttonGroup.hasChildNodes()) {\n",
       "                toolbar.appendChild(buttonGroup);\n",
       "            }\n",
       "            buttonGroup = document.createElement('div');\n",
       "            buttonGroup.classList = 'btn-group';\n",
       "            continue;\n",
       "        }\n",
       "\n",
       "        button = fig.buttons[name] = document.createElement('button');\n",
       "        button.classList = 'btn btn-default';\n",
       "        button.href = '#';\n",
       "        button.title = name;\n",
       "        button.innerHTML = '<i class=\"fa ' + image + ' fa-lg\"></i>';\n",
       "        button.addEventListener('click', on_click_closure(method_name));\n",
       "        button.addEventListener('mouseover', on_mouseover_closure(tooltip));\n",
       "        buttonGroup.appendChild(button);\n",
       "    }\n",
       "\n",
       "    if (buttonGroup.hasChildNodes()) {\n",
       "        toolbar.appendChild(buttonGroup);\n",
       "    }\n",
       "\n",
       "    // Add the status bar.\n",
       "    var status_bar = document.createElement('span');\n",
       "    status_bar.classList = 'mpl-message pull-right';\n",
       "    toolbar.appendChild(status_bar);\n",
       "    this.message = status_bar;\n",
       "\n",
       "    // Add the close button to the window.\n",
       "    var buttongrp = document.createElement('div');\n",
       "    buttongrp.classList = 'btn-group inline pull-right';\n",
       "    button = document.createElement('button');\n",
       "    button.classList = 'btn btn-mini btn-primary';\n",
       "    button.href = '#';\n",
       "    button.title = 'Stop Interaction';\n",
       "    button.innerHTML = '<i class=\"fa fa-power-off icon-remove icon-large\"></i>';\n",
       "    button.addEventListener('click', function (_evt) {\n",
       "        fig.handle_close(fig, {});\n",
       "    });\n",
       "    button.addEventListener(\n",
       "        'mouseover',\n",
       "        on_mouseover_closure('Stop Interaction')\n",
       "    );\n",
       "    buttongrp.appendChild(button);\n",
       "    var titlebar = this.root.querySelector('.ui-dialog-titlebar');\n",
       "    titlebar.insertBefore(buttongrp, titlebar.firstChild);\n",
       "};\n",
       "\n",
       "mpl.figure.prototype._remove_fig_handler = function (event) {\n",
       "    var fig = event.data.fig;\n",
       "    fig.close_ws(fig, {});\n",
       "};\n",
       "\n",
       "mpl.figure.prototype._root_extra_style = function (el) {\n",
       "    el.style.boxSizing = 'content-box'; // override notebook setting of border-box.\n",
       "};\n",
       "\n",
       "mpl.figure.prototype._canvas_extra_style = function (el) {\n",
       "    // this is important to make the div 'focusable\n",
       "    el.setAttribute('tabindex', 0);\n",
       "    // reach out to IPython and tell the keyboard manager to turn it's self\n",
       "    // off when our div gets focus\n",
       "\n",
       "    // location in version 3\n",
       "    if (IPython.notebook.keyboard_manager) {\n",
       "        IPython.notebook.keyboard_manager.register_events(el);\n",
       "    } else {\n",
       "        // location in version 2\n",
       "        IPython.keyboard_manager.register_events(el);\n",
       "    }\n",
       "};\n",
       "\n",
       "mpl.figure.prototype._key_event_extra = function (event, _name) {\n",
       "    var manager = IPython.notebook.keyboard_manager;\n",
       "    if (!manager) {\n",
       "        manager = IPython.keyboard_manager;\n",
       "    }\n",
       "\n",
       "    // Check for shift+enter\n",
       "    if (event.shiftKey && event.which === 13) {\n",
       "        this.canvas_div.blur();\n",
       "        // select the cell after this one\n",
       "        var index = IPython.notebook.find_cell_index(this.cell_info[0]);\n",
       "        IPython.notebook.select(index + 1);\n",
       "    }\n",
       "};\n",
       "\n",
       "mpl.figure.prototype.handle_save = function (fig, _msg) {\n",
       "    fig.ondownload(fig, null);\n",
       "};\n",
       "\n",
       "mpl.find_output_cell = function (html_output) {\n",
       "    // Return the cell and output element which can be found *uniquely* in the notebook.\n",
       "    // Note - this is a bit hacky, but it is done because the \"notebook_saving.Notebook\"\n",
       "    // IPython event is triggered only after the cells have been serialised, which for\n",
       "    // our purposes (turning an active figure into a static one), is too late.\n",
       "    var cells = IPython.notebook.get_cells();\n",
       "    var ncells = cells.length;\n",
       "    for (var i = 0; i < ncells; i++) {\n",
       "        var cell = cells[i];\n",
       "        if (cell.cell_type === 'code') {\n",
       "            for (var j = 0; j < cell.output_area.outputs.length; j++) {\n",
       "                var data = cell.output_area.outputs[j];\n",
       "                if (data.data) {\n",
       "                    // IPython >= 3 moved mimebundle to data attribute of output\n",
       "                    data = data.data;\n",
       "                }\n",
       "                if (data['text/html'] === html_output) {\n",
       "                    return [cell, data, j];\n",
       "                }\n",
       "            }\n",
       "        }\n",
       "    }\n",
       "};\n",
       "\n",
       "// Register the function which deals with the matplotlib target/channel.\n",
       "// The kernel may be null if the page has been refreshed.\n",
       "if (IPython.notebook.kernel !== null) {\n",
       "    IPython.notebook.kernel.comm_manager.register_target(\n",
       "        'matplotlib',\n",
       "        mpl.mpl_figure_comm\n",
       "    );\n",
       "}\n"
      ],
      "text/plain": [
       "<IPython.core.display.Javascript object>"
      ]
     },
     "metadata": {},
     "output_type": "display_data"
    },
    {
     "data": {
      "text/html": [
       "<img src=\"data:image/png;base64,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\" width=\"640\">"
      ],
      "text/plain": [
       "<IPython.core.display.HTML object>"
      ]
     },
     "metadata": {},
     "output_type": "display_data"
    },
    {
     "data": {
      "text/plain": [
       "'E_{full extension}'"
      ]
     },
     "metadata": {},
     "output_type": "display_data"
    },
    {
     "data": {
      "text/latex": [
       "$\\displaystyle 11458.3333333333$"
      ],
      "text/plain": [
       "11458.3333333333"
      ]
     },
     "metadata": {},
     "output_type": "display_data"
    },
    {
     "data": {
      "text/plain": [
       "'E_{full contraction}'"
      ]
     },
     "metadata": {},
     "output_type": "display_data"
    },
    {
     "data": {
      "text/latex": [
       "$\\displaystyle 7291.66666666667$"
      ],
      "text/plain": [
       "7291.66666666667"
      ]
     },
     "metadata": {},
     "output_type": "display_data"
    },
    {
     "data": {
      "text/plain": [
       "'Raphson method'"
      ]
     },
     "metadata": {},
     "output_type": "display_data"
    },
    {
     "data": {
      "text/plain": [
       "'@3kN, x ='"
      ]
     },
     "metadata": {},
     "output_type": "display_data"
    },
    {
     "data": {
      "text/plain": [
       "3.12097081244246"
      ]
     },
     "metadata": {},
     "output_type": "display_data"
    },
    {
     "data": {
      "text/plain": [
       "'@-1kN, x ='"
      ]
     },
     "metadata": {},
     "output_type": "display_data"
    },
    {
     "data": {
      "text/plain": [
       "-1.08427770537746"
      ]
     },
     "metadata": {},
     "output_type": "display_data"
    },
    {
     "data": {
      "text/plain": [
       "'Unstable behaviour of the spring'"
      ]
     },
     "metadata": {},
     "output_type": "display_data"
    },
    {
     "data": {
      "text/plain": [
       "'x ='"
      ]
     },
     "metadata": {},
     "output_type": "display_data"
    },
    {
     "data": {
      "text/plain": [
       "[-3.33333333333333, 5.00000000000000]"
      ]
     },
     "metadata": {},
     "output_type": "display_data"
    },
    {
     "data": {
      "text/plain": [
       "'Tension limits'"
      ]
     },
     "metadata": {},
     "output_type": "display_data"
    },
    {
     "data": {
      "text/plain": [
       "'f(-3.33) = '"
      ]
     },
     "metadata": {},
     "output_type": "display_data"
    },
    {
     "data": {
      "text/latex": [
       "$\\displaystyle -2037.03703703704$"
      ],
      "text/plain": [
       "-2037.03703703704"
      ]
     },
     "metadata": {},
     "output_type": "display_data"
    },
    {
     "data": {
      "text/plain": [
       "'f(5) ='"
      ]
     },
     "metadata": {},
     "output_type": "display_data"
    },
    {
     "data": {
      "text/latex": [
       "$\\displaystyle 3750$"
      ],
      "text/plain": [
       "3750"
      ]
     },
     "metadata": {},
     "output_type": "display_data"
    }
   ],
   "source": [
    "import sympy as sp\n",
    "import numpy as np\n",
    "from sympy import integrate, lambdify, solve\n",
    "from matplotlib import pyplot as plt\n",
    "from mpmath import findroot, mp\n",
    "mp.pretty = True\n",
    "x = sp.symbols(\"x\")\n",
    "f = 1000*x+50*x**2-20*x**3\n",
    "F = lambdify(x,f)\n",
    "xL = np.arange(-5,5,0.1)\n",
    "y = F(xL)\n",
    "fig, ax = plt.subplots()\n",
    "plt.xlabel(\"f(N)\")\n",
    "plt.ylabel(\"(mm)\")\n",
    "ax.plot(xL, y)\n",
    "ax.grid(True, which='both')\n",
    "ax.axhline(y = 0, color = 'k')\n",
    "ax.axvline(x = 0, color = 'k')\n",
    "display(\"E_{full extension}\",integrate(f,(x, 0, 5)).evalf())\n",
    "display(\"E_{full contraction}\",integrate(f,(x, 0, -5)).evalf())\n",
    "f1 = 1000*x+50*x**2-20*x**3-3000\n",
    "display(\"Raphson method\")\n",
    "func = lambdify(x, f1)\n",
    "sol = findroot(func,0)\n",
    "display(\"@3kN, x =\",sol)\n",
    "f2 = 1000*x+50*x**2-20*x**3+1000\n",
    "func = lambdify(x, f2)\n",
    "sol = findroot(func,0)\n",
    "display(\"@-1kN, x =\",sol)\n",
    "display(\"Unstable behaviour of the spring\")\n",
    "a = f.diff(x)\n",
    "sol = solve(a,x)\n",
    "display(\"x =\",[i.evalf() for i in sol])\n",
    "display(\"Tension limits\")\n",
    "display(\"f(-3.33) = \",f.subs({x:sol[0]}).evalf())\n",
    "display(\"f(5) =\",f.subs({x:sol[1]}))"
   ]
  },
  {
   "cell_type": "markdown",
   "metadata": {},
   "source": [
    "9.2.2.1"
   ]
  },
  {
   "cell_type": "code",
   "execution_count": 5,
   "metadata": {
    "scrolled": false
   },
   "outputs": [
    {
     "data": {
      "text/plain": [
       "'Q ='"
      ]
     },
     "metadata": {},
     "output_type": "display_data"
    },
    {
     "data": {
      "text/latex": [
       "$\\displaystyle \\left[\\begin{matrix}0 & 1 & 0\\\\-1 & 0 & 0\\\\0 & 0 & 1\\end{matrix}\\right]$"
      ],
      "text/plain": [
       "Matrix([\n",
       "[ 0, 1, 0],\n",
       "[-1, 0, 0],\n",
       "[ 0, 0, 1]])"
      ]
     },
     "metadata": {},
     "output_type": "display_data"
    },
    {
     "data": {
      "text/plain": [
       "'Matrix U appearing in the Right polar decomposition of the deformation gradient F'"
      ]
     },
     "metadata": {},
     "output_type": "display_data"
    },
    {
     "data": {
      "text/plain": [
       "'U ='"
      ]
     },
     "metadata": {},
     "output_type": "display_data"
    },
    {
     "data": {
      "text/latex": [
       "$\\displaystyle \\left[\\begin{matrix}\\epsilon_{a} t + 1 & 0 & 0\\\\0 & - \\epsilon_{b} t + 1 & 0\\\\0 & 0 & - \\epsilon_{c} t + 1\\end{matrix}\\right]$"
      ],
      "text/plain": [
       "Matrix([\n",
       "[epsilon_a*t + 1,                0,                0],\n",
       "[              0, -epsilon_b*t + 1,                0],\n",
       "[              0,                0, -epsilon_c*t + 1]])"
      ]
     },
     "metadata": {},
     "output_type": "display_data"
    },
    {
     "data": {
      "text/plain": [
       "'Udot ='"
      ]
     },
     "metadata": {},
     "output_type": "display_data"
    },
    {
     "data": {
      "text/latex": [
       "$\\displaystyle \\left[\\begin{matrix}\\epsilon_{a} & 0 & 0\\\\0 & - \\epsilon_{b} & 0\\\\0 & 0 & - \\epsilon_{c}\\end{matrix}\\right]$"
      ],
      "text/plain": [
       "Matrix([\n",
       "[epsilon_a,          0,          0],\n",
       "[        0, -epsilon_b,          0],\n",
       "[        0,          0, -epsilon_c]])"
      ]
     },
     "metadata": {},
     "output_type": "display_data"
    },
    {
     "data": {
      "text/plain": [
       "'Deformation gradient F ='"
      ]
     },
     "metadata": {},
     "output_type": "display_data"
    },
    {
     "data": {
      "text/latex": [
       "$\\displaystyle \\left[\\begin{matrix}0 & - \\epsilon_{b} t + 1 & 0\\\\- \\epsilon_{a} t - 1 & 0 & 0\\\\0 & 0 & - \\epsilon_{c} t + 1\\end{matrix}\\right]$"
      ],
      "text/plain": [
       "Matrix([\n",
       "[               0, -epsilon_b*t + 1,                0],\n",
       "[-epsilon_a*t - 1,                0,                0],\n",
       "[               0,                0, -epsilon_c*t + 1]])"
      ]
     },
     "metadata": {},
     "output_type": "display_data"
    },
    {
     "data": {
      "text/plain": [
       "'Matrix V appearing in the Right polar decomposition of the deformation gradient  F'"
      ]
     },
     "metadata": {},
     "output_type": "display_data"
    },
    {
     "data": {
      "text/plain": [
       "'V ='"
      ]
     },
     "metadata": {},
     "output_type": "display_data"
    },
    {
     "data": {
      "text/latex": [
       "$\\displaystyle \\left[\\begin{matrix}- \\epsilon_{b} t + 1 & 0 & 0\\\\0 & \\epsilon_{a} t + 1 & 0\\\\0 & 0 & - \\epsilon_{c} t + 1\\end{matrix}\\right]$"
      ],
      "text/plain": [
       "Matrix([\n",
       "[-epsilon_b*t + 1,               0,                0],\n",
       "[               0, epsilon_a*t + 1,                0],\n",
       "[               0,               0, -epsilon_c*t + 1]])"
      ]
     },
     "metadata": {},
     "output_type": "display_data"
    },
    {
     "data": {
      "text/plain": [
       "'Fdot ='"
      ]
     },
     "metadata": {},
     "output_type": "display_data"
    },
    {
     "data": {
      "text/latex": [
       "$\\displaystyle \\left[\\begin{matrix}0 & - \\epsilon_{b} & 0\\\\- \\epsilon_{a} & 0 & 0\\\\0 & 0 & - \\epsilon_{c}\\end{matrix}\\right]$"
      ],
      "text/plain": [
       "Matrix([\n",
       "[         0, -epsilon_b,          0],\n",
       "[-epsilon_a,          0,          0],\n",
       "[         0,          0, -epsilon_c]])"
      ]
     },
     "metadata": {},
     "output_type": "display_data"
    },
    {
     "data": {
      "text/plain": [
       "'L ='"
      ]
     },
     "metadata": {},
     "output_type": "display_data"
    },
    {
     "data": {
      "text/latex": [
       "$\\displaystyle \\left[\\begin{matrix}- \\frac{\\epsilon_{b}}{- \\epsilon_{b} t + 1} & 0 & 0\\\\0 & - \\frac{\\epsilon_{a}}{- \\epsilon_{a} t - 1} & 0\\\\0 & 0 & - \\frac{\\epsilon_{c}}{- \\epsilon_{c} t + 1}\\end{matrix}\\right]$"
      ],
      "text/plain": [
       "Matrix([\n",
       "[-epsilon_b/(-epsilon_b*t + 1),                             0,                             0],\n",
       "[                            0, -epsilon_a/(-epsilon_a*t - 1),                             0],\n",
       "[                            0,                             0, -epsilon_c/(-epsilon_c*t + 1)]])"
      ]
     },
     "metadata": {},
     "output_type": "display_data"
    },
    {
     "data": {
      "text/plain": [
       "'L @t=0.5 = '"
      ]
     },
     "metadata": {},
     "output_type": "display_data"
    },
    {
     "data": {
      "text/latex": [
       "$\\displaystyle \\left[\\begin{matrix}- \\frac{\\epsilon_{b}}{1 - 0.5 \\epsilon_{b}} & 0 & 0\\\\0 & - \\frac{\\epsilon_{a}}{- 0.5 \\epsilon_{a} - 1} & 0\\\\0 & 0 & - \\frac{\\epsilon_{c}}{1 - 0.5 \\epsilon_{c}}\\end{matrix}\\right]$"
      ],
      "text/plain": [
       "Matrix([\n",
       "[-epsilon_b/(1 - 0.5*epsilon_b),                               0,                              0],\n",
       "[                             0, -epsilon_a/(-0.5*epsilon_a - 1),                              0],\n",
       "[                             0,                               0, -epsilon_c/(1 - 0.5*epsilon_c)]])"
      ]
     },
     "metadata": {},
     "output_type": "display_data"
    },
    {
     "data": {
      "text/plain": [
       "'L @t=1 = '"
      ]
     },
     "metadata": {},
     "output_type": "display_data"
    },
    {
     "data": {
      "text/latex": [
       "$\\displaystyle \\left[\\begin{matrix}- \\frac{\\epsilon_{b}}{1 - \\epsilon_{b}} & 0 & 0\\\\0 & - \\frac{\\epsilon_{a}}{- \\epsilon_{a} - 1} & 0\\\\0 & 0 & - \\frac{\\epsilon_{c}}{1 - \\epsilon_{c}}\\end{matrix}\\right]$"
      ],
      "text/plain": [
       "Matrix([\n",
       "[-epsilon_b/(1 - epsilon_b),                           0,                          0],\n",
       "[                         0, -epsilon_a/(-epsilon_a - 1),                          0],\n",
       "[                         0,                           0, -epsilon_c/(1 - epsilon_c)]])"
      ]
     },
     "metadata": {},
     "output_type": "display_data"
    },
    {
     "data": {
      "text/plain": [
       "'Symmetric part of L'"
      ]
     },
     "metadata": {},
     "output_type": "display_data"
    },
    {
     "data": {
      "text/latex": [
       "$\\displaystyle \\left[\\begin{matrix}- \\frac{1.0 \\epsilon_{b}}{- \\epsilon_{b} t + 1} & 0 & 0\\\\0 & - \\frac{1.0 \\epsilon_{a}}{- \\epsilon_{a} t - 1} & 0\\\\0 & 0 & - \\frac{1.0 \\epsilon_{c}}{- \\epsilon_{c} t + 1}\\end{matrix}\\right]$"
      ],
      "text/plain": [
       "Matrix([\n",
       "[-1.0*epsilon_b/(-epsilon_b*t + 1),                                 0,                                 0],\n",
       "[                                0, -1.0*epsilon_a/(-epsilon_a*t - 1),                                 0],\n",
       "[                                0,                                 0, -1.0*epsilon_c/(-epsilon_c*t + 1)]])"
      ]
     },
     "metadata": {},
     "output_type": "display_data"
    },
    {
     "data": {
      "text/plain": [
       "'Green Strain ='"
      ]
     },
     "metadata": {},
     "output_type": "display_data"
    },
    {
     "data": {
      "text/latex": [
       "$\\displaystyle \\left[\\begin{matrix}0.5 \\left(- \\epsilon_{a} t - 1\\right)^{2} - 0.5 & 0 & 0\\\\0 & 0.5 \\left(- \\epsilon_{b} t + 1\\right)^{2} - 0.5 & 0\\\\0 & 0 & 0.5 \\left(- \\epsilon_{c} t + 1\\right)^{2} - 0.5\\end{matrix}\\right]$"
      ],
      "text/plain": [
       "Matrix([\n",
       "[0.5*(-epsilon_a*t - 1)**2 - 0.5,                               0,                               0],\n",
       "[                              0, 0.5*(-epsilon_b*t + 1)**2 - 0.5,                               0],\n",
       "[                              0,                               0, 0.5*(-epsilon_c*t + 1)**2 - 0.5]])"
      ]
     },
     "metadata": {},
     "output_type": "display_data"
    },
    {
     "data": {
      "text/plain": [
       "'Green Strain Rate ='"
      ]
     },
     "metadata": {},
     "output_type": "display_data"
    },
    {
     "data": {
      "text/latex": [
       "$\\displaystyle \\left[\\begin{matrix}- 1.0 \\epsilon_{a} \\left(- \\epsilon_{a} t - 1\\right) & 0 & 0\\\\0 & - 1.0 \\epsilon_{b} \\left(- \\epsilon_{b} t + 1\\right) & 0\\\\0 & 0 & - 1.0 \\epsilon_{c} \\left(- \\epsilon_{c} t + 1\\right)\\end{matrix}\\right]$"
      ],
      "text/plain": [
       "Matrix([\n",
       "[-1.0*epsilon_a*(-epsilon_a*t - 1),                                 0,                                 0],\n",
       "[                                0, -1.0*epsilon_b*(-epsilon_b*t + 1),                                 0],\n",
       "[                                0,                                 0, -1.0*epsilon_c*(-epsilon_c*t + 1)]])"
      ]
     },
     "metadata": {},
     "output_type": "display_data"
    },
    {
     "data": {
      "text/plain": [
       "'Cauchy stress ='"
      ]
     },
     "metadata": {},
     "output_type": "display_data"
    },
    {
     "data": {
      "text/latex": [
       "$\\displaystyle \\left[\\begin{matrix}0 & 0 & 0\\\\0 & \\frac{f_{0} t}{b c \\left(- \\epsilon_{b} t + 1\\right) \\left(- \\epsilon_{c} t + 1\\right)} & 0\\\\0 & 0 & 0\\end{matrix}\\right]$"
      ],
      "text/plain": [
       "Matrix([\n",
       "[0,                                                 0, 0],\n",
       "[0, f_0*t/(b*c*(-epsilon_b*t + 1)*(-epsilon_c*t + 1)), 0],\n",
       "[0,                                                 0, 0]])"
      ]
     },
     "metadata": {},
     "output_type": "display_data"
    },
    {
     "data": {
      "text/plain": [
       "'Cauchy stress @t=0:'"
      ]
     },
     "metadata": {},
     "output_type": "display_data"
    },
    {
     "data": {
      "text/latex": [
       "$\\displaystyle \\left[\\begin{matrix}0 & 0 & 0\\\\0 & 0 & 0\\\\0 & 0 & 0\\end{matrix}\\right]$"
      ],
      "text/plain": [
       "Matrix([\n",
       "[0, 0, 0],\n",
       "[0, 0, 0],\n",
       "[0, 0, 0]])"
      ]
     },
     "metadata": {},
     "output_type": "display_data"
    },
    {
     "data": {
      "text/plain": [
       "'Cauchy stress @t=0.5:'"
      ]
     },
     "metadata": {},
     "output_type": "display_data"
    },
    {
     "data": {
      "text/latex": [
       "$\\displaystyle \\left[\\begin{matrix}0 & 0 & 0\\\\0 & \\frac{0.5 f_{0}}{b c \\left(1 - 0.5 \\epsilon_{b}\\right) \\left(1 - 0.5 \\epsilon_{c}\\right)} & 0\\\\0 & 0 & 0\\end{matrix}\\right]$"
      ],
      "text/plain": [
       "Matrix([\n",
       "[0,                                                     0, 0],\n",
       "[0, 0.5*f_0/(b*c*(1 - 0.5*epsilon_b)*(1 - 0.5*epsilon_c)), 0],\n",
       "[0,                                                     0, 0]])"
      ]
     },
     "metadata": {},
     "output_type": "display_data"
    },
    {
     "data": {
      "text/plain": [
       "'Cauchy stress @t=1:'"
      ]
     },
     "metadata": {},
     "output_type": "display_data"
    },
    {
     "data": {
      "text/latex": [
       "$\\displaystyle \\left[\\begin{matrix}0 & 0 & 0\\\\0 & \\frac{f_{0}}{b c \\left(1 - \\epsilon_{b}\\right) \\left(1 - \\epsilon_{c}\\right)} & 0\\\\0 & 0 & 0\\end{matrix}\\right]$"
      ],
      "text/plain": [
       "Matrix([\n",
       "[0,                                         0, 0],\n",
       "[0, f_0/(b*c*(1 - epsilon_b)*(1 - epsilon_c)), 0],\n",
       "[0,                                         0, 0]])"
      ]
     },
     "metadata": {},
     "output_type": "display_data"
    },
    {
     "data": {
      "text/plain": [
       "'P ='"
      ]
     },
     "metadata": {},
     "output_type": "display_data"
    },
    {
     "data": {
      "text/latex": [
       "$\\displaystyle \\left[\\begin{matrix}0 & 0 & 0\\\\- \\frac{f_{0} t}{b c} & 0 & 0\\\\0 & 0 & 0\\end{matrix}\\right]$"
      ],
      "text/plain": [
       "Matrix([\n",
       "[           0, 0, 0],\n",
       "[-f_0*t/(b*c), 0, 0],\n",
       "[           0, 0, 0]])"
      ]
     },
     "metadata": {},
     "output_type": "display_data"
    },
    {
     "data": {
      "text/plain": [
       "'P @ t=0'"
      ]
     },
     "metadata": {},
     "output_type": "display_data"
    },
    {
     "data": {
      "text/latex": [
       "$\\displaystyle \\left[\\begin{matrix}0 & 0 & 0\\\\0 & 0 & 0\\\\0 & 0 & 0\\end{matrix}\\right]$"
      ],
      "text/plain": [
       "Matrix([\n",
       "[0, 0, 0],\n",
       "[0, 0, 0],\n",
       "[0, 0, 0]])"
      ]
     },
     "metadata": {},
     "output_type": "display_data"
    },
    {
     "data": {
      "text/plain": [
       "'P @ t=0.5'"
      ]
     },
     "metadata": {},
     "output_type": "display_data"
    },
    {
     "data": {
      "text/latex": [
       "$\\displaystyle \\left[\\begin{matrix}0 & 0 & 0\\\\- \\frac{0.5 f_{0}}{b c} & 0 & 0\\\\0 & 0 & 0\\end{matrix}\\right]$"
      ],
      "text/plain": [
       "Matrix([\n",
       "[             0, 0, 0],\n",
       "[-0.5*f_0/(b*c), 0, 0],\n",
       "[             0, 0, 0]])"
      ]
     },
     "metadata": {},
     "output_type": "display_data"
    },
    {
     "data": {
      "text/plain": [
       "'P @ t=1'"
      ]
     },
     "metadata": {},
     "output_type": "display_data"
    },
    {
     "data": {
      "text/latex": [
       "$\\displaystyle \\left[\\begin{matrix}0 & 0 & 0\\\\- \\frac{f_{0}}{b c} & 0 & 0\\\\0 & 0 & 0\\end{matrix}\\right]$"
      ],
      "text/plain": [
       "Matrix([\n",
       "[         0, 0, 0],\n",
       "[-f_0/(b*c), 0, 0],\n",
       "[         0, 0, 0]])"
      ]
     },
     "metadata": {},
     "output_type": "display_data"
    },
    {
     "data": {
      "text/plain": [
       "'S ='"
      ]
     },
     "metadata": {},
     "output_type": "display_data"
    },
    {
     "data": {
      "text/latex": [
       "$\\displaystyle \\left[\\begin{matrix}- \\frac{f_{0} t}{b c \\left(- \\epsilon_{a} t - 1\\right)} & 0 & 0\\\\0 & 0 & 0\\\\0 & 0 & 0\\end{matrix}\\right]$"
      ],
      "text/plain": [
       "Matrix([\n",
       "[-f_0*t/(b*c*(-epsilon_a*t - 1)), 0, 0],\n",
       "[                              0, 0, 0],\n",
       "[                              0, 0, 0]])"
      ]
     },
     "metadata": {},
     "output_type": "display_data"
    },
    {
     "data": {
      "text/plain": [
       "'S @ t=0'"
      ]
     },
     "metadata": {},
     "output_type": "display_data"
    },
    {
     "data": {
      "text/latex": [
       "$\\displaystyle \\left[\\begin{matrix}0 & 0 & 0\\\\0 & 0 & 0\\\\0 & 0 & 0\\end{matrix}\\right]$"
      ],
      "text/plain": [
       "Matrix([\n",
       "[0, 0, 0],\n",
       "[0, 0, 0],\n",
       "[0, 0, 0]])"
      ]
     },
     "metadata": {},
     "output_type": "display_data"
    },
    {
     "data": {
      "text/plain": [
       "'S @ t=0.5'"
      ]
     },
     "metadata": {},
     "output_type": "display_data"
    },
    {
     "data": {
      "text/latex": [
       "$\\displaystyle \\left[\\begin{matrix}- \\frac{0.5 f_{0}}{b c \\left(- 0.5 \\epsilon_{a} - 1\\right)} & 0 & 0\\\\0 & 0 & 0\\\\0 & 0 & 0\\end{matrix}\\right]$"
      ],
      "text/plain": [
       "Matrix([\n",
       "[-0.5*f_0/(b*c*(-0.5*epsilon_a - 1)), 0, 0],\n",
       "[                                  0, 0, 0],\n",
       "[                                  0, 0, 0]])"
      ]
     },
     "metadata": {},
     "output_type": "display_data"
    },
    {
     "data": {
      "text/plain": [
       "'S @ t=1'"
      ]
     },
     "metadata": {},
     "output_type": "display_data"
    },
    {
     "data": {
      "text/latex": [
       "$\\displaystyle \\left[\\begin{matrix}- \\frac{f_{0}}{b c \\left(- \\epsilon_{a} - 1\\right)} & 0 & 0\\\\0 & 0 & 0\\\\0 & 0 & 0\\end{matrix}\\right]$"
      ],
      "text/plain": [
       "Matrix([\n",
       "[-f_0/(b*c*(-epsilon_a - 1)), 0, 0],\n",
       "[                          0, 0, 0],\n",
       "[                          0, 0, 0]])"
      ]
     },
     "metadata": {},
     "output_type": "display_data"
    },
    {
     "data": {
      "text/plain": [
       "'Cauchy'"
      ]
     },
     "metadata": {},
     "output_type": "display_data"
    },
    {
     "data": {
      "text/latex": [
       "$\\displaystyle \\left[\\begin{matrix}0 & 0 & 0\\\\0 & \\frac{f_{0} t}{b c \\left(- \\epsilon_{b} t + 1\\right) \\left(- \\epsilon_{c} t + 1\\right)} & 0\\\\0 & 0 & 0\\end{matrix}\\right]$"
      ],
      "text/plain": [
       "Matrix([\n",
       "[0,                                                 0, 0],\n",
       "[0, f_0*t/(b*c*(-epsilon_b*t + 1)*(-epsilon_c*t + 1)), 0],\n",
       "[0,                                                 0, 0]])"
      ]
     },
     "metadata": {},
     "output_type": "display_data"
    },
    {
     "data": {
      "text/plain": [
       "'Dd'"
      ]
     },
     "metadata": {},
     "output_type": "display_data"
    },
    {
     "data": {
      "text/latex": [
       "$\\displaystyle \\left[\\begin{matrix}- \\frac{1.0 \\epsilon_{b}}{- \\epsilon_{b} t + 1} & 0 & 0\\\\0 & - \\frac{1.0 \\epsilon_{a}}{- \\epsilon_{a} t - 1} & 0\\\\0 & 0 & - \\frac{1.0 \\epsilon_{c}}{- \\epsilon_{c} t + 1}\\end{matrix}\\right]$"
      ],
      "text/plain": [
       "Matrix([\n",
       "[-1.0*epsilon_b/(-epsilon_b*t + 1),                                 0,                                 0],\n",
       "[                                0, -1.0*epsilon_a/(-epsilon_a*t - 1),                                 0],\n",
       "[                                0,                                 0, -1.0*epsilon_c/(-epsilon_c*t + 1)]])"
      ]
     },
     "metadata": {},
     "output_type": "display_data"
    },
    {
     "data": {
      "text/plain": [
       "'D and Cauchy are energy conjugates: dU/dt'"
      ]
     },
     "metadata": {},
     "output_type": "display_data"
    },
    {
     "data": {
      "text/latex": [
       "$\\displaystyle - \\frac{1.0 \\epsilon_{a} f_{0} t}{b c \\left(- \\epsilon_{a} t - 1\\right) \\left(- \\epsilon_{b} t + 1\\right) \\left(- \\epsilon_{c} t + 1\\right)}$"
      ],
      "text/plain": [
       "-1.0*epsilon_a*f_0*t/(b*c*(-epsilon_a*t - 1)*(-epsilon_b*t + 1)*(-epsilon_c*t + 1))"
      ]
     },
     "metadata": {},
     "output_type": "display_data"
    },
    {
     "data": {
      "text/plain": [
       "'P'"
      ]
     },
     "metadata": {},
     "output_type": "display_data"
    },
    {
     "data": {
      "text/latex": [
       "$\\displaystyle \\left[\\begin{matrix}0 & 0 & 0\\\\- \\frac{f_{0} t}{b c} & 0 & 0\\\\0 & 0 & 0\\end{matrix}\\right]$"
      ],
      "text/plain": [
       "Matrix([\n",
       "[           0, 0, 0],\n",
       "[-f_0*t/(b*c), 0, 0],\n",
       "[           0, 0, 0]])"
      ]
     },
     "metadata": {},
     "output_type": "display_data"
    },
    {
     "data": {
      "text/plain": [
       "'Fdot'"
      ]
     },
     "metadata": {},
     "output_type": "display_data"
    },
    {
     "data": {
      "text/latex": [
       "$\\displaystyle \\left[\\begin{matrix}0 & - \\epsilon_{b} & 0\\\\- \\epsilon_{a} & 0 & 0\\\\0 & 0 & - \\epsilon_{c}\\end{matrix}\\right]$"
      ],
      "text/plain": [
       "Matrix([\n",
       "[         0, -epsilon_b,          0],\n",
       "[-epsilon_a,          0,          0],\n",
       "[         0,          0, -epsilon_c]])"
      ]
     },
     "metadata": {},
     "output_type": "display_data"
    },
    {
     "data": {
      "text/plain": [
       "'P and Fdot are energy conjugates: dW/dt'"
      ]
     },
     "metadata": {},
     "output_type": "display_data"
    },
    {
     "data": {
      "text/latex": [
       "$\\displaystyle \\frac{\\epsilon_{a} f_{0} t}{b c}$"
      ],
      "text/plain": [
       "epsilon_a*f_0*t/(b*c)"
      ]
     },
     "metadata": {},
     "output_type": "display_data"
    },
    {
     "data": {
      "text/plain": [
       "'S'"
      ]
     },
     "metadata": {},
     "output_type": "display_data"
    },
    {
     "data": {
      "text/latex": [
       "$\\displaystyle \\left[\\begin{matrix}- \\frac{f_{0} t}{b c \\left(- \\epsilon_{a} t - 1\\right)} & 0 & 0\\\\0 & 0 & 0\\\\0 & 0 & 0\\end{matrix}\\right]$"
      ],
      "text/plain": [
       "Matrix([\n",
       "[-f_0*t/(b*c*(-epsilon_a*t - 1)), 0, 0],\n",
       "[                              0, 0, 0],\n",
       "[                              0, 0, 0]])"
      ]
     },
     "metadata": {},
     "output_type": "display_data"
    },
    {
     "data": {
      "text/plain": [
       "'E_Green'"
      ]
     },
     "metadata": {},
     "output_type": "display_data"
    },
    {
     "data": {
      "text/latex": [
       "$\\displaystyle \\left[\\begin{matrix}- 1.0 \\epsilon_{a} \\left(- \\epsilon_{a} t - 1\\right) & 0 & 0\\\\0 & - 1.0 \\epsilon_{b} \\left(- \\epsilon_{b} t + 1\\right) & 0\\\\0 & 0 & - 1.0 \\epsilon_{c} \\left(- \\epsilon_{c} t + 1\\right)\\end{matrix}\\right]$"
      ],
      "text/plain": [
       "Matrix([\n",
       "[-1.0*epsilon_a*(-epsilon_a*t - 1),                                 0,                                 0],\n",
       "[                                0, -1.0*epsilon_b*(-epsilon_b*t + 1),                                 0],\n",
       "[                                0,                                 0, -1.0*epsilon_c*(-epsilon_c*t + 1)]])"
      ]
     },
     "metadata": {},
     "output_type": "display_data"
    },
    {
     "data": {
      "text/plain": [
       "'S and E_Green are energy conjugates: dW/dt'"
      ]
     },
     "metadata": {},
     "output_type": "display_data"
    },
    {
     "data": {
      "text/latex": [
       "$\\displaystyle \\frac{1.0 \\epsilon_{a} f_{0} t}{b c}$"
      ],
      "text/plain": [
       "1.0*epsilon_a*f_0*t/(b*c)"
      ]
     },
     "metadata": {},
     "output_type": "display_data"
    }
   ],
   "source": [
    "import sympy as sp\n",
    "import numpy as np\n",
    "from sympy import Matrix, simplify, diff, eye, det\n",
    "from matplotlib import pyplot as plt\n",
    "theta = sp.symbols(\"theta\")\n",
    "Q = Matrix([[sp.cos(theta), sp.sin(theta),0],\n",
    "            [-sp.sin(theta),sp.cos(theta), 0],\n",
    "            [0,0,1]])\n",
    "Q = Q.subs({theta:sp.pi/2})\n",
    "display(\"Q =\", Q)\n",
    "X1,X2,X3 = sp.symbols(\"X_1 X_2 X_3\")\n",
    "a,b,c = sp.symbols(\"a b c\")\n",
    "ea,eb,ec,t = sp.symbols(\"epsilon_a epsilon_b epsilon_c t\")\n",
    "f0 = sp.symbols(\"f_0\")\n",
    "xi1 = (1+t*ea)*X1\n",
    "xi2 = (1-t*eb)*X2\n",
    "xi3 = (1-t*ec)*X3\n",
    "xi = Matrix([xi1, xi2, xi3])\n",
    "x = Q*xi\n",
    "X = Matrix([X1,X2,X3])\n",
    "U = Matrix([[diff(i,j) for j in X] for i in xi])\n",
    "display(\"Matrix U appearing in the Right polar decomposition of the deformation gradient F\")\n",
    "display(\"U =\", U)\n",
    "Udot = diff(U,t)\n",
    "display(\"Udot =\",Udot)\n",
    "F = Matrix([[diff(i,j) for j in X] for i in x])\n",
    "display(\"Deformation gradient F =\",F)\n",
    "V = F*Q.T\n",
    "display(\"Matrix V appearing in the Right polar decomposition of the deformation gradient  F\")\n",
    "display(\"V =\",V)\n",
    "Fdot = diff(F,t)\n",
    "display(\"Fdot =\",Fdot)\n",
    "L = Fdot*F.inv()\n",
    "display(\"L =\",L)\n",
    "display(\"L @t=0.5 = \", L.subs({t:0.5}))\n",
    "display(\"L @t=1 = \", L.subs({t:1}))\n",
    "Dd = 1/2*(L+L.T)\n",
    "display(\"Symmetric part of L\", Dd)\n",
    "Elagrange = 1/2*(F.T*F-eye(3))\n",
    "display(\"Green Strain =\",Elagrange)\n",
    "Elagrangedot = diff(Elagrange,t)\n",
    "display(\"Green Strain Rate =\",Elagrangedot)\n",
    "sigmalocal = Matrix([[t*f0/(b*c*(1-t*eb)*(1-t*ec)),0,0],[0,0,0],[0,0,0]])\n",
    "Cauchy = Q*sigmalocal*Q.T\n",
    "display(\"Cauchy stress =\",Cauchy)\n",
    "display(\"Cauchy stress @t=0:\",Cauchy.subs({t:0}))\n",
    "display(\"Cauchy stress @t=0.5:\",Cauchy.subs({t:0.5}))\n",
    "display(\"Cauchy stress @t=1:\",Cauchy.subs({t:1}))\n",
    "P = simplify(det(F)*Cauchy*F.T.inv())\n",
    "display(\"P =\",P)\n",
    "display(\"P @ t=0\",P.subs({t:0}))\n",
    "display(\"P @ t=0.5\",P.subs({t:0.5}))\n",
    "display(\"P @ t=1\",P.subs({t:1}))\n",
    "S = F.inv()*P\n",
    "display(\"S =\",S)\n",
    "display(\"S @ t=0\",S.subs({t:0}))\n",
    "display(\"S @ t=0.5\",S.subs({t:0.5}))\n",
    "display(\"S @ t=1\",S.subs({t:1}))\n",
    "# code is the same below\n",
    "e1 = sum([sum([Cauchy[i,j]*Dd[i,j] for i in range(3)]) for j in range(3)])\n",
    "#e1 = sum([Cauchy[i]*Dd[i] for i in range(9)])\n",
    "e1 = sum([Cauchy[i]*Dd[i] for i in range(9)])\n",
    "display(\"Cauchy\",Cauchy,\"Dd\",Dd)\n",
    "display(\"D and Cauchy are energy conjugates: dU/dt\", e1)\n",
    "e2 = sum([P[i]*Fdot[i] for i in range(9)])\n",
    "display(\"P\",P,\"Fdot\",Fdot)\n",
    "display(\"P and Fdot are energy conjugates: dW/dt\", e2)\n",
    "e2 = sum([S[i]*Elagrangedot[i] for i in range(9)])\n",
    "display(\"S\",S,\"E_Green\",Elagrangedot)\n",
    "display(\"S and E_Green are energy conjugates: dW/dt\", e2)"
   ]
  },
  {
   "cell_type": "markdown",
   "metadata": {},
   "source": [
    "9.2.2.2"
   ]
  },
  {
   "cell_type": "code",
   "execution_count": 6,
   "metadata": {
    "scrolled": false
   },
   "outputs": [
    {
     "data": {
      "text/plain": [
       "'Q ='"
      ]
     },
     "metadata": {},
     "output_type": "display_data"
    },
    {
     "data": {
      "text/latex": [
       "$\\displaystyle \\left[\\begin{matrix}\\cos{\\left(\\frac{\\pi t}{2} \\right)} & \\sin{\\left(\\frac{\\pi t}{2} \\right)} & 0\\\\- \\sin{\\left(\\frac{\\pi t}{2} \\right)} & \\cos{\\left(\\frac{\\pi t}{2} \\right)} & 0\\\\0 & 0 & 1\\end{matrix}\\right]$"
      ],
      "text/plain": [
       "Matrix([\n",
       "[ cos(pi*t/2), sin(pi*t/2), 0],\n",
       "[-sin(pi*t/2), cos(pi*t/2), 0],\n",
       "[           0,           0, 1]])"
      ]
     },
     "metadata": {},
     "output_type": "display_data"
    },
    {
     "data": {
      "text/plain": [
       "'The matrix U appearing in the Right Polar Decomposition of the Deformation Gradient F:'"
      ]
     },
     "metadata": {},
     "output_type": "display_data"
    },
    {
     "data": {
      "text/plain": [
       "'U ='"
      ]
     },
     "metadata": {},
     "output_type": "display_data"
    },
    {
     "data": {
      "text/latex": [
       "$\\displaystyle \\left[\\begin{matrix}\\epsilon_{a} t + 1 & 0 & 0\\\\0 & - \\epsilon_{b} t + 1 & 0\\\\0 & 0 & - \\epsilon_{c} t + 1\\end{matrix}\\right]$"
      ],
      "text/plain": [
       "Matrix([\n",
       "[epsilon_a*t + 1,                0,                0],\n",
       "[              0, -epsilon_b*t + 1,                0],\n",
       "[              0,                0, -epsilon_c*t + 1]])"
      ]
     },
     "metadata": {},
     "output_type": "display_data"
    },
    {
     "data": {
      "text/plain": [
       "'Udot ='"
      ]
     },
     "metadata": {},
     "output_type": "display_data"
    },
    {
     "data": {
      "text/latex": [
       "$\\displaystyle \\left[\\begin{matrix}\\epsilon_{a} & 0 & 0\\\\0 & - \\epsilon_{b} & 0\\\\0 & 0 & - \\epsilon_{c}\\end{matrix}\\right]$"
      ],
      "text/plain": [
       "Matrix([\n",
       "[epsilon_a,          0,          0],\n",
       "[        0, -epsilon_b,          0],\n",
       "[        0,          0, -epsilon_c]])"
      ]
     },
     "metadata": {},
     "output_type": "display_data"
    },
    {
     "data": {
      "text/plain": [
       "'F ='"
      ]
     },
     "metadata": {},
     "output_type": "display_data"
    },
    {
     "data": {
      "text/latex": [
       "$\\displaystyle \\left[\\begin{matrix}\\left(\\epsilon_{a} t + 1\\right) \\cos{\\left(\\frac{\\pi t}{2} \\right)} & \\left(- \\epsilon_{b} t + 1\\right) \\sin{\\left(\\frac{\\pi t}{2} \\right)} & 0\\\\\\left(- \\epsilon_{a} t - 1\\right) \\sin{\\left(\\frac{\\pi t}{2} \\right)} & \\left(- \\epsilon_{b} t + 1\\right) \\cos{\\left(\\frac{\\pi t}{2} \\right)} & 0\\\\0 & 0 & - \\epsilon_{c} t + 1\\end{matrix}\\right]$"
      ],
      "text/plain": [
       "Matrix([\n",
       "[ (epsilon_a*t + 1)*cos(pi*t/2), (-epsilon_b*t + 1)*sin(pi*t/2),                0],\n",
       "[(-epsilon_a*t - 1)*sin(pi*t/2), (-epsilon_b*t + 1)*cos(pi*t/2),                0],\n",
       "[                             0,                              0, -epsilon_c*t + 1]])"
      ]
     },
     "metadata": {},
     "output_type": "display_data"
    },
    {
     "data": {
      "text/plain": [
       "'The matrix V appearing in the Right Polar Decomposition of the Deformation Gradient F:'"
      ]
     },
     "metadata": {},
     "output_type": "display_data"
    },
    {
     "data": {
      "text/plain": [
       "'Deformation gradient F ='"
      ]
     },
     "metadata": {},
     "output_type": "display_data"
    },
    {
     "data": {
      "text/latex": [
       "$\\displaystyle \\left[\\begin{matrix}\\left(\\epsilon_{a} t + 1\\right) \\cos^{2}{\\left(\\frac{\\pi t}{2} \\right)} + \\left(- \\epsilon_{b} t + 1\\right) \\sin^{2}{\\left(\\frac{\\pi t}{2} \\right)} & - \\frac{t \\left(\\epsilon_{a} + \\epsilon_{b}\\right) \\sin{\\left(\\pi t \\right)}}{2} & 0\\\\- \\frac{t \\left(\\epsilon_{a} + \\epsilon_{b}\\right) \\sin{\\left(\\pi t \\right)}}{2} & \\left(\\epsilon_{a} t + 1\\right) \\sin^{2}{\\left(\\frac{\\pi t}{2} \\right)} + \\left(- \\epsilon_{b} t + 1\\right) \\cos^{2}{\\left(\\frac{\\pi t}{2} \\right)} & 0\\\\0 & 0 & - \\epsilon_{c} t + 1\\end{matrix}\\right]$"
      ],
      "text/plain": [
       "Matrix([\n",
       "[(epsilon_a*t + 1)*cos(pi*t/2)**2 + (-epsilon_b*t + 1)*sin(pi*t/2)**2,                               -t*(epsilon_a + epsilon_b)*sin(pi*t)/2,                0],\n",
       "[                              -t*(epsilon_a + epsilon_b)*sin(pi*t)/2, (epsilon_a*t + 1)*sin(pi*t/2)**2 + (-epsilon_b*t + 1)*cos(pi*t/2)**2,                0],\n",
       "[                                                                   0,                                                                    0, -epsilon_c*t + 1]])"
      ]
     },
     "metadata": {},
     "output_type": "display_data"
    },
    {
     "data": {
      "text/plain": [
       "'Fdot ='"
      ]
     },
     "metadata": {},
     "output_type": "display_data"
    },
    {
     "data": {
      "text/latex": [
       "$\\displaystyle \\left[\\begin{matrix}\\epsilon_{a} \\cos{\\left(\\frac{\\pi t}{2} \\right)} - \\frac{\\pi \\left(\\epsilon_{a} t + 1\\right) \\sin{\\left(\\frac{\\pi t}{2} \\right)}}{2} & - \\epsilon_{b} \\sin{\\left(\\frac{\\pi t}{2} \\right)} - \\frac{\\pi \\left(\\epsilon_{b} t - 1\\right) \\cos{\\left(\\frac{\\pi t}{2} \\right)}}{2} & 0\\\\- \\epsilon_{a} \\sin{\\left(\\frac{\\pi t}{2} \\right)} - \\frac{\\pi \\left(\\epsilon_{a} t + 1\\right) \\cos{\\left(\\frac{\\pi t}{2} \\right)}}{2} & - \\epsilon_{b} \\cos{\\left(\\frac{\\pi t}{2} \\right)} + \\frac{\\pi \\left(\\epsilon_{b} t - 1\\right) \\sin{\\left(\\frac{\\pi t}{2} \\right)}}{2} & 0\\\\0 & 0 & - \\epsilon_{c}\\end{matrix}\\right]$"
      ],
      "text/plain": [
       "Matrix([\n",
       "[ epsilon_a*cos(pi*t/2) - pi*(epsilon_a*t + 1)*sin(pi*t/2)/2, -epsilon_b*sin(pi*t/2) - pi*(epsilon_b*t - 1)*cos(pi*t/2)/2,          0],\n",
       "[-epsilon_a*sin(pi*t/2) - pi*(epsilon_a*t + 1)*cos(pi*t/2)/2, -epsilon_b*cos(pi*t/2) + pi*(epsilon_b*t - 1)*sin(pi*t/2)/2,          0],\n",
       "[                                                          0,                                                           0, -epsilon_c]])"
      ]
     },
     "metadata": {},
     "output_type": "display_data"
    },
    {
     "data": {
      "text/plain": [
       "'L ='"
      ]
     },
     "metadata": {},
     "output_type": "display_data"
    },
    {
     "data": {
      "text/latex": [
       "$\\displaystyle \\left[\\begin{matrix}\\frac{\\epsilon_{a} \\epsilon_{b} t + \\epsilon_{a} \\sin^{2}{\\left(\\frac{\\pi t}{2} \\right)} - \\epsilon_{a} + \\epsilon_{b} \\sin^{2}{\\left(\\frac{\\pi t}{2} \\right)}}{\\epsilon_{a} \\epsilon_{b} t^{2} - \\epsilon_{a} t + \\epsilon_{b} t - 1} & \\frac{\\pi \\epsilon_{a} \\epsilon_{b} t^{2} - \\pi \\epsilon_{a} t + \\epsilon_{a} \\sin{\\left(\\pi t \\right)} + \\pi \\epsilon_{b} t + \\epsilon_{b} \\sin{\\left(\\pi t \\right)} - \\pi}{2 \\left(\\epsilon_{a} t + 1\\right) \\left(\\epsilon_{b} t - 1\\right)} & 0\\\\\\frac{- \\pi \\epsilon_{a} \\epsilon_{b} t^{2} + \\pi \\epsilon_{a} t + \\epsilon_{a} \\sin{\\left(\\pi t \\right)} - \\pi \\epsilon_{b} t + \\epsilon_{b} \\sin{\\left(\\pi t \\right)} + \\pi}{2 \\left(\\epsilon_{a} t + 1\\right) \\left(\\epsilon_{b} t - 1\\right)} & \\frac{\\epsilon_{a} \\epsilon_{b} t - \\epsilon_{a} \\sin^{2}{\\left(\\frac{\\pi t}{2} \\right)} - \\epsilon_{b} \\sin^{2}{\\left(\\frac{\\pi t}{2} \\right)} + \\epsilon_{b}}{\\epsilon_{a} \\epsilon_{b} t^{2} - \\epsilon_{a} t + \\epsilon_{b} t - 1} & 0\\\\0 & 0 & \\frac{\\epsilon_{c}}{\\epsilon_{c} t - 1}\\end{matrix}\\right]$"
      ],
      "text/plain": [
       "Matrix([\n",
       "[     (epsilon_a*epsilon_b*t + epsilon_a*sin(pi*t/2)**2 - epsilon_a + epsilon_b*sin(pi*t/2)**2)/(epsilon_a*epsilon_b*t**2 - epsilon_a*t + epsilon_b*t - 1), (pi*epsilon_a*epsilon_b*t**2 - pi*epsilon_a*t + epsilon_a*sin(pi*t) + pi*epsilon_b*t + epsilon_b*sin(pi*t) - pi)/(2*(epsilon_a*t + 1)*(epsilon_b*t - 1)),                           0],\n",
       "[(-pi*epsilon_a*epsilon_b*t**2 + pi*epsilon_a*t + epsilon_a*sin(pi*t) - pi*epsilon_b*t + epsilon_b*sin(pi*t) + pi)/(2*(epsilon_a*t + 1)*(epsilon_b*t - 1)),     (epsilon_a*epsilon_b*t - epsilon_a*sin(pi*t/2)**2 - epsilon_b*sin(pi*t/2)**2 + epsilon_b)/(epsilon_a*epsilon_b*t**2 - epsilon_a*t + epsilon_b*t - 1),                           0],\n",
       "[                                                                                                                                                        0,                                                                                                                                                        0, epsilon_c/(epsilon_c*t - 1)]])"
      ]
     },
     "metadata": {},
     "output_type": "display_data"
    },
    {
     "data": {
      "text/plain": [
       "'L @t=0.5 = '"
      ]
     },
     "metadata": {},
     "output_type": "display_data"
    },
    {
     "data": {
      "text/latex": [
       "$\\displaystyle \\left[\\begin{matrix}\\frac{0.5 \\epsilon_{a} \\epsilon_{b} - \\frac{\\epsilon_{a}}{2} + \\frac{\\epsilon_{b}}{2}}{0.25 \\epsilon_{a} \\epsilon_{b} - 0.5 \\epsilon_{a} + 0.5 \\epsilon_{b} - 1} & \\frac{0.25 \\pi \\epsilon_{a} \\epsilon_{b} - 0.5 \\pi \\epsilon_{a} + \\epsilon_{a} + \\epsilon_{b} + 0.5 \\pi \\epsilon_{b} - \\pi}{2 \\left(0.5 \\epsilon_{a} + 1\\right) \\left(0.5 \\epsilon_{b} - 1\\right)} & 0\\\\\\frac{- 0.25 \\pi \\epsilon_{a} \\epsilon_{b} + \\epsilon_{a} + 0.5 \\pi \\epsilon_{a} - 0.5 \\pi \\epsilon_{b} + \\epsilon_{b} + \\pi}{2 \\left(0.5 \\epsilon_{a} + 1\\right) \\left(0.5 \\epsilon_{b} - 1\\right)} & \\frac{0.5 \\epsilon_{a} \\epsilon_{b} - \\frac{\\epsilon_{a}}{2} + \\frac{\\epsilon_{b}}{2}}{0.25 \\epsilon_{a} \\epsilon_{b} - 0.5 \\epsilon_{a} + 0.5 \\epsilon_{b} - 1} & 0\\\\0 & 0 & \\frac{\\epsilon_{c}}{0.5 \\epsilon_{c} - 1}\\end{matrix}\\right]$"
      ],
      "text/plain": [
       "Matrix([\n",
       "[                         (0.5*epsilon_a*epsilon_b - epsilon_a/2 + epsilon_b/2)/(0.25*epsilon_a*epsilon_b - 0.5*epsilon_a + 0.5*epsilon_b - 1), (0.25*pi*epsilon_a*epsilon_b - 0.5*pi*epsilon_a + epsilon_a + epsilon_b + 0.5*pi*epsilon_b - pi)/(2*(0.5*epsilon_a + 1)*(0.5*epsilon_b - 1)),                             0],\n",
       "[(-0.25*pi*epsilon_a*epsilon_b + epsilon_a + 0.5*pi*epsilon_a - 0.5*pi*epsilon_b + epsilon_b + pi)/(2*(0.5*epsilon_a + 1)*(0.5*epsilon_b - 1)),                         (0.5*epsilon_a*epsilon_b - epsilon_a/2 + epsilon_b/2)/(0.25*epsilon_a*epsilon_b - 0.5*epsilon_a + 0.5*epsilon_b - 1),                             0],\n",
       "[                                                                                                                                            0,                                                                                                                                            0, epsilon_c/(0.5*epsilon_c - 1)]])"
      ]
     },
     "metadata": {},
     "output_type": "display_data"
    },
    {
     "data": {
      "text/plain": [
       "'L @t=1 = '"
      ]
     },
     "metadata": {},
     "output_type": "display_data"
    },
    {
     "data": {
      "text/latex": [
       "$\\displaystyle \\left[\\begin{matrix}\\frac{\\epsilon_{a} \\epsilon_{b} + \\epsilon_{b}}{\\epsilon_{a} \\epsilon_{b} - \\epsilon_{a} + \\epsilon_{b} - 1} & \\frac{\\pi \\epsilon_{a} \\epsilon_{b} - \\pi \\epsilon_{a} + \\pi \\epsilon_{b} - \\pi}{2 \\left(\\epsilon_{a} + 1\\right) \\left(\\epsilon_{b} - 1\\right)} & 0\\\\\\frac{- \\pi \\epsilon_{a} \\epsilon_{b} + \\pi \\epsilon_{a} - \\pi \\epsilon_{b} + \\pi}{2 \\left(\\epsilon_{a} + 1\\right) \\left(\\epsilon_{b} - 1\\right)} & \\frac{\\epsilon_{a} \\epsilon_{b} - \\epsilon_{a}}{\\epsilon_{a} \\epsilon_{b} - \\epsilon_{a} + \\epsilon_{b} - 1} & 0\\\\0 & 0 & \\frac{\\epsilon_{c}}{\\epsilon_{c} - 1}\\end{matrix}\\right]$"
      ],
      "text/plain": [
       "Matrix([\n",
       "[             (epsilon_a*epsilon_b + epsilon_b)/(epsilon_a*epsilon_b - epsilon_a + epsilon_b - 1), (pi*epsilon_a*epsilon_b - pi*epsilon_a + pi*epsilon_b - pi)/(2*(epsilon_a + 1)*(epsilon_b - 1)),                         0],\n",
       "[(-pi*epsilon_a*epsilon_b + pi*epsilon_a - pi*epsilon_b + pi)/(2*(epsilon_a + 1)*(epsilon_b - 1)),             (epsilon_a*epsilon_b - epsilon_a)/(epsilon_a*epsilon_b - epsilon_a + epsilon_b - 1),                         0],\n",
       "[                                                                                               0,                                                                                               0, epsilon_c/(epsilon_c - 1)]])"
      ]
     },
     "metadata": {},
     "output_type": "display_data"
    },
    {
     "data": {
      "text/plain": [
       "'Symmetric part of L'"
      ]
     },
     "metadata": {},
     "output_type": "display_data"
    },
    {
     "data": {
      "text/latex": [
       "$\\displaystyle \\left[\\begin{matrix}\\frac{1.0 \\left(\\epsilon_{a} \\epsilon_{b} t + \\epsilon_{a} \\sin^{2}{\\left(\\frac{\\pi t}{2} \\right)} - \\epsilon_{a} + \\epsilon_{b} \\sin^{2}{\\left(\\frac{\\pi t}{2} \\right)}\\right)}{\\epsilon_{a} \\epsilon_{b} t^{2} - \\epsilon_{a} t + \\epsilon_{b} t - 1} & \\frac{0.5 \\left(\\epsilon_{a} + \\epsilon_{b}\\right) \\sin{\\left(\\pi t \\right)}}{\\left(\\epsilon_{a} t + 1\\right) \\left(\\epsilon_{b} t - 1\\right)} & 0\\\\\\frac{0.5 \\left(\\epsilon_{a} + \\epsilon_{b}\\right) \\sin{\\left(\\pi t \\right)}}{\\left(\\epsilon_{a} t + 1\\right) \\left(\\epsilon_{b} t - 1\\right)} & \\frac{1.0 \\left(\\epsilon_{a} \\epsilon_{b} t - \\epsilon_{a} \\sin^{2}{\\left(\\frac{\\pi t}{2} \\right)} - \\epsilon_{b} \\sin^{2}{\\left(\\frac{\\pi t}{2} \\right)} + \\epsilon_{b}\\right)}{\\epsilon_{a} \\epsilon_{b} t^{2} - \\epsilon_{a} t + \\epsilon_{b} t - 1} & 0\\\\0 & 0 & \\frac{1.0 \\epsilon_{c}}{\\epsilon_{c} t - 1}\\end{matrix}\\right]$"
      ],
      "text/plain": [
       "Matrix([\n",
       "[1.0*(epsilon_a*epsilon_b*t + epsilon_a*sin(pi*t/2)**2 - epsilon_a + epsilon_b*sin(pi*t/2)**2)/(epsilon_a*epsilon_b*t**2 - epsilon_a*t + epsilon_b*t - 1),                                                                              0.5*(epsilon_a + epsilon_b)*sin(pi*t)/((epsilon_a*t + 1)*(epsilon_b*t - 1)),                               0],\n",
       "[                                                                             0.5*(epsilon_a + epsilon_b)*sin(pi*t)/((epsilon_a*t + 1)*(epsilon_b*t - 1)), 1.0*(epsilon_a*epsilon_b*t - epsilon_a*sin(pi*t/2)**2 - epsilon_b*sin(pi*t/2)**2 + epsilon_b)/(epsilon_a*epsilon_b*t**2 - epsilon_a*t + epsilon_b*t - 1),                               0],\n",
       "[                                                                                                                                                       0,                                                                                                                                                        0, 1.0*epsilon_c/(epsilon_c*t - 1)]])"
      ]
     },
     "metadata": {},
     "output_type": "display_data"
    },
    {
     "data": {
      "text/plain": [
       "'Green Strain ='"
      ]
     },
     "metadata": {},
     "output_type": "display_data"
    },
    {
     "data": {
      "text/latex": [
       "$\\displaystyle \\left[\\begin{matrix}0.5 \\epsilon_{a} t \\left(\\epsilon_{a} t + 2\\right) & 0 & 0\\\\0 & 0.5 \\epsilon_{b} t \\left(\\epsilon_{b} t - 2\\right) & 0\\\\0 & 0 & 0.5 \\left(\\epsilon_{c} t - 1\\right)^{2} - 0.5\\end{matrix}\\right]$"
      ],
      "text/plain": [
       "Matrix([\n",
       "[0.5*epsilon_a*t*(epsilon_a*t + 2),                                 0,                              0],\n",
       "[                                0, 0.5*epsilon_b*t*(epsilon_b*t - 2),                              0],\n",
       "[                                0,                                 0, 0.5*(epsilon_c*t - 1)**2 - 0.5]])"
      ]
     },
     "metadata": {},
     "output_type": "display_data"
    },
    {
     "data": {
      "text/plain": [
       "'Green Strain rate ='"
      ]
     },
     "metadata": {},
     "output_type": "display_data"
    },
    {
     "data": {
      "text/latex": [
       "$\\displaystyle \\left[\\begin{matrix}0.5 \\epsilon_{a}^{2} t + 0.5 \\epsilon_{a} \\left(\\epsilon_{a} t + 2\\right) & 0 & 0\\\\0 & 0.5 \\epsilon_{b}^{2} t + 0.5 \\epsilon_{b} \\left(\\epsilon_{b} t - 2\\right) & 0\\\\0 & 0 & 1.0 \\epsilon_{c} \\left(\\epsilon_{c} t - 1\\right)\\end{matrix}\\right]$"
      ],
      "text/plain": [
       "Matrix([\n",
       "[0.5*epsilon_a**2*t + 0.5*epsilon_a*(epsilon_a*t + 2),                                                    0,                               0],\n",
       "[                                                   0, 0.5*epsilon_b**2*t + 0.5*epsilon_b*(epsilon_b*t - 2),                               0],\n",
       "[                                                   0,                                                    0, 1.0*epsilon_c*(epsilon_c*t - 1)]])"
      ]
     },
     "metadata": {},
     "output_type": "display_data"
    },
    {
     "data": {
      "text/plain": [
       "'Cauchy stress ='"
      ]
     },
     "metadata": {},
     "output_type": "display_data"
    },
    {
     "data": {
      "text/latex": [
       "$\\displaystyle \\left[\\begin{matrix}\\frac{f_{0} t \\cos^{2}{\\left(\\frac{\\pi t}{2} \\right)}}{b c \\left(\\epsilon_{b} t - 1\\right) \\left(\\epsilon_{c} t - 1\\right)} & - \\frac{f_{0} t \\sin{\\left(\\pi t \\right)}}{2 b c \\left(\\epsilon_{b} t - 1\\right) \\left(\\epsilon_{c} t - 1\\right)} & 0\\\\- \\frac{f_{0} t \\sin{\\left(\\pi t \\right)}}{2 b c \\left(\\epsilon_{b} t - 1\\right) \\left(\\epsilon_{c} t - 1\\right)} & \\frac{f_{0} t \\sin^{2}{\\left(\\frac{\\pi t}{2} \\right)}}{b c \\left(\\epsilon_{b} t - 1\\right) \\left(\\epsilon_{c} t - 1\\right)} & 0\\\\0 & 0 & 0\\end{matrix}\\right]$"
      ],
      "text/plain": [
       "Matrix([\n",
       "[f_0*t*cos(pi*t/2)**2/(b*c*(epsilon_b*t - 1)*(epsilon_c*t - 1)),   -f_0*t*sin(pi*t)/(2*b*c*(epsilon_b*t - 1)*(epsilon_c*t - 1)), 0],\n",
       "[  -f_0*t*sin(pi*t)/(2*b*c*(epsilon_b*t - 1)*(epsilon_c*t - 1)), f_0*t*sin(pi*t/2)**2/(b*c*(epsilon_b*t - 1)*(epsilon_c*t - 1)), 0],\n",
       "[                                                             0,                                                              0, 0]])"
      ]
     },
     "metadata": {},
     "output_type": "display_data"
    },
    {
     "data": {
      "text/plain": [
       "'Cauchy stress @t=0:'"
      ]
     },
     "metadata": {},
     "output_type": "display_data"
    },
    {
     "data": {
      "text/latex": [
       "$\\displaystyle \\left[\\begin{matrix}0 & 0 & 0\\\\0 & 0 & 0\\\\0 & 0 & 0\\end{matrix}\\right]$"
      ],
      "text/plain": [
       "Matrix([\n",
       "[0, 0, 0],\n",
       "[0, 0, 0],\n",
       "[0, 0, 0]])"
      ]
     },
     "metadata": {},
     "output_type": "display_data"
    },
    {
     "data": {
      "text/plain": [
       "'Cauchy stress @t=0.5:'"
      ]
     },
     "metadata": {},
     "output_type": "display_data"
    },
    {
     "data": {
      "text/latex": [
       "$\\displaystyle \\left[\\begin{matrix}\\frac{0.25 f_{0}}{b c \\left(0.5 \\epsilon_{b} - 1\\right) \\left(0.5 \\epsilon_{c} - 1\\right)} & - \\frac{0.25 f_{0}}{b c \\left(0.5 \\epsilon_{b} - 1\\right) \\left(0.5 \\epsilon_{c} - 1\\right)} & 0\\\\- \\frac{0.25 f_{0}}{b c \\left(0.5 \\epsilon_{b} - 1\\right) \\left(0.5 \\epsilon_{c} - 1\\right)} & \\frac{0.25 f_{0}}{b c \\left(0.5 \\epsilon_{b} - 1\\right) \\left(0.5 \\epsilon_{c} - 1\\right)} & 0\\\\0 & 0 & 0\\end{matrix}\\right]$"
      ],
      "text/plain": [
       "Matrix([\n",
       "[ 0.25*f_0/(b*c*(0.5*epsilon_b - 1)*(0.5*epsilon_c - 1)), -0.25*f_0/(b*c*(0.5*epsilon_b - 1)*(0.5*epsilon_c - 1)), 0],\n",
       "[-0.25*f_0/(b*c*(0.5*epsilon_b - 1)*(0.5*epsilon_c - 1)),  0.25*f_0/(b*c*(0.5*epsilon_b - 1)*(0.5*epsilon_c - 1)), 0],\n",
       "[                                                      0,                                                       0, 0]])"
      ]
     },
     "metadata": {},
     "output_type": "display_data"
    },
    {
     "data": {
      "text/plain": [
       "'Cauchy stress @t=1:'"
      ]
     },
     "metadata": {},
     "output_type": "display_data"
    },
    {
     "data": {
      "text/latex": [
       "$\\displaystyle \\left[\\begin{matrix}0 & 0 & 0\\\\0 & \\frac{f_{0}}{b c \\left(\\epsilon_{b} - 1\\right) \\left(\\epsilon_{c} - 1\\right)} & 0\\\\0 & 0 & 0\\end{matrix}\\right]$"
      ],
      "text/plain": [
       "Matrix([\n",
       "[0,                                         0, 0],\n",
       "[0, f_0/(b*c*(epsilon_b - 1)*(epsilon_c - 1)), 0],\n",
       "[0,                                         0, 0]])"
      ]
     },
     "metadata": {},
     "output_type": "display_data"
    },
    {
     "data": {
      "text/plain": [
       "'P ='"
      ]
     },
     "metadata": {},
     "output_type": "display_data"
    },
    {
     "data": {
      "text/latex": [
       "$\\displaystyle \\left[\\begin{matrix}\\frac{f_{0} t \\cos{\\left(\\frac{\\pi t}{2} \\right)}}{b c} & 0 & 0\\\\- \\frac{f_{0} t \\sin{\\left(\\frac{\\pi t}{2} \\right)}}{b c} & 0 & 0\\\\0 & 0 & 0\\end{matrix}\\right]$"
      ],
      "text/plain": [
       "Matrix([\n",
       "[ f_0*t*cos(pi*t/2)/(b*c), 0, 0],\n",
       "[-f_0*t*sin(pi*t/2)/(b*c), 0, 0],\n",
       "[                       0, 0, 0]])"
      ]
     },
     "metadata": {},
     "output_type": "display_data"
    },
    {
     "data": {
      "text/plain": [
       "'P @ t=0'"
      ]
     },
     "metadata": {},
     "output_type": "display_data"
    },
    {
     "data": {
      "text/latex": [
       "$\\displaystyle \\left[\\begin{matrix}0 & 0 & 0\\\\0 & 0 & 0\\\\0 & 0 & 0\\end{matrix}\\right]$"
      ],
      "text/plain": [
       "Matrix([\n",
       "[0, 0, 0],\n",
       "[0, 0, 0],\n",
       "[0, 0, 0]])"
      ]
     },
     "metadata": {},
     "output_type": "display_data"
    },
    {
     "data": {
      "text/plain": [
       "'P @ t=0.5'"
      ]
     },
     "metadata": {},
     "output_type": "display_data"
    },
    {
     "data": {
      "text/latex": [
       "$\\displaystyle \\left[\\begin{matrix}\\frac{0.25 \\sqrt{2} f_{0}}{b c} & 0 & 0\\\\- \\frac{0.25 \\sqrt{2} f_{0}}{b c} & 0 & 0\\\\0 & 0 & 0\\end{matrix}\\right]$"
      ],
      "text/plain": [
       "Matrix([\n",
       "[ 0.25*sqrt(2)*f_0/(b*c), 0, 0],\n",
       "[-0.25*sqrt(2)*f_0/(b*c), 0, 0],\n",
       "[                      0, 0, 0]])"
      ]
     },
     "metadata": {},
     "output_type": "display_data"
    },
    {
     "data": {
      "text/plain": [
       "'P @ t=1'"
      ]
     },
     "metadata": {},
     "output_type": "display_data"
    },
    {
     "data": {
      "text/latex": [
       "$\\displaystyle \\left[\\begin{matrix}0 & 0 & 0\\\\- \\frac{f_{0}}{b c} & 0 & 0\\\\0 & 0 & 0\\end{matrix}\\right]$"
      ],
      "text/plain": [
       "Matrix([\n",
       "[         0, 0, 0],\n",
       "[-f_0/(b*c), 0, 0],\n",
       "[         0, 0, 0]])"
      ]
     },
     "metadata": {},
     "output_type": "display_data"
    },
    {
     "data": {
      "text/plain": [
       "'S ='"
      ]
     },
     "metadata": {},
     "output_type": "display_data"
    },
    {
     "data": {
      "text/latex": [
       "$\\displaystyle \\left[\\begin{matrix}\\frac{f_{0} t}{b c \\left(\\epsilon_{a} t + 1\\right)} & 0 & 0\\\\0 & 0 & 0\\\\0 & 0 & 0\\end{matrix}\\right]$"
      ],
      "text/plain": [
       "Matrix([\n",
       "[f_0*t/(b*c*(epsilon_a*t + 1)), 0, 0],\n",
       "[                            0, 0, 0],\n",
       "[                            0, 0, 0]])"
      ]
     },
     "metadata": {},
     "output_type": "display_data"
    },
    {
     "data": {
      "text/plain": [
       "'S @ t=0'"
      ]
     },
     "metadata": {},
     "output_type": "display_data"
    },
    {
     "data": {
      "text/latex": [
       "$\\displaystyle \\left[\\begin{matrix}0 & 0 & 0\\\\0 & 0 & 0\\\\0 & 0 & 0\\end{matrix}\\right]$"
      ],
      "text/plain": [
       "Matrix([\n",
       "[0, 0, 0],\n",
       "[0, 0, 0],\n",
       "[0, 0, 0]])"
      ]
     },
     "metadata": {},
     "output_type": "display_data"
    },
    {
     "data": {
      "text/plain": [
       "'S @ t=0.5'"
      ]
     },
     "metadata": {},
     "output_type": "display_data"
    },
    {
     "data": {
      "text/latex": [
       "$\\displaystyle \\left[\\begin{matrix}\\frac{0.5 f_{0}}{b c \\left(0.5 \\epsilon_{a} + 1\\right)} & 0 & 0\\\\0 & 0 & 0\\\\0 & 0 & 0\\end{matrix}\\right]$"
      ],
      "text/plain": [
       "Matrix([\n",
       "[0.5*f_0/(b*c*(0.5*epsilon_a + 1)), 0, 0],\n",
       "[                                0, 0, 0],\n",
       "[                                0, 0, 0]])"
      ]
     },
     "metadata": {},
     "output_type": "display_data"
    },
    {
     "data": {
      "text/plain": [
       "'S @ t=1'"
      ]
     },
     "metadata": {},
     "output_type": "display_data"
    },
    {
     "data": {
      "text/latex": [
       "$\\displaystyle \\left[\\begin{matrix}\\frac{f_{0}}{b c \\left(\\epsilon_{a} + 1\\right)} & 0 & 0\\\\0 & 0 & 0\\\\0 & 0 & 0\\end{matrix}\\right]$"
      ],
      "text/plain": [
       "Matrix([\n",
       "[f_0/(b*c*(epsilon_a + 1)), 0, 0],\n",
       "[                        0, 0, 0],\n",
       "[                        0, 0, 0]])"
      ]
     },
     "metadata": {},
     "output_type": "display_data"
    },
    {
     "data": {
      "text/plain": [
       "'P'"
      ]
     },
     "metadata": {},
     "output_type": "display_data"
    },
    {
     "data": {
      "text/latex": [
       "$\\displaystyle \\left[\\begin{matrix}\\frac{f_{0} t \\cos{\\left(\\frac{\\pi t}{2} \\right)}}{b c} & 0 & 0\\\\- \\frac{f_{0} t \\sin{\\left(\\frac{\\pi t}{2} \\right)}}{b c} & 0 & 0\\\\0 & 0 & 0\\end{matrix}\\right]$"
      ],
      "text/plain": [
       "Matrix([\n",
       "[ f_0*t*cos(pi*t/2)/(b*c), 0, 0],\n",
       "[-f_0*t*sin(pi*t/2)/(b*c), 0, 0],\n",
       "[                       0, 0, 0]])"
      ]
     },
     "metadata": {},
     "output_type": "display_data"
    },
    {
     "data": {
      "text/plain": [
       "'Fdot'"
      ]
     },
     "metadata": {},
     "output_type": "display_data"
    },
    {
     "data": {
      "text/latex": [
       "$\\displaystyle \\left[\\begin{matrix}\\epsilon_{a} \\cos{\\left(\\frac{\\pi t}{2} \\right)} - \\frac{\\pi \\left(\\epsilon_{a} t + 1\\right) \\sin{\\left(\\frac{\\pi t}{2} \\right)}}{2} & - \\epsilon_{b} \\sin{\\left(\\frac{\\pi t}{2} \\right)} - \\frac{\\pi \\left(\\epsilon_{b} t - 1\\right) \\cos{\\left(\\frac{\\pi t}{2} \\right)}}{2} & 0\\\\- \\epsilon_{a} \\sin{\\left(\\frac{\\pi t}{2} \\right)} - \\frac{\\pi \\left(\\epsilon_{a} t + 1\\right) \\cos{\\left(\\frac{\\pi t}{2} \\right)}}{2} & - \\epsilon_{b} \\cos{\\left(\\frac{\\pi t}{2} \\right)} + \\frac{\\pi \\left(\\epsilon_{b} t - 1\\right) \\sin{\\left(\\frac{\\pi t}{2} \\right)}}{2} & 0\\\\0 & 0 & - \\epsilon_{c}\\end{matrix}\\right]$"
      ],
      "text/plain": [
       "Matrix([\n",
       "[ epsilon_a*cos(pi*t/2) - pi*(epsilon_a*t + 1)*sin(pi*t/2)/2, -epsilon_b*sin(pi*t/2) - pi*(epsilon_b*t - 1)*cos(pi*t/2)/2,          0],\n",
       "[-epsilon_a*sin(pi*t/2) - pi*(epsilon_a*t + 1)*cos(pi*t/2)/2, -epsilon_b*cos(pi*t/2) + pi*(epsilon_b*t - 1)*sin(pi*t/2)/2,          0],\n",
       "[                                                          0,                                                           0, -epsilon_c]])"
      ]
     },
     "metadata": {},
     "output_type": "display_data"
    },
    {
     "data": {
      "text/plain": [
       "'D and Cauchy are energy conjugates: dU/dt'"
      ]
     },
     "metadata": {},
     "output_type": "display_data"
    },
    {
     "data": {
      "text/latex": [
       "$\\displaystyle \\frac{f_{0} t \\left(- 0.5 \\left(\\epsilon_{a} + \\epsilon_{b}\\right) \\left(\\epsilon_{a} \\epsilon_{b} t^{2} - \\epsilon_{a} t + \\epsilon_{b} t - 1\\right) \\sin^{2}{\\left(\\pi t \\right)} + 1.0 \\left(\\epsilon_{a} t + 1\\right) \\left(\\epsilon_{b} t - 1\\right) \\left(\\epsilon_{a} \\epsilon_{b} t - 2 \\epsilon_{a} \\sin^{4}{\\left(\\frac{\\pi t}{2} \\right)} + 2 \\epsilon_{a} \\sin^{2}{\\left(\\frac{\\pi t}{2} \\right)} - \\epsilon_{a} - 2 \\epsilon_{b} \\sin^{4}{\\left(\\frac{\\pi t}{2} \\right)} + 2 \\epsilon_{b} \\sin^{2}{\\left(\\frac{\\pi t}{2} \\right)}\\right)\\right)}{b c \\left(\\epsilon_{a} t + 1\\right) \\left(\\epsilon_{b} t - 1\\right)^{2} \\left(\\epsilon_{c} t - 1\\right) \\left(\\epsilon_{a} \\epsilon_{b} t^{2} - \\epsilon_{a} t + \\epsilon_{b} t - 1\\right)}$"
      ],
      "text/plain": [
       "f_0*t*(-0.5*(epsilon_a + epsilon_b)*(epsilon_a*epsilon_b*t**2 - epsilon_a*t + epsilon_b*t - 1)*sin(pi*t)**2 + 1.0*(epsilon_a*t + 1)*(epsilon_b*t - 1)*(epsilon_a*epsilon_b*t - 2*epsilon_a*sin(pi*t/2)**4 + 2*epsilon_a*sin(pi*t/2)**2 - epsilon_a - 2*epsilon_b*sin(pi*t/2)**4 + 2*epsilon_b*sin(pi*t/2)**2))/(b*c*(epsilon_a*t + 1)*(epsilon_b*t - 1)**2*(epsilon_c*t - 1)*(epsilon_a*epsilon_b*t**2 - epsilon_a*t + epsilon_b*t - 1))"
      ]
     },
     "metadata": {},
     "output_type": "display_data"
    },
    {
     "data": {
      "text/plain": [
       "'P'"
      ]
     },
     "metadata": {},
     "output_type": "display_data"
    },
    {
     "data": {
      "text/latex": [
       "$\\displaystyle \\left[\\begin{matrix}\\frac{f_{0} t \\cos{\\left(\\frac{\\pi t}{2} \\right)}}{b c} & 0 & 0\\\\- \\frac{f_{0} t \\sin{\\left(\\frac{\\pi t}{2} \\right)}}{b c} & 0 & 0\\\\0 & 0 & 0\\end{matrix}\\right]$"
      ],
      "text/plain": [
       "Matrix([\n",
       "[ f_0*t*cos(pi*t/2)/(b*c), 0, 0],\n",
       "[-f_0*t*sin(pi*t/2)/(b*c), 0, 0],\n",
       "[                       0, 0, 0]])"
      ]
     },
     "metadata": {},
     "output_type": "display_data"
    },
    {
     "data": {
      "text/plain": [
       "'Fdot'"
      ]
     },
     "metadata": {},
     "output_type": "display_data"
    },
    {
     "data": {
      "text/latex": [
       "$\\displaystyle \\left[\\begin{matrix}\\epsilon_{a} \\cos{\\left(\\frac{\\pi t}{2} \\right)} - \\frac{\\pi \\left(\\epsilon_{a} t + 1\\right) \\sin{\\left(\\frac{\\pi t}{2} \\right)}}{2} & - \\epsilon_{b} \\sin{\\left(\\frac{\\pi t}{2} \\right)} - \\frac{\\pi \\left(\\epsilon_{b} t - 1\\right) \\cos{\\left(\\frac{\\pi t}{2} \\right)}}{2} & 0\\\\- \\epsilon_{a} \\sin{\\left(\\frac{\\pi t}{2} \\right)} - \\frac{\\pi \\left(\\epsilon_{a} t + 1\\right) \\cos{\\left(\\frac{\\pi t}{2} \\right)}}{2} & - \\epsilon_{b} \\cos{\\left(\\frac{\\pi t}{2} \\right)} + \\frac{\\pi \\left(\\epsilon_{b} t - 1\\right) \\sin{\\left(\\frac{\\pi t}{2} \\right)}}{2} & 0\\\\0 & 0 & - \\epsilon_{c}\\end{matrix}\\right]$"
      ],
      "text/plain": [
       "Matrix([\n",
       "[ epsilon_a*cos(pi*t/2) - pi*(epsilon_a*t + 1)*sin(pi*t/2)/2, -epsilon_b*sin(pi*t/2) - pi*(epsilon_b*t - 1)*cos(pi*t/2)/2,          0],\n",
       "[-epsilon_a*sin(pi*t/2) - pi*(epsilon_a*t + 1)*cos(pi*t/2)/2, -epsilon_b*cos(pi*t/2) + pi*(epsilon_b*t - 1)*sin(pi*t/2)/2,          0],\n",
       "[                                                          0,                                                           0, -epsilon_c]])"
      ]
     },
     "metadata": {},
     "output_type": "display_data"
    },
    {
     "data": {
      "text/plain": [
       "'P and Fdot are energy conjugates: dW/dt'"
      ]
     },
     "metadata": {},
     "output_type": "display_data"
    },
    {
     "data": {
      "text/latex": [
       "$\\displaystyle \\frac{\\epsilon_{a} f_{0} t}{b c}$"
      ],
      "text/plain": [
       "epsilon_a*f_0*t/(b*c)"
      ]
     },
     "metadata": {},
     "output_type": "display_data"
    },
    {
     "data": {
      "text/plain": [
       "'S'"
      ]
     },
     "metadata": {},
     "output_type": "display_data"
    },
    {
     "data": {
      "text/latex": [
       "$\\displaystyle \\left[\\begin{matrix}\\frac{f_{0} t}{b c \\left(\\epsilon_{a} t + 1\\right)} & 0 & 0\\\\0 & 0 & 0\\\\0 & 0 & 0\\end{matrix}\\right]$"
      ],
      "text/plain": [
       "Matrix([\n",
       "[f_0*t/(b*c*(epsilon_a*t + 1)), 0, 0],\n",
       "[                            0, 0, 0],\n",
       "[                            0, 0, 0]])"
      ]
     },
     "metadata": {},
     "output_type": "display_data"
    },
    {
     "data": {
      "text/plain": [
       "'E_Green'"
      ]
     },
     "metadata": {},
     "output_type": "display_data"
    },
    {
     "data": {
      "text/latex": [
       "$\\displaystyle \\left[\\begin{matrix}0.5 \\epsilon_{a}^{2} t + 0.5 \\epsilon_{a} \\left(\\epsilon_{a} t + 2\\right) & 0 & 0\\\\0 & 0.5 \\epsilon_{b}^{2} t + 0.5 \\epsilon_{b} \\left(\\epsilon_{b} t - 2\\right) & 0\\\\0 & 0 & 1.0 \\epsilon_{c} \\left(\\epsilon_{c} t - 1\\right)\\end{matrix}\\right]$"
      ],
      "text/plain": [
       "Matrix([\n",
       "[0.5*epsilon_a**2*t + 0.5*epsilon_a*(epsilon_a*t + 2),                                                    0,                               0],\n",
       "[                                                   0, 0.5*epsilon_b**2*t + 0.5*epsilon_b*(epsilon_b*t - 2),                               0],\n",
       "[                                                   0,                                                    0, 1.0*epsilon_c*(epsilon_c*t - 1)]])"
      ]
     },
     "metadata": {},
     "output_type": "display_data"
    },
    {
     "data": {
      "text/plain": [
       "'S and E_Green are energy conjugates: dW/dt'"
      ]
     },
     "metadata": {},
     "output_type": "display_data"
    },
    {
     "data": {
      "text/latex": [
       "$\\displaystyle \\frac{1.0 \\epsilon_{a} f_{0} t}{b c}$"
      ],
      "text/plain": [
       "1.0*epsilon_a*f_0*t/(b*c)"
      ]
     },
     "metadata": {},
     "output_type": "display_data"
    }
   ],
   "source": [
    "import sympy as sp\n",
    "import numpy as np\n",
    "from sympy import Matrix, simplify, diff, eye, det\n",
    "from matplotlib import pyplot as plt\n",
    "theta = sp.symbols(\"theta\")\n",
    "X1,X2,X3 = sp.symbols(\"X_1 X_2 X_3\")\n",
    "a,b,c = sp.symbols(\"a b c\")\n",
    "ea,eb,ec,t = sp.symbols(\"epsilon_a epsilon_b epsilon_c t\")\n",
    "f0 = sp.symbols(\"f_0\")\n",
    "Q = Matrix([[sp.cos(theta*t), sp.sin(theta*t),0],\n",
    "            [-sp.sin(theta*t),sp.cos(theta*t), 0],\n",
    "            [0,0,1]])\n",
    "Q = Q.subs({theta:sp.pi/2})\n",
    "display(\"Q =\", Q)\n",
    "xi1 = (1+t*ea)*X1\n",
    "xi2 = (1-t*eb)*X2\n",
    "xi3 = (1-t*ec)*X3\n",
    "xi = Matrix([xi1, xi2, xi3])\n",
    "x = Q*xi\n",
    "X = Matrix([X1,X2,X3])\n",
    "U = Matrix([[diff(i,j) for j in X] for i in xi])\n",
    "display(\"The matrix U appearing in the Right Polar Decomposition of the Deformation Gradient F:\")\n",
    "display(\"U =\", U)\n",
    "Udot = diff(U,t)\n",
    "display(\"Udot =\",Udot)\n",
    "F = Matrix([[diff(i,j) for j in X] for i in x])\n",
    "display(\"F =\",F)\n",
    "V = simplify(F*Q.T)\n",
    "display(\"The matrix V appearing in the Right Polar Decomposition of the Deformation Gradient F:\")\n",
    "display(\"Deformation gradient F =\",V)\n",
    "Fdot = simplify(diff(F,t))\n",
    "display(\"Fdot =\",Fdot)\n",
    "L = simplify(Fdot*F.inv())\n",
    "display(\"L =\",L)\n",
    "display(\"L @t=0.5 = \",L.subs({t:0.5}))\n",
    "display(\"L @t=1 = \",L.subs({t:1}))\n",
    "Dd = simplify(1/2*(L+L.T))\n",
    "display(\"Symmetric part of L\", Dd)\n",
    "Elagrange = simplify(1/2*(F.T*F-eye(3)))\n",
    "display(\"Green Strain =\",Elagrange)\n",
    "Elagrangedot = diff(Elagrange,t)\n",
    "display(\"Green Strain rate =\",Elagrangedot)\n",
    "sigmalocal = Matrix([[t*f0/(b*c*(1-t*eb)*(1-t*ec)),0,0],[0,0,0],[0,0,0]])\n",
    "Cauchy = simplify(Q*sigmalocal*Q.T)\n",
    "display(\"Cauchy stress =\",Cauchy)\n",
    "display(\"Cauchy stress @t=0:\",Cauchy.subs({t:0}))\n",
    "display(\"Cauchy stress @t=0.5:\",Cauchy.subs({t:0.5}))\n",
    "display(\"Cauchy stress @t=1:\",Cauchy.subs({t:1}))\n",
    "P = simplify(det(F)*Cauchy*F.T.inv())\n",
    "display(\"P =\",P)\n",
    "display(\"P @ t=0\",P.subs({t:0}))\n",
    "display(\"P @ t=0.5\",P.subs({t:0.5}))\n",
    "display(\"P @ t=1\",P.subs({t:1}))\n",
    "S = simplify(F.inv()*P)\n",
    "display(\"S =\",S)\n",
    "display(\"S @ t=0\",S.subs({t:0}))\n",
    "display(\"S @ t=0.5\",S.subs({t:0.5}))\n",
    "display(\"S @ t=1\",S.subs({t:1}))\n",
    "e1 = sum([Cauchy[i]*Dd[i] for i in range(9)])\n",
    "display(\"P\",P,\"Fdot\",Fdot)\n",
    "display(\"D and Cauchy are energy conjugates: dU/dt\", simplify(e1))\n",
    "e2 = sum([P[i]*Fdot[i] for i in range(9)])\n",
    "display(\"P\",P,\"Fdot\",Fdot)\n",
    "display(\"P and Fdot are energy conjugates: dW/dt\", simplify(e2))\n",
    "e2 = sum([S[i]*Elagrangedot[i] for i in range(9)])\n",
    "display(\"S\",S,\"E_Green\",Elagrangedot)\n",
    "display(\"S and E_Green are energy conjugates: dW/dt\", simplify(e2))"
   ]
  },
  {
   "cell_type": "markdown",
   "metadata": {},
   "source": [
    "9.2.2.3"
   ]
  },
  {
   "cell_type": "code",
   "execution_count": 7,
   "metadata": {
    "scrolled": false
   },
   "outputs": [
    {
     "data": {
      "text/plain": [
       "'Extension'"
      ]
     },
     "metadata": {},
     "output_type": "display_data"
    },
    {
     "data": {
      "text/plain": [
       "'F ='"
      ]
     },
     "metadata": {},
     "output_type": "display_data"
    },
    {
     "data": {
      "text/latex": [
       "$\\displaystyle \\left[\\begin{matrix}\\epsilon_{a} t + 1 & 0 & 0\\\\0 & - \\epsilon_{b} t + 1 & 0\\\\0 & 0 & - \\epsilon_{c} t + 1\\end{matrix}\\right]$"
      ],
      "text/plain": [
       "Matrix([\n",
       "[epsilon_a*t + 1,                0,                0],\n",
       "[              0, -epsilon_b*t + 1,                0],\n",
       "[              0,                0, -epsilon_c*t + 1]])"
      ]
     },
     "metadata": {},
     "output_type": "display_data"
    },
    {
     "data": {
      "text/plain": [
       "'Lagrange Strain ='"
      ]
     },
     "metadata": {},
     "output_type": "display_data"
    },
    {
     "data": {
      "text/latex": [
       "$\\displaystyle \\left[\\begin{matrix}0.5 \\left(\\epsilon_{a} t + 1\\right)^{2} - 0.5 & 0 & 0\\\\0 & 0.5 \\left(\\epsilon_{b} t - 1\\right)^{2} - 0.5 & 0\\\\0 & 0 & 0.5 \\left(\\epsilon_{c} t - 1\\right)^{2} - 0.5\\end{matrix}\\right]$"
      ],
      "text/plain": [
       "Matrix([\n",
       "[0.5*(epsilon_a*t + 1)**2 - 0.5,                              0,                              0],\n",
       "[                             0, 0.5*(epsilon_b*t - 1)**2 - 0.5,                              0],\n",
       "[                             0,                              0, 0.5*(epsilon_c*t - 1)**2 - 0.5]])"
      ]
     },
     "metadata": {},
     "output_type": "display_data"
    },
    {
     "data": {
      "text/plain": [
       "'Lagrange Strain rate ='"
      ]
     },
     "metadata": {},
     "output_type": "display_data"
    },
    {
     "data": {
      "text/latex": [
       "$\\displaystyle \\left[\\begin{matrix}1.0 \\epsilon_{a} \\left(\\epsilon_{a} t + 1\\right) & 0 & 0\\\\0 & 1.0 \\epsilon_{b} \\left(\\epsilon_{b} t - 1\\right) & 0\\\\0 & 0 & 1.0 \\epsilon_{c} \\left(\\epsilon_{c} t - 1\\right)\\end{matrix}\\right]$"
      ],
      "text/plain": [
       "Matrix([\n",
       "[1.0*epsilon_a*(epsilon_a*t + 1),                               0,                               0],\n",
       "[                              0, 1.0*epsilon_b*(epsilon_b*t - 1),                               0],\n",
       "[                              0,                               0, 1.0*epsilon_c*(epsilon_c*t - 1)]])"
      ]
     },
     "metadata": {},
     "output_type": "display_data"
    },
    {
     "data": {
      "text/plain": [
       "'Fdot ='"
      ]
     },
     "metadata": {},
     "output_type": "display_data"
    },
    {
     "data": {
      "text/latex": [
       "$\\displaystyle \\left[\\begin{matrix}\\epsilon_{a} & 0 & 0\\\\0 & - \\epsilon_{b} & 0\\\\0 & 0 & - \\epsilon_{c}\\end{matrix}\\right]$"
      ],
      "text/plain": [
       "Matrix([\n",
       "[epsilon_a,          0,          0],\n",
       "[        0, -epsilon_b,          0],\n",
       "[        0,          0, -epsilon_c]])"
      ]
     },
     "metadata": {},
     "output_type": "display_data"
    },
    {
     "data": {
      "text/plain": [
       "'Velocity gradient (L) ='"
      ]
     },
     "metadata": {},
     "output_type": "display_data"
    },
    {
     "data": {
      "text/latex": [
       "$\\displaystyle \\left[\\begin{matrix}\\frac{\\epsilon_{a}}{\\epsilon_{a} t + 1} & 0 & 0\\\\0 & \\frac{\\epsilon_{b}}{\\epsilon_{b} t - 1} & 0\\\\0 & 0 & \\frac{\\epsilon_{c}}{\\epsilon_{c} t - 1}\\end{matrix}\\right]$"
      ],
      "text/plain": [
       "Matrix([\n",
       "[epsilon_a/(epsilon_a*t + 1),                           0,                           0],\n",
       "[                          0, epsilon_b/(epsilon_b*t - 1),                           0],\n",
       "[                          0,                           0, epsilon_c/(epsilon_c*t - 1)]])"
      ]
     },
     "metadata": {},
     "output_type": "display_data"
    },
    {
     "data": {
      "text/plain": [
       "'Symmetric part of L'"
      ]
     },
     "metadata": {},
     "output_type": "display_data"
    },
    {
     "data": {
      "text/latex": [
       "$\\displaystyle \\left[\\begin{matrix}\\frac{1.0 \\epsilon_{a}}{\\epsilon_{a} t + 1} & 0 & 0\\\\0 & \\frac{1.0 \\epsilon_{b}}{\\epsilon_{b} t - 1} & 0\\\\0 & 0 & \\frac{1.0 \\epsilon_{c}}{\\epsilon_{c} t - 1}\\end{matrix}\\right]$"
      ],
      "text/plain": [
       "Matrix([\n",
       "[1.0*epsilon_a/(epsilon_a*t + 1),                               0,                               0],\n",
       "[                              0, 1.0*epsilon_b/(epsilon_b*t - 1),                               0],\n",
       "[                              0,                               0, 1.0*epsilon_c/(epsilon_c*t - 1)]])"
      ]
     },
     "metadata": {},
     "output_type": "display_data"
    },
    {
     "data": {
      "text/plain": [
       "'Cauchy ='"
      ]
     },
     "metadata": {},
     "output_type": "display_data"
    },
    {
     "data": {
      "text/latex": [
       "$\\displaystyle \\left[\\begin{matrix}\\frac{f_{0} t}{b c \\left(- \\epsilon_{b} t + 1\\right) \\left(- \\epsilon_{c} t + 1\\right)} & 0 & 0\\\\0 & 0 & 0\\\\0 & 0 & 0\\end{matrix}\\right]$"
      ],
      "text/plain": [
       "Matrix([\n",
       "[f_0*t/(b*c*(-epsilon_b*t + 1)*(-epsilon_c*t + 1)), 0, 0],\n",
       "[                                                0, 0, 0],\n",
       "[                                                0, 0, 0]])"
      ]
     },
     "metadata": {},
     "output_type": "display_data"
    },
    {
     "data": {
      "text/plain": [
       "'First Piola ='"
      ]
     },
     "metadata": {},
     "output_type": "display_data"
    },
    {
     "data": {
      "text/latex": [
       "$\\displaystyle \\left[\\begin{matrix}\\frac{f_{0} t}{b c} & 0 & 0\\\\0 & 0 & 0\\\\0 & 0 & 0\\end{matrix}\\right]$"
      ],
      "text/plain": [
       "Matrix([\n",
       "[f_0*t/(b*c), 0, 0],\n",
       "[          0, 0, 0],\n",
       "[          0, 0, 0]])"
      ]
     },
     "metadata": {},
     "output_type": "display_data"
    },
    {
     "data": {
      "text/plain": [
       "'Second Piola ='"
      ]
     },
     "metadata": {},
     "output_type": "display_data"
    },
    {
     "data": {
      "text/latex": [
       "$\\displaystyle \\left[\\begin{matrix}\\frac{f_{0} t}{b c \\left(\\epsilon_{a} t + 1\\right)} & 0 & 0\\\\0 & 0 & 0\\\\0 & 0 & 0\\end{matrix}\\right]$"
      ],
      "text/plain": [
       "Matrix([\n",
       "[f_0*t/(b*c*(epsilon_a*t + 1)), 0, 0],\n",
       "[                            0, 0, 0],\n",
       "[                            0, 0, 0]])"
      ]
     },
     "metadata": {},
     "output_type": "display_data"
    },
    {
     "data": {
      "text/plain": [
       "'Cauchy'"
      ]
     },
     "metadata": {},
     "output_type": "display_data"
    },
    {
     "data": {
      "text/latex": [
       "$\\displaystyle \\left[\\begin{matrix}\\frac{f_{0} t}{b c \\left(- \\epsilon_{b} t + 1\\right) \\left(- \\epsilon_{c} t + 1\\right)} & 0 & 0\\\\0 & 0 & 0\\\\0 & 0 & 0\\end{matrix}\\right]$"
      ],
      "text/plain": [
       "Matrix([\n",
       "[f_0*t/(b*c*(-epsilon_b*t + 1)*(-epsilon_c*t + 1)), 0, 0],\n",
       "[                                                0, 0, 0],\n",
       "[                                                0, 0, 0]])"
      ]
     },
     "metadata": {},
     "output_type": "display_data"
    },
    {
     "data": {
      "text/plain": [
       "'Dd'"
      ]
     },
     "metadata": {},
     "output_type": "display_data"
    },
    {
     "data": {
      "text/latex": [
       "$\\displaystyle \\left[\\begin{matrix}\\frac{1.0 \\epsilon_{a}}{\\epsilon_{a} t + 1} & 0 & 0\\\\0 & \\frac{1.0 \\epsilon_{b}}{\\epsilon_{b} t - 1} & 0\\\\0 & 0 & \\frac{1.0 \\epsilon_{c}}{\\epsilon_{c} t - 1}\\end{matrix}\\right]$"
      ],
      "text/plain": [
       "Matrix([\n",
       "[1.0*epsilon_a/(epsilon_a*t + 1),                               0,                               0],\n",
       "[                              0, 1.0*epsilon_b/(epsilon_b*t - 1),                               0],\n",
       "[                              0,                               0, 1.0*epsilon_c/(epsilon_c*t - 1)]])"
      ]
     },
     "metadata": {},
     "output_type": "display_data"
    },
    {
     "data": {
      "text/plain": [
       "'D and Cauchy are energy conjugates: dU/dt'"
      ]
     },
     "metadata": {},
     "output_type": "display_data"
    },
    {
     "data": {
      "text/latex": [
       "$\\displaystyle \\frac{1.0 \\epsilon_{a} f_{0} t}{b c \\left(\\epsilon_{a} t + 1\\right) \\left(\\epsilon_{b} t - 1\\right) \\left(\\epsilon_{c} t - 1\\right)}$"
      ],
      "text/plain": [
       "1.0*epsilon_a*f_0*t/(b*c*(epsilon_a*t + 1)*(epsilon_b*t - 1)*(epsilon_c*t - 1))"
      ]
     },
     "metadata": {},
     "output_type": "display_data"
    },
    {
     "data": {
      "text/plain": [
       "'P'"
      ]
     },
     "metadata": {},
     "output_type": "display_data"
    },
    {
     "data": {
      "text/latex": [
       "$\\displaystyle \\left[\\begin{matrix}\\frac{f_{0} t}{b c} & 0 & 0\\\\0 & 0 & 0\\\\0 & 0 & 0\\end{matrix}\\right]$"
      ],
      "text/plain": [
       "Matrix([\n",
       "[f_0*t/(b*c), 0, 0],\n",
       "[          0, 0, 0],\n",
       "[          0, 0, 0]])"
      ]
     },
     "metadata": {},
     "output_type": "display_data"
    },
    {
     "data": {
      "text/plain": [
       "'Fdot'"
      ]
     },
     "metadata": {},
     "output_type": "display_data"
    },
    {
     "data": {
      "text/latex": [
       "$\\displaystyle \\left[\\begin{matrix}\\epsilon_{a} & 0 & 0\\\\0 & - \\epsilon_{b} & 0\\\\0 & 0 & - \\epsilon_{c}\\end{matrix}\\right]$"
      ],
      "text/plain": [
       "Matrix([\n",
       "[epsilon_a,          0,          0],\n",
       "[        0, -epsilon_b,          0],\n",
       "[        0,          0, -epsilon_c]])"
      ]
     },
     "metadata": {},
     "output_type": "display_data"
    },
    {
     "data": {
      "text/plain": [
       "'P and Fdot are energy conjugates: dW/dt'"
      ]
     },
     "metadata": {},
     "output_type": "display_data"
    },
    {
     "data": {
      "text/latex": [
       "$\\displaystyle \\frac{\\epsilon_{a} f_{0} t}{b c}$"
      ],
      "text/plain": [
       "epsilon_a*f_0*t/(b*c)"
      ]
     },
     "metadata": {},
     "output_type": "display_data"
    },
    {
     "data": {
      "text/plain": [
       "'S'"
      ]
     },
     "metadata": {},
     "output_type": "display_data"
    },
    {
     "data": {
      "text/latex": [
       "$\\displaystyle \\left[\\begin{matrix}\\frac{f_{0} t}{b c \\left(\\epsilon_{a} t + 1\\right)} & 0 & 0\\\\0 & 0 & 0\\\\0 & 0 & 0\\end{matrix}\\right]$"
      ],
      "text/plain": [
       "Matrix([\n",
       "[f_0*t/(b*c*(epsilon_a*t + 1)), 0, 0],\n",
       "[                            0, 0, 0],\n",
       "[                            0, 0, 0]])"
      ]
     },
     "metadata": {},
     "output_type": "display_data"
    },
    {
     "data": {
      "text/plain": [
       "'E_Green'"
      ]
     },
     "metadata": {},
     "output_type": "display_data"
    },
    {
     "data": {
      "text/latex": [
       "$\\displaystyle \\left[\\begin{matrix}1.0 \\epsilon_{a} \\left(\\epsilon_{a} t + 1\\right) & 0 & 0\\\\0 & 1.0 \\epsilon_{b} \\left(\\epsilon_{b} t - 1\\right) & 0\\\\0 & 0 & 1.0 \\epsilon_{c} \\left(\\epsilon_{c} t - 1\\right)\\end{matrix}\\right]$"
      ],
      "text/plain": [
       "Matrix([\n",
       "[1.0*epsilon_a*(epsilon_a*t + 1),                               0,                               0],\n",
       "[                              0, 1.0*epsilon_b*(epsilon_b*t - 1),                               0],\n",
       "[                              0,                               0, 1.0*epsilon_c*(epsilon_c*t - 1)]])"
      ]
     },
     "metadata": {},
     "output_type": "display_data"
    },
    {
     "data": {
      "text/plain": [
       "'S and E_Green are energy conjugates: dW/dt'"
      ]
     },
     "metadata": {},
     "output_type": "display_data"
    },
    {
     "data": {
      "text/latex": [
       "$\\displaystyle \\frac{1.0 \\epsilon_{a} f_{0} t}{b c}$"
      ],
      "text/plain": [
       "1.0*epsilon_a*f_0*t/(b*c)"
      ]
     },
     "metadata": {},
     "output_type": "display_data"
    },
    {
     "data": {
      "text/plain": [
       "'Rotation'"
      ]
     },
     "metadata": {},
     "output_type": "display_data"
    },
    {
     "data": {
      "text/plain": [
       "'Q ='"
      ]
     },
     "metadata": {},
     "output_type": "display_data"
    },
    {
     "data": {
      "text/latex": [
       "$\\displaystyle \\left[\\begin{matrix}\\cos{\\left(\\pi \\left(\\frac{t}{2} - \\frac{1}{2}\\right) \\right)} & \\sin{\\left(\\pi \\left(\\frac{t}{2} - \\frac{1}{2}\\right) \\right)} & 0\\\\- \\sin{\\left(\\pi \\left(\\frac{t}{2} - \\frac{1}{2}\\right) \\right)} & \\cos{\\left(\\pi \\left(\\frac{t}{2} - \\frac{1}{2}\\right) \\right)} & 0\\\\0 & 0 & 1\\end{matrix}\\right]$"
      ],
      "text/plain": [
       "Matrix([\n",
       "[ cos(pi*(t/2 - 1/2)), sin(pi*(t/2 - 1/2)), 0],\n",
       "[-sin(pi*(t/2 - 1/2)), cos(pi*(t/2 - 1/2)), 0],\n",
       "[                   0,                   0, 1]])"
      ]
     },
     "metadata": {},
     "output_type": "display_data"
    },
    {
     "data": {
      "text/plain": [
       "'F ='"
      ]
     },
     "metadata": {},
     "output_type": "display_data"
    },
    {
     "data": {
      "text/latex": [
       "$\\displaystyle \\left[\\begin{matrix}\\left(\\epsilon_{a} + 1\\right) \\cos{\\left(\\pi \\left(\\frac{t}{2} - \\frac{1}{2}\\right) \\right)} & \\left(1 - \\epsilon_{b}\\right) \\sin{\\left(\\pi \\left(\\frac{t}{2} - \\frac{1}{2}\\right) \\right)} & 0\\\\\\left(- \\epsilon_{a} - 1\\right) \\sin{\\left(\\pi \\left(\\frac{t}{2} - \\frac{1}{2}\\right) \\right)} & \\left(1 - \\epsilon_{b}\\right) \\cos{\\left(\\pi \\left(\\frac{t}{2} - \\frac{1}{2}\\right) \\right)} & 0\\\\0 & 0 & 1 - \\epsilon_{c}\\end{matrix}\\right]$"
      ],
      "text/plain": [
       "Matrix([\n",
       "[ (epsilon_a + 1)*cos(pi*(t/2 - 1/2)), (1 - epsilon_b)*sin(pi*(t/2 - 1/2)),             0],\n",
       "[(-epsilon_a - 1)*sin(pi*(t/2 - 1/2)), (1 - epsilon_b)*cos(pi*(t/2 - 1/2)),             0],\n",
       "[                                   0,                                   0, 1 - epsilon_c]])"
      ]
     },
     "metadata": {},
     "output_type": "display_data"
    },
    {
     "data": {
      "text/plain": [
       "'Lagrange Strain ='"
      ]
     },
     "metadata": {},
     "output_type": "display_data"
    },
    {
     "data": {
      "text/latex": [
       "$\\displaystyle \\left[\\begin{matrix}0.5 \\epsilon_{a} \\left(\\epsilon_{a} + 2\\right) & 0 & 0\\\\0 & 0.5 \\epsilon_{b} \\left(\\epsilon_{b} - 2\\right) & 0\\\\0 & 0 & \\epsilon_{c} \\left(0.5 \\epsilon_{c} - 1.0\\right)\\end{matrix}\\right]$"
      ],
      "text/plain": [
       "Matrix([\n",
       "[0.5*epsilon_a*(epsilon_a + 2),                             0,                               0],\n",
       "[                            0, 0.5*epsilon_b*(epsilon_b - 2),                               0],\n",
       "[                            0,                             0, epsilon_c*(0.5*epsilon_c - 1.0)]])"
      ]
     },
     "metadata": {},
     "output_type": "display_data"
    },
    {
     "data": {
      "text/plain": [
       "'Lagrange Strain rate ='"
      ]
     },
     "metadata": {},
     "output_type": "display_data"
    },
    {
     "data": {
      "text/latex": [
       "$\\displaystyle \\left[\\begin{matrix}0 & 0 & 0\\\\0 & 0 & 0\\\\0 & 0 & 0\\end{matrix}\\right]$"
      ],
      "text/plain": [
       "Matrix([\n",
       "[0, 0, 0],\n",
       "[0, 0, 0],\n",
       "[0, 0, 0]])"
      ]
     },
     "metadata": {},
     "output_type": "display_data"
    },
    {
     "data": {
      "text/plain": [
       "'Fdot ='"
      ]
     },
     "metadata": {},
     "output_type": "display_data"
    },
    {
     "data": {
      "text/latex": [
       "$\\displaystyle \\left[\\begin{matrix}\\frac{\\pi \\left(\\epsilon_{a} + 1\\right) \\cos{\\left(\\frac{\\pi t}{2} \\right)}}{2} & \\frac{\\pi \\left(1 - \\epsilon_{b}\\right) \\sin{\\left(\\frac{\\pi t}{2} \\right)}}{2} & 0\\\\- \\frac{\\pi \\left(\\epsilon_{a} + 1\\right) \\sin{\\left(\\frac{\\pi t}{2} \\right)}}{2} & \\frac{\\pi \\left(1 - \\epsilon_{b}\\right) \\cos{\\left(\\frac{\\pi t}{2} \\right)}}{2} & 0\\\\0 & 0 & 0\\end{matrix}\\right]$"
      ],
      "text/plain": [
       "Matrix([\n",
       "[ pi*(epsilon_a + 1)*cos(pi*t/2)/2, pi*(1 - epsilon_b)*sin(pi*t/2)/2, 0],\n",
       "[-pi*(epsilon_a + 1)*sin(pi*t/2)/2, pi*(1 - epsilon_b)*cos(pi*t/2)/2, 0],\n",
       "[                                0,                                0, 0]])"
      ]
     },
     "metadata": {},
     "output_type": "display_data"
    },
    {
     "data": {
      "text/plain": [
       "'Velocity gradient (L) ='"
      ]
     },
     "metadata": {},
     "output_type": "display_data"
    },
    {
     "data": {
      "text/latex": [
       "$\\displaystyle \\left[\\begin{matrix}0 & \\frac{\\pi}{2} & 0\\\\- \\frac{\\pi}{2} & 0 & 0\\\\0 & 0 & 0\\end{matrix}\\right]$"
      ],
      "text/plain": [
       "Matrix([\n",
       "[    0, pi/2, 0],\n",
       "[-pi/2,    0, 0],\n",
       "[    0,    0, 0]])"
      ]
     },
     "metadata": {},
     "output_type": "display_data"
    },
    {
     "data": {
      "text/plain": [
       "'Symmetric part of L'"
      ]
     },
     "metadata": {},
     "output_type": "display_data"
    },
    {
     "data": {
      "text/latex": [
       "$\\displaystyle \\left[\\begin{matrix}0 & 0 & 0\\\\0 & 0 & 0\\\\0 & 0 & 0\\end{matrix}\\right]$"
      ],
      "text/plain": [
       "Matrix([\n",
       "[0, 0, 0],\n",
       "[0, 0, 0],\n",
       "[0, 0, 0]])"
      ]
     },
     "metadata": {},
     "output_type": "display_data"
    },
    {
     "data": {
      "text/plain": [
       "'Cauchy ='"
      ]
     },
     "metadata": {},
     "output_type": "display_data"
    },
    {
     "data": {
      "text/latex": [
       "$\\displaystyle \\left[\\begin{matrix}\\frac{f_{0} \\sin^{2}{\\left(\\frac{\\pi t}{2} \\right)}}{b c \\left(\\epsilon_{b} \\epsilon_{c} - \\epsilon_{b} - \\epsilon_{c} + 1\\right)} & \\frac{f_{0} \\sin{\\left(\\pi t \\right)}}{2 b c \\left(\\epsilon_{b} \\epsilon_{c} - \\epsilon_{b} - \\epsilon_{c} + 1\\right)} & 0\\\\\\frac{f_{0} \\sin{\\left(\\pi t \\right)}}{2 b c \\left(\\epsilon_{b} \\epsilon_{c} - \\epsilon_{b} - \\epsilon_{c} + 1\\right)} & \\frac{f_{0} \\cos^{2}{\\left(\\frac{\\pi t}{2} \\right)}}{b c \\left(\\epsilon_{b} \\epsilon_{c} - \\epsilon_{b} - \\epsilon_{c} + 1\\right)} & 0\\\\0 & 0 & 0\\end{matrix}\\right]$"
      ],
      "text/plain": [
       "Matrix([\n",
       "[f_0*sin(pi*t/2)**2/(b*c*(epsilon_b*epsilon_c - epsilon_b - epsilon_c + 1)),    f_0*sin(pi*t)/(2*b*c*(epsilon_b*epsilon_c - epsilon_b - epsilon_c + 1)), 0],\n",
       "[   f_0*sin(pi*t)/(2*b*c*(epsilon_b*epsilon_c - epsilon_b - epsilon_c + 1)), f_0*cos(pi*t/2)**2/(b*c*(epsilon_b*epsilon_c - epsilon_b - epsilon_c + 1)), 0],\n",
       "[                                                                         0,                                                                          0, 0]])"
      ]
     },
     "metadata": {},
     "output_type": "display_data"
    },
    {
     "data": {
      "text/plain": [
       "'First Piola ='"
      ]
     },
     "metadata": {},
     "output_type": "display_data"
    },
    {
     "data": {
      "text/latex": [
       "$\\displaystyle \\left[\\begin{matrix}\\frac{f_{0} \\sin{\\left(\\frac{\\pi t}{2} \\right)}}{b c} & 0 & 0\\\\\\frac{f_{0} \\cos{\\left(\\frac{\\pi t}{2} \\right)}}{b c} & 0 & 0\\\\0 & 0 & 0\\end{matrix}\\right]$"
      ],
      "text/plain": [
       "Matrix([\n",
       "[f_0*sin(pi*t/2)/(b*c), 0, 0],\n",
       "[f_0*cos(pi*t/2)/(b*c), 0, 0],\n",
       "[                    0, 0, 0]])"
      ]
     },
     "metadata": {},
     "output_type": "display_data"
    },
    {
     "data": {
      "text/plain": [
       "'Second Piola ='"
      ]
     },
     "metadata": {},
     "output_type": "display_data"
    },
    {
     "data": {
      "text/latex": [
       "$\\displaystyle \\left[\\begin{matrix}\\frac{f_{0}}{b c \\left(\\epsilon_{a} + 1\\right)} & 0 & 0\\\\0 & 0 & 0\\\\0 & 0 & 0\\end{matrix}\\right]$"
      ],
      "text/plain": [
       "Matrix([\n",
       "[f_0/(b*c*(epsilon_a + 1)), 0, 0],\n",
       "[                        0, 0, 0],\n",
       "[                        0, 0, 0]])"
      ]
     },
     "metadata": {},
     "output_type": "display_data"
    },
    {
     "data": {
      "text/plain": [
       "'Cauchy'"
      ]
     },
     "metadata": {},
     "output_type": "display_data"
    },
    {
     "data": {
      "text/latex": [
       "$\\displaystyle \\left[\\begin{matrix}\\frac{f_{0} \\sin^{2}{\\left(\\frac{\\pi t}{2} \\right)}}{b c \\left(\\epsilon_{b} \\epsilon_{c} - \\epsilon_{b} - \\epsilon_{c} + 1\\right)} & \\frac{f_{0} \\sin{\\left(\\pi t \\right)}}{2 b c \\left(\\epsilon_{b} \\epsilon_{c} - \\epsilon_{b} - \\epsilon_{c} + 1\\right)} & 0\\\\\\frac{f_{0} \\sin{\\left(\\pi t \\right)}}{2 b c \\left(\\epsilon_{b} \\epsilon_{c} - \\epsilon_{b} - \\epsilon_{c} + 1\\right)} & \\frac{f_{0} \\cos^{2}{\\left(\\frac{\\pi t}{2} \\right)}}{b c \\left(\\epsilon_{b} \\epsilon_{c} - \\epsilon_{b} - \\epsilon_{c} + 1\\right)} & 0\\\\0 & 0 & 0\\end{matrix}\\right]$"
      ],
      "text/plain": [
       "Matrix([\n",
       "[f_0*sin(pi*t/2)**2/(b*c*(epsilon_b*epsilon_c - epsilon_b - epsilon_c + 1)),    f_0*sin(pi*t)/(2*b*c*(epsilon_b*epsilon_c - epsilon_b - epsilon_c + 1)), 0],\n",
       "[   f_0*sin(pi*t)/(2*b*c*(epsilon_b*epsilon_c - epsilon_b - epsilon_c + 1)), f_0*cos(pi*t/2)**2/(b*c*(epsilon_b*epsilon_c - epsilon_b - epsilon_c + 1)), 0],\n",
       "[                                                                         0,                                                                          0, 0]])"
      ]
     },
     "metadata": {},
     "output_type": "display_data"
    },
    {
     "data": {
      "text/plain": [
       "'Dd'"
      ]
     },
     "metadata": {},
     "output_type": "display_data"
    },
    {
     "data": {
      "text/latex": [
       "$\\displaystyle \\left[\\begin{matrix}0 & 0 & 0\\\\0 & 0 & 0\\\\0 & 0 & 0\\end{matrix}\\right]$"
      ],
      "text/plain": [
       "Matrix([\n",
       "[0, 0, 0],\n",
       "[0, 0, 0],\n",
       "[0, 0, 0]])"
      ]
     },
     "metadata": {},
     "output_type": "display_data"
    },
    {
     "data": {
      "text/plain": [
       "'D and Cauchy are energy conjugates: dU/dt'"
      ]
     },
     "metadata": {},
     "output_type": "display_data"
    },
    {
     "data": {
      "text/latex": [
       "$\\displaystyle 0$"
      ],
      "text/plain": [
       "0"
      ]
     },
     "metadata": {},
     "output_type": "display_data"
    },
    {
     "data": {
      "text/plain": [
       "'P'"
      ]
     },
     "metadata": {},
     "output_type": "display_data"
    },
    {
     "data": {
      "text/latex": [
       "$\\displaystyle \\left[\\begin{matrix}\\frac{f_{0} \\sin{\\left(\\frac{\\pi t}{2} \\right)}}{b c} & 0 & 0\\\\\\frac{f_{0} \\cos{\\left(\\frac{\\pi t}{2} \\right)}}{b c} & 0 & 0\\\\0 & 0 & 0\\end{matrix}\\right]$"
      ],
      "text/plain": [
       "Matrix([\n",
       "[f_0*sin(pi*t/2)/(b*c), 0, 0],\n",
       "[f_0*cos(pi*t/2)/(b*c), 0, 0],\n",
       "[                    0, 0, 0]])"
      ]
     },
     "metadata": {},
     "output_type": "display_data"
    },
    {
     "data": {
      "text/plain": [
       "'Fdot'"
      ]
     },
     "metadata": {},
     "output_type": "display_data"
    },
    {
     "data": {
      "text/latex": [
       "$\\displaystyle \\left[\\begin{matrix}\\frac{\\pi \\left(\\epsilon_{a} + 1\\right) \\cos{\\left(\\frac{\\pi t}{2} \\right)}}{2} & \\frac{\\pi \\left(1 - \\epsilon_{b}\\right) \\sin{\\left(\\frac{\\pi t}{2} \\right)}}{2} & 0\\\\- \\frac{\\pi \\left(\\epsilon_{a} + 1\\right) \\sin{\\left(\\frac{\\pi t}{2} \\right)}}{2} & \\frac{\\pi \\left(1 - \\epsilon_{b}\\right) \\cos{\\left(\\frac{\\pi t}{2} \\right)}}{2} & 0\\\\0 & 0 & 0\\end{matrix}\\right]$"
      ],
      "text/plain": [
       "Matrix([\n",
       "[ pi*(epsilon_a + 1)*cos(pi*t/2)/2, pi*(1 - epsilon_b)*sin(pi*t/2)/2, 0],\n",
       "[-pi*(epsilon_a + 1)*sin(pi*t/2)/2, pi*(1 - epsilon_b)*cos(pi*t/2)/2, 0],\n",
       "[                                0,                                0, 0]])"
      ]
     },
     "metadata": {},
     "output_type": "display_data"
    },
    {
     "data": {
      "text/plain": [
       "'P and Fdot are energy conjugates: dW/dt'"
      ]
     },
     "metadata": {},
     "output_type": "display_data"
    },
    {
     "data": {
      "text/latex": [
       "$\\displaystyle 0$"
      ],
      "text/plain": [
       "0"
      ]
     },
     "metadata": {},
     "output_type": "display_data"
    },
    {
     "data": {
      "text/plain": [
       "'S'"
      ]
     },
     "metadata": {},
     "output_type": "display_data"
    },
    {
     "data": {
      "text/latex": [
       "$\\displaystyle \\left[\\begin{matrix}\\frac{f_{0}}{b c \\left(\\epsilon_{a} + 1\\right)} & 0 & 0\\\\0 & 0 & 0\\\\0 & 0 & 0\\end{matrix}\\right]$"
      ],
      "text/plain": [
       "Matrix([\n",
       "[f_0/(b*c*(epsilon_a + 1)), 0, 0],\n",
       "[                        0, 0, 0],\n",
       "[                        0, 0, 0]])"
      ]
     },
     "metadata": {},
     "output_type": "display_data"
    },
    {
     "data": {
      "text/plain": [
       "'E_Green'"
      ]
     },
     "metadata": {},
     "output_type": "display_data"
    },
    {
     "data": {
      "text/latex": [
       "$\\displaystyle \\left[\\begin{matrix}0 & 0 & 0\\\\0 & 0 & 0\\\\0 & 0 & 0\\end{matrix}\\right]$"
      ],
      "text/plain": [
       "Matrix([\n",
       "[0, 0, 0],\n",
       "[0, 0, 0],\n",
       "[0, 0, 0]])"
      ]
     },
     "metadata": {},
     "output_type": "display_data"
    },
    {
     "data": {
      "text/plain": [
       "'S and E_Green are energy conjugates: dW/dt'"
      ]
     },
     "metadata": {},
     "output_type": "display_data"
    },
    {
     "data": {
      "text/latex": [
       "$\\displaystyle 0$"
      ],
      "text/plain": [
       "0"
      ]
     },
     "metadata": {},
     "output_type": "display_data"
    }
   ],
   "source": [
    "import sympy as sp\n",
    "import numpy as np\n",
    "from sympy import Matrix, simplify, diff, eye, det\n",
    "display(\"Extension\")\n",
    "theta = sp.symbols(\"theta\")\n",
    "X1,X2,X3 = sp.symbols(\"X_1 X_2 X_3\")\n",
    "X = Matrix([X1,X2,X3])\n",
    "a,b,c = sp.symbols(\"a b c\")\n",
    "ea,eb,ec,t = sp.symbols(\"epsilon_a epsilon_b epsilon_c t\")\n",
    "f0 = sp.symbols(\"f_0\")\n",
    "xe1 = (1+t*ea)*X1\n",
    "xe2 = (1-t*eb)*X2\n",
    "xe3 = (1-t*ec)*X3\n",
    "xe = Matrix([xe1, xe2, xe3])\n",
    "F = Matrix([[diff(i,j) for j in X] for i in xe])\n",
    "display(\"F =\",F)\n",
    "Elagrange = simplify(1/2*(F.T*F-eye(3)))\n",
    "display(\"Lagrange Strain =\",Elagrange)\n",
    "Elagrangedot = diff(Elagrange,t)\n",
    "display(\"Lagrange Strain rate =\",Elagrangedot)\n",
    "Fdot = simplify(diff(F,t))\n",
    "display(\"Fdot =\",Fdot)\n",
    "L = simplify(Fdot*F.inv())\n",
    "display(\"Velocity gradient (L) =\",L)\n",
    "Dd = simplify(1/2*(L+L.T))\n",
    "display(\"Symmetric part of L\", Dd)\n",
    "Cauchy = Matrix([[t*f0/(b*c*(1-t*eb)*(1-t*ec)),0,0],[0,0,0],[0,0,0]])\n",
    "display(\"Cauchy =\",Cauchy)\n",
    "P = simplify(det(F)*Cauchy*F.T.inv())\n",
    "display(\"First Piola =\",P)\n",
    "S = simplify(F.inv()*P)\n",
    "display(\"Second Piola =\",S)\n",
    "e1 = sum([Cauchy[i]*Dd[i] for i in range(9)])\n",
    "display(\"Cauchy\",Cauchy,\"Dd\",Dd)\n",
    "display(\"D and Cauchy are energy conjugates: dU/dt\", simplify(e1))\n",
    "e2 = sum([P[i]*Fdot[i] for i in range(9)])\n",
    "display(\"P\",P,\"Fdot\",Fdot)\n",
    "display(\"P and Fdot are energy conjugates: dW/dt\", simplify(e2))\n",
    "e2 = sum([S[i]*Elagrangedot[i] for i in range(9)])\n",
    "display(\"S\",S,\"E_Green\",Elagrangedot)\n",
    "display(\"S and E_Green are energy conjugates: dW/dt\", simplify(e2))\n",
    "display(\"Rotation\")\n",
    "xe = xe.subs({t:1})\n",
    "Q = Matrix([[sp.cos(theta*(t-1)), sp.sin(theta*(t-1)),0],\n",
    "            [-sp.sin(theta*(t-1)),sp.cos(theta*(t-1)), 0],\n",
    "            [0,0,1]])\n",
    "Q = Q.subs({theta:sp.pi/2})\n",
    "display(\"Q =\", Q)\n",
    "x = Q*xe\n",
    "F = Matrix([[diff(i,j) for j in X] for i in x])\n",
    "display(\"F =\",F)\n",
    "Elagrange = simplify(1/2*(F.T*F-eye(3)))\n",
    "display(\"Lagrange Strain =\",Elagrange)\n",
    "Elagrangedot = diff(Elagrange,t)\n",
    "display(\"Lagrange Strain rate =\",Elagrangedot)\n",
    "Fdot = simplify(diff(F,t))\n",
    "display(\"Fdot =\",Fdot)\n",
    "L = simplify(Fdot*F.inv())\n",
    "display(\"Velocity gradient (L) =\",L)\n",
    "Dd = simplify(1/2*(L+L.T))\n",
    "display(\"Symmetric part of L\", Dd)\n",
    "sigmalocal = Cauchy.subs({t:1})\n",
    "Cauchy = simplify(Q*sigmalocal*Q.T)\n",
    "display(\"Cauchy =\",Cauchy)\n",
    "P = simplify(det(F)*Cauchy*F.T.inv())\n",
    "display(\"First Piola =\",P)\n",
    "S = simplify(F.inv()*P)\n",
    "display(\"Second Piola =\",S)\n",
    "e1 = sum([Cauchy[i]*Dd[i] for i in range(9)])\n",
    "display(\"Cauchy\",Cauchy,\"Dd\",Dd)\n",
    "display(\"D and Cauchy are energy conjugates: dU/dt\", simplify(e1))\n",
    "e2 = sum([P[i]*Fdot[i] for i in range(9)])\n",
    "display(\"P\",P,\"Fdot\",Fdot)\n",
    "display(\"P and Fdot are energy conjugates: dW/dt\", simplify(e2))\n",
    "e2 = sum([S[i]*Elagrangedot[i] for i in range(9)])\n",
    "display(\"S\",S,\"E_Green\",Elagrangedot)\n",
    "display(\"S and E_Green are energy conjugates: dW/dt\", simplify(e2))"
   ]
  },
  {
   "cell_type": "markdown",
   "metadata": {},
   "source": [
    "9.3.4.1"
   ]
  },
  {
   "cell_type": "code",
   "execution_count": 8,
   "metadata": {},
   "outputs": [
    {
     "data": {
      "text/plain": [
       "'ε ='"
      ]
     },
     "metadata": {},
     "output_type": "display_data"
    },
    {
     "data": {
      "text/latex": [
       "$\\displaystyle \\left[\\begin{matrix}0.01 & 0.015 & 0.001\\\\0.015 & -0.02 & 0.002\\\\0.001 & 0.002 & 0.001\\end{matrix}\\right]$"
      ],
      "text/plain": [
       "Matrix([\n",
       "[ 0.01, 0.015, 0.001],\n",
       "[0.015, -0.02, 0.002],\n",
       "[0.001, 0.002, 0.001]])"
      ]
     },
     "metadata": {},
     "output_type": "display_data"
    },
    {
     "data": {
      "text/plain": [
       "'ε_vector ='"
      ]
     },
     "metadata": {},
     "output_type": "display_data"
    },
    {
     "data": {
      "text/latex": [
       "$\\displaystyle \\left[\\begin{matrix}0.01\\\\-0.02\\\\0.001\\\\0.03\\\\0.002\\\\0.004\\end{matrix}\\right]$"
      ],
      "text/plain": [
       "Matrix([\n",
       "[ 0.01],\n",
       "[-0.02],\n",
       "[0.001],\n",
       "[ 0.03],\n",
       "[0.002],\n",
       "[0.004]])"
      ]
     },
     "metadata": {},
     "output_type": "display_data"
    },
    {
     "data": {
      "text/plain": [
       "'σ_vector ='"
      ]
     },
     "metadata": {},
     "output_type": "display_data"
    },
    {
     "data": {
      "text/latex": [
       "$\\displaystyle \\left[\\begin{matrix}1.0\\\\-2.0\\\\0.2\\\\1.05\\\\0.07\\\\0.14\\end{matrix}\\right]$"
      ],
      "text/plain": [
       "Matrix([\n",
       "[ 1.0],\n",
       "[-2.0],\n",
       "[ 0.2],\n",
       "[1.05],\n",
       "[0.07],\n",
       "[0.14]])"
      ]
     },
     "metadata": {},
     "output_type": "display_data"
    },
    {
     "data": {
      "text/plain": [
       "'σ ='"
      ]
     },
     "metadata": {},
     "output_type": "display_data"
    },
    {
     "data": {
      "text/latex": [
       "$\\displaystyle \\left[\\begin{matrix}1.0 & 1.05 & 0.07\\\\1.05 & -2.0 & 0.14\\\\0.07 & 0.14 & 0.2\\end{matrix}\\right]$"
      ],
      "text/plain": [
       "Matrix([\n",
       "[ 1.0, 1.05, 0.07],\n",
       "[1.05, -2.0, 0.14],\n",
       "[0.07, 0.14,  0.2]])"
      ]
     },
     "metadata": {},
     "output_type": "display_data"
    },
    {
     "data": {
      "text/plain": [
       "'Energy (U) ='"
      ]
     },
     "metadata": {},
     "output_type": "display_data"
    },
    {
     "data": {
      "text/latex": [
       "$\\displaystyle 0.0412$"
      ],
      "text/plain": [
       "0.0412000000000000"
      ]
     },
     "metadata": {},
     "output_type": "display_data"
    }
   ],
   "source": [
    "import sympy as sp\n",
    "from sympy import Matrix\n",
    "E11,E22,E33 = sp.symbols(\"E_{11} E_{22} E_{33}\")\n",
    "v12,v13,v23 = sp.symbols(\"\\u03BD_{12} \\u03BD_{13} \\u03BD_{23}\")\n",
    "G12,G13,G23 = sp.symbols(\"G_{12} G_{13} G_{23}\")\n",
    "E = Matrix([[0.01,0.015, 0.001],\n",
    "            [0.015,-0.02, 0.002],\n",
    "            [0.001, 0.002, 0.001]])\n",
    "Evect=Matrix([E[0,0],E[1,1],E[2,2],2*E[0,1],2*E[0,2],2*E[1,2]])\n",
    "Dd=Matrix([[E11,0,0,0,0,0],\n",
    "           [0,E22,0,0,0,0],\n",
    "           [0,0,E33,0,0,0],\n",
    "           [0,0,0,G12,0,0],\n",
    "           [0,0,0,0,G13,0],\n",
    "           [0,0,0,0,0,G23]])\n",
    "#s = Matrix([[E[0,0]*E11,2*E[0,1]*G12,2*E[0,2]*G13],\n",
    "#           [2*E[1,0]*G12,E[1,1]*E11,2*E[1,2]*G23],\n",
    "#          [2*E[2,0]*G13, 2*E[2,1]*G23, E[2,2]*E33]])\n",
    "svector=Dd*Evect\n",
    "svector = svector.subs({E11:100,E22:100,E33:200,G12:35,G13:35,G23:35,})\n",
    "s=Matrix([[svector[0],svector[3],svector[4]],\n",
    "          [svector[3],svector[1],svector[5]],\n",
    "          [svector[4],svector[5],svector[2]]])\n",
    "display(\"\\u03B5 =\",E)\n",
    "display(\"\\u03B5_vector =\",Evect)\n",
    "display(\"\\u03C3_vector =\",svector)\n",
    "display(\"\\u03C3 =\",s)\n",
    "Energy = sum([s[i]*E[i] for i in range(9)])/2\n",
    "display(\"Energy (U) =\",Energy)"
   ]
  },
  {
   "cell_type": "markdown",
   "metadata": {},
   "source": [
    "9.3.4.2"
   ]
  },
  {
   "cell_type": "code",
   "execution_count": 9,
   "metadata": {},
   "outputs": [
    {
     "data": {
      "text/plain": [
       "'σ ='"
      ]
     },
     "metadata": {},
     "output_type": "display_data"
    },
    {
     "data": {
      "text/latex": [
       "$\\displaystyle \\left[\\begin{matrix}20 & 30 & 0\\\\30 & -10 & 0\\\\0 & 0 & 25\\end{matrix}\\right]$"
      ],
      "text/plain": [
       "Matrix([\n",
       "[20,  30,  0],\n",
       "[30, -10,  0],\n",
       "[ 0,   0, 25]])"
      ]
     },
     "metadata": {},
     "output_type": "display_data"
    },
    {
     "data": {
      "text/plain": [
       "'U ='"
      ]
     },
     "metadata": {},
     "output_type": "display_data"
    },
    {
     "data": {
      "text/latex": [
       "$\\displaystyle 0.15475$"
      ],
      "text/plain": [
       "0.154750000000000"
      ]
     },
     "metadata": {},
     "output_type": "display_data"
    },
    {
     "data": {
      "text/plain": [
       "'p ='"
      ]
     },
     "metadata": {},
     "output_type": "display_data"
    },
    {
     "data": {
      "text/latex": [
       "$\\displaystyle \\frac{35}{3}$"
      ],
      "text/plain": [
       "35/3"
      ]
     },
     "metadata": {},
     "output_type": "display_data"
    },
    {
     "data": {
      "text/plain": [
       "'U_deviatoric ='"
      ]
     },
     "metadata": {},
     "output_type": "display_data"
    },
    {
     "data": {
      "text/latex": [
       "$\\displaystyle 0.138416666666667$"
      ],
      "text/plain": [
       "0.138416666666667"
      ]
     },
     "metadata": {},
     "output_type": "display_data"
    },
    {
     "data": {
      "text/plain": [
       "'U_volumetric'"
      ]
     },
     "metadata": {},
     "output_type": "display_data"
    },
    {
     "data": {
      "text/latex": [
       "$\\displaystyle 0.0163333333333333$"
      ],
      "text/plain": [
       "0.0163333333333333"
      ]
     },
     "metadata": {},
     "output_type": "display_data"
    }
   ],
   "source": [
    "import sympy as sp\n",
    "from sympy import Matrix\n",
    "s = Matrix([[20,30,0],[30,-10,0],[0,0,25]])\n",
    "display(\"\\u03C3 =\",s)\n",
    "Nu = 0.1\n",
    "Ee = 10000\n",
    "G = Ee/2/(1+Nu)\n",
    "U = (1+Nu)/2/Ee*(sum([s[i]*s[i] for i in range(9)]))-Nu/2/Ee*(\n",
    "    sum([s[i,i] for i in range(3)]))**2 \n",
    "display(\"U =\",U)\n",
    "p = sum([s[i,i] for i in range(3)])/3\n",
    "display(\"p =\",p)\n",
    "Udeviatoric = 1/12/G*((s[0,0]-s[1,1])**2 + (s[2,2]- \n",
    "      s[1,1])**2 + (s[0,0] - s[2,2])**2 + \n",
    "   6*(s[0,1]**2 + s[0,2]**2 + s[1,2]**2))\n",
    "display(\"U_deviatoric =\",Udeviatoric)\n",
    "Uvolumetric = 3*(1-2*Nu)/2/Ee*p**2\n",
    "display(\"U_volumetric\",Uvolumetric)"
   ]
  },
  {
   "cell_type": "markdown",
   "metadata": {},
   "source": [
    "9.3.4.3"
   ]
  },
  {
   "cell_type": "code",
   "execution_count": 10,
   "metadata": {},
   "outputs": [
    {
     "data": {
      "text/plain": [
       "'u ='"
      ]
     },
     "metadata": {},
     "output_type": "display_data"
    },
    {
     "data": {
      "text/latex": [
       "$\\displaystyle \\left[\\begin{matrix}0.0002 X_{1}^{2} + 0.001 X_{2}\\\\- 0.0002 X_{2}^{2} + 0.00099999999999989 X_{2}\\\\0\\end{matrix}\\right]$"
      ],
      "text/plain": [
       "Matrix([\n",
       "[               0.0002*X_1**2 + 0.001*X_2],\n",
       "[-0.0002*X_2**2 + 0.00099999999999989*X_2],\n",
       "[                                       0]])"
      ]
     },
     "metadata": {},
     "output_type": "display_data"
    },
    {
     "data": {
      "text/plain": [
       "'∇u ='"
      ]
     },
     "metadata": {},
     "output_type": "display_data"
    },
    {
     "data": {
      "text/latex": [
       "$\\displaystyle \\left[\\begin{matrix}0.0004 X_{1} & 0.001 & 0\\\\0 & 0.00099999999999989 - 0.0004 X_{2} & 0\\\\0 & 0 & 0\\end{matrix}\\right]$"
      ],
      "text/plain": [
       "Matrix([\n",
       "[0.0004*X_1,                            0.001, 0],\n",
       "[         0, 0.00099999999999989 - 0.0004*X_2, 0],\n",
       "[         0,                                0, 0]])"
      ]
     },
     "metadata": {},
     "output_type": "display_data"
    },
    {
     "data": {
      "text/plain": [
       "'ε ='"
      ]
     },
     "metadata": {},
     "output_type": "display_data"
    },
    {
     "data": {
      "text/latex": [
       "$\\displaystyle \\left[\\begin{matrix}0.0004 X_{1} & 0.0005 & 0\\\\0.0005 & 0.00099999999999989 - 0.0004 X_{2} & 0\\\\0 & 0 & 0\\end{matrix}\\right]$"
      ],
      "text/plain": [
       "Matrix([\n",
       "[0.0004*X_1,                           0.0005, 0],\n",
       "[    0.0005, 0.00099999999999989 - 0.0004*X_2, 0],\n",
       "[         0,                                0, 0]])"
      ]
     },
     "metadata": {},
     "output_type": "display_data"
    },
    {
     "data": {
      "text/plain": [
       "'Strain vector ='"
      ]
     },
     "metadata": {},
     "output_type": "display_data"
    },
    {
     "data": {
      "text/latex": [
       "$\\displaystyle \\left[\\begin{matrix}0.0004 X_{1}\\\\0.00099999999999989 - 0.0004 X_{2}\\\\0\\\\0.001\\\\0\\\\0\\end{matrix}\\right]$"
      ],
      "text/plain": [
       "Matrix([\n",
       "[                      0.0004*X_1],\n",
       "[0.00099999999999989 - 0.0004*X_2],\n",
       "[                               0],\n",
       "[                           0.001],\n",
       "[                               0],\n",
       "[                               0]])"
      ]
     },
     "metadata": {},
     "output_type": "display_data"
    },
    {
     "data": {
      "text/plain": [
       "'Stress vector ='"
      ]
     },
     "metadata": {},
     "output_type": "display_data"
    },
    {
     "data": {
      "text/latex": [
       "$\\displaystyle \\left[\\begin{matrix}113.076923076923 X_{1} - 48.4615384615385 X_{2} + 121.153846153833\\\\48.4615384615385 X_{1} - 113.076923076923 X_{2} + 282.692307692277\\\\48.4615384615385 X_{1} - 48.4615384615385 X_{2} + 121.153846153833\\\\80.7692307692308\\\\0\\\\0\\end{matrix}\\right]$"
      ],
      "text/plain": [
       "Matrix([\n",
       "[113.076923076923*X_1 - 48.4615384615385*X_2 + 121.153846153833],\n",
       "[48.4615384615385*X_1 - 113.076923076923*X_2 + 282.692307692277],\n",
       "[48.4615384615385*X_1 - 48.4615384615385*X_2 + 121.153846153833],\n",
       "[                                              80.7692307692308],\n",
       "[                                                             0],\n",
       "[                                                             0]])"
      ]
     },
     "metadata": {},
     "output_type": "display_data"
    },
    {
     "data": {
      "text/plain": [
       "'Stress Matrix ='"
      ]
     },
     "metadata": {},
     "output_type": "display_data"
    },
    {
     "data": {
      "text/latex": [
       "$\\displaystyle \\left[\\begin{matrix}113.076923076923 X_{1} - 48.4615384615385 X_{2} + 121.153846153833 & 80.7692307692308 & 0\\\\80.7692307692308 & 48.4615384615385 X_{1} - 113.076923076923 X_{2} + 282.692307692277 & 0\\\\0 & 0 & 48.4615384615385 X_{1} - 48.4615384615385 X_{2} + 121.153846153833\\end{matrix}\\right]$"
      ],
      "text/plain": [
       "Matrix([\n",
       "[113.076923076923*X_1 - 48.4615384615385*X_2 + 121.153846153833,                                               80.7692307692308,                                                              0],\n",
       "[                                              80.7692307692308, 48.4615384615385*X_1 - 113.076923076923*X_2 + 282.692307692277,                                                              0],\n",
       "[                                                             0,                                                              0, 48.4615384615385*X_1 - 48.4615384615385*X_2 + 121.153846153833]])"
      ]
     },
     "metadata": {},
     "output_type": "display_data"
    },
    {
     "data": {
      "text/plain": [
       "'Strain energy (U) ='"
      ]
     },
     "metadata": {},
     "output_type": "display_data"
    },
    {
     "data": {
      "text/latex": [
       "$\\displaystyle 0.0226153846153846 X_{1}^{2} - 0.0193846153846154 X_{1} X_{2} + 0.0484615384615331 X_{1} + 0.0226153846153846 X_{2}^{2} - 0.113076923076911 X_{2} + 0.181730769230738$"
      ],
      "text/plain": [
       "0.0226153846153846*X_1**2 - 0.0193846153846154*X_1*X_2 + 0.0484615384615331*X_1 + 0.0226153846153846*X_2**2 - 0.113076923076911*X_2 + 0.181730769230738"
      ]
     },
     "metadata": {},
     "output_type": "display_data"
    },
    {
     "data": {
      "text/plain": [
       "'Total Energy ='"
      ]
     },
     "metadata": {},
     "output_type": "display_data"
    },
    {
     "data": {
      "text/latex": [
       "$\\displaystyle 0.00403307692307632$"
      ],
      "text/plain": [
       "0.00403307692307632"
      ]
     },
     "metadata": {},
     "output_type": "display_data"
    },
    {
     "data": {
      "text/plain": [
       "'U_deviatoric ='"
      ]
     },
     "metadata": {},
     "output_type": "display_data"
    },
    {
     "data": {
      "text/latex": [
       "$\\displaystyle 0.00861538461538462 X_{1}^{2} + 0.00861538461538462 X_{1} X_{2} - 0.0215384615384592 X_{1} + 0.00861538461538462 X_{2}^{2} - 0.0430769230769183 X_{2} + 0.0942307692307574$"
      ],
      "text/plain": [
       "0.00861538461538462*X_1**2 + 0.00861538461538462*X_1*X_2 - 0.0215384615384592*X_1 + 0.00861538461538462*X_2**2 - 0.0430769230769183*X_2 + 0.0942307692307574"
      ]
     },
     "metadata": {},
     "output_type": "display_data"
    },
    {
     "data": {
      "text/plain": [
       "'U_volumetric ='"
      ]
     },
     "metadata": {},
     "output_type": "display_data"
    },
    {
     "data": {
      "text/latex": [
       "$\\displaystyle 0.0874999999999807 \\left(0.400000000000044 X_{1} - 0.400000000000044 X_{2} + 1\\right)^{2}$"
      ],
      "text/plain": [
       "0.0874999999999807*(0.400000000000044*X_1 - 0.400000000000044*X_2 + 1)**2"
      ]
     },
     "metadata": {},
     "output_type": "display_data"
    },
    {
     "data": {
      "text/plain": [
       "'Check for energy total:'"
      ]
     },
     "metadata": {},
     "output_type": "display_data"
    },
    {
     "data": {
      "text/latex": [
       "$\\displaystyle 1.73472347597681 \\cdot 10^{-18} X_{1}^{2} + 1.38777878078145 \\cdot 10^{-17} X_{1} + 1.73472347597681 \\cdot 10^{-18} X_{2}^{2}$"
      ],
      "text/plain": [
       "1.73472347597681e-18*X_1**2 + 1.38777878078145e-17*X_1 + 1.73472347597681e-18*X_2**2"
      ]
     },
     "metadata": {},
     "output_type": "display_data"
    },
    {
     "data": {
      "text/plain": [
       "'Contour plots:'"
      ]
     },
     "metadata": {},
     "output_type": "display_data"
    },
    {
     "data": {
      "application/javascript": [
       "/* Put everything inside the global mpl namespace */\n",
       "/* global mpl */\n",
       "window.mpl = {};\n",
       "\n",
       "mpl.get_websocket_type = function () {\n",
       "    if (typeof WebSocket !== 'undefined') {\n",
       "        return WebSocket;\n",
       "    } else if (typeof MozWebSocket !== 'undefined') {\n",
       "        return MozWebSocket;\n",
       "    } else {\n",
       "        alert(\n",
       "            'Your browser does not have WebSocket support. ' +\n",
       "                'Please try Chrome, Safari or Firefox ≥ 6. ' +\n",
       "                'Firefox 4 and 5 are also supported but you ' +\n",
       "                'have to enable WebSockets in about:config.'\n",
       "        );\n",
       "    }\n",
       "};\n",
       "\n",
       "mpl.figure = function (figure_id, websocket, ondownload, parent_element) {\n",
       "    this.id = figure_id;\n",
       "\n",
       "    this.ws = websocket;\n",
       "\n",
       "    this.supports_binary = this.ws.binaryType !== undefined;\n",
       "\n",
       "    if (!this.supports_binary) {\n",
       "        var warnings = document.getElementById('mpl-warnings');\n",
       "        if (warnings) {\n",
       "            warnings.style.display = 'block';\n",
       "            warnings.textContent =\n",
       "                'This browser does not support binary websocket messages. ' +\n",
       "                'Performance may be slow.';\n",
       "        }\n",
       "    }\n",
       "\n",
       "    this.imageObj = new Image();\n",
       "\n",
       "    this.context = undefined;\n",
       "    this.message = undefined;\n",
       "    this.canvas = undefined;\n",
       "    this.rubberband_canvas = undefined;\n",
       "    this.rubberband_context = undefined;\n",
       "    this.format_dropdown = undefined;\n",
       "\n",
       "    this.image_mode = 'full';\n",
       "\n",
       "    this.root = document.createElement('div');\n",
       "    this.root.setAttribute('style', 'display: inline-block');\n",
       "    this._root_extra_style(this.root);\n",
       "\n",
       "    parent_element.appendChild(this.root);\n",
       "\n",
       "    this._init_header(this);\n",
       "    this._init_canvas(this);\n",
       "    this._init_toolbar(this);\n",
       "\n",
       "    var fig = this;\n",
       "\n",
       "    this.waiting = false;\n",
       "\n",
       "    this.ws.onopen = function () {\n",
       "        fig.send_message('supports_binary', { value: fig.supports_binary });\n",
       "        fig.send_message('send_image_mode', {});\n",
       "        if (fig.ratio !== 1) {\n",
       "            fig.send_message('set_dpi_ratio', { dpi_ratio: fig.ratio });\n",
       "        }\n",
       "        fig.send_message('refresh', {});\n",
       "    };\n",
       "\n",
       "    this.imageObj.onload = function () {\n",
       "        if (fig.image_mode === 'full') {\n",
       "            // Full images could contain transparency (where diff images\n",
       "            // almost always do), so we need to clear the canvas so that\n",
       "            // there is no ghosting.\n",
       "            fig.context.clearRect(0, 0, fig.canvas.width, fig.canvas.height);\n",
       "        }\n",
       "        fig.context.drawImage(fig.imageObj, 0, 0);\n",
       "    };\n",
       "\n",
       "    this.imageObj.onunload = function () {\n",
       "        fig.ws.close();\n",
       "    };\n",
       "\n",
       "    this.ws.onmessage = this._make_on_message_function(this);\n",
       "\n",
       "    this.ondownload = ondownload;\n",
       "};\n",
       "\n",
       "mpl.figure.prototype._init_header = function () {\n",
       "    var titlebar = document.createElement('div');\n",
       "    titlebar.classList =\n",
       "        'ui-dialog-titlebar ui-widget-header ui-corner-all ui-helper-clearfix';\n",
       "    var titletext = document.createElement('div');\n",
       "    titletext.classList = 'ui-dialog-title';\n",
       "    titletext.setAttribute(\n",
       "        'style',\n",
       "        'width: 100%; text-align: center; padding: 3px;'\n",
       "    );\n",
       "    titlebar.appendChild(titletext);\n",
       "    this.root.appendChild(titlebar);\n",
       "    this.header = titletext;\n",
       "};\n",
       "\n",
       "mpl.figure.prototype._canvas_extra_style = function (_canvas_div) {};\n",
       "\n",
       "mpl.figure.prototype._root_extra_style = function (_canvas_div) {};\n",
       "\n",
       "mpl.figure.prototype._init_canvas = function () {\n",
       "    var fig = this;\n",
       "\n",
       "    var canvas_div = (this.canvas_div = document.createElement('div'));\n",
       "    canvas_div.setAttribute(\n",
       "        'style',\n",
       "        'border: 1px solid #ddd;' +\n",
       "            'box-sizing: content-box;' +\n",
       "            'clear: both;' +\n",
       "            'min-height: 1px;' +\n",
       "            'min-width: 1px;' +\n",
       "            'outline: 0;' +\n",
       "            'overflow: hidden;' +\n",
       "            'position: relative;' +\n",
       "            'resize: both;'\n",
       "    );\n",
       "\n",
       "    function on_keyboard_event_closure(name) {\n",
       "        return function (event) {\n",
       "            return fig.key_event(event, name);\n",
       "        };\n",
       "    }\n",
       "\n",
       "    canvas_div.addEventListener(\n",
       "        'keydown',\n",
       "        on_keyboard_event_closure('key_press')\n",
       "    );\n",
       "    canvas_div.addEventListener(\n",
       "        'keyup',\n",
       "        on_keyboard_event_closure('key_release')\n",
       "    );\n",
       "\n",
       "    this._canvas_extra_style(canvas_div);\n",
       "    this.root.appendChild(canvas_div);\n",
       "\n",
       "    var canvas = (this.canvas = document.createElement('canvas'));\n",
       "    canvas.classList.add('mpl-canvas');\n",
       "    canvas.setAttribute('style', 'box-sizing: content-box;');\n",
       "\n",
       "    this.context = canvas.getContext('2d');\n",
       "\n",
       "    var backingStore =\n",
       "        this.context.backingStorePixelRatio ||\n",
       "        this.context.webkitBackingStorePixelRatio ||\n",
       "        this.context.mozBackingStorePixelRatio ||\n",
       "        this.context.msBackingStorePixelRatio ||\n",
       "        this.context.oBackingStorePixelRatio ||\n",
       "        this.context.backingStorePixelRatio ||\n",
       "        1;\n",
       "\n",
       "    this.ratio = (window.devicePixelRatio || 1) / backingStore;\n",
       "    if (this.ratio !== 1) {\n",
       "        fig.send_message('set_dpi_ratio', { dpi_ratio: this.ratio });\n",
       "    }\n",
       "\n",
       "    var rubberband_canvas = (this.rubberband_canvas = document.createElement(\n",
       "        'canvas'\n",
       "    ));\n",
       "    rubberband_canvas.setAttribute(\n",
       "        'style',\n",
       "        'box-sizing: content-box; position: absolute; left: 0; top: 0; z-index: 1;'\n",
       "    );\n",
       "\n",
       "    var resizeObserver = new ResizeObserver(function (entries) {\n",
       "        var nentries = entries.length;\n",
       "        for (var i = 0; i < nentries; i++) {\n",
       "            var entry = entries[i];\n",
       "            var width, height;\n",
       "            if (entry.contentBoxSize) {\n",
       "                if (entry.contentBoxSize instanceof Array) {\n",
       "                    // Chrome 84 implements new version of spec.\n",
       "                    width = entry.contentBoxSize[0].inlineSize;\n",
       "                    height = entry.contentBoxSize[0].blockSize;\n",
       "                } else {\n",
       "                    // Firefox implements old version of spec.\n",
       "                    width = entry.contentBoxSize.inlineSize;\n",
       "                    height = entry.contentBoxSize.blockSize;\n",
       "                }\n",
       "            } else {\n",
       "                // Chrome <84 implements even older version of spec.\n",
       "                width = entry.contentRect.width;\n",
       "                height = entry.contentRect.height;\n",
       "            }\n",
       "\n",
       "            // Keep the size of the canvas and rubber band canvas in sync with\n",
       "            // the canvas container.\n",
       "            if (entry.devicePixelContentBoxSize) {\n",
       "                // Chrome 84 implements new version of spec.\n",
       "                canvas.setAttribute(\n",
       "                    'width',\n",
       "                    entry.devicePixelContentBoxSize[0].inlineSize\n",
       "                );\n",
       "                canvas.setAttribute(\n",
       "                    'height',\n",
       "                    entry.devicePixelContentBoxSize[0].blockSize\n",
       "                );\n",
       "            } else {\n",
       "                canvas.setAttribute('width', width * fig.ratio);\n",
       "                canvas.setAttribute('height', height * fig.ratio);\n",
       "            }\n",
       "            canvas.setAttribute(\n",
       "                'style',\n",
       "                'width: ' + width + 'px; height: ' + height + 'px;'\n",
       "            );\n",
       "\n",
       "            rubberband_canvas.setAttribute('width', width);\n",
       "            rubberband_canvas.setAttribute('height', height);\n",
       "\n",
       "            // And update the size in Python. We ignore the initial 0/0 size\n",
       "            // that occurs as the element is placed into the DOM, which should\n",
       "            // otherwise not happen due to the minimum size styling.\n",
       "            if (width != 0 && height != 0) {\n",
       "                fig.request_resize(width, height);\n",
       "            }\n",
       "        }\n",
       "    });\n",
       "    resizeObserver.observe(canvas_div);\n",
       "\n",
       "    function on_mouse_event_closure(name) {\n",
       "        return function (event) {\n",
       "            return fig.mouse_event(event, name);\n",
       "        };\n",
       "    }\n",
       "\n",
       "    rubberband_canvas.addEventListener(\n",
       "        'mousedown',\n",
       "        on_mouse_event_closure('button_press')\n",
       "    );\n",
       "    rubberband_canvas.addEventListener(\n",
       "        'mouseup',\n",
       "        on_mouse_event_closure('button_release')\n",
       "    );\n",
       "    // Throttle sequential mouse events to 1 every 20ms.\n",
       "    rubberband_canvas.addEventListener(\n",
       "        'mousemove',\n",
       "        on_mouse_event_closure('motion_notify')\n",
       "    );\n",
       "\n",
       "    rubberband_canvas.addEventListener(\n",
       "        'mouseenter',\n",
       "        on_mouse_event_closure('figure_enter')\n",
       "    );\n",
       "    rubberband_canvas.addEventListener(\n",
       "        'mouseleave',\n",
       "        on_mouse_event_closure('figure_leave')\n",
       "    );\n",
       "\n",
       "    canvas_div.addEventListener('wheel', function (event) {\n",
       "        if (event.deltaY < 0) {\n",
       "            event.step = 1;\n",
       "        } else {\n",
       "            event.step = -1;\n",
       "        }\n",
       "        on_mouse_event_closure('scroll')(event);\n",
       "    });\n",
       "\n",
       "    canvas_div.appendChild(canvas);\n",
       "    canvas_div.appendChild(rubberband_canvas);\n",
       "\n",
       "    this.rubberband_context = rubberband_canvas.getContext('2d');\n",
       "    this.rubberband_context.strokeStyle = '#000000';\n",
       "\n",
       "    this._resize_canvas = function (width, height, forward) {\n",
       "        if (forward) {\n",
       "            canvas_div.style.width = width + 'px';\n",
       "            canvas_div.style.height = height + 'px';\n",
       "        }\n",
       "    };\n",
       "\n",
       "    // Disable right mouse context menu.\n",
       "    this.rubberband_canvas.addEventListener('contextmenu', function (_e) {\n",
       "        event.preventDefault();\n",
       "        return false;\n",
       "    });\n",
       "\n",
       "    function set_focus() {\n",
       "        canvas.focus();\n",
       "        canvas_div.focus();\n",
       "    }\n",
       "\n",
       "    window.setTimeout(set_focus, 100);\n",
       "};\n",
       "\n",
       "mpl.figure.prototype._init_toolbar = function () {\n",
       "    var fig = this;\n",
       "\n",
       "    var toolbar = document.createElement('div');\n",
       "    toolbar.classList = 'mpl-toolbar';\n",
       "    this.root.appendChild(toolbar);\n",
       "\n",
       "    function on_click_closure(name) {\n",
       "        return function (_event) {\n",
       "            return fig.toolbar_button_onclick(name);\n",
       "        };\n",
       "    }\n",
       "\n",
       "    function on_mouseover_closure(tooltip) {\n",
       "        return function (event) {\n",
       "            if (!event.currentTarget.disabled) {\n",
       "                return fig.toolbar_button_onmouseover(tooltip);\n",
       "            }\n",
       "        };\n",
       "    }\n",
       "\n",
       "    fig.buttons = {};\n",
       "    var buttonGroup = document.createElement('div');\n",
       "    buttonGroup.classList = 'mpl-button-group';\n",
       "    for (var toolbar_ind in mpl.toolbar_items) {\n",
       "        var name = mpl.toolbar_items[toolbar_ind][0];\n",
       "        var tooltip = mpl.toolbar_items[toolbar_ind][1];\n",
       "        var image = mpl.toolbar_items[toolbar_ind][2];\n",
       "        var method_name = mpl.toolbar_items[toolbar_ind][3];\n",
       "\n",
       "        if (!name) {\n",
       "            /* Instead of a spacer, we start a new button group. */\n",
       "            if (buttonGroup.hasChildNodes()) {\n",
       "                toolbar.appendChild(buttonGroup);\n",
       "            }\n",
       "            buttonGroup = document.createElement('div');\n",
       "            buttonGroup.classList = 'mpl-button-group';\n",
       "            continue;\n",
       "        }\n",
       "\n",
       "        var button = (fig.buttons[name] = document.createElement('button'));\n",
       "        button.classList = 'mpl-widget';\n",
       "        button.setAttribute('role', 'button');\n",
       "        button.setAttribute('aria-disabled', 'false');\n",
       "        button.addEventListener('click', on_click_closure(method_name));\n",
       "        button.addEventListener('mouseover', on_mouseover_closure(tooltip));\n",
       "\n",
       "        var icon_img = document.createElement('img');\n",
       "        icon_img.src = '_images/' + image + '.png';\n",
       "        icon_img.srcset = '_images/' + image + '_large.png 2x';\n",
       "        icon_img.alt = tooltip;\n",
       "        button.appendChild(icon_img);\n",
       "\n",
       "        buttonGroup.appendChild(button);\n",
       "    }\n",
       "\n",
       "    if (buttonGroup.hasChildNodes()) {\n",
       "        toolbar.appendChild(buttonGroup);\n",
       "    }\n",
       "\n",
       "    var fmt_picker = document.createElement('select');\n",
       "    fmt_picker.classList = 'mpl-widget';\n",
       "    toolbar.appendChild(fmt_picker);\n",
       "    this.format_dropdown = fmt_picker;\n",
       "\n",
       "    for (var ind in mpl.extensions) {\n",
       "        var fmt = mpl.extensions[ind];\n",
       "        var option = document.createElement('option');\n",
       "        option.selected = fmt === mpl.default_extension;\n",
       "        option.innerHTML = fmt;\n",
       "        fmt_picker.appendChild(option);\n",
       "    }\n",
       "\n",
       "    var status_bar = document.createElement('span');\n",
       "    status_bar.classList = 'mpl-message';\n",
       "    toolbar.appendChild(status_bar);\n",
       "    this.message = status_bar;\n",
       "};\n",
       "\n",
       "mpl.figure.prototype.request_resize = function (x_pixels, y_pixels) {\n",
       "    // Request matplotlib to resize the figure. Matplotlib will then trigger a resize in the client,\n",
       "    // which will in turn request a refresh of the image.\n",
       "    this.send_message('resize', { width: x_pixels, height: y_pixels });\n",
       "};\n",
       "\n",
       "mpl.figure.prototype.send_message = function (type, properties) {\n",
       "    properties['type'] = type;\n",
       "    properties['figure_id'] = this.id;\n",
       "    this.ws.send(JSON.stringify(properties));\n",
       "};\n",
       "\n",
       "mpl.figure.prototype.send_draw_message = function () {\n",
       "    if (!this.waiting) {\n",
       "        this.waiting = true;\n",
       "        this.ws.send(JSON.stringify({ type: 'draw', figure_id: this.id }));\n",
       "    }\n",
       "};\n",
       "\n",
       "mpl.figure.prototype.handle_save = function (fig, _msg) {\n",
       "    var format_dropdown = fig.format_dropdown;\n",
       "    var format = format_dropdown.options[format_dropdown.selectedIndex].value;\n",
       "    fig.ondownload(fig, format);\n",
       "};\n",
       "\n",
       "mpl.figure.prototype.handle_resize = function (fig, msg) {\n",
       "    var size = msg['size'];\n",
       "    if (size[0] !== fig.canvas.width || size[1] !== fig.canvas.height) {\n",
       "        fig._resize_canvas(size[0], size[1], msg['forward']);\n",
       "        fig.send_message('refresh', {});\n",
       "    }\n",
       "};\n",
       "\n",
       "mpl.figure.prototype.handle_rubberband = function (fig, msg) {\n",
       "    var x0 = msg['x0'] / fig.ratio;\n",
       "    var y0 = (fig.canvas.height - msg['y0']) / fig.ratio;\n",
       "    var x1 = msg['x1'] / fig.ratio;\n",
       "    var y1 = (fig.canvas.height - msg['y1']) / fig.ratio;\n",
       "    x0 = Math.floor(x0) + 0.5;\n",
       "    y0 = Math.floor(y0) + 0.5;\n",
       "    x1 = Math.floor(x1) + 0.5;\n",
       "    y1 = Math.floor(y1) + 0.5;\n",
       "    var min_x = Math.min(x0, x1);\n",
       "    var min_y = Math.min(y0, y1);\n",
       "    var width = Math.abs(x1 - x0);\n",
       "    var height = Math.abs(y1 - y0);\n",
       "\n",
       "    fig.rubberband_context.clearRect(\n",
       "        0,\n",
       "        0,\n",
       "        fig.canvas.width / fig.ratio,\n",
       "        fig.canvas.height / fig.ratio\n",
       "    );\n",
       "\n",
       "    fig.rubberband_context.strokeRect(min_x, min_y, width, height);\n",
       "};\n",
       "\n",
       "mpl.figure.prototype.handle_figure_label = function (fig, msg) {\n",
       "    // Updates the figure title.\n",
       "    fig.header.textContent = msg['label'];\n",
       "};\n",
       "\n",
       "mpl.figure.prototype.handle_cursor = function (fig, msg) {\n",
       "    var cursor = msg['cursor'];\n",
       "    switch (cursor) {\n",
       "        case 0:\n",
       "            cursor = 'pointer';\n",
       "            break;\n",
       "        case 1:\n",
       "            cursor = 'default';\n",
       "            break;\n",
       "        case 2:\n",
       "            cursor = 'crosshair';\n",
       "            break;\n",
       "        case 3:\n",
       "            cursor = 'move';\n",
       "            break;\n",
       "    }\n",
       "    fig.rubberband_canvas.style.cursor = cursor;\n",
       "};\n",
       "\n",
       "mpl.figure.prototype.handle_message = function (fig, msg) {\n",
       "    fig.message.textContent = msg['message'];\n",
       "};\n",
       "\n",
       "mpl.figure.prototype.handle_draw = function (fig, _msg) {\n",
       "    // Request the server to send over a new figure.\n",
       "    fig.send_draw_message();\n",
       "};\n",
       "\n",
       "mpl.figure.prototype.handle_image_mode = function (fig, msg) {\n",
       "    fig.image_mode = msg['mode'];\n",
       "};\n",
       "\n",
       "mpl.figure.prototype.handle_history_buttons = function (fig, msg) {\n",
       "    for (var key in msg) {\n",
       "        if (!(key in fig.buttons)) {\n",
       "            continue;\n",
       "        }\n",
       "        fig.buttons[key].disabled = !msg[key];\n",
       "        fig.buttons[key].setAttribute('aria-disabled', !msg[key]);\n",
       "    }\n",
       "};\n",
       "\n",
       "mpl.figure.prototype.handle_navigate_mode = function (fig, msg) {\n",
       "    if (msg['mode'] === 'PAN') {\n",
       "        fig.buttons['Pan'].classList.add('active');\n",
       "        fig.buttons['Zoom'].classList.remove('active');\n",
       "    } else if (msg['mode'] === 'ZOOM') {\n",
       "        fig.buttons['Pan'].classList.remove('active');\n",
       "        fig.buttons['Zoom'].classList.add('active');\n",
       "    } else {\n",
       "        fig.buttons['Pan'].classList.remove('active');\n",
       "        fig.buttons['Zoom'].classList.remove('active');\n",
       "    }\n",
       "};\n",
       "\n",
       "mpl.figure.prototype.updated_canvas_event = function () {\n",
       "    // Called whenever the canvas gets updated.\n",
       "    this.send_message('ack', {});\n",
       "};\n",
       "\n",
       "// A function to construct a web socket function for onmessage handling.\n",
       "// Called in the figure constructor.\n",
       "mpl.figure.prototype._make_on_message_function = function (fig) {\n",
       "    return function socket_on_message(evt) {\n",
       "        if (evt.data instanceof Blob) {\n",
       "            /* FIXME: We get \"Resource interpreted as Image but\n",
       "             * transferred with MIME type text/plain:\" errors on\n",
       "             * Chrome.  But how to set the MIME type?  It doesn't seem\n",
       "             * to be part of the websocket stream */\n",
       "            evt.data.type = 'image/png';\n",
       "\n",
       "            /* Free the memory for the previous frames */\n",
       "            if (fig.imageObj.src) {\n",
       "                (window.URL || window.webkitURL).revokeObjectURL(\n",
       "                    fig.imageObj.src\n",
       "                );\n",
       "            }\n",
       "\n",
       "            fig.imageObj.src = (window.URL || window.webkitURL).createObjectURL(\n",
       "                evt.data\n",
       "            );\n",
       "            fig.updated_canvas_event();\n",
       "            fig.waiting = false;\n",
       "            return;\n",
       "        } else if (\n",
       "            typeof evt.data === 'string' &&\n",
       "            evt.data.slice(0, 21) === 'data:image/png;base64'\n",
       "        ) {\n",
       "            fig.imageObj.src = evt.data;\n",
       "            fig.updated_canvas_event();\n",
       "            fig.waiting = false;\n",
       "            return;\n",
       "        }\n",
       "\n",
       "        var msg = JSON.parse(evt.data);\n",
       "        var msg_type = msg['type'];\n",
       "\n",
       "        // Call the  \"handle_{type}\" callback, which takes\n",
       "        // the figure and JSON message as its only arguments.\n",
       "        try {\n",
       "            var callback = fig['handle_' + msg_type];\n",
       "        } catch (e) {\n",
       "            console.log(\n",
       "                \"No handler for the '\" + msg_type + \"' message type: \",\n",
       "                msg\n",
       "            );\n",
       "            return;\n",
       "        }\n",
       "\n",
       "        if (callback) {\n",
       "            try {\n",
       "                // console.log(\"Handling '\" + msg_type + \"' message: \", msg);\n",
       "                callback(fig, msg);\n",
       "            } catch (e) {\n",
       "                console.log(\n",
       "                    \"Exception inside the 'handler_\" + msg_type + \"' callback:\",\n",
       "                    e,\n",
       "                    e.stack,\n",
       "                    msg\n",
       "                );\n",
       "            }\n",
       "        }\n",
       "    };\n",
       "};\n",
       "\n",
       "// from http://stackoverflow.com/questions/1114465/getting-mouse-location-in-canvas\n",
       "mpl.findpos = function (e) {\n",
       "    //this section is from http://www.quirksmode.org/js/events_properties.html\n",
       "    var targ;\n",
       "    if (!e) {\n",
       "        e = window.event;\n",
       "    }\n",
       "    if (e.target) {\n",
       "        targ = e.target;\n",
       "    } else if (e.srcElement) {\n",
       "        targ = e.srcElement;\n",
       "    }\n",
       "    if (targ.nodeType === 3) {\n",
       "        // defeat Safari bug\n",
       "        targ = targ.parentNode;\n",
       "    }\n",
       "\n",
       "    // pageX,Y are the mouse positions relative to the document\n",
       "    var boundingRect = targ.getBoundingClientRect();\n",
       "    var x = e.pageX - (boundingRect.left + document.body.scrollLeft);\n",
       "    var y = e.pageY - (boundingRect.top + document.body.scrollTop);\n",
       "\n",
       "    return { x: x, y: y };\n",
       "};\n",
       "\n",
       "/*\n",
       " * return a copy of an object with only non-object keys\n",
       " * we need this to avoid circular references\n",
       " * http://stackoverflow.com/a/24161582/3208463\n",
       " */\n",
       "function simpleKeys(original) {\n",
       "    return Object.keys(original).reduce(function (obj, key) {\n",
       "        if (typeof original[key] !== 'object') {\n",
       "            obj[key] = original[key];\n",
       "        }\n",
       "        return obj;\n",
       "    }, {});\n",
       "}\n",
       "\n",
       "mpl.figure.prototype.mouse_event = function (event, name) {\n",
       "    var canvas_pos = mpl.findpos(event);\n",
       "\n",
       "    if (name === 'button_press') {\n",
       "        this.canvas.focus();\n",
       "        this.canvas_div.focus();\n",
       "    }\n",
       "\n",
       "    var x = canvas_pos.x * this.ratio;\n",
       "    var y = canvas_pos.y * this.ratio;\n",
       "\n",
       "    this.send_message(name, {\n",
       "        x: x,\n",
       "        y: y,\n",
       "        button: event.button,\n",
       "        step: event.step,\n",
       "        guiEvent: simpleKeys(event),\n",
       "    });\n",
       "\n",
       "    /* This prevents the web browser from automatically changing to\n",
       "     * the text insertion cursor when the button is pressed.  We want\n",
       "     * to control all of the cursor setting manually through the\n",
       "     * 'cursor' event from matplotlib */\n",
       "    event.preventDefault();\n",
       "    return false;\n",
       "};\n",
       "\n",
       "mpl.figure.prototype._key_event_extra = function (_event, _name) {\n",
       "    // Handle any extra behaviour associated with a key event\n",
       "};\n",
       "\n",
       "mpl.figure.prototype.key_event = function (event, name) {\n",
       "    // Prevent repeat events\n",
       "    if (name === 'key_press') {\n",
       "        if (event.which === this._key) {\n",
       "            return;\n",
       "        } else {\n",
       "            this._key = event.which;\n",
       "        }\n",
       "    }\n",
       "    if (name === 'key_release') {\n",
       "        this._key = null;\n",
       "    }\n",
       "\n",
       "    var value = '';\n",
       "    if (event.ctrlKey && event.which !== 17) {\n",
       "        value += 'ctrl+';\n",
       "    }\n",
       "    if (event.altKey && event.which !== 18) {\n",
       "        value += 'alt+';\n",
       "    }\n",
       "    if (event.shiftKey && event.which !== 16) {\n",
       "        value += 'shift+';\n",
       "    }\n",
       "\n",
       "    value += 'k';\n",
       "    value += event.which.toString();\n",
       "\n",
       "    this._key_event_extra(event, name);\n",
       "\n",
       "    this.send_message(name, { key: value, guiEvent: simpleKeys(event) });\n",
       "    return false;\n",
       "};\n",
       "\n",
       "mpl.figure.prototype.toolbar_button_onclick = function (name) {\n",
       "    if (name === 'download') {\n",
       "        this.handle_save(this, null);\n",
       "    } else {\n",
       "        this.send_message('toolbar_button', { name: name });\n",
       "    }\n",
       "};\n",
       "\n",
       "mpl.figure.prototype.toolbar_button_onmouseover = function (tooltip) {\n",
       "    this.message.textContent = tooltip;\n",
       "};\n",
       "mpl.toolbar_items = [[\"Home\", \"Reset original view\", \"fa fa-home icon-home\", \"home\"], [\"Back\", \"Back to previous view\", \"fa fa-arrow-left icon-arrow-left\", \"back\"], [\"Forward\", \"Forward to next view\", \"fa fa-arrow-right icon-arrow-right\", \"forward\"], [\"\", \"\", \"\", \"\"], [\"Pan\", \"Left button pans, Right button zooms\\nx/y fixes axis, CTRL fixes aspect\", \"fa fa-arrows icon-move\", \"pan\"], [\"Zoom\", \"Zoom to rectangle\\nx/y fixes axis, CTRL fixes aspect\", \"fa fa-square-o icon-check-empty\", \"zoom\"], [\"\", \"\", \"\", \"\"], [\"Download\", \"Download plot\", \"fa fa-floppy-o icon-save\", \"download\"]];\n",
       "\n",
       "mpl.extensions = [\"eps\", \"jpeg\", \"pdf\", \"png\", \"ps\", \"raw\", \"svg\", \"tif\"];\n",
       "\n",
       "mpl.default_extension = \"png\";/* global mpl */\n",
       "\n",
       "var comm_websocket_adapter = function (comm) {\n",
       "    // Create a \"websocket\"-like object which calls the given IPython comm\n",
       "    // object with the appropriate methods. Currently this is a non binary\n",
       "    // socket, so there is still some room for performance tuning.\n",
       "    var ws = {};\n",
       "\n",
       "    ws.close = function () {\n",
       "        comm.close();\n",
       "    };\n",
       "    ws.send = function (m) {\n",
       "        //console.log('sending', m);\n",
       "        comm.send(m);\n",
       "    };\n",
       "    // Register the callback with on_msg.\n",
       "    comm.on_msg(function (msg) {\n",
       "        //console.log('receiving', msg['content']['data'], msg);\n",
       "        // Pass the mpl event to the overridden (by mpl) onmessage function.\n",
       "        ws.onmessage(msg['content']['data']);\n",
       "    });\n",
       "    return ws;\n",
       "};\n",
       "\n",
       "mpl.mpl_figure_comm = function (comm, msg) {\n",
       "    // This is the function which gets called when the mpl process\n",
       "    // starts-up an IPython Comm through the \"matplotlib\" channel.\n",
       "\n",
       "    var id = msg.content.data.id;\n",
       "    // Get hold of the div created by the display call when the Comm\n",
       "    // socket was opened in Python.\n",
       "    var element = document.getElementById(id);\n",
       "    var ws_proxy = comm_websocket_adapter(comm);\n",
       "\n",
       "    function ondownload(figure, _format) {\n",
       "        window.open(figure.canvas.toDataURL());\n",
       "    }\n",
       "\n",
       "    var fig = new mpl.figure(id, ws_proxy, ondownload, element);\n",
       "\n",
       "    // Call onopen now - mpl needs it, as it is assuming we've passed it a real\n",
       "    // web socket which is closed, not our websocket->open comm proxy.\n",
       "    ws_proxy.onopen();\n",
       "\n",
       "    fig.parent_element = element;\n",
       "    fig.cell_info = mpl.find_output_cell(\"<div id='\" + id + \"'></div>\");\n",
       "    if (!fig.cell_info) {\n",
       "        console.error('Failed to find cell for figure', id, fig);\n",
       "        return;\n",
       "    }\n",
       "    fig.cell_info[0].output_area.element.one(\n",
       "        'cleared',\n",
       "        { fig: fig },\n",
       "        fig._remove_fig_handler\n",
       "    );\n",
       "};\n",
       "\n",
       "mpl.figure.prototype.handle_close = function (fig, msg) {\n",
       "    var width = fig.canvas.width / fig.ratio;\n",
       "    fig.cell_info[0].output_area.element.off(\n",
       "        'cleared',\n",
       "        fig._remove_fig_handler\n",
       "    );\n",
       "\n",
       "    // Update the output cell to use the data from the current canvas.\n",
       "    fig.push_to_output();\n",
       "    var dataURL = fig.canvas.toDataURL();\n",
       "    // Re-enable the keyboard manager in IPython - without this line, in FF,\n",
       "    // the notebook keyboard shortcuts fail.\n",
       "    IPython.keyboard_manager.enable();\n",
       "    fig.parent_element.innerHTML =\n",
       "        '<img src=\"' + dataURL + '\" width=\"' + width + '\">';\n",
       "    fig.close_ws(fig, msg);\n",
       "};\n",
       "\n",
       "mpl.figure.prototype.close_ws = function (fig, msg) {\n",
       "    fig.send_message('closing', msg);\n",
       "    // fig.ws.close()\n",
       "};\n",
       "\n",
       "mpl.figure.prototype.push_to_output = function (_remove_interactive) {\n",
       "    // Turn the data on the canvas into data in the output cell.\n",
       "    var width = this.canvas.width / this.ratio;\n",
       "    var dataURL = this.canvas.toDataURL();\n",
       "    this.cell_info[1]['text/html'] =\n",
       "        '<img src=\"' + dataURL + '\" width=\"' + width + '\">';\n",
       "};\n",
       "\n",
       "mpl.figure.prototype.updated_canvas_event = function () {\n",
       "    // Tell IPython that the notebook contents must change.\n",
       "    IPython.notebook.set_dirty(true);\n",
       "    this.send_message('ack', {});\n",
       "    var fig = this;\n",
       "    // Wait a second, then push the new image to the DOM so\n",
       "    // that it is saved nicely (might be nice to debounce this).\n",
       "    setTimeout(function () {\n",
       "        fig.push_to_output();\n",
       "    }, 1000);\n",
       "};\n",
       "\n",
       "mpl.figure.prototype._init_toolbar = function () {\n",
       "    var fig = this;\n",
       "\n",
       "    var toolbar = document.createElement('div');\n",
       "    toolbar.classList = 'btn-toolbar';\n",
       "    this.root.appendChild(toolbar);\n",
       "\n",
       "    function on_click_closure(name) {\n",
       "        return function (_event) {\n",
       "            return fig.toolbar_button_onclick(name);\n",
       "        };\n",
       "    }\n",
       "\n",
       "    function on_mouseover_closure(tooltip) {\n",
       "        return function (event) {\n",
       "            if (!event.currentTarget.disabled) {\n",
       "                return fig.toolbar_button_onmouseover(tooltip);\n",
       "            }\n",
       "        };\n",
       "    }\n",
       "\n",
       "    fig.buttons = {};\n",
       "    var buttonGroup = document.createElement('div');\n",
       "    buttonGroup.classList = 'btn-group';\n",
       "    var button;\n",
       "    for (var toolbar_ind in mpl.toolbar_items) {\n",
       "        var name = mpl.toolbar_items[toolbar_ind][0];\n",
       "        var tooltip = mpl.toolbar_items[toolbar_ind][1];\n",
       "        var image = mpl.toolbar_items[toolbar_ind][2];\n",
       "        var method_name = mpl.toolbar_items[toolbar_ind][3];\n",
       "\n",
       "        if (!name) {\n",
       "            /* Instead of a spacer, we start a new button group. */\n",
       "            if (buttonGroup.hasChildNodes()) {\n",
       "                toolbar.appendChild(buttonGroup);\n",
       "            }\n",
       "            buttonGroup = document.createElement('div');\n",
       "            buttonGroup.classList = 'btn-group';\n",
       "            continue;\n",
       "        }\n",
       "\n",
       "        button = fig.buttons[name] = document.createElement('button');\n",
       "        button.classList = 'btn btn-default';\n",
       "        button.href = '#';\n",
       "        button.title = name;\n",
       "        button.innerHTML = '<i class=\"fa ' + image + ' fa-lg\"></i>';\n",
       "        button.addEventListener('click', on_click_closure(method_name));\n",
       "        button.addEventListener('mouseover', on_mouseover_closure(tooltip));\n",
       "        buttonGroup.appendChild(button);\n",
       "    }\n",
       "\n",
       "    if (buttonGroup.hasChildNodes()) {\n",
       "        toolbar.appendChild(buttonGroup);\n",
       "    }\n",
       "\n",
       "    // Add the status bar.\n",
       "    var status_bar = document.createElement('span');\n",
       "    status_bar.classList = 'mpl-message pull-right';\n",
       "    toolbar.appendChild(status_bar);\n",
       "    this.message = status_bar;\n",
       "\n",
       "    // Add the close button to the window.\n",
       "    var buttongrp = document.createElement('div');\n",
       "    buttongrp.classList = 'btn-group inline pull-right';\n",
       "    button = document.createElement('button');\n",
       "    button.classList = 'btn btn-mini btn-primary';\n",
       "    button.href = '#';\n",
       "    button.title = 'Stop Interaction';\n",
       "    button.innerHTML = '<i class=\"fa fa-power-off icon-remove icon-large\"></i>';\n",
       "    button.addEventListener('click', function (_evt) {\n",
       "        fig.handle_close(fig, {});\n",
       "    });\n",
       "    button.addEventListener(\n",
       "        'mouseover',\n",
       "        on_mouseover_closure('Stop Interaction')\n",
       "    );\n",
       "    buttongrp.appendChild(button);\n",
       "    var titlebar = this.root.querySelector('.ui-dialog-titlebar');\n",
       "    titlebar.insertBefore(buttongrp, titlebar.firstChild);\n",
       "};\n",
       "\n",
       "mpl.figure.prototype._remove_fig_handler = function (event) {\n",
       "    var fig = event.data.fig;\n",
       "    fig.close_ws(fig, {});\n",
       "};\n",
       "\n",
       "mpl.figure.prototype._root_extra_style = function (el) {\n",
       "    el.style.boxSizing = 'content-box'; // override notebook setting of border-box.\n",
       "};\n",
       "\n",
       "mpl.figure.prototype._canvas_extra_style = function (el) {\n",
       "    // this is important to make the div 'focusable\n",
       "    el.setAttribute('tabindex', 0);\n",
       "    // reach out to IPython and tell the keyboard manager to turn it's self\n",
       "    // off when our div gets focus\n",
       "\n",
       "    // location in version 3\n",
       "    if (IPython.notebook.keyboard_manager) {\n",
       "        IPython.notebook.keyboard_manager.register_events(el);\n",
       "    } else {\n",
       "        // location in version 2\n",
       "        IPython.keyboard_manager.register_events(el);\n",
       "    }\n",
       "};\n",
       "\n",
       "mpl.figure.prototype._key_event_extra = function (event, _name) {\n",
       "    var manager = IPython.notebook.keyboard_manager;\n",
       "    if (!manager) {\n",
       "        manager = IPython.keyboard_manager;\n",
       "    }\n",
       "\n",
       "    // Check for shift+enter\n",
       "    if (event.shiftKey && event.which === 13) {\n",
       "        this.canvas_div.blur();\n",
       "        // select the cell after this one\n",
       "        var index = IPython.notebook.find_cell_index(this.cell_info[0]);\n",
       "        IPython.notebook.select(index + 1);\n",
       "    }\n",
       "};\n",
       "\n",
       "mpl.figure.prototype.handle_save = function (fig, _msg) {\n",
       "    fig.ondownload(fig, null);\n",
       "};\n",
       "\n",
       "mpl.find_output_cell = function (html_output) {\n",
       "    // Return the cell and output element which can be found *uniquely* in the notebook.\n",
       "    // Note - this is a bit hacky, but it is done because the \"notebook_saving.Notebook\"\n",
       "    // IPython event is triggered only after the cells have been serialised, which for\n",
       "    // our purposes (turning an active figure into a static one), is too late.\n",
       "    var cells = IPython.notebook.get_cells();\n",
       "    var ncells = cells.length;\n",
       "    for (var i = 0; i < ncells; i++) {\n",
       "        var cell = cells[i];\n",
       "        if (cell.cell_type === 'code') {\n",
       "            for (var j = 0; j < cell.output_area.outputs.length; j++) {\n",
       "                var data = cell.output_area.outputs[j];\n",
       "                if (data.data) {\n",
       "                    // IPython >= 3 moved mimebundle to data attribute of output\n",
       "                    data = data.data;\n",
       "                }\n",
       "                if (data['text/html'] === html_output) {\n",
       "                    return [cell, data, j];\n",
       "                }\n",
       "            }\n",
       "        }\n",
       "    }\n",
       "};\n",
       "\n",
       "// Register the function which deals with the matplotlib target/channel.\n",
       "// The kernel may be null if the page has been refreshed.\n",
       "if (IPython.notebook.kernel !== null) {\n",
       "    IPython.notebook.kernel.comm_manager.register_target(\n",
       "        'matplotlib',\n",
       "        mpl.mpl_figure_comm\n",
       "    );\n",
       "}\n"
      ],
      "text/plain": [
       "<IPython.core.display.Javascript object>"
      ]
     },
     "metadata": {},
     "output_type": "display_data"
    },
    {
     "data": {
      "text/html": [
       "<img src=\"data:image/png;base64,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\" width=\"500\">"
      ],
      "text/plain": [
       "<IPython.core.display.HTML object>"
      ]
     },
     "metadata": {},
     "output_type": "display_data"
    },
    {
     "data": {
      "application/javascript": [
       "/* Put everything inside the global mpl namespace */\n",
       "/* global mpl */\n",
       "window.mpl = {};\n",
       "\n",
       "mpl.get_websocket_type = function () {\n",
       "    if (typeof WebSocket !== 'undefined') {\n",
       "        return WebSocket;\n",
       "    } else if (typeof MozWebSocket !== 'undefined') {\n",
       "        return MozWebSocket;\n",
       "    } else {\n",
       "        alert(\n",
       "            'Your browser does not have WebSocket support. ' +\n",
       "                'Please try Chrome, Safari or Firefox ≥ 6. ' +\n",
       "                'Firefox 4 and 5 are also supported but you ' +\n",
       "                'have to enable WebSockets in about:config.'\n",
       "        );\n",
       "    }\n",
       "};\n",
       "\n",
       "mpl.figure = function (figure_id, websocket, ondownload, parent_element) {\n",
       "    this.id = figure_id;\n",
       "\n",
       "    this.ws = websocket;\n",
       "\n",
       "    this.supports_binary = this.ws.binaryType !== undefined;\n",
       "\n",
       "    if (!this.supports_binary) {\n",
       "        var warnings = document.getElementById('mpl-warnings');\n",
       "        if (warnings) {\n",
       "            warnings.style.display = 'block';\n",
       "            warnings.textContent =\n",
       "                'This browser does not support binary websocket messages. ' +\n",
       "                'Performance may be slow.';\n",
       "        }\n",
       "    }\n",
       "\n",
       "    this.imageObj = new Image();\n",
       "\n",
       "    this.context = undefined;\n",
       "    this.message = undefined;\n",
       "    this.canvas = undefined;\n",
       "    this.rubberband_canvas = undefined;\n",
       "    this.rubberband_context = undefined;\n",
       "    this.format_dropdown = undefined;\n",
       "\n",
       "    this.image_mode = 'full';\n",
       "\n",
       "    this.root = document.createElement('div');\n",
       "    this.root.setAttribute('style', 'display: inline-block');\n",
       "    this._root_extra_style(this.root);\n",
       "\n",
       "    parent_element.appendChild(this.root);\n",
       "\n",
       "    this._init_header(this);\n",
       "    this._init_canvas(this);\n",
       "    this._init_toolbar(this);\n",
       "\n",
       "    var fig = this;\n",
       "\n",
       "    this.waiting = false;\n",
       "\n",
       "    this.ws.onopen = function () {\n",
       "        fig.send_message('supports_binary', { value: fig.supports_binary });\n",
       "        fig.send_message('send_image_mode', {});\n",
       "        if (fig.ratio !== 1) {\n",
       "            fig.send_message('set_dpi_ratio', { dpi_ratio: fig.ratio });\n",
       "        }\n",
       "        fig.send_message('refresh', {});\n",
       "    };\n",
       "\n",
       "    this.imageObj.onload = function () {\n",
       "        if (fig.image_mode === 'full') {\n",
       "            // Full images could contain transparency (where diff images\n",
       "            // almost always do), so we need to clear the canvas so that\n",
       "            // there is no ghosting.\n",
       "            fig.context.clearRect(0, 0, fig.canvas.width, fig.canvas.height);\n",
       "        }\n",
       "        fig.context.drawImage(fig.imageObj, 0, 0);\n",
       "    };\n",
       "\n",
       "    this.imageObj.onunload = function () {\n",
       "        fig.ws.close();\n",
       "    };\n",
       "\n",
       "    this.ws.onmessage = this._make_on_message_function(this);\n",
       "\n",
       "    this.ondownload = ondownload;\n",
       "};\n",
       "\n",
       "mpl.figure.prototype._init_header = function () {\n",
       "    var titlebar = document.createElement('div');\n",
       "    titlebar.classList =\n",
       "        'ui-dialog-titlebar ui-widget-header ui-corner-all ui-helper-clearfix';\n",
       "    var titletext = document.createElement('div');\n",
       "    titletext.classList = 'ui-dialog-title';\n",
       "    titletext.setAttribute(\n",
       "        'style',\n",
       "        'width: 100%; text-align: center; padding: 3px;'\n",
       "    );\n",
       "    titlebar.appendChild(titletext);\n",
       "    this.root.appendChild(titlebar);\n",
       "    this.header = titletext;\n",
       "};\n",
       "\n",
       "mpl.figure.prototype._canvas_extra_style = function (_canvas_div) {};\n",
       "\n",
       "mpl.figure.prototype._root_extra_style = function (_canvas_div) {};\n",
       "\n",
       "mpl.figure.prototype._init_canvas = function () {\n",
       "    var fig = this;\n",
       "\n",
       "    var canvas_div = (this.canvas_div = document.createElement('div'));\n",
       "    canvas_div.setAttribute(\n",
       "        'style',\n",
       "        'border: 1px solid #ddd;' +\n",
       "            'box-sizing: content-box;' +\n",
       "            'clear: both;' +\n",
       "            'min-height: 1px;' +\n",
       "            'min-width: 1px;' +\n",
       "            'outline: 0;' +\n",
       "            'overflow: hidden;' +\n",
       "            'position: relative;' +\n",
       "            'resize: both;'\n",
       "    );\n",
       "\n",
       "    function on_keyboard_event_closure(name) {\n",
       "        return function (event) {\n",
       "            return fig.key_event(event, name);\n",
       "        };\n",
       "    }\n",
       "\n",
       "    canvas_div.addEventListener(\n",
       "        'keydown',\n",
       "        on_keyboard_event_closure('key_press')\n",
       "    );\n",
       "    canvas_div.addEventListener(\n",
       "        'keyup',\n",
       "        on_keyboard_event_closure('key_release')\n",
       "    );\n",
       "\n",
       "    this._canvas_extra_style(canvas_div);\n",
       "    this.root.appendChild(canvas_div);\n",
       "\n",
       "    var canvas = (this.canvas = document.createElement('canvas'));\n",
       "    canvas.classList.add('mpl-canvas');\n",
       "    canvas.setAttribute('style', 'box-sizing: content-box;');\n",
       "\n",
       "    this.context = canvas.getContext('2d');\n",
       "\n",
       "    var backingStore =\n",
       "        this.context.backingStorePixelRatio ||\n",
       "        this.context.webkitBackingStorePixelRatio ||\n",
       "        this.context.mozBackingStorePixelRatio ||\n",
       "        this.context.msBackingStorePixelRatio ||\n",
       "        this.context.oBackingStorePixelRatio ||\n",
       "        this.context.backingStorePixelRatio ||\n",
       "        1;\n",
       "\n",
       "    this.ratio = (window.devicePixelRatio || 1) / backingStore;\n",
       "    if (this.ratio !== 1) {\n",
       "        fig.send_message('set_dpi_ratio', { dpi_ratio: this.ratio });\n",
       "    }\n",
       "\n",
       "    var rubberband_canvas = (this.rubberband_canvas = document.createElement(\n",
       "        'canvas'\n",
       "    ));\n",
       "    rubberband_canvas.setAttribute(\n",
       "        'style',\n",
       "        'box-sizing: content-box; position: absolute; left: 0; top: 0; z-index: 1;'\n",
       "    );\n",
       "\n",
       "    var resizeObserver = new ResizeObserver(function (entries) {\n",
       "        var nentries = entries.length;\n",
       "        for (var i = 0; i < nentries; i++) {\n",
       "            var entry = entries[i];\n",
       "            var width, height;\n",
       "            if (entry.contentBoxSize) {\n",
       "                if (entry.contentBoxSize instanceof Array) {\n",
       "                    // Chrome 84 implements new version of spec.\n",
       "                    width = entry.contentBoxSize[0].inlineSize;\n",
       "                    height = entry.contentBoxSize[0].blockSize;\n",
       "                } else {\n",
       "                    // Firefox implements old version of spec.\n",
       "                    width = entry.contentBoxSize.inlineSize;\n",
       "                    height = entry.contentBoxSize.blockSize;\n",
       "                }\n",
       "            } else {\n",
       "                // Chrome <84 implements even older version of spec.\n",
       "                width = entry.contentRect.width;\n",
       "                height = entry.contentRect.height;\n",
       "            }\n",
       "\n",
       "            // Keep the size of the canvas and rubber band canvas in sync with\n",
       "            // the canvas container.\n",
       "            if (entry.devicePixelContentBoxSize) {\n",
       "                // Chrome 84 implements new version of spec.\n",
       "                canvas.setAttribute(\n",
       "                    'width',\n",
       "                    entry.devicePixelContentBoxSize[0].inlineSize\n",
       "                );\n",
       "                canvas.setAttribute(\n",
       "                    'height',\n",
       "                    entry.devicePixelContentBoxSize[0].blockSize\n",
       "                );\n",
       "            } else {\n",
       "                canvas.setAttribute('width', width * fig.ratio);\n",
       "                canvas.setAttribute('height', height * fig.ratio);\n",
       "            }\n",
       "            canvas.setAttribute(\n",
       "                'style',\n",
       "                'width: ' + width + 'px; height: ' + height + 'px;'\n",
       "            );\n",
       "\n",
       "            rubberband_canvas.setAttribute('width', width);\n",
       "            rubberband_canvas.setAttribute('height', height);\n",
       "\n",
       "            // And update the size in Python. We ignore the initial 0/0 size\n",
       "            // that occurs as the element is placed into the DOM, which should\n",
       "            // otherwise not happen due to the minimum size styling.\n",
       "            if (width != 0 && height != 0) {\n",
       "                fig.request_resize(width, height);\n",
       "            }\n",
       "        }\n",
       "    });\n",
       "    resizeObserver.observe(canvas_div);\n",
       "\n",
       "    function on_mouse_event_closure(name) {\n",
       "        return function (event) {\n",
       "            return fig.mouse_event(event, name);\n",
       "        };\n",
       "    }\n",
       "\n",
       "    rubberband_canvas.addEventListener(\n",
       "        'mousedown',\n",
       "        on_mouse_event_closure('button_press')\n",
       "    );\n",
       "    rubberband_canvas.addEventListener(\n",
       "        'mouseup',\n",
       "        on_mouse_event_closure('button_release')\n",
       "    );\n",
       "    // Throttle sequential mouse events to 1 every 20ms.\n",
       "    rubberband_canvas.addEventListener(\n",
       "        'mousemove',\n",
       "        on_mouse_event_closure('motion_notify')\n",
       "    );\n",
       "\n",
       "    rubberband_canvas.addEventListener(\n",
       "        'mouseenter',\n",
       "        on_mouse_event_closure('figure_enter')\n",
       "    );\n",
       "    rubberband_canvas.addEventListener(\n",
       "        'mouseleave',\n",
       "        on_mouse_event_closure('figure_leave')\n",
       "    );\n",
       "\n",
       "    canvas_div.addEventListener('wheel', function (event) {\n",
       "        if (event.deltaY < 0) {\n",
       "            event.step = 1;\n",
       "        } else {\n",
       "            event.step = -1;\n",
       "        }\n",
       "        on_mouse_event_closure('scroll')(event);\n",
       "    });\n",
       "\n",
       "    canvas_div.appendChild(canvas);\n",
       "    canvas_div.appendChild(rubberband_canvas);\n",
       "\n",
       "    this.rubberband_context = rubberband_canvas.getContext('2d');\n",
       "    this.rubberband_context.strokeStyle = '#000000';\n",
       "\n",
       "    this._resize_canvas = function (width, height, forward) {\n",
       "        if (forward) {\n",
       "            canvas_div.style.width = width + 'px';\n",
       "            canvas_div.style.height = height + 'px';\n",
       "        }\n",
       "    };\n",
       "\n",
       "    // Disable right mouse context menu.\n",
       "    this.rubberband_canvas.addEventListener('contextmenu', function (_e) {\n",
       "        event.preventDefault();\n",
       "        return false;\n",
       "    });\n",
       "\n",
       "    function set_focus() {\n",
       "        canvas.focus();\n",
       "        canvas_div.focus();\n",
       "    }\n",
       "\n",
       "    window.setTimeout(set_focus, 100);\n",
       "};\n",
       "\n",
       "mpl.figure.prototype._init_toolbar = function () {\n",
       "    var fig = this;\n",
       "\n",
       "    var toolbar = document.createElement('div');\n",
       "    toolbar.classList = 'mpl-toolbar';\n",
       "    this.root.appendChild(toolbar);\n",
       "\n",
       "    function on_click_closure(name) {\n",
       "        return function (_event) {\n",
       "            return fig.toolbar_button_onclick(name);\n",
       "        };\n",
       "    }\n",
       "\n",
       "    function on_mouseover_closure(tooltip) {\n",
       "        return function (event) {\n",
       "            if (!event.currentTarget.disabled) {\n",
       "                return fig.toolbar_button_onmouseover(tooltip);\n",
       "            }\n",
       "        };\n",
       "    }\n",
       "\n",
       "    fig.buttons = {};\n",
       "    var buttonGroup = document.createElement('div');\n",
       "    buttonGroup.classList = 'mpl-button-group';\n",
       "    for (var toolbar_ind in mpl.toolbar_items) {\n",
       "        var name = mpl.toolbar_items[toolbar_ind][0];\n",
       "        var tooltip = mpl.toolbar_items[toolbar_ind][1];\n",
       "        var image = mpl.toolbar_items[toolbar_ind][2];\n",
       "        var method_name = mpl.toolbar_items[toolbar_ind][3];\n",
       "\n",
       "        if (!name) {\n",
       "            /* Instead of a spacer, we start a new button group. */\n",
       "            if (buttonGroup.hasChildNodes()) {\n",
       "                toolbar.appendChild(buttonGroup);\n",
       "            }\n",
       "            buttonGroup = document.createElement('div');\n",
       "            buttonGroup.classList = 'mpl-button-group';\n",
       "            continue;\n",
       "        }\n",
       "\n",
       "        var button = (fig.buttons[name] = document.createElement('button'));\n",
       "        button.classList = 'mpl-widget';\n",
       "        button.setAttribute('role', 'button');\n",
       "        button.setAttribute('aria-disabled', 'false');\n",
       "        button.addEventListener('click', on_click_closure(method_name));\n",
       "        button.addEventListener('mouseover', on_mouseover_closure(tooltip));\n",
       "\n",
       "        var icon_img = document.createElement('img');\n",
       "        icon_img.src = '_images/' + image + '.png';\n",
       "        icon_img.srcset = '_images/' + image + '_large.png 2x';\n",
       "        icon_img.alt = tooltip;\n",
       "        button.appendChild(icon_img);\n",
       "\n",
       "        buttonGroup.appendChild(button);\n",
       "    }\n",
       "\n",
       "    if (buttonGroup.hasChildNodes()) {\n",
       "        toolbar.appendChild(buttonGroup);\n",
       "    }\n",
       "\n",
       "    var fmt_picker = document.createElement('select');\n",
       "    fmt_picker.classList = 'mpl-widget';\n",
       "    toolbar.appendChild(fmt_picker);\n",
       "    this.format_dropdown = fmt_picker;\n",
       "\n",
       "    for (var ind in mpl.extensions) {\n",
       "        var fmt = mpl.extensions[ind];\n",
       "        var option = document.createElement('option');\n",
       "        option.selected = fmt === mpl.default_extension;\n",
       "        option.innerHTML = fmt;\n",
       "        fmt_picker.appendChild(option);\n",
       "    }\n",
       "\n",
       "    var status_bar = document.createElement('span');\n",
       "    status_bar.classList = 'mpl-message';\n",
       "    toolbar.appendChild(status_bar);\n",
       "    this.message = status_bar;\n",
       "};\n",
       "\n",
       "mpl.figure.prototype.request_resize = function (x_pixels, y_pixels) {\n",
       "    // Request matplotlib to resize the figure. Matplotlib will then trigger a resize in the client,\n",
       "    // which will in turn request a refresh of the image.\n",
       "    this.send_message('resize', { width: x_pixels, height: y_pixels });\n",
       "};\n",
       "\n",
       "mpl.figure.prototype.send_message = function (type, properties) {\n",
       "    properties['type'] = type;\n",
       "    properties['figure_id'] = this.id;\n",
       "    this.ws.send(JSON.stringify(properties));\n",
       "};\n",
       "\n",
       "mpl.figure.prototype.send_draw_message = function () {\n",
       "    if (!this.waiting) {\n",
       "        this.waiting = true;\n",
       "        this.ws.send(JSON.stringify({ type: 'draw', figure_id: this.id }));\n",
       "    }\n",
       "};\n",
       "\n",
       "mpl.figure.prototype.handle_save = function (fig, _msg) {\n",
       "    var format_dropdown = fig.format_dropdown;\n",
       "    var format = format_dropdown.options[format_dropdown.selectedIndex].value;\n",
       "    fig.ondownload(fig, format);\n",
       "};\n",
       "\n",
       "mpl.figure.prototype.handle_resize = function (fig, msg) {\n",
       "    var size = msg['size'];\n",
       "    if (size[0] !== fig.canvas.width || size[1] !== fig.canvas.height) {\n",
       "        fig._resize_canvas(size[0], size[1], msg['forward']);\n",
       "        fig.send_message('refresh', {});\n",
       "    }\n",
       "};\n",
       "\n",
       "mpl.figure.prototype.handle_rubberband = function (fig, msg) {\n",
       "    var x0 = msg['x0'] / fig.ratio;\n",
       "    var y0 = (fig.canvas.height - msg['y0']) / fig.ratio;\n",
       "    var x1 = msg['x1'] / fig.ratio;\n",
       "    var y1 = (fig.canvas.height - msg['y1']) / fig.ratio;\n",
       "    x0 = Math.floor(x0) + 0.5;\n",
       "    y0 = Math.floor(y0) + 0.5;\n",
       "    x1 = Math.floor(x1) + 0.5;\n",
       "    y1 = Math.floor(y1) + 0.5;\n",
       "    var min_x = Math.min(x0, x1);\n",
       "    var min_y = Math.min(y0, y1);\n",
       "    var width = Math.abs(x1 - x0);\n",
       "    var height = Math.abs(y1 - y0);\n",
       "\n",
       "    fig.rubberband_context.clearRect(\n",
       "        0,\n",
       "        0,\n",
       "        fig.canvas.width / fig.ratio,\n",
       "        fig.canvas.height / fig.ratio\n",
       "    );\n",
       "\n",
       "    fig.rubberband_context.strokeRect(min_x, min_y, width, height);\n",
       "};\n",
       "\n",
       "mpl.figure.prototype.handle_figure_label = function (fig, msg) {\n",
       "    // Updates the figure title.\n",
       "    fig.header.textContent = msg['label'];\n",
       "};\n",
       "\n",
       "mpl.figure.prototype.handle_cursor = function (fig, msg) {\n",
       "    var cursor = msg['cursor'];\n",
       "    switch (cursor) {\n",
       "        case 0:\n",
       "            cursor = 'pointer';\n",
       "            break;\n",
       "        case 1:\n",
       "            cursor = 'default';\n",
       "            break;\n",
       "        case 2:\n",
       "            cursor = 'crosshair';\n",
       "            break;\n",
       "        case 3:\n",
       "            cursor = 'move';\n",
       "            break;\n",
       "    }\n",
       "    fig.rubberband_canvas.style.cursor = cursor;\n",
       "};\n",
       "\n",
       "mpl.figure.prototype.handle_message = function (fig, msg) {\n",
       "    fig.message.textContent = msg['message'];\n",
       "};\n",
       "\n",
       "mpl.figure.prototype.handle_draw = function (fig, _msg) {\n",
       "    // Request the server to send over a new figure.\n",
       "    fig.send_draw_message();\n",
       "};\n",
       "\n",
       "mpl.figure.prototype.handle_image_mode = function (fig, msg) {\n",
       "    fig.image_mode = msg['mode'];\n",
       "};\n",
       "\n",
       "mpl.figure.prototype.handle_history_buttons = function (fig, msg) {\n",
       "    for (var key in msg) {\n",
       "        if (!(key in fig.buttons)) {\n",
       "            continue;\n",
       "        }\n",
       "        fig.buttons[key].disabled = !msg[key];\n",
       "        fig.buttons[key].setAttribute('aria-disabled', !msg[key]);\n",
       "    }\n",
       "};\n",
       "\n",
       "mpl.figure.prototype.handle_navigate_mode = function (fig, msg) {\n",
       "    if (msg['mode'] === 'PAN') {\n",
       "        fig.buttons['Pan'].classList.add('active');\n",
       "        fig.buttons['Zoom'].classList.remove('active');\n",
       "    } else if (msg['mode'] === 'ZOOM') {\n",
       "        fig.buttons['Pan'].classList.remove('active');\n",
       "        fig.buttons['Zoom'].classList.add('active');\n",
       "    } else {\n",
       "        fig.buttons['Pan'].classList.remove('active');\n",
       "        fig.buttons['Zoom'].classList.remove('active');\n",
       "    }\n",
       "};\n",
       "\n",
       "mpl.figure.prototype.updated_canvas_event = function () {\n",
       "    // Called whenever the canvas gets updated.\n",
       "    this.send_message('ack', {});\n",
       "};\n",
       "\n",
       "// A function to construct a web socket function for onmessage handling.\n",
       "// Called in the figure constructor.\n",
       "mpl.figure.prototype._make_on_message_function = function (fig) {\n",
       "    return function socket_on_message(evt) {\n",
       "        if (evt.data instanceof Blob) {\n",
       "            /* FIXME: We get \"Resource interpreted as Image but\n",
       "             * transferred with MIME type text/plain:\" errors on\n",
       "             * Chrome.  But how to set the MIME type?  It doesn't seem\n",
       "             * to be part of the websocket stream */\n",
       "            evt.data.type = 'image/png';\n",
       "\n",
       "            /* Free the memory for the previous frames */\n",
       "            if (fig.imageObj.src) {\n",
       "                (window.URL || window.webkitURL).revokeObjectURL(\n",
       "                    fig.imageObj.src\n",
       "                );\n",
       "            }\n",
       "\n",
       "            fig.imageObj.src = (window.URL || window.webkitURL).createObjectURL(\n",
       "                evt.data\n",
       "            );\n",
       "            fig.updated_canvas_event();\n",
       "            fig.waiting = false;\n",
       "            return;\n",
       "        } else if (\n",
       "            typeof evt.data === 'string' &&\n",
       "            evt.data.slice(0, 21) === 'data:image/png;base64'\n",
       "        ) {\n",
       "            fig.imageObj.src = evt.data;\n",
       "            fig.updated_canvas_event();\n",
       "            fig.waiting = false;\n",
       "            return;\n",
       "        }\n",
       "\n",
       "        var msg = JSON.parse(evt.data);\n",
       "        var msg_type = msg['type'];\n",
       "\n",
       "        // Call the  \"handle_{type}\" callback, which takes\n",
       "        // the figure and JSON message as its only arguments.\n",
       "        try {\n",
       "            var callback = fig['handle_' + msg_type];\n",
       "        } catch (e) {\n",
       "            console.log(\n",
       "                \"No handler for the '\" + msg_type + \"' message type: \",\n",
       "                msg\n",
       "            );\n",
       "            return;\n",
       "        }\n",
       "\n",
       "        if (callback) {\n",
       "            try {\n",
       "                // console.log(\"Handling '\" + msg_type + \"' message: \", msg);\n",
       "                callback(fig, msg);\n",
       "            } catch (e) {\n",
       "                console.log(\n",
       "                    \"Exception inside the 'handler_\" + msg_type + \"' callback:\",\n",
       "                    e,\n",
       "                    e.stack,\n",
       "                    msg\n",
       "                );\n",
       "            }\n",
       "        }\n",
       "    };\n",
       "};\n",
       "\n",
       "// from http://stackoverflow.com/questions/1114465/getting-mouse-location-in-canvas\n",
       "mpl.findpos = function (e) {\n",
       "    //this section is from http://www.quirksmode.org/js/events_properties.html\n",
       "    var targ;\n",
       "    if (!e) {\n",
       "        e = window.event;\n",
       "    }\n",
       "    if (e.target) {\n",
       "        targ = e.target;\n",
       "    } else if (e.srcElement) {\n",
       "        targ = e.srcElement;\n",
       "    }\n",
       "    if (targ.nodeType === 3) {\n",
       "        // defeat Safari bug\n",
       "        targ = targ.parentNode;\n",
       "    }\n",
       "\n",
       "    // pageX,Y are the mouse positions relative to the document\n",
       "    var boundingRect = targ.getBoundingClientRect();\n",
       "    var x = e.pageX - (boundingRect.left + document.body.scrollLeft);\n",
       "    var y = e.pageY - (boundingRect.top + document.body.scrollTop);\n",
       "\n",
       "    return { x: x, y: y };\n",
       "};\n",
       "\n",
       "/*\n",
       " * return a copy of an object with only non-object keys\n",
       " * we need this to avoid circular references\n",
       " * http://stackoverflow.com/a/24161582/3208463\n",
       " */\n",
       "function simpleKeys(original) {\n",
       "    return Object.keys(original).reduce(function (obj, key) {\n",
       "        if (typeof original[key] !== 'object') {\n",
       "            obj[key] = original[key];\n",
       "        }\n",
       "        return obj;\n",
       "    }, {});\n",
       "}\n",
       "\n",
       "mpl.figure.prototype.mouse_event = function (event, name) {\n",
       "    var canvas_pos = mpl.findpos(event);\n",
       "\n",
       "    if (name === 'button_press') {\n",
       "        this.canvas.focus();\n",
       "        this.canvas_div.focus();\n",
       "    }\n",
       "\n",
       "    var x = canvas_pos.x * this.ratio;\n",
       "    var y = canvas_pos.y * this.ratio;\n",
       "\n",
       "    this.send_message(name, {\n",
       "        x: x,\n",
       "        y: y,\n",
       "        button: event.button,\n",
       "        step: event.step,\n",
       "        guiEvent: simpleKeys(event),\n",
       "    });\n",
       "\n",
       "    /* This prevents the web browser from automatically changing to\n",
       "     * the text insertion cursor when the button is pressed.  We want\n",
       "     * to control all of the cursor setting manually through the\n",
       "     * 'cursor' event from matplotlib */\n",
       "    event.preventDefault();\n",
       "    return false;\n",
       "};\n",
       "\n",
       "mpl.figure.prototype._key_event_extra = function (_event, _name) {\n",
       "    // Handle any extra behaviour associated with a key event\n",
       "};\n",
       "\n",
       "mpl.figure.prototype.key_event = function (event, name) {\n",
       "    // Prevent repeat events\n",
       "    if (name === 'key_press') {\n",
       "        if (event.which === this._key) {\n",
       "            return;\n",
       "        } else {\n",
       "            this._key = event.which;\n",
       "        }\n",
       "    }\n",
       "    if (name === 'key_release') {\n",
       "        this._key = null;\n",
       "    }\n",
       "\n",
       "    var value = '';\n",
       "    if (event.ctrlKey && event.which !== 17) {\n",
       "        value += 'ctrl+';\n",
       "    }\n",
       "    if (event.altKey && event.which !== 18) {\n",
       "        value += 'alt+';\n",
       "    }\n",
       "    if (event.shiftKey && event.which !== 16) {\n",
       "        value += 'shift+';\n",
       "    }\n",
       "\n",
       "    value += 'k';\n",
       "    value += event.which.toString();\n",
       "\n",
       "    this._key_event_extra(event, name);\n",
       "\n",
       "    this.send_message(name, { key: value, guiEvent: simpleKeys(event) });\n",
       "    return false;\n",
       "};\n",
       "\n",
       "mpl.figure.prototype.toolbar_button_onclick = function (name) {\n",
       "    if (name === 'download') {\n",
       "        this.handle_save(this, null);\n",
       "    } else {\n",
       "        this.send_message('toolbar_button', { name: name });\n",
       "    }\n",
       "};\n",
       "\n",
       "mpl.figure.prototype.toolbar_button_onmouseover = function (tooltip) {\n",
       "    this.message.textContent = tooltip;\n",
       "};\n",
       "mpl.toolbar_items = [[\"Home\", \"Reset original view\", \"fa fa-home icon-home\", \"home\"], [\"Back\", \"Back to previous view\", \"fa fa-arrow-left icon-arrow-left\", \"back\"], [\"Forward\", \"Forward to next view\", \"fa fa-arrow-right icon-arrow-right\", \"forward\"], [\"\", \"\", \"\", \"\"], [\"Pan\", \"Left button pans, Right button zooms\\nx/y fixes axis, CTRL fixes aspect\", \"fa fa-arrows icon-move\", \"pan\"], [\"Zoom\", \"Zoom to rectangle\\nx/y fixes axis, CTRL fixes aspect\", \"fa fa-square-o icon-check-empty\", \"zoom\"], [\"\", \"\", \"\", \"\"], [\"Download\", \"Download plot\", \"fa fa-floppy-o icon-save\", \"download\"]];\n",
       "\n",
       "mpl.extensions = [\"eps\", \"jpeg\", \"pdf\", \"png\", \"ps\", \"raw\", \"svg\", \"tif\"];\n",
       "\n",
       "mpl.default_extension = \"png\";/* global mpl */\n",
       "\n",
       "var comm_websocket_adapter = function (comm) {\n",
       "    // Create a \"websocket\"-like object which calls the given IPython comm\n",
       "    // object with the appropriate methods. Currently this is a non binary\n",
       "    // socket, so there is still some room for performance tuning.\n",
       "    var ws = {};\n",
       "\n",
       "    ws.close = function () {\n",
       "        comm.close();\n",
       "    };\n",
       "    ws.send = function (m) {\n",
       "        //console.log('sending', m);\n",
       "        comm.send(m);\n",
       "    };\n",
       "    // Register the callback with on_msg.\n",
       "    comm.on_msg(function (msg) {\n",
       "        //console.log('receiving', msg['content']['data'], msg);\n",
       "        // Pass the mpl event to the overridden (by mpl) onmessage function.\n",
       "        ws.onmessage(msg['content']['data']);\n",
       "    });\n",
       "    return ws;\n",
       "};\n",
       "\n",
       "mpl.mpl_figure_comm = function (comm, msg) {\n",
       "    // This is the function which gets called when the mpl process\n",
       "    // starts-up an IPython Comm through the \"matplotlib\" channel.\n",
       "\n",
       "    var id = msg.content.data.id;\n",
       "    // Get hold of the div created by the display call when the Comm\n",
       "    // socket was opened in Python.\n",
       "    var element = document.getElementById(id);\n",
       "    var ws_proxy = comm_websocket_adapter(comm);\n",
       "\n",
       "    function ondownload(figure, _format) {\n",
       "        window.open(figure.canvas.toDataURL());\n",
       "    }\n",
       "\n",
       "    var fig = new mpl.figure(id, ws_proxy, ondownload, element);\n",
       "\n",
       "    // Call onopen now - mpl needs it, as it is assuming we've passed it a real\n",
       "    // web socket which is closed, not our websocket->open comm proxy.\n",
       "    ws_proxy.onopen();\n",
       "\n",
       "    fig.parent_element = element;\n",
       "    fig.cell_info = mpl.find_output_cell(\"<div id='\" + id + \"'></div>\");\n",
       "    if (!fig.cell_info) {\n",
       "        console.error('Failed to find cell for figure', id, fig);\n",
       "        return;\n",
       "    }\n",
       "    fig.cell_info[0].output_area.element.one(\n",
       "        'cleared',\n",
       "        { fig: fig },\n",
       "        fig._remove_fig_handler\n",
       "    );\n",
       "};\n",
       "\n",
       "mpl.figure.prototype.handle_close = function (fig, msg) {\n",
       "    var width = fig.canvas.width / fig.ratio;\n",
       "    fig.cell_info[0].output_area.element.off(\n",
       "        'cleared',\n",
       "        fig._remove_fig_handler\n",
       "    );\n",
       "\n",
       "    // Update the output cell to use the data from the current canvas.\n",
       "    fig.push_to_output();\n",
       "    var dataURL = fig.canvas.toDataURL();\n",
       "    // Re-enable the keyboard manager in IPython - without this line, in FF,\n",
       "    // the notebook keyboard shortcuts fail.\n",
       "    IPython.keyboard_manager.enable();\n",
       "    fig.parent_element.innerHTML =\n",
       "        '<img src=\"' + dataURL + '\" width=\"' + width + '\">';\n",
       "    fig.close_ws(fig, msg);\n",
       "};\n",
       "\n",
       "mpl.figure.prototype.close_ws = function (fig, msg) {\n",
       "    fig.send_message('closing', msg);\n",
       "    // fig.ws.close()\n",
       "};\n",
       "\n",
       "mpl.figure.prototype.push_to_output = function (_remove_interactive) {\n",
       "    // Turn the data on the canvas into data in the output cell.\n",
       "    var width = this.canvas.width / this.ratio;\n",
       "    var dataURL = this.canvas.toDataURL();\n",
       "    this.cell_info[1]['text/html'] =\n",
       "        '<img src=\"' + dataURL + '\" width=\"' + width + '\">';\n",
       "};\n",
       "\n",
       "mpl.figure.prototype.updated_canvas_event = function () {\n",
       "    // Tell IPython that the notebook contents must change.\n",
       "    IPython.notebook.set_dirty(true);\n",
       "    this.send_message('ack', {});\n",
       "    var fig = this;\n",
       "    // Wait a second, then push the new image to the DOM so\n",
       "    // that it is saved nicely (might be nice to debounce this).\n",
       "    setTimeout(function () {\n",
       "        fig.push_to_output();\n",
       "    }, 1000);\n",
       "};\n",
       "\n",
       "mpl.figure.prototype._init_toolbar = function () {\n",
       "    var fig = this;\n",
       "\n",
       "    var toolbar = document.createElement('div');\n",
       "    toolbar.classList = 'btn-toolbar';\n",
       "    this.root.appendChild(toolbar);\n",
       "\n",
       "    function on_click_closure(name) {\n",
       "        return function (_event) {\n",
       "            return fig.toolbar_button_onclick(name);\n",
       "        };\n",
       "    }\n",
       "\n",
       "    function on_mouseover_closure(tooltip) {\n",
       "        return function (event) {\n",
       "            if (!event.currentTarget.disabled) {\n",
       "                return fig.toolbar_button_onmouseover(tooltip);\n",
       "            }\n",
       "        };\n",
       "    }\n",
       "\n",
       "    fig.buttons = {};\n",
       "    var buttonGroup = document.createElement('div');\n",
       "    buttonGroup.classList = 'btn-group';\n",
       "    var button;\n",
       "    for (var toolbar_ind in mpl.toolbar_items) {\n",
       "        var name = mpl.toolbar_items[toolbar_ind][0];\n",
       "        var tooltip = mpl.toolbar_items[toolbar_ind][1];\n",
       "        var image = mpl.toolbar_items[toolbar_ind][2];\n",
       "        var method_name = mpl.toolbar_items[toolbar_ind][3];\n",
       "\n",
       "        if (!name) {\n",
       "            /* Instead of a spacer, we start a new button group. */\n",
       "            if (buttonGroup.hasChildNodes()) {\n",
       "                toolbar.appendChild(buttonGroup);\n",
       "            }\n",
       "            buttonGroup = document.createElement('div');\n",
       "            buttonGroup.classList = 'btn-group';\n",
       "            continue;\n",
       "        }\n",
       "\n",
       "        button = fig.buttons[name] = document.createElement('button');\n",
       "        button.classList = 'btn btn-default';\n",
       "        button.href = '#';\n",
       "        button.title = name;\n",
       "        button.innerHTML = '<i class=\"fa ' + image + ' fa-lg\"></i>';\n",
       "        button.addEventListener('click', on_click_closure(method_name));\n",
       "        button.addEventListener('mouseover', on_mouseover_closure(tooltip));\n",
       "        buttonGroup.appendChild(button);\n",
       "    }\n",
       "\n",
       "    if (buttonGroup.hasChildNodes()) {\n",
       "        toolbar.appendChild(buttonGroup);\n",
       "    }\n",
       "\n",
       "    // Add the status bar.\n",
       "    var status_bar = document.createElement('span');\n",
       "    status_bar.classList = 'mpl-message pull-right';\n",
       "    toolbar.appendChild(status_bar);\n",
       "    this.message = status_bar;\n",
       "\n",
       "    // Add the close button to the window.\n",
       "    var buttongrp = document.createElement('div');\n",
       "    buttongrp.classList = 'btn-group inline pull-right';\n",
       "    button = document.createElement('button');\n",
       "    button.classList = 'btn btn-mini btn-primary';\n",
       "    button.href = '#';\n",
       "    button.title = 'Stop Interaction';\n",
       "    button.innerHTML = '<i class=\"fa fa-power-off icon-remove icon-large\"></i>';\n",
       "    button.addEventListener('click', function (_evt) {\n",
       "        fig.handle_close(fig, {});\n",
       "    });\n",
       "    button.addEventListener(\n",
       "        'mouseover',\n",
       "        on_mouseover_closure('Stop Interaction')\n",
       "    );\n",
       "    buttongrp.appendChild(button);\n",
       "    var titlebar = this.root.querySelector('.ui-dialog-titlebar');\n",
       "    titlebar.insertBefore(buttongrp, titlebar.firstChild);\n",
       "};\n",
       "\n",
       "mpl.figure.prototype._remove_fig_handler = function (event) {\n",
       "    var fig = event.data.fig;\n",
       "    fig.close_ws(fig, {});\n",
       "};\n",
       "\n",
       "mpl.figure.prototype._root_extra_style = function (el) {\n",
       "    el.style.boxSizing = 'content-box'; // override notebook setting of border-box.\n",
       "};\n",
       "\n",
       "mpl.figure.prototype._canvas_extra_style = function (el) {\n",
       "    // this is important to make the div 'focusable\n",
       "    el.setAttribute('tabindex', 0);\n",
       "    // reach out to IPython and tell the keyboard manager to turn it's self\n",
       "    // off when our div gets focus\n",
       "\n",
       "    // location in version 3\n",
       "    if (IPython.notebook.keyboard_manager) {\n",
       "        IPython.notebook.keyboard_manager.register_events(el);\n",
       "    } else {\n",
       "        // location in version 2\n",
       "        IPython.keyboard_manager.register_events(el);\n",
       "    }\n",
       "};\n",
       "\n",
       "mpl.figure.prototype._key_event_extra = function (event, _name) {\n",
       "    var manager = IPython.notebook.keyboard_manager;\n",
       "    if (!manager) {\n",
       "        manager = IPython.keyboard_manager;\n",
       "    }\n",
       "\n",
       "    // Check for shift+enter\n",
       "    if (event.shiftKey && event.which === 13) {\n",
       "        this.canvas_div.blur();\n",
       "        // select the cell after this one\n",
       "        var index = IPython.notebook.find_cell_index(this.cell_info[0]);\n",
       "        IPython.notebook.select(index + 1);\n",
       "    }\n",
       "};\n",
       "\n",
       "mpl.figure.prototype.handle_save = function (fig, _msg) {\n",
       "    fig.ondownload(fig, null);\n",
       "};\n",
       "\n",
       "mpl.find_output_cell = function (html_output) {\n",
       "    // Return the cell and output element which can be found *uniquely* in the notebook.\n",
       "    // Note - this is a bit hacky, but it is done because the \"notebook_saving.Notebook\"\n",
       "    // IPython event is triggered only after the cells have been serialised, which for\n",
       "    // our purposes (turning an active figure into a static one), is too late.\n",
       "    var cells = IPython.notebook.get_cells();\n",
       "    var ncells = cells.length;\n",
       "    for (var i = 0; i < ncells; i++) {\n",
       "        var cell = cells[i];\n",
       "        if (cell.cell_type === 'code') {\n",
       "            for (var j = 0; j < cell.output_area.outputs.length; j++) {\n",
       "                var data = cell.output_area.outputs[j];\n",
       "                if (data.data) {\n",
       "                    // IPython >= 3 moved mimebundle to data attribute of output\n",
       "                    data = data.data;\n",
       "                }\n",
       "                if (data['text/html'] === html_output) {\n",
       "                    return [cell, data, j];\n",
       "                }\n",
       "            }\n",
       "        }\n",
       "    }\n",
       "};\n",
       "\n",
       "// Register the function which deals with the matplotlib target/channel.\n",
       "// The kernel may be null if the page has been refreshed.\n",
       "if (IPython.notebook.kernel !== null) {\n",
       "    IPython.notebook.kernel.comm_manager.register_target(\n",
       "        'matplotlib',\n",
       "        mpl.mpl_figure_comm\n",
       "    );\n",
       "}\n"
      ],
      "text/plain": [
       "<IPython.core.display.Javascript object>"
      ]
     },
     "metadata": {},
     "output_type": "display_data"
    },
    {
     "data": {
      "text/html": [
       "<img src=\"data:image/png;base64,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\" width=\"500\">"
      ],
      "text/plain": [
       "<IPython.core.display.HTML object>"
      ]
     },
     "metadata": {},
     "output_type": "display_data"
    },
    {
     "data": {
      "application/javascript": [
       "/* Put everything inside the global mpl namespace */\n",
       "/* global mpl */\n",
       "window.mpl = {};\n",
       "\n",
       "mpl.get_websocket_type = function () {\n",
       "    if (typeof WebSocket !== 'undefined') {\n",
       "        return WebSocket;\n",
       "    } else if (typeof MozWebSocket !== 'undefined') {\n",
       "        return MozWebSocket;\n",
       "    } else {\n",
       "        alert(\n",
       "            'Your browser does not have WebSocket support. ' +\n",
       "                'Please try Chrome, Safari or Firefox ≥ 6. ' +\n",
       "                'Firefox 4 and 5 are also supported but you ' +\n",
       "                'have to enable WebSockets in about:config.'\n",
       "        );\n",
       "    }\n",
       "};\n",
       "\n",
       "mpl.figure = function (figure_id, websocket, ondownload, parent_element) {\n",
       "    this.id = figure_id;\n",
       "\n",
       "    this.ws = websocket;\n",
       "\n",
       "    this.supports_binary = this.ws.binaryType !== undefined;\n",
       "\n",
       "    if (!this.supports_binary) {\n",
       "        var warnings = document.getElementById('mpl-warnings');\n",
       "        if (warnings) {\n",
       "            warnings.style.display = 'block';\n",
       "            warnings.textContent =\n",
       "                'This browser does not support binary websocket messages. ' +\n",
       "                'Performance may be slow.';\n",
       "        }\n",
       "    }\n",
       "\n",
       "    this.imageObj = new Image();\n",
       "\n",
       "    this.context = undefined;\n",
       "    this.message = undefined;\n",
       "    this.canvas = undefined;\n",
       "    this.rubberband_canvas = undefined;\n",
       "    this.rubberband_context = undefined;\n",
       "    this.format_dropdown = undefined;\n",
       "\n",
       "    this.image_mode = 'full';\n",
       "\n",
       "    this.root = document.createElement('div');\n",
       "    this.root.setAttribute('style', 'display: inline-block');\n",
       "    this._root_extra_style(this.root);\n",
       "\n",
       "    parent_element.appendChild(this.root);\n",
       "\n",
       "    this._init_header(this);\n",
       "    this._init_canvas(this);\n",
       "    this._init_toolbar(this);\n",
       "\n",
       "    var fig = this;\n",
       "\n",
       "    this.waiting = false;\n",
       "\n",
       "    this.ws.onopen = function () {\n",
       "        fig.send_message('supports_binary', { value: fig.supports_binary });\n",
       "        fig.send_message('send_image_mode', {});\n",
       "        if (fig.ratio !== 1) {\n",
       "            fig.send_message('set_dpi_ratio', { dpi_ratio: fig.ratio });\n",
       "        }\n",
       "        fig.send_message('refresh', {});\n",
       "    };\n",
       "\n",
       "    this.imageObj.onload = function () {\n",
       "        if (fig.image_mode === 'full') {\n",
       "            // Full images could contain transparency (where diff images\n",
       "            // almost always do), so we need to clear the canvas so that\n",
       "            // there is no ghosting.\n",
       "            fig.context.clearRect(0, 0, fig.canvas.width, fig.canvas.height);\n",
       "        }\n",
       "        fig.context.drawImage(fig.imageObj, 0, 0);\n",
       "    };\n",
       "\n",
       "    this.imageObj.onunload = function () {\n",
       "        fig.ws.close();\n",
       "    };\n",
       "\n",
       "    this.ws.onmessage = this._make_on_message_function(this);\n",
       "\n",
       "    this.ondownload = ondownload;\n",
       "};\n",
       "\n",
       "mpl.figure.prototype._init_header = function () {\n",
       "    var titlebar = document.createElement('div');\n",
       "    titlebar.classList =\n",
       "        'ui-dialog-titlebar ui-widget-header ui-corner-all ui-helper-clearfix';\n",
       "    var titletext = document.createElement('div');\n",
       "    titletext.classList = 'ui-dialog-title';\n",
       "    titletext.setAttribute(\n",
       "        'style',\n",
       "        'width: 100%; text-align: center; padding: 3px;'\n",
       "    );\n",
       "    titlebar.appendChild(titletext);\n",
       "    this.root.appendChild(titlebar);\n",
       "    this.header = titletext;\n",
       "};\n",
       "\n",
       "mpl.figure.prototype._canvas_extra_style = function (_canvas_div) {};\n",
       "\n",
       "mpl.figure.prototype._root_extra_style = function (_canvas_div) {};\n",
       "\n",
       "mpl.figure.prototype._init_canvas = function () {\n",
       "    var fig = this;\n",
       "\n",
       "    var canvas_div = (this.canvas_div = document.createElement('div'));\n",
       "    canvas_div.setAttribute(\n",
       "        'style',\n",
       "        'border: 1px solid #ddd;' +\n",
       "            'box-sizing: content-box;' +\n",
       "            'clear: both;' +\n",
       "            'min-height: 1px;' +\n",
       "            'min-width: 1px;' +\n",
       "            'outline: 0;' +\n",
       "            'overflow: hidden;' +\n",
       "            'position: relative;' +\n",
       "            'resize: both;'\n",
       "    );\n",
       "\n",
       "    function on_keyboard_event_closure(name) {\n",
       "        return function (event) {\n",
       "            return fig.key_event(event, name);\n",
       "        };\n",
       "    }\n",
       "\n",
       "    canvas_div.addEventListener(\n",
       "        'keydown',\n",
       "        on_keyboard_event_closure('key_press')\n",
       "    );\n",
       "    canvas_div.addEventListener(\n",
       "        'keyup',\n",
       "        on_keyboard_event_closure('key_release')\n",
       "    );\n",
       "\n",
       "    this._canvas_extra_style(canvas_div);\n",
       "    this.root.appendChild(canvas_div);\n",
       "\n",
       "    var canvas = (this.canvas = document.createElement('canvas'));\n",
       "    canvas.classList.add('mpl-canvas');\n",
       "    canvas.setAttribute('style', 'box-sizing: content-box;');\n",
       "\n",
       "    this.context = canvas.getContext('2d');\n",
       "\n",
       "    var backingStore =\n",
       "        this.context.backingStorePixelRatio ||\n",
       "        this.context.webkitBackingStorePixelRatio ||\n",
       "        this.context.mozBackingStorePixelRatio ||\n",
       "        this.context.msBackingStorePixelRatio ||\n",
       "        this.context.oBackingStorePixelRatio ||\n",
       "        this.context.backingStorePixelRatio ||\n",
       "        1;\n",
       "\n",
       "    this.ratio = (window.devicePixelRatio || 1) / backingStore;\n",
       "    if (this.ratio !== 1) {\n",
       "        fig.send_message('set_dpi_ratio', { dpi_ratio: this.ratio });\n",
       "    }\n",
       "\n",
       "    var rubberband_canvas = (this.rubberband_canvas = document.createElement(\n",
       "        'canvas'\n",
       "    ));\n",
       "    rubberband_canvas.setAttribute(\n",
       "        'style',\n",
       "        'box-sizing: content-box; position: absolute; left: 0; top: 0; z-index: 1;'\n",
       "    );\n",
       "\n",
       "    var resizeObserver = new ResizeObserver(function (entries) {\n",
       "        var nentries = entries.length;\n",
       "        for (var i = 0; i < nentries; i++) {\n",
       "            var entry = entries[i];\n",
       "            var width, height;\n",
       "            if (entry.contentBoxSize) {\n",
       "                if (entry.contentBoxSize instanceof Array) {\n",
       "                    // Chrome 84 implements new version of spec.\n",
       "                    width = entry.contentBoxSize[0].inlineSize;\n",
       "                    height = entry.contentBoxSize[0].blockSize;\n",
       "                } else {\n",
       "                    // Firefox implements old version of spec.\n",
       "                    width = entry.contentBoxSize.inlineSize;\n",
       "                    height = entry.contentBoxSize.blockSize;\n",
       "                }\n",
       "            } else {\n",
       "                // Chrome <84 implements even older version of spec.\n",
       "                width = entry.contentRect.width;\n",
       "                height = entry.contentRect.height;\n",
       "            }\n",
       "\n",
       "            // Keep the size of the canvas and rubber band canvas in sync with\n",
       "            // the canvas container.\n",
       "            if (entry.devicePixelContentBoxSize) {\n",
       "                // Chrome 84 implements new version of spec.\n",
       "                canvas.setAttribute(\n",
       "                    'width',\n",
       "                    entry.devicePixelContentBoxSize[0].inlineSize\n",
       "                );\n",
       "                canvas.setAttribute(\n",
       "                    'height',\n",
       "                    entry.devicePixelContentBoxSize[0].blockSize\n",
       "                );\n",
       "            } else {\n",
       "                canvas.setAttribute('width', width * fig.ratio);\n",
       "                canvas.setAttribute('height', height * fig.ratio);\n",
       "            }\n",
       "            canvas.setAttribute(\n",
       "                'style',\n",
       "                'width: ' + width + 'px; height: ' + height + 'px;'\n",
       "            );\n",
       "\n",
       "            rubberband_canvas.setAttribute('width', width);\n",
       "            rubberband_canvas.setAttribute('height', height);\n",
       "\n",
       "            // And update the size in Python. We ignore the initial 0/0 size\n",
       "            // that occurs as the element is placed into the DOM, which should\n",
       "            // otherwise not happen due to the minimum size styling.\n",
       "            if (width != 0 && height != 0) {\n",
       "                fig.request_resize(width, height);\n",
       "            }\n",
       "        }\n",
       "    });\n",
       "    resizeObserver.observe(canvas_div);\n",
       "\n",
       "    function on_mouse_event_closure(name) {\n",
       "        return function (event) {\n",
       "            return fig.mouse_event(event, name);\n",
       "        };\n",
       "    }\n",
       "\n",
       "    rubberband_canvas.addEventListener(\n",
       "        'mousedown',\n",
       "        on_mouse_event_closure('button_press')\n",
       "    );\n",
       "    rubberband_canvas.addEventListener(\n",
       "        'mouseup',\n",
       "        on_mouse_event_closure('button_release')\n",
       "    );\n",
       "    // Throttle sequential mouse events to 1 every 20ms.\n",
       "    rubberband_canvas.addEventListener(\n",
       "        'mousemove',\n",
       "        on_mouse_event_closure('motion_notify')\n",
       "    );\n",
       "\n",
       "    rubberband_canvas.addEventListener(\n",
       "        'mouseenter',\n",
       "        on_mouse_event_closure('figure_enter')\n",
       "    );\n",
       "    rubberband_canvas.addEventListener(\n",
       "        'mouseleave',\n",
       "        on_mouse_event_closure('figure_leave')\n",
       "    );\n",
       "\n",
       "    canvas_div.addEventListener('wheel', function (event) {\n",
       "        if (event.deltaY < 0) {\n",
       "            event.step = 1;\n",
       "        } else {\n",
       "            event.step = -1;\n",
       "        }\n",
       "        on_mouse_event_closure('scroll')(event);\n",
       "    });\n",
       "\n",
       "    canvas_div.appendChild(canvas);\n",
       "    canvas_div.appendChild(rubberband_canvas);\n",
       "\n",
       "    this.rubberband_context = rubberband_canvas.getContext('2d');\n",
       "    this.rubberband_context.strokeStyle = '#000000';\n",
       "\n",
       "    this._resize_canvas = function (width, height, forward) {\n",
       "        if (forward) {\n",
       "            canvas_div.style.width = width + 'px';\n",
       "            canvas_div.style.height = height + 'px';\n",
       "        }\n",
       "    };\n",
       "\n",
       "    // Disable right mouse context menu.\n",
       "    this.rubberband_canvas.addEventListener('contextmenu', function (_e) {\n",
       "        event.preventDefault();\n",
       "        return false;\n",
       "    });\n",
       "\n",
       "    function set_focus() {\n",
       "        canvas.focus();\n",
       "        canvas_div.focus();\n",
       "    }\n",
       "\n",
       "    window.setTimeout(set_focus, 100);\n",
       "};\n",
       "\n",
       "mpl.figure.prototype._init_toolbar = function () {\n",
       "    var fig = this;\n",
       "\n",
       "    var toolbar = document.createElement('div');\n",
       "    toolbar.classList = 'mpl-toolbar';\n",
       "    this.root.appendChild(toolbar);\n",
       "\n",
       "    function on_click_closure(name) {\n",
       "        return function (_event) {\n",
       "            return fig.toolbar_button_onclick(name);\n",
       "        };\n",
       "    }\n",
       "\n",
       "    function on_mouseover_closure(tooltip) {\n",
       "        return function (event) {\n",
       "            if (!event.currentTarget.disabled) {\n",
       "                return fig.toolbar_button_onmouseover(tooltip);\n",
       "            }\n",
       "        };\n",
       "    }\n",
       "\n",
       "    fig.buttons = {};\n",
       "    var buttonGroup = document.createElement('div');\n",
       "    buttonGroup.classList = 'mpl-button-group';\n",
       "    for (var toolbar_ind in mpl.toolbar_items) {\n",
       "        var name = mpl.toolbar_items[toolbar_ind][0];\n",
       "        var tooltip = mpl.toolbar_items[toolbar_ind][1];\n",
       "        var image = mpl.toolbar_items[toolbar_ind][2];\n",
       "        var method_name = mpl.toolbar_items[toolbar_ind][3];\n",
       "\n",
       "        if (!name) {\n",
       "            /* Instead of a spacer, we start a new button group. */\n",
       "            if (buttonGroup.hasChildNodes()) {\n",
       "                toolbar.appendChild(buttonGroup);\n",
       "            }\n",
       "            buttonGroup = document.createElement('div');\n",
       "            buttonGroup.classList = 'mpl-button-group';\n",
       "            continue;\n",
       "        }\n",
       "\n",
       "        var button = (fig.buttons[name] = document.createElement('button'));\n",
       "        button.classList = 'mpl-widget';\n",
       "        button.setAttribute('role', 'button');\n",
       "        button.setAttribute('aria-disabled', 'false');\n",
       "        button.addEventListener('click', on_click_closure(method_name));\n",
       "        button.addEventListener('mouseover', on_mouseover_closure(tooltip));\n",
       "\n",
       "        var icon_img = document.createElement('img');\n",
       "        icon_img.src = '_images/' + image + '.png';\n",
       "        icon_img.srcset = '_images/' + image + '_large.png 2x';\n",
       "        icon_img.alt = tooltip;\n",
       "        button.appendChild(icon_img);\n",
       "\n",
       "        buttonGroup.appendChild(button);\n",
       "    }\n",
       "\n",
       "    if (buttonGroup.hasChildNodes()) {\n",
       "        toolbar.appendChild(buttonGroup);\n",
       "    }\n",
       "\n",
       "    var fmt_picker = document.createElement('select');\n",
       "    fmt_picker.classList = 'mpl-widget';\n",
       "    toolbar.appendChild(fmt_picker);\n",
       "    this.format_dropdown = fmt_picker;\n",
       "\n",
       "    for (var ind in mpl.extensions) {\n",
       "        var fmt = mpl.extensions[ind];\n",
       "        var option = document.createElement('option');\n",
       "        option.selected = fmt === mpl.default_extension;\n",
       "        option.innerHTML = fmt;\n",
       "        fmt_picker.appendChild(option);\n",
       "    }\n",
       "\n",
       "    var status_bar = document.createElement('span');\n",
       "    status_bar.classList = 'mpl-message';\n",
       "    toolbar.appendChild(status_bar);\n",
       "    this.message = status_bar;\n",
       "};\n",
       "\n",
       "mpl.figure.prototype.request_resize = function (x_pixels, y_pixels) {\n",
       "    // Request matplotlib to resize the figure. Matplotlib will then trigger a resize in the client,\n",
       "    // which will in turn request a refresh of the image.\n",
       "    this.send_message('resize', { width: x_pixels, height: y_pixels });\n",
       "};\n",
       "\n",
       "mpl.figure.prototype.send_message = function (type, properties) {\n",
       "    properties['type'] = type;\n",
       "    properties['figure_id'] = this.id;\n",
       "    this.ws.send(JSON.stringify(properties));\n",
       "};\n",
       "\n",
       "mpl.figure.prototype.send_draw_message = function () {\n",
       "    if (!this.waiting) {\n",
       "        this.waiting = true;\n",
       "        this.ws.send(JSON.stringify({ type: 'draw', figure_id: this.id }));\n",
       "    }\n",
       "};\n",
       "\n",
       "mpl.figure.prototype.handle_save = function (fig, _msg) {\n",
       "    var format_dropdown = fig.format_dropdown;\n",
       "    var format = format_dropdown.options[format_dropdown.selectedIndex].value;\n",
       "    fig.ondownload(fig, format);\n",
       "};\n",
       "\n",
       "mpl.figure.prototype.handle_resize = function (fig, msg) {\n",
       "    var size = msg['size'];\n",
       "    if (size[0] !== fig.canvas.width || size[1] !== fig.canvas.height) {\n",
       "        fig._resize_canvas(size[0], size[1], msg['forward']);\n",
       "        fig.send_message('refresh', {});\n",
       "    }\n",
       "};\n",
       "\n",
       "mpl.figure.prototype.handle_rubberband = function (fig, msg) {\n",
       "    var x0 = msg['x0'] / fig.ratio;\n",
       "    var y0 = (fig.canvas.height - msg['y0']) / fig.ratio;\n",
       "    var x1 = msg['x1'] / fig.ratio;\n",
       "    var y1 = (fig.canvas.height - msg['y1']) / fig.ratio;\n",
       "    x0 = Math.floor(x0) + 0.5;\n",
       "    y0 = Math.floor(y0) + 0.5;\n",
       "    x1 = Math.floor(x1) + 0.5;\n",
       "    y1 = Math.floor(y1) + 0.5;\n",
       "    var min_x = Math.min(x0, x1);\n",
       "    var min_y = Math.min(y0, y1);\n",
       "    var width = Math.abs(x1 - x0);\n",
       "    var height = Math.abs(y1 - y0);\n",
       "\n",
       "    fig.rubberband_context.clearRect(\n",
       "        0,\n",
       "        0,\n",
       "        fig.canvas.width / fig.ratio,\n",
       "        fig.canvas.height / fig.ratio\n",
       "    );\n",
       "\n",
       "    fig.rubberband_context.strokeRect(min_x, min_y, width, height);\n",
       "};\n",
       "\n",
       "mpl.figure.prototype.handle_figure_label = function (fig, msg) {\n",
       "    // Updates the figure title.\n",
       "    fig.header.textContent = msg['label'];\n",
       "};\n",
       "\n",
       "mpl.figure.prototype.handle_cursor = function (fig, msg) {\n",
       "    var cursor = msg['cursor'];\n",
       "    switch (cursor) {\n",
       "        case 0:\n",
       "            cursor = 'pointer';\n",
       "            break;\n",
       "        case 1:\n",
       "            cursor = 'default';\n",
       "            break;\n",
       "        case 2:\n",
       "            cursor = 'crosshair';\n",
       "            break;\n",
       "        case 3:\n",
       "            cursor = 'move';\n",
       "            break;\n",
       "    }\n",
       "    fig.rubberband_canvas.style.cursor = cursor;\n",
       "};\n",
       "\n",
       "mpl.figure.prototype.handle_message = function (fig, msg) {\n",
       "    fig.message.textContent = msg['message'];\n",
       "};\n",
       "\n",
       "mpl.figure.prototype.handle_draw = function (fig, _msg) {\n",
       "    // Request the server to send over a new figure.\n",
       "    fig.send_draw_message();\n",
       "};\n",
       "\n",
       "mpl.figure.prototype.handle_image_mode = function (fig, msg) {\n",
       "    fig.image_mode = msg['mode'];\n",
       "};\n",
       "\n",
       "mpl.figure.prototype.handle_history_buttons = function (fig, msg) {\n",
       "    for (var key in msg) {\n",
       "        if (!(key in fig.buttons)) {\n",
       "            continue;\n",
       "        }\n",
       "        fig.buttons[key].disabled = !msg[key];\n",
       "        fig.buttons[key].setAttribute('aria-disabled', !msg[key]);\n",
       "    }\n",
       "};\n",
       "\n",
       "mpl.figure.prototype.handle_navigate_mode = function (fig, msg) {\n",
       "    if (msg['mode'] === 'PAN') {\n",
       "        fig.buttons['Pan'].classList.add('active');\n",
       "        fig.buttons['Zoom'].classList.remove('active');\n",
       "    } else if (msg['mode'] === 'ZOOM') {\n",
       "        fig.buttons['Pan'].classList.remove('active');\n",
       "        fig.buttons['Zoom'].classList.add('active');\n",
       "    } else {\n",
       "        fig.buttons['Pan'].classList.remove('active');\n",
       "        fig.buttons['Zoom'].classList.remove('active');\n",
       "    }\n",
       "};\n",
       "\n",
       "mpl.figure.prototype.updated_canvas_event = function () {\n",
       "    // Called whenever the canvas gets updated.\n",
       "    this.send_message('ack', {});\n",
       "};\n",
       "\n",
       "// A function to construct a web socket function for onmessage handling.\n",
       "// Called in the figure constructor.\n",
       "mpl.figure.prototype._make_on_message_function = function (fig) {\n",
       "    return function socket_on_message(evt) {\n",
       "        if (evt.data instanceof Blob) {\n",
       "            /* FIXME: We get \"Resource interpreted as Image but\n",
       "             * transferred with MIME type text/plain:\" errors on\n",
       "             * Chrome.  But how to set the MIME type?  It doesn't seem\n",
       "             * to be part of the websocket stream */\n",
       "            evt.data.type = 'image/png';\n",
       "\n",
       "            /* Free the memory for the previous frames */\n",
       "            if (fig.imageObj.src) {\n",
       "                (window.URL || window.webkitURL).revokeObjectURL(\n",
       "                    fig.imageObj.src\n",
       "                );\n",
       "            }\n",
       "\n",
       "            fig.imageObj.src = (window.URL || window.webkitURL).createObjectURL(\n",
       "                evt.data\n",
       "            );\n",
       "            fig.updated_canvas_event();\n",
       "            fig.waiting = false;\n",
       "            return;\n",
       "        } else if (\n",
       "            typeof evt.data === 'string' &&\n",
       "            evt.data.slice(0, 21) === 'data:image/png;base64'\n",
       "        ) {\n",
       "            fig.imageObj.src = evt.data;\n",
       "            fig.updated_canvas_event();\n",
       "            fig.waiting = false;\n",
       "            return;\n",
       "        }\n",
       "\n",
       "        var msg = JSON.parse(evt.data);\n",
       "        var msg_type = msg['type'];\n",
       "\n",
       "        // Call the  \"handle_{type}\" callback, which takes\n",
       "        // the figure and JSON message as its only arguments.\n",
       "        try {\n",
       "            var callback = fig['handle_' + msg_type];\n",
       "        } catch (e) {\n",
       "            console.log(\n",
       "                \"No handler for the '\" + msg_type + \"' message type: \",\n",
       "                msg\n",
       "            );\n",
       "            return;\n",
       "        }\n",
       "\n",
       "        if (callback) {\n",
       "            try {\n",
       "                // console.log(\"Handling '\" + msg_type + \"' message: \", msg);\n",
       "                callback(fig, msg);\n",
       "            } catch (e) {\n",
       "                console.log(\n",
       "                    \"Exception inside the 'handler_\" + msg_type + \"' callback:\",\n",
       "                    e,\n",
       "                    e.stack,\n",
       "                    msg\n",
       "                );\n",
       "            }\n",
       "        }\n",
       "    };\n",
       "};\n",
       "\n",
       "// from http://stackoverflow.com/questions/1114465/getting-mouse-location-in-canvas\n",
       "mpl.findpos = function (e) {\n",
       "    //this section is from http://www.quirksmode.org/js/events_properties.html\n",
       "    var targ;\n",
       "    if (!e) {\n",
       "        e = window.event;\n",
       "    }\n",
       "    if (e.target) {\n",
       "        targ = e.target;\n",
       "    } else if (e.srcElement) {\n",
       "        targ = e.srcElement;\n",
       "    }\n",
       "    if (targ.nodeType === 3) {\n",
       "        // defeat Safari bug\n",
       "        targ = targ.parentNode;\n",
       "    }\n",
       "\n",
       "    // pageX,Y are the mouse positions relative to the document\n",
       "    var boundingRect = targ.getBoundingClientRect();\n",
       "    var x = e.pageX - (boundingRect.left + document.body.scrollLeft);\n",
       "    var y = e.pageY - (boundingRect.top + document.body.scrollTop);\n",
       "\n",
       "    return { x: x, y: y };\n",
       "};\n",
       "\n",
       "/*\n",
       " * return a copy of an object with only non-object keys\n",
       " * we need this to avoid circular references\n",
       " * http://stackoverflow.com/a/24161582/3208463\n",
       " */\n",
       "function simpleKeys(original) {\n",
       "    return Object.keys(original).reduce(function (obj, key) {\n",
       "        if (typeof original[key] !== 'object') {\n",
       "            obj[key] = original[key];\n",
       "        }\n",
       "        return obj;\n",
       "    }, {});\n",
       "}\n",
       "\n",
       "mpl.figure.prototype.mouse_event = function (event, name) {\n",
       "    var canvas_pos = mpl.findpos(event);\n",
       "\n",
       "    if (name === 'button_press') {\n",
       "        this.canvas.focus();\n",
       "        this.canvas_div.focus();\n",
       "    }\n",
       "\n",
       "    var x = canvas_pos.x * this.ratio;\n",
       "    var y = canvas_pos.y * this.ratio;\n",
       "\n",
       "    this.send_message(name, {\n",
       "        x: x,\n",
       "        y: y,\n",
       "        button: event.button,\n",
       "        step: event.step,\n",
       "        guiEvent: simpleKeys(event),\n",
       "    });\n",
       "\n",
       "    /* This prevents the web browser from automatically changing to\n",
       "     * the text insertion cursor when the button is pressed.  We want\n",
       "     * to control all of the cursor setting manually through the\n",
       "     * 'cursor' event from matplotlib */\n",
       "    event.preventDefault();\n",
       "    return false;\n",
       "};\n",
       "\n",
       "mpl.figure.prototype._key_event_extra = function (_event, _name) {\n",
       "    // Handle any extra behaviour associated with a key event\n",
       "};\n",
       "\n",
       "mpl.figure.prototype.key_event = function (event, name) {\n",
       "    // Prevent repeat events\n",
       "    if (name === 'key_press') {\n",
       "        if (event.which === this._key) {\n",
       "            return;\n",
       "        } else {\n",
       "            this._key = event.which;\n",
       "        }\n",
       "    }\n",
       "    if (name === 'key_release') {\n",
       "        this._key = null;\n",
       "    }\n",
       "\n",
       "    var value = '';\n",
       "    if (event.ctrlKey && event.which !== 17) {\n",
       "        value += 'ctrl+';\n",
       "    }\n",
       "    if (event.altKey && event.which !== 18) {\n",
       "        value += 'alt+';\n",
       "    }\n",
       "    if (event.shiftKey && event.which !== 16) {\n",
       "        value += 'shift+';\n",
       "    }\n",
       "\n",
       "    value += 'k';\n",
       "    value += event.which.toString();\n",
       "\n",
       "    this._key_event_extra(event, name);\n",
       "\n",
       "    this.send_message(name, { key: value, guiEvent: simpleKeys(event) });\n",
       "    return false;\n",
       "};\n",
       "\n",
       "mpl.figure.prototype.toolbar_button_onclick = function (name) {\n",
       "    if (name === 'download') {\n",
       "        this.handle_save(this, null);\n",
       "    } else {\n",
       "        this.send_message('toolbar_button', { name: name });\n",
       "    }\n",
       "};\n",
       "\n",
       "mpl.figure.prototype.toolbar_button_onmouseover = function (tooltip) {\n",
       "    this.message.textContent = tooltip;\n",
       "};\n",
       "mpl.toolbar_items = [[\"Home\", \"Reset original view\", \"fa fa-home icon-home\", \"home\"], [\"Back\", \"Back to previous view\", \"fa fa-arrow-left icon-arrow-left\", \"back\"], [\"Forward\", \"Forward to next view\", \"fa fa-arrow-right icon-arrow-right\", \"forward\"], [\"\", \"\", \"\", \"\"], [\"Pan\", \"Left button pans, Right button zooms\\nx/y fixes axis, CTRL fixes aspect\", \"fa fa-arrows icon-move\", \"pan\"], [\"Zoom\", \"Zoom to rectangle\\nx/y fixes axis, CTRL fixes aspect\", \"fa fa-square-o icon-check-empty\", \"zoom\"], [\"\", \"\", \"\", \"\"], [\"Download\", \"Download plot\", \"fa fa-floppy-o icon-save\", \"download\"]];\n",
       "\n",
       "mpl.extensions = [\"eps\", \"jpeg\", \"pdf\", \"png\", \"ps\", \"raw\", \"svg\", \"tif\"];\n",
       "\n",
       "mpl.default_extension = \"png\";/* global mpl */\n",
       "\n",
       "var comm_websocket_adapter = function (comm) {\n",
       "    // Create a \"websocket\"-like object which calls the given IPython comm\n",
       "    // object with the appropriate methods. Currently this is a non binary\n",
       "    // socket, so there is still some room for performance tuning.\n",
       "    var ws = {};\n",
       "\n",
       "    ws.close = function () {\n",
       "        comm.close();\n",
       "    };\n",
       "    ws.send = function (m) {\n",
       "        //console.log('sending', m);\n",
       "        comm.send(m);\n",
       "    };\n",
       "    // Register the callback with on_msg.\n",
       "    comm.on_msg(function (msg) {\n",
       "        //console.log('receiving', msg['content']['data'], msg);\n",
       "        // Pass the mpl event to the overridden (by mpl) onmessage function.\n",
       "        ws.onmessage(msg['content']['data']);\n",
       "    });\n",
       "    return ws;\n",
       "};\n",
       "\n",
       "mpl.mpl_figure_comm = function (comm, msg) {\n",
       "    // This is the function which gets called when the mpl process\n",
       "    // starts-up an IPython Comm through the \"matplotlib\" channel.\n",
       "\n",
       "    var id = msg.content.data.id;\n",
       "    // Get hold of the div created by the display call when the Comm\n",
       "    // socket was opened in Python.\n",
       "    var element = document.getElementById(id);\n",
       "    var ws_proxy = comm_websocket_adapter(comm);\n",
       "\n",
       "    function ondownload(figure, _format) {\n",
       "        window.open(figure.canvas.toDataURL());\n",
       "    }\n",
       "\n",
       "    var fig = new mpl.figure(id, ws_proxy, ondownload, element);\n",
       "\n",
       "    // Call onopen now - mpl needs it, as it is assuming we've passed it a real\n",
       "    // web socket which is closed, not our websocket->open comm proxy.\n",
       "    ws_proxy.onopen();\n",
       "\n",
       "    fig.parent_element = element;\n",
       "    fig.cell_info = mpl.find_output_cell(\"<div id='\" + id + \"'></div>\");\n",
       "    if (!fig.cell_info) {\n",
       "        console.error('Failed to find cell for figure', id, fig);\n",
       "        return;\n",
       "    }\n",
       "    fig.cell_info[0].output_area.element.one(\n",
       "        'cleared',\n",
       "        { fig: fig },\n",
       "        fig._remove_fig_handler\n",
       "    );\n",
       "};\n",
       "\n",
       "mpl.figure.prototype.handle_close = function (fig, msg) {\n",
       "    var width = fig.canvas.width / fig.ratio;\n",
       "    fig.cell_info[0].output_area.element.off(\n",
       "        'cleared',\n",
       "        fig._remove_fig_handler\n",
       "    );\n",
       "\n",
       "    // Update the output cell to use the data from the current canvas.\n",
       "    fig.push_to_output();\n",
       "    var dataURL = fig.canvas.toDataURL();\n",
       "    // Re-enable the keyboard manager in IPython - without this line, in FF,\n",
       "    // the notebook keyboard shortcuts fail.\n",
       "    IPython.keyboard_manager.enable();\n",
       "    fig.parent_element.innerHTML =\n",
       "        '<img src=\"' + dataURL + '\" width=\"' + width + '\">';\n",
       "    fig.close_ws(fig, msg);\n",
       "};\n",
       "\n",
       "mpl.figure.prototype.close_ws = function (fig, msg) {\n",
       "    fig.send_message('closing', msg);\n",
       "    // fig.ws.close()\n",
       "};\n",
       "\n",
       "mpl.figure.prototype.push_to_output = function (_remove_interactive) {\n",
       "    // Turn the data on the canvas into data in the output cell.\n",
       "    var width = this.canvas.width / this.ratio;\n",
       "    var dataURL = this.canvas.toDataURL();\n",
       "    this.cell_info[1]['text/html'] =\n",
       "        '<img src=\"' + dataURL + '\" width=\"' + width + '\">';\n",
       "};\n",
       "\n",
       "mpl.figure.prototype.updated_canvas_event = function () {\n",
       "    // Tell IPython that the notebook contents must change.\n",
       "    IPython.notebook.set_dirty(true);\n",
       "    this.send_message('ack', {});\n",
       "    var fig = this;\n",
       "    // Wait a second, then push the new image to the DOM so\n",
       "    // that it is saved nicely (might be nice to debounce this).\n",
       "    setTimeout(function () {\n",
       "        fig.push_to_output();\n",
       "    }, 1000);\n",
       "};\n",
       "\n",
       "mpl.figure.prototype._init_toolbar = function () {\n",
       "    var fig = this;\n",
       "\n",
       "    var toolbar = document.createElement('div');\n",
       "    toolbar.classList = 'btn-toolbar';\n",
       "    this.root.appendChild(toolbar);\n",
       "\n",
       "    function on_click_closure(name) {\n",
       "        return function (_event) {\n",
       "            return fig.toolbar_button_onclick(name);\n",
       "        };\n",
       "    }\n",
       "\n",
       "    function on_mouseover_closure(tooltip) {\n",
       "        return function (event) {\n",
       "            if (!event.currentTarget.disabled) {\n",
       "                return fig.toolbar_button_onmouseover(tooltip);\n",
       "            }\n",
       "        };\n",
       "    }\n",
       "\n",
       "    fig.buttons = {};\n",
       "    var buttonGroup = document.createElement('div');\n",
       "    buttonGroup.classList = 'btn-group';\n",
       "    var button;\n",
       "    for (var toolbar_ind in mpl.toolbar_items) {\n",
       "        var name = mpl.toolbar_items[toolbar_ind][0];\n",
       "        var tooltip = mpl.toolbar_items[toolbar_ind][1];\n",
       "        var image = mpl.toolbar_items[toolbar_ind][2];\n",
       "        var method_name = mpl.toolbar_items[toolbar_ind][3];\n",
       "\n",
       "        if (!name) {\n",
       "            /* Instead of a spacer, we start a new button group. */\n",
       "            if (buttonGroup.hasChildNodes()) {\n",
       "                toolbar.appendChild(buttonGroup);\n",
       "            }\n",
       "            buttonGroup = document.createElement('div');\n",
       "            buttonGroup.classList = 'btn-group';\n",
       "            continue;\n",
       "        }\n",
       "\n",
       "        button = fig.buttons[name] = document.createElement('button');\n",
       "        button.classList = 'btn btn-default';\n",
       "        button.href = '#';\n",
       "        button.title = name;\n",
       "        button.innerHTML = '<i class=\"fa ' + image + ' fa-lg\"></i>';\n",
       "        button.addEventListener('click', on_click_closure(method_name));\n",
       "        button.addEventListener('mouseover', on_mouseover_closure(tooltip));\n",
       "        buttonGroup.appendChild(button);\n",
       "    }\n",
       "\n",
       "    if (buttonGroup.hasChildNodes()) {\n",
       "        toolbar.appendChild(buttonGroup);\n",
       "    }\n",
       "\n",
       "    // Add the status bar.\n",
       "    var status_bar = document.createElement('span');\n",
       "    status_bar.classList = 'mpl-message pull-right';\n",
       "    toolbar.appendChild(status_bar);\n",
       "    this.message = status_bar;\n",
       "\n",
       "    // Add the close button to the window.\n",
       "    var buttongrp = document.createElement('div');\n",
       "    buttongrp.classList = 'btn-group inline pull-right';\n",
       "    button = document.createElement('button');\n",
       "    button.classList = 'btn btn-mini btn-primary';\n",
       "    button.href = '#';\n",
       "    button.title = 'Stop Interaction';\n",
       "    button.innerHTML = '<i class=\"fa fa-power-off icon-remove icon-large\"></i>';\n",
       "    button.addEventListener('click', function (_evt) {\n",
       "        fig.handle_close(fig, {});\n",
       "    });\n",
       "    button.addEventListener(\n",
       "        'mouseover',\n",
       "        on_mouseover_closure('Stop Interaction')\n",
       "    );\n",
       "    buttongrp.appendChild(button);\n",
       "    var titlebar = this.root.querySelector('.ui-dialog-titlebar');\n",
       "    titlebar.insertBefore(buttongrp, titlebar.firstChild);\n",
       "};\n",
       "\n",
       "mpl.figure.prototype._remove_fig_handler = function (event) {\n",
       "    var fig = event.data.fig;\n",
       "    fig.close_ws(fig, {});\n",
       "};\n",
       "\n",
       "mpl.figure.prototype._root_extra_style = function (el) {\n",
       "    el.style.boxSizing = 'content-box'; // override notebook setting of border-box.\n",
       "};\n",
       "\n",
       "mpl.figure.prototype._canvas_extra_style = function (el) {\n",
       "    // this is important to make the div 'focusable\n",
       "    el.setAttribute('tabindex', 0);\n",
       "    // reach out to IPython and tell the keyboard manager to turn it's self\n",
       "    // off when our div gets focus\n",
       "\n",
       "    // location in version 3\n",
       "    if (IPython.notebook.keyboard_manager) {\n",
       "        IPython.notebook.keyboard_manager.register_events(el);\n",
       "    } else {\n",
       "        // location in version 2\n",
       "        IPython.keyboard_manager.register_events(el);\n",
       "    }\n",
       "};\n",
       "\n",
       "mpl.figure.prototype._key_event_extra = function (event, _name) {\n",
       "    var manager = IPython.notebook.keyboard_manager;\n",
       "    if (!manager) {\n",
       "        manager = IPython.keyboard_manager;\n",
       "    }\n",
       "\n",
       "    // Check for shift+enter\n",
       "    if (event.shiftKey && event.which === 13) {\n",
       "        this.canvas_div.blur();\n",
       "        // select the cell after this one\n",
       "        var index = IPython.notebook.find_cell_index(this.cell_info[0]);\n",
       "        IPython.notebook.select(index + 1);\n",
       "    }\n",
       "};\n",
       "\n",
       "mpl.figure.prototype.handle_save = function (fig, _msg) {\n",
       "    fig.ondownload(fig, null);\n",
       "};\n",
       "\n",
       "mpl.find_output_cell = function (html_output) {\n",
       "    // Return the cell and output element which can be found *uniquely* in the notebook.\n",
       "    // Note - this is a bit hacky, but it is done because the \"notebook_saving.Notebook\"\n",
       "    // IPython event is triggered only after the cells have been serialised, which for\n",
       "    // our purposes (turning an active figure into a static one), is too late.\n",
       "    var cells = IPython.notebook.get_cells();\n",
       "    var ncells = cells.length;\n",
       "    for (var i = 0; i < ncells; i++) {\n",
       "        var cell = cells[i];\n",
       "        if (cell.cell_type === 'code') {\n",
       "            for (var j = 0; j < cell.output_area.outputs.length; j++) {\n",
       "                var data = cell.output_area.outputs[j];\n",
       "                if (data.data) {\n",
       "                    // IPython >= 3 moved mimebundle to data attribute of output\n",
       "                    data = data.data;\n",
       "                }\n",
       "                if (data['text/html'] === html_output) {\n",
       "                    return [cell, data, j];\n",
       "                }\n",
       "            }\n",
       "        }\n",
       "    }\n",
       "};\n",
       "\n",
       "// Register the function which deals with the matplotlib target/channel.\n",
       "// The kernel may be null if the page has been refreshed.\n",
       "if (IPython.notebook.kernel !== null) {\n",
       "    IPython.notebook.kernel.comm_manager.register_target(\n",
       "        'matplotlib',\n",
       "        mpl.mpl_figure_comm\n",
       "    );\n",
       "}\n"
      ],
      "text/plain": [
       "<IPython.core.display.Javascript object>"
      ]
     },
     "metadata": {},
     "output_type": "display_data"
    },
    {
     "data": {
      "text/html": [
       "<img src=\"data:image/png;base64,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\" width=\"500\">"
      ],
      "text/plain": [
       "<IPython.core.display.HTML object>"
      ]
     },
     "metadata": {},
     "output_type": "display_data"
    }
   ],
   "source": [
    "import sympy as sp\n",
    "from sympy import Matrix, diff, simplify, integrate, lambdify\n",
    "import numpy as np\n",
    "X1,X2,X3 = sp.symbols(\"X_1 X_2 X_3\")\n",
    "import matplotlib.pyplot as plt\n",
    "X = Matrix([X1,X2,X3])\n",
    "x1 = X1+0.001*X2+0.0002*X1**2\n",
    "x2 = 1.001*X2-0.0002*X2**2\n",
    "x3 = X3\n",
    "x = Matrix([x1,x2,x3])\n",
    "u = x-X\n",
    "display(\"u =\",u)\n",
    "gradu = Matrix([[diff(i,j) for j in X] for i in u])\n",
    "display(\"\\u2207u =\",gradu)\n",
    "esmall = 1/2*(gradu+gradu.T)\n",
    "display(\"\\u03B5 =\",esmall)\n",
    "strainvector = Matrix([esmall[0,0], esmall[1,1], esmall[2,2], \n",
    "               2*esmall[0,1], 2*esmall[0,2], 2*esmall[1,2]])\n",
    "display(\"Strain vector =\",strainvector)\n",
    "Ee = 210000\n",
    "Nu = 0.3\n",
    "G = Ee/2/(1+Nu)\n",
    "Cc = Matrix([[1/Ee,-Nu/Ee,-Nu/Ee,0,0,0], \n",
    "      [-Nu/Ee,1/Ee,-Nu/Ee,0,0,0],\n",
    "      [-Nu/Ee,-Nu/Ee,1/Ee,0,0,0],\n",
    "      [0,0,0,1/G,0,0],\n",
    "      [0,0,0,0,1/G,0],\n",
    "      [0,0,0,0,0,1/G]])\n",
    "Dd = Cc.inv()\n",
    "stressvector = Dd*strainvector\n",
    "display(\"Stress vector =\",stressvector)\n",
    "S = Matrix([[stressvector[0], stressvector[3], stressvector[4]],\n",
    "            [stressvector[3], stressvector[1], stressvector[5]],\n",
    "            [stressvector[4], stressvector[5], stressvector[2]]])\n",
    "display(\"Stress Matrix =\",S)\n",
    "StrainEnergy = simplify(sum([S[i]*esmall[i]/2 for i in range(9)]))\n",
    "display(\"Strain energy (U) =\",StrainEnergy)\n",
    "TotalEnergy = integrate(StrainEnergy,(X1,0,2),(X2,0,1),(X3,0,0.01))\n",
    "display(\"Total Energy =\",TotalEnergy)\n",
    "Udeviatoric = simplify(1/12/G*((S[0,0]-S[1,1])**2 + (S[2,2]- \n",
    "                  S[1,1])**2 + (S[0,0] - S[2,2])**2 + \n",
    "                  6*(S[0,1]**2 + S[0,2]**2 + S[1,2]**2)))\n",
    "display(\"U_deviatoric =\",Udeviatoric)\n",
    "Uvolumetric = simplify((1-2*Nu)/6/Ee*(S[0,0]+S[1,1]+S[2,2])**2)\n",
    "display(\"U_volumetric =\",Uvolumetric)\n",
    "display(\"Check for energy total:\",simplify(StrainEnergy-Udeviatoric-Uvolumetric))\n",
    "display(\"Contour plots:\")\n",
    "def plot(f, limits, title):\n",
    "    x1, xn, y1, yn = limits\n",
    "    dx, dy = 10/100*(xn-x1),10/100*(yn-y1)\n",
    "    xrange = np.arange(x1,xn,dx)\n",
    "    yrange = np.arange(y1,yn,dy)\n",
    "    X, Y = np.meshgrid(xrange, yrange)\n",
    "    lx, ly = len(xrange), len(yrange)\n",
    "    F = lambdify((X1,X2),f)\n",
    "    Z = F(X,Y)*np.ones(lx*ly).reshape(lx, ly)\n",
    "    fig = plt.figure(figsize = (5,2))\n",
    "    ax = fig.add_subplot(111)\n",
    "    cp = ax.contourf(X,Y,Z)\n",
    "    fig.colorbar(cp)\n",
    "    plt.title(title)\n",
    "plot(StrainEnergy, [0,2,0,1],\"StrainEnergy MN m/m^3\")\n",
    "plot(Udeviatoric, [0,2,0,1],\"Deviatoric StrainEnergy MN m/m^3\")\n",
    "plot(Uvolumetric, [0,2,0,1],\"Volumetric StrainEnergy MN m/m^3\")"
   ]
  }
 ],
 "metadata": {
  "kernelspec": {
   "display_name": "Python 3",
   "language": "python",
   "name": "python3"
  },
  "language_info": {
   "codemirror_mode": {
    "name": "ipython",
    "version": 3
   },
   "file_extension": ".py",
   "mimetype": "text/x-python",
   "name": "python",
   "nbconvert_exporter": "python",
   "pygments_lexer": "ipython3",
   "version": "3.8.5"
  }
 },
 "nbformat": 4,
 "nbformat_minor": 4
}
