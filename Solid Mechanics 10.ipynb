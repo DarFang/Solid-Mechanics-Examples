{
 "cells": [
  {
   "cell_type": "markdown",
   "metadata": {},
   "source": [
    "https://engcourses-uofa.ca/books/introduction-to-solid-mechanics/variational-principles/the-principle-of-virtual-work/illustrative-examples-for-the-principle-of-virtual-work/"
   ]
  },
  {
   "cell_type": "markdown",
   "metadata": {},
   "source": [
    "10.1.3.1"
   ]
  },
  {
   "cell_type": "code",
   "execution_count": 1,
   "metadata": {
    "scrolled": false
   },
   "outputs": [
    {
     "data": {
      "text/plain": [
       "'ρb_1 ='"
      ]
     },
     "metadata": {},
     "output_type": "display_data"
    },
    {
     "data": {
      "text/latex": [
       "$\\displaystyle - x_{2}$"
      ],
      "text/plain": [
       "-x_2"
      ]
     },
     "metadata": {},
     "output_type": "display_data"
    },
    {
     "data": {
      "text/plain": [
       "'ρb_2 ='"
      ]
     },
     "metadata": {},
     "output_type": "display_data"
    },
    {
     "data": {
      "text/latex": [
       "$\\displaystyle 0$"
      ],
      "text/plain": [
       "0"
      ]
     },
     "metadata": {},
     "output_type": "display_data"
    },
    {
     "data": {
      "text/plain": [
       "'ρb_3 ='"
      ]
     },
     "metadata": {},
     "output_type": "display_data"
    },
    {
     "data": {
      "text/latex": [
       "$\\displaystyle 0$"
      ],
      "text/plain": [
       "0"
      ]
     },
     "metadata": {},
     "output_type": "display_data"
    },
    {
     "data": {
      "text/plain": [
       "'u* ='"
      ]
     },
     "metadata": {},
     "output_type": "display_data"
    },
    {
     "data": {
      "text/latex": [
       "$\\displaystyle \\left[\\begin{matrix}a x_{1} + b x_{2}\\\\0\\end{matrix}\\right]$"
      ],
      "text/plain": [
       "Matrix([\n",
       "[a*x_1 + b*x_2],\n",
       "[            0]])"
      ]
     },
     "metadata": {},
     "output_type": "display_data"
    },
    {
     "data": {
      "text/plain": [
       "'∇u* ='"
      ]
     },
     "metadata": {},
     "output_type": "display_data"
    },
    {
     "data": {
      "text/latex": [
       "$\\displaystyle \\left[\\begin{matrix}a & b\\\\0 & 0\\end{matrix}\\right]$"
      ],
      "text/plain": [
       "Matrix([\n",
       "[a, b],\n",
       "[0, 0]])"
      ]
     },
     "metadata": {},
     "output_type": "display_data"
    },
    {
     "data": {
      "text/plain": [
       "'t_A ='"
      ]
     },
     "metadata": {},
     "output_type": "display_data"
    },
    {
     "data": {
      "text/latex": [
       "$\\displaystyle \\left[\\begin{matrix}2 x_{2}\\\\5\\end{matrix}\\right]$"
      ],
      "text/plain": [
       "Matrix([\n",
       "[2*x_2],\n",
       "[    5]])"
      ]
     },
     "metadata": {},
     "output_type": "display_data"
    },
    {
     "data": {
      "text/plain": [
       "'t_B ='"
      ]
     },
     "metadata": {},
     "output_type": "display_data"
    },
    {
     "data": {
      "text/latex": [
       "$\\displaystyle \\left[\\begin{matrix}5\\\\x_{1}\\end{matrix}\\right]$"
      ],
      "text/plain": [
       "Matrix([\n",
       "[  5],\n",
       "[x_1]])"
      ]
     },
     "metadata": {},
     "output_type": "display_data"
    },
    {
     "data": {
      "text/plain": [
       "'t_C ='"
      ]
     },
     "metadata": {},
     "output_type": "display_data"
    },
    {
     "data": {
      "text/latex": [
       "$\\displaystyle \\left[\\begin{matrix}0\\\\-5\\end{matrix}\\right]$"
      ],
      "text/plain": [
       "Matrix([\n",
       "[ 0],\n",
       "[-5]])"
      ]
     },
     "metadata": {},
     "output_type": "display_data"
    },
    {
     "data": {
      "text/plain": [
       "'t_D ='"
      ]
     },
     "metadata": {},
     "output_type": "display_data"
    },
    {
     "data": {
      "text/latex": [
       "$\\displaystyle \\left[\\begin{matrix}-5\\\\- x_{1}\\end{matrix}\\right]$"
      ],
      "text/plain": [
       "Matrix([\n",
       "[  -5],\n",
       "[-x_1]])"
      ]
     },
     "metadata": {},
     "output_type": "display_data"
    },
    {
     "data": {
      "text/plain": [
       "'ε* ='"
      ]
     },
     "metadata": {},
     "output_type": "display_data"
    },
    {
     "data": {
      "text/latex": [
       "$\\displaystyle \\left[\\begin{matrix}a & \\frac{b}{2}\\\\\\frac{b}{2} & 0\\end{matrix}\\right]$"
      ],
      "text/plain": [
       "Matrix([\n",
       "[  a, b/2],\n",
       "[b/2,   0]])"
      ]
     },
     "metadata": {},
     "output_type": "display_data"
    },
    {
     "data": {
      "text/plain": [
       "'ststrain ='"
      ]
     },
     "metadata": {},
     "output_type": "display_data"
    },
    {
     "data": {
      "text/latex": [
       "$\\displaystyle a x_{1} x_{2} + 5 b$"
      ],
      "text/plain": [
       "a*x_1*x_2 + 5*b"
      ]
     },
     "metadata": {},
     "output_type": "display_data"
    },
    {
     "data": {
      "text/plain": [
       "'Internal Virtual Work ='"
      ]
     },
     "metadata": {},
     "output_type": "display_data"
    },
    {
     "data": {
      "text/latex": [
       "$\\displaystyle t \\left(a + 10 b\\right)$"
      ],
      "text/plain": [
       "t*(a + 10*b)"
      ]
     },
     "metadata": {},
     "output_type": "display_data"
    },
    {
     "data": {
      "text/plain": [
       "'External Virtual Work|_{Body Forces} ='"
      ]
     },
     "metadata": {},
     "output_type": "display_data"
    },
    {
     "data": {
      "text/latex": [
       "$\\displaystyle t \\left(- a - \\frac{2 b}{3}\\right)$"
      ],
      "text/plain": [
       "t*(-a - 2*b/3)"
      ]
     },
     "metadata": {},
     "output_type": "display_data"
    },
    {
     "data": {
      "text/plain": [
       "'External Virtual Work|_A ='"
      ]
     },
     "metadata": {},
     "output_type": "display_data"
    },
    {
     "data": {
      "text/latex": [
       "$\\displaystyle t \\left(2 a + \\frac{2 b}{3}\\right)$"
      ],
      "text/plain": [
       "t*(2*a + 2*b/3)"
      ]
     },
     "metadata": {},
     "output_type": "display_data"
    },
    {
     "data": {
      "text/plain": [
       "'External Virtual Work|_B ='"
      ]
     },
     "metadata": {},
     "output_type": "display_data"
    },
    {
     "data": {
      "text/latex": [
       "$\\displaystyle t \\left(10 a + 10 b\\right)$"
      ],
      "text/plain": [
       "t*(10*a + 10*b)"
      ]
     },
     "metadata": {},
     "output_type": "display_data"
    },
    {
     "data": {
      "text/plain": [
       "'External Virtual Work|_C ='"
      ]
     },
     "metadata": {},
     "output_type": "display_data"
    },
    {
     "data": {
      "text/latex": [
       "$\\displaystyle 0$"
      ],
      "text/plain": [
       "0"
      ]
     },
     "metadata": {},
     "output_type": "display_data"
    },
    {
     "data": {
      "text/plain": [
       "'External Virtual Work|_D ='"
      ]
     },
     "metadata": {},
     "output_type": "display_data"
    },
    {
     "data": {
      "text/latex": [
       "$\\displaystyle - 10 a t$"
      ],
      "text/plain": [
       "-10*a*t"
      ]
     },
     "metadata": {},
     "output_type": "display_data"
    },
    {
     "data": {
      "text/plain": [
       "'External Virtual Work = Internal Virtual Work ='"
      ]
     },
     "metadata": {},
     "output_type": "display_data"
    },
    {
     "data": {
      "text/latex": [
       "$\\displaystyle t \\left(a + 10 b\\right)$"
      ],
      "text/plain": [
       "t*(a + 10*b)"
      ]
     },
     "metadata": {},
     "output_type": "display_data"
    }
   ],
   "source": [
    "import sympy as sp\n",
    "from sympy import Matrix, diff, integrate, simplify\n",
    "x1,x2,x3 = sp.symbols(\"x_1 x_2 x_3\")\n",
    "s = Matrix([[x1*x2,5,0],[5,x1,0],[0,0,0]])\n",
    "x = Matrix([[x1,x2,x3]])\n",
    "pb1,pb2,pb3 =[-sum([diff(s[i,j],x[i]) for i in range(3)]) for j in range(3)]\n",
    "display(\"\\u03C1b_1 =\",pb1)\n",
    "display(\"\\u03C1b_2 =\",pb2)\n",
    "display(\"\\u03C1b_3 =\",pb3)\n",
    "a,b,t = sp.symbols(\"a b t\")\n",
    "ustar = Matrix([a*x1 + b*x2, 0])\n",
    "display(\"u* =\",ustar)\n",
    "gradustar = Matrix([[diff(i,j) for j in x[:2]]for i in ustar])\n",
    "display(\"\\u2207u* =\",gradustar)\n",
    "ustara = ustar.subs({x1:2})\n",
    "ustarb = ustar.subs({x2:1})\n",
    "ustarc = ustar.subs({x1:0})\n",
    "ustard = ustar.subs({x2:0})\n",
    "s = Matrix([[x1*x2,5],[5,x1]])\n",
    "na = Matrix([1,0])\n",
    "nb = Matrix([0,1])\n",
    "nc = Matrix([-1,0])\n",
    "nd = Matrix([0,-1])\n",
    "ta = (s*na).subs({x1:2})\n",
    "tb = (s*nb).subs({x2:1})\n",
    "tc = (s*nc).subs({x1:0})\n",
    "td = (s*nd).subs({x2:0})\n",
    "display(\"t_A =\",ta,\"t_B =\",tb,\"t_C =\",tc,\"t_D =\",td)\n",
    "estar = sp.Rational(\"1/2\")*(gradustar+gradustar.T)\n",
    "display(\"\\u03B5* =\",estar)\n",
    "ststrain = sum([s[i]*estar[i] for i in range(4)])\n",
    "display(\"ststrain =\",ststrain)\n",
    "IVW = integrate(ststrain,(x1,0,2),(x2,0,1),(x3,0,t))\n",
    "display(\"Internal Virtual Work =\",IVW)\n",
    "EVWBodyForces = integrate(pb1*ustar[0],(x1,0,2),(x2,0,1),(x3,0,t))\n",
    "display(\"External Virtual Work|_{Body Forces} =\",EVWBodyForces)\n",
    "EVWa = integrate((ta.dot(ustara)).subs({x1:2}),(x2,0,1),(x3,0,t))\n",
    "display(\"External Virtual Work|_A =\",EVWa)\n",
    "EVWb = integrate((tb.dot(ustarb)).subs({x2:1}),(x1,0,2),(x3,0,t))\n",
    "display(\"External Virtual Work|_B =\",EVWb)\n",
    "EVWc = integrate((tc.dot(ustarc)).subs({x1:0}),(x2,0,1),(x3,0,t))\n",
    "display(\"External Virtual Work|_C =\",EVWc)\n",
    "EVWd = integrate((td.dot(ustard)).subs({x2:0}),(x1,0,2),(x3,0,t))\n",
    "display(\"External Virtual Work|_D =\",EVWd)\n",
    "EVW = simplify(EVWBodyForces+EVWa+EVWb+EVWc+EVWd)\n",
    "display(\"External Virtual Work = Internal Virtual Work =\",EVW)"
   ]
  },
  {
   "cell_type": "markdown",
   "metadata": {},
   "source": [
    "10.1.3.2"
   ]
  },
  {
   "cell_type": "code",
   "execution_count": 2,
   "metadata": {
    "scrolled": true
   },
   "outputs": [
    {
     "data": {
      "text/plain": [
       "'y(x) ='"
      ]
     },
     "metadata": {},
     "output_type": "display_data"
    },
    {
     "data": {
      "text/latex": [
       "$\\displaystyle \\frac{x^{2} \\left(- 2 L^{3} + 3 L^{2} x - x^{3}\\right)}{24 EI}$"
      ],
      "text/plain": [
       "x**2*(-2*L**3 + 3*L**2*x - x**3)/(24*EI)"
      ]
     },
     "metadata": {},
     "output_type": "display_data"
    },
    {
     "data": {
      "text/plain": [
       "'th ='"
      ]
     },
     "metadata": {},
     "output_type": "display_data"
    },
    {
     "data": {
      "text/latex": [
       "$\\displaystyle - \\frac{x \\left(4 L^{3} - 9 L^{2} x + 5 x^{3}\\right)}{24 EI}$"
      ],
      "text/plain": [
       "-x*(4*L**3 - 9*L**2*x + 5*x**3)/(24*EI)"
      ]
     },
     "metadata": {},
     "output_type": "display_data"
    },
    {
     "data": {
      "text/plain": [
       "'M ='"
      ]
     },
     "metadata": {},
     "output_type": "display_data"
    },
    {
     "data": {
      "text/latex": [
       "$\\displaystyle - \\frac{L^{3}}{6} + \\frac{3 L^{2} x}{4} - \\frac{5 x^{3}}{6}$"
      ],
      "text/plain": [
       "-L**3/6 + 3*L**2*x/4 - 5*x**3/6"
      ]
     },
     "metadata": {},
     "output_type": "display_data"
    },
    {
     "data": {
      "text/plain": [
       "'V ='"
      ]
     },
     "metadata": {},
     "output_type": "display_data"
    },
    {
     "data": {
      "text/latex": [
       "$\\displaystyle \\frac{3 L^{2}}{4} - \\frac{5 x^{2}}{2}$"
      ],
      "text/plain": [
       "3*L**2/4 - 5*x**2/2"
      ]
     },
     "metadata": {},
     "output_type": "display_data"
    },
    {
     "data": {
      "text/plain": [
       "'M@x=0'"
      ]
     },
     "metadata": {},
     "output_type": "display_data"
    },
    {
     "data": {
      "text/latex": [
       "$\\displaystyle - \\frac{L^{3}}{6}$"
      ],
      "text/plain": [
       "-L**3/6"
      ]
     },
     "metadata": {},
     "output_type": "display_data"
    },
    {
     "data": {
      "text/plain": [
       "'M@x=L'"
      ]
     },
     "metadata": {},
     "output_type": "display_data"
    },
    {
     "data": {
      "text/latex": [
       "$\\displaystyle - \\frac{L^{3}}{4}$"
      ],
      "text/plain": [
       "-L**3/4"
      ]
     },
     "metadata": {},
     "output_type": "display_data"
    },
    {
     "data": {
      "text/plain": [
       "'V@x=0'"
      ]
     },
     "metadata": {},
     "output_type": "display_data"
    },
    {
     "data": {
      "text/latex": [
       "$\\displaystyle \\frac{3 L^{2}}{4}$"
      ],
      "text/plain": [
       "3*L**2/4"
      ]
     },
     "metadata": {},
     "output_type": "display_data"
    },
    {
     "data": {
      "text/plain": [
       "'V@x=L'"
      ]
     },
     "metadata": {},
     "output_type": "display_data"
    },
    {
     "data": {
      "text/latex": [
       "$\\displaystyle - \\frac{7 L^{2}}{4}$"
      ],
      "text/plain": [
       "-7*L**2/4"
      ]
     },
     "metadata": {},
     "output_type": "display_data"
    },
    {
     "data": {
      "text/plain": [
       "'y*@x=0'"
      ]
     },
     "metadata": {},
     "output_type": "display_data"
    },
    {
     "data": {
      "text/latex": [
       "$\\displaystyle 0$"
      ],
      "text/plain": [
       "0"
      ]
     },
     "metadata": {},
     "output_type": "display_data"
    },
    {
     "data": {
      "text/plain": [
       "'y*@x=L'"
      ]
     },
     "metadata": {},
     "output_type": "display_data"
    },
    {
     "data": {
      "text/latex": [
       "$\\displaystyle L^{2} a$"
      ],
      "text/plain": [
       "L**2*a"
      ]
     },
     "metadata": {},
     "output_type": "display_data"
    },
    {
     "data": {
      "text/plain": [
       "'θ*@x=0'"
      ]
     },
     "metadata": {},
     "output_type": "display_data"
    },
    {
     "data": {
      "text/latex": [
       "$\\displaystyle 0$"
      ],
      "text/plain": [
       "0"
      ]
     },
     "metadata": {},
     "output_type": "display_data"
    },
    {
     "data": {
      "text/plain": [
       "'θ*@x=L'"
      ]
     },
     "metadata": {},
     "output_type": "display_data"
    },
    {
     "data": {
      "text/latex": [
       "$\\displaystyle 2 L a$"
      ],
      "text/plain": [
       "2*L*a"
      ]
     },
     "metadata": {},
     "output_type": "display_data"
    },
    {
     "data": {
      "text/plain": [
       "'Internal Virtual Work ='"
      ]
     },
     "metadata": {},
     "output_type": "display_data"
    },
    {
     "data": {
      "text/latex": [
       "$\\displaystyle 0$"
      ],
      "text/plain": [
       "0"
      ]
     },
     "metadata": {},
     "output_type": "display_data"
    },
    {
     "data": {
      "text/plain": [
       "'EVWq ='"
      ]
     },
     "metadata": {},
     "output_type": "display_data"
    },
    {
     "data": {
      "text/latex": [
       "$\\displaystyle - \\frac{5 L^{4} a}{4}$"
      ],
      "text/plain": [
       "-5*L**4*a/4"
      ]
     },
     "metadata": {},
     "output_type": "display_data"
    },
    {
     "data": {
      "text/plain": [
       "'EVW1 ='"
      ]
     },
     "metadata": {},
     "output_type": "display_data"
    },
    {
     "data": {
      "text/latex": [
       "$\\displaystyle 0$"
      ],
      "text/plain": [
       "0"
      ]
     },
     "metadata": {},
     "output_type": "display_data"
    },
    {
     "data": {
      "text/plain": [
       "'EVW2 ='"
      ]
     },
     "metadata": {},
     "output_type": "display_data"
    },
    {
     "data": {
      "text/latex": [
       "$\\displaystyle \\frac{5 L^{4} a}{4}$"
      ],
      "text/plain": [
       "5*L**4*a/4"
      ]
     },
     "metadata": {},
     "output_type": "display_data"
    },
    {
     "data": {
      "text/plain": [
       "'External Virtual Work = Internal Virtual Work ='"
      ]
     },
     "metadata": {},
     "output_type": "display_data"
    },
    {
     "data": {
      "text/latex": [
       "$\\displaystyle 0$"
      ],
      "text/plain": [
       "0"
      ]
     },
     "metadata": {},
     "output_type": "display_data"
    }
   ],
   "source": [
    "import sympy as sp\n",
    "from sympy import Function,dsolve,diff,simplify,integrate\n",
    "x,EI,L = sp.symbols(\"x EI L\")\n",
    "y = Function(\"y\")\n",
    "a = sp.symbols(\"a\")\n",
    "y1 = y(x).subs(x,0)\n",
    "y2 = y(x).subs(x,L)\n",
    "yp1 = y(x).diff(x).subs(x,0)\n",
    "yp2 = y(x).diff(x).subs(x,L)\n",
    "q = -5*x\n",
    "s = dsolve(EI*y(x).diff(x,4)-q,y(x),ics={y1:0,y2:0,yp1:0,yp2:0})\n",
    "y = s.rhs\n",
    "display(\"y(x) =\",y)\n",
    "th = simplify(diff(y,x))\n",
    "M = simplify(EI*diff(y,x,x))\n",
    "V = simplify(EI*diff(y,x,x,x))\n",
    "display(\"th =\",th,\"M =\",M,\"V =\",V)\n",
    "M1 = M.subs({x:0})\n",
    "M2 = M.subs({x:L})\n",
    "V1 = V.subs({x:0})\n",
    "V2 = V.subs({x:L})\n",
    "display(\"M@x=0\",M1,\"M@x=L\",M2,\"V@x=0\",V1,\"V@x=L\",V2)\n",
    "ystar = a*x**2\n",
    "thstar = diff(ystar,x)\n",
    "ystar1 = ystar.subs({x:0})\n",
    "ystar2 = ystar.subs({x:L})\n",
    "thstar1 = thstar.subs({x:0})\n",
    "thstar2 = thstar.subs({x:L})\n",
    "display(\"y*@x=0\",ystar1,\"y*@x=L\",ystar2,\"\\u03B8*@x=0\",thstar1,\"\\u03B8*@x=L\",thstar2)\n",
    "IVW = integrate(M*diff(ystar,x,x),(x,0,L))\n",
    "display(\"Internal Virtual Work =\",IVW)\n",
    "EVWq = integrate(q*ystar,(x,0,L))\n",
    "display(\"EVWq =\",EVWq)\n",
    "EVW1 = V1*ystar1-M1*thstar1\n",
    "EVW2 = M2*thstar2-V2*ystar2\n",
    "display(\"EVW1 =\",EVW1,\"EVW2 =\",EVW2)\n",
    "EVW = EVWq+EVW1+EVW2\n",
    "display(\"External Virtual Work = Internal Virtual Work =\",EVW)"
   ]
  },
  {
   "cell_type": "markdown",
   "metadata": {},
   "source": [
    "10.1.3.6"
   ]
  },
  {
   "cell_type": "code",
   "execution_count": 3,
   "metadata": {},
   "outputs": [
    {
     "data": {
      "text/plain": [
       "<matplotlib.lines.Line2D at 0x1d35a92a6a0>"
      ]
     },
     "execution_count": 3,
     "metadata": {},
     "output_type": "execute_result"
    },
    {
     "data": {
      "image/png": "[encoded data removed]",
      "text/plain": [
       "<Figure size 432x288 with 1 Axes>"
      ]
     },
     "metadata": {
      "needs_background": "light"
     },
     "output_type": "display_data"
    }
   ],
   "source": [
    "from sympy import Function,dsolve,diff,integrate,Poly,solve,simplify\n",
    "import numpy as np\n",
    "import matplotlib.pyplot as plt\n",
    "y = Function(\"y\")\n",
    "x,EI,L,P = sp.symbols(\"x EI L P\")\n",
    "a2,a3,a2s,a3s = sp.symbols(\"a_2 a_3 a_2s a_3s\")\n",
    "y1 = y(x).subs({x:0})\n",
    "th2 = y(x).diff(x).subs(x,L/2)\n",
    "M1 = y(x).diff(x,2).subs(x,0)\n",
    "V2 = y(x).diff(x,3).subs(x,L/2)\n",
    "s = dsolve(y(x).diff(x,4),y(x),ics={y1:0,th2:0,M1:0,V2:P/2/EI})\n",
    "y1 = s.rhs\n",
    "y2 = simplify(y1.subs({x:L-x}))\n",
    "yapprox = a2*x*(x-L)+a3*x*(x**2-L**2)\n",
    "ystar = yapprox.subs({a2:a2s,a3:a3s})\n",
    "EVW = (-P*ystar).subs({x:L/2}).expand()\n",
    "IVW = integrate(EI*diff(yapprox,x,x)*diff(ystar,x,x),(x,0,L)).expand()\n",
    "Eq1 = IVW.coeff(a2s)-EVW.coeff(a2s)\n",
    "Eq2 = IVW.coeff(a3s)-EVW.coeff(a3s)\n",
    "s = solve({Eq1,Eq2},{a2,a3})\n",
    "yapprox = yapprox.subs({a2:s[a2],a3:s[a3]})\n",
    "y1exactp = y1.subs({L:1,EI:1,P:1})\n",
    "y2exactp = y2.subs({L:1,EI:1,P:1})\n",
    "yp = yapprox.subs({L:1,EI:1,P:1})\n",
    "xL = xrange = np.arange(0,1.01,0.01)\n",
    "Y1 = []\n",
    "Y2 = []\n",
    "for i in range(len(xL)):\n",
    "    Y1.append(yp.subs({x:xL[i]}))\n",
    "    #piecewise for exact : y1 when 0<=x<L/2, y2 when L/2=<x<L\n",
    "    if i<(len(xL)/2):\n",
    "        Y2.append(y1exactp.subs({x:xL[i]}))\n",
    "    else:\n",
    "        Y2.append(y2exactp.subs({x:xL[i]}))\n",
    "fig, ax = plt.subplots()\n",
    "plt.xlabel(\"x(length units)\")\n",
    "plt.ylabel(\"y(length units)\")\n",
    "ax.plot(xL, Y1, label=\"Approx\")\n",
    "ax.plot(xL, Y2, label=\"Exact\")\n",
    "ax.legend()\n",
    "ax.grid(True, which='both')\n",
    "ax.axhline(y = 0, color = 'k')\n",
    "ax.axvline(x = 0, color = 'k')"
   ]
  },
  {
   "cell_type": "markdown",
   "metadata": {},
   "source": [
    "10.2.3\n",
    "https://engcourses-uofa.ca/books/introduction-to-solid-mechanics/variational-principles/the-principle-of-minimum-potential-energy-for-conservative-systems-in-equilibrium/#example7"
   ]
  },
  {
   "cell_type": "code",
   "execution_count": 4,
   "metadata": {},
   "outputs": [
    {
     "data": {
      "text/plain": [
       "'Equilibrium ='"
      ]
     },
     "metadata": {},
     "output_type": "display_data"
    },
    {
     "data": {
      "text/latex": [
       "$\\displaystyle 3000 \\sin{\\left(\\theta \\right)} \\cos{\\left(\\theta \\right)} - 900 \\cos{\\left(\\theta \\right)} - 140$"
      ],
      "text/plain": [
       "3000*sin(theta)*cos(theta) - 900*cos(theta) - 140"
      ]
     },
     "metadata": {},
     "output_type": "display_data"
    },
    {
     "data": {
      "text/plain": [
       "'there are 4 real roots of  the above expression'"
      ]
     },
     "metadata": {},
     "output_type": "display_data"
    },
    {
     "data": {
      "text/plain": [
       "[-1.60671931233911, 0.357372501315347, 1.50386577625812, 2.88707368835543]"
      ]
     },
     "metadata": {},
     "output_type": "display_data"
    },
    {
     "data": {
      "text/plain": [
       "'θ_1 ='"
      ]
     },
     "metadata": {},
     "output_type": "display_data"
    },
    {
     "data": {
      "text/latex": [
       "$\\displaystyle 20.4759360394028$"
      ],
      "text/plain": [
       "20.4759360394028"
      ]
     },
     "metadata": {},
     "output_type": "display_data"
    },
    {
     "data": {
      "text/plain": [
       "'θ_2 ='"
      ]
     },
     "metadata": {},
     "output_type": "display_data"
    },
    {
     "data": {
      "text/latex": [
       "$\\displaystyle 86.1651619337559$"
      ],
      "text/plain": [
       "86.1651619337559"
      ]
     },
     "metadata": {},
     "output_type": "display_data"
    },
    {
     "data": {
      "text/plain": [
       "'θ_3 ='"
      ]
     },
     "metadata": {},
     "output_type": "display_data"
    },
    {
     "data": {
      "text/latex": [
       "$\\displaystyle 165.417137486034$"
      ],
      "text/plain": [
       "165.417137486034"
      ]
     },
     "metadata": {},
     "output_type": "display_data"
    },
    {
     "data": {
      "text/plain": [
       "'θ_4 ='"
      ]
     },
     "metadata": {},
     "output_type": "display_data"
    },
    {
     "data": {
      "text/latex": [
       "$\\displaystyle 267.941764540807$"
      ],
      "text/plain": [
       "267.941764540807"
      ]
     },
     "metadata": {},
     "output_type": "display_data"
    },
    {
     "data": {
      "text/plain": [
       "'Potential Energy ='"
      ]
     },
     "metadata": {},
     "output_type": "display_data"
    },
    {
     "data": {
      "text/latex": [
       "$\\displaystyle - 140 \\theta + 1500.0 \\sin^{2}{\\left(\\theta \\right)} - 900 \\sin{\\left(\\theta \\right)}$"
      ],
      "text/plain": [
       "-140*theta + 1500.0*sin(theta)**2 - 900*sin(theta)"
      ]
     },
     "metadata": {},
     "output_type": "display_data"
    },
    {
     "data": {
      "text/plain": [
       "'Derivative of PE'"
      ]
     },
     "metadata": {},
     "output_type": "display_data"
    },
    {
     "data": {
      "text/latex": [
       "$\\displaystyle 3000.0 \\sin{\\left(\\theta \\right)} \\cos{\\left(\\theta \\right)} - 900 \\cos{\\left(\\theta \\right)} - 140$"
      ],
      "text/plain": [
       "3000.0*sin(theta)*cos(theta) - 900*cos(theta) - 140"
      ]
     },
     "metadata": {},
     "output_type": "display_data"
    },
    {
     "data": {
      "text/plain": [
       "'Second Derivative of Pe'"
      ]
     },
     "metadata": {},
     "output_type": "display_data"
    },
    {
     "data": {
      "text/latex": [
       "$\\displaystyle - 3000.0 \\sin^{2}{\\left(\\theta \\right)} + 900 \\sin{\\left(\\theta \\right)} + 3000.0 \\cos^{2}{\\left(\\theta \\right)}$"
      ],
      "text/plain": [
       "-3000.0*sin(theta)**2 + 900*sin(theta) + 3000.0*cos(theta)**2"
      ]
     },
     "metadata": {},
     "output_type": "display_data"
    },
    {
     "data": {
      "text/plain": [
       "'D2PE@θ=θ_1 ='"
      ]
     },
     "metadata": {},
     "output_type": "display_data"
    },
    {
     "data": {
      "text/latex": [
       "$\\displaystyle 2580.61374931343$"
      ],
      "text/plain": [
       "2580.61374931343"
      ]
     },
     "metadata": {},
     "output_type": "display_data"
    },
    {
     "data": {
      "text/plain": [
       "'D2PE@θ=θ_2 ='"
      ]
     },
     "metadata": {},
     "output_type": "display_data"
    },
    {
     "data": {
      "text/latex": [
       "$\\displaystyle -2075.1770318046$"
      ],
      "text/plain": [
       "-2075.17703180460"
      ]
     },
     "metadata": {},
     "output_type": "display_data"
    },
    {
     "data": {
      "text/plain": [
       "'D2PE@θ=θ_3 ='"
      ]
     },
     "metadata": {},
     "output_type": "display_data"
    },
    {
     "data": {
      "text/latex": [
       "$\\displaystyle 2846.24320219929$"
      ],
      "text/plain": [
       "2846.24320219929"
      ]
     },
     "metadata": {},
     "output_type": "display_data"
    },
    {
     "data": {
      "text/plain": [
       "'D2PE@θ=θ_4 ='"
      ]
     },
     "metadata": {},
     "output_type": "display_data"
    },
    {
     "data": {
      "text/latex": [
       "$\\displaystyle -3891.67991970813$"
      ],
      "text/plain": [
       "-3891.67991970813"
      ]
     },
     "metadata": {},
     "output_type": "display_data"
    }
   ],
   "source": [
    "import sympy as sp\n",
    "from sympy import cos,sin,solve,diff\n",
    "th = sp.symbols(\"theta\")\n",
    "Equil = -140-900*cos(th)+750*4*cos(th)*sin(th)\n",
    "s = solve(Equil,th)\n",
    "s=[(i.expand(complex=True)).evalf() for i in s]\n",
    "degs = [(i/sp.pi*180).evalf() for i in s]\n",
    "display(\"Equilibrium =\",Equil)\n",
    "display(\"there are 4 real roots of  the above expression\")\n",
    "display(s)\n",
    "display(\"\\u03B8_1 =\",degs[1])\n",
    "display(\"\\u03B8_2 =\",degs[2])\n",
    "display(\"\\u03B8_3 =\",degs[3])\n",
    "display(\"\\u03B8_4 =\",degs[0]+360)\n",
    "PE = 750/2*(2*sin(th))**2-140*th-900*sin(th)\n",
    "DPE = diff(PE,th)\n",
    "D2PE = diff(DPE,th)\n",
    "display(\"Potential Energy =\",PE)\n",
    "display(\"Derivative of PE\",DPE,\"Second Derivative of Pe\",D2PE)\n",
    "display(\"D2PE@\\u03B8=\\u03B8_1 =\",D2PE.subs({th:s[1]}))\n",
    "display(\"D2PE@\\u03B8=\\u03B8_2 =\",D2PE.subs({th:s[2]}))\n",
    "display(\"D2PE@\\u03B8=\\u03B8_3 =\",D2PE.subs({th:s[3]}))\n",
    "display(\"D2PE@\\u03B8=\\u03B8_4 =\",D2PE.subs({th:s[0]+2*sp.pi}))"
   ]
  }
 ],
 "metadata": {
  "kernelspec": {
   "display_name": "Python 3",
   "language": "python",
   "name": "python3"
  },
  "language_info": {
   "codemirror_mode": {
    "name": "ipython",
    "version": 3
   },
   "file_extension": ".py",
   "mimetype": "text/x-python",
   "name": "python",
   "nbconvert_exporter": "python",
   "pygments_lexer": "ipython3",
   "version": "3.8.5"
  }
 },
 "nbformat": 4,
 "nbformat_minor": 4
}
