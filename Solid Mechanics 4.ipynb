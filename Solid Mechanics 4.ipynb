{
 "cells": [
  {
   "cell_type": "markdown",
   "metadata": {},
   "source": [
    "https://engcourses-uofa.ca/books/introduction-to-solid-mechanics/displacement-and-strain/strain-measures/examples-and-problems/"
   ]
  },
  {
   "cell_type": "markdown",
   "metadata": {},
   "source": [
    "4.3.3.1"
   ]
  },
  {
   "cell_type": "code",
   "execution_count": 1,
   "metadata": {
    "scrolled": true
   },
   "outputs": [
    {
     "data": {
      "text/plain": [
       "'X ='"
      ]
     },
     "metadata": {},
     "output_type": "display_data"
    },
    {
     "data": {
      "text/latex": [
       "$\\displaystyle \\left[\\begin{matrix}X_{1}\\\\X_{2}\\\\X_{3}\\end{matrix}\\right]$"
      ],
      "text/plain": [
       "⎡X₁⎤\n",
       "⎢  ⎥\n",
       "⎢X₂⎥\n",
       "⎢  ⎥\n",
       "⎣X₃⎦"
      ]
     },
     "metadata": {},
     "output_type": "display_data"
    },
    {
     "data": {
      "text/plain": [
       "'x ='"
      ]
     },
     "metadata": {},
     "output_type": "display_data"
    },
    {
     "data": {
      "text/latex": [
       "$\\displaystyle \\left[\\begin{matrix}x_{1}\\\\x_{2}\\\\x_{3}\\end{matrix}\\right]$"
      ],
      "text/plain": [
       "⎡x₁⎤\n",
       "⎢  ⎥\n",
       "⎢x₂⎥\n",
       "⎢  ⎥\n",
       "⎣x₃⎦"
      ]
     },
     "metadata": {},
     "output_type": "display_data"
    },
    {
     "data": {
      "text/plain": [
       "'x = F.X ='"
      ]
     },
     "metadata": {},
     "output_type": "display_data"
    },
    {
     "data": {
      "text/latex": [
       "$\\displaystyle \\left[\\begin{matrix}1.2 x_{1} + 0.2 x_{2} + 0.2 x_{3}\\\\0.2 x_{1} + 1.3 x_{2} + 0.1 x_{3}\\\\0.9 x_{1} + 0.5 x_{2} + x_{3}\\end{matrix}\\right]$"
      ],
      "text/plain": [
       "⎡1.2⋅x₁ + 0.2⋅x₂ + 0.2⋅x₃⎤\n",
       "⎢                        ⎥\n",
       "⎢0.2⋅x₁ + 1.3⋅x₂ + 0.1⋅x₃⎥\n",
       "⎢                        ⎥\n",
       "⎣  0.9⋅x₁ + 0.5⋅x₂ + x₃  ⎦"
      ]
     },
     "metadata": {},
     "output_type": "display_data"
    },
    {
     "data": {
      "text/plain": [
       "'u = x-X ='"
      ]
     },
     "metadata": {},
     "output_type": "display_data"
    },
    {
     "data": {
      "text/latex": [
       "$\\displaystyle \\left[\\begin{matrix}0.2 X_{1} + 0.2 X_{2} + 0.2 X_{3}\\\\0.2 X_{1} + 0.3 X_{2} + 0.1 X_{3}\\\\0.9 X_{1} + 0.5 X_{2}\\end{matrix}\\right]$"
      ],
      "text/plain": [
       "⎡0.2⋅X₁ + 0.2⋅X₂ + 0.2⋅X₃⎤\n",
       "⎢                        ⎥\n",
       "⎢0.2⋅X₁ + 0.3⋅X₂ + 0.1⋅X₃⎥\n",
       "⎢                        ⎥\n",
       "⎣    0.9⋅X₁ + 0.5⋅X₂     ⎦"
      ]
     },
     "metadata": {},
     "output_type": "display_data"
    },
    {
     "data": {
      "text/plain": [
       "'∇u ='"
      ]
     },
     "metadata": {},
     "output_type": "display_data"
    },
    {
     "data": {
      "text/latex": [
       "$\\displaystyle \\left[\\begin{matrix}0.2 & 0.2 & 0.2\\\\0.2 & 0.3 & 0.1\\\\0.9 & 0.5 & 0\\end{matrix}\\right]$"
      ],
      "text/plain": [
       "⎡0.2  0.2  0.2⎤\n",
       "⎢             ⎥\n",
       "⎢0.2  0.3  0.1⎥\n",
       "⎢             ⎥\n",
       "⎣0.9  0.5   0 ⎦"
      ]
     },
     "metadata": {},
     "output_type": "display_data"
    },
    {
     "data": {
      "text/plain": [
       "'ε_small ='"
      ]
     },
     "metadata": {},
     "output_type": "display_data"
    },
    {
     "data": {
      "text/latex": [
       "$\\displaystyle \\left[\\begin{matrix}0.2 & 0.2 & 0.55\\\\0.2 & 0.3 & 0.3\\\\0.55 & 0.3 & 0\\end{matrix}\\right]$"
      ],
      "text/plain": [
       "⎡0.2   0.2  0.55⎤\n",
       "⎢               ⎥\n",
       "⎢0.2   0.3  0.3 ⎥\n",
       "⎢               ⎥\n",
       "⎣0.55  0.3   0  ⎦"
      ]
     },
     "metadata": {},
     "output_type": "display_data"
    },
    {
     "data": {
      "text/plain": [
       "'ε_Green ='"
      ]
     },
     "metadata": {},
     "output_type": "display_data"
    },
    {
     "data": {
      "text/latex": [
       "$\\displaystyle \\left[\\begin{matrix}0.645 & 0.475 & 0.58\\\\0.475 & 0.49 & 0.335\\\\0.58 & 0.335 & 0.025\\end{matrix}\\right]$"
      ],
      "text/plain": [
       "⎡0.645  0.475  0.58 ⎤\n",
       "⎢                   ⎥\n",
       "⎢0.475  0.49   0.335⎥\n",
       "⎢                   ⎥\n",
       "⎣0.58   0.335  0.025⎦"
      ]
     },
     "metadata": {},
     "output_type": "display_data"
    },
    {
     "data": {
      "text/plain": [
       "'small strain along u'"
      ]
     },
     "metadata": {},
     "output_type": "display_data"
    },
    {
     "data": {
      "text/latex": [
       "$\\displaystyle 0.866666666666667$"
      ],
      "text/plain": [
       "0.866666666666667"
      ]
     },
     "metadata": {},
     "output_type": "display_data"
    },
    {
     "data": {
      "text/plain": [
       "'Green strain along u'"
      ]
     },
     "metadata": {},
     "output_type": "display_data"
    },
    {
     "data": {
      "text/latex": [
       "$\\displaystyle 1.31333333333333$"
      ],
      "text/plain": [
       "1.31333333333333"
      ]
     },
     "metadata": {},
     "output_type": "display_data"
    }
   ],
   "source": [
    "from sympy import *\n",
    "import sympy as sp\n",
    "sp.init_printing(use_latex=\"mathjax\")\n",
    "F = Matrix([[1.2,0.2,0.2],[0.2,1.3,0.1],[0.9,0.5,1]])\n",
    "X1,X2,X3 = sp.symbols(\"X1 X2 X3\")\n",
    "x1,x2,x3 = sp.symbols(\"x1 x2 x3\")\n",
    "X = Matrix([X1,X2,X3])\n",
    "x = Matrix([x1,x2,x3])\n",
    "display(\"X =\",X)\n",
    "display(\"x =\",x)\n",
    "display(\"x = F.X =\",F*x)\n",
    "x = F*X\n",
    "u = x-X\n",
    "display(\"u = x-X =\",u)\n",
    "gradu = Matrix([[diff(i,j) for j in X] for i in u])\n",
    "display(\"\\u2207u =\",gradu)\n",
    "small_strain = (gradu+gradu.T)/2\n",
    "display(\"\\u03B5_small =\",small_strain)\n",
    "green_strain = (gradu+gradu.T+gradu.T*gradu)/2\n",
    "display(\"\\u03B5_Green =\",green_strain)\n",
    "v = Matrix([1,1,1])\n",
    "n = v/v.norm()\n",
    "display(\"small strain along u\", n.dot(small_strain*n))\n",
    "display(\"Green strain along u\", n.dot(green_strain*n))"
   ]
  },
  {
   "cell_type": "markdown",
   "metadata": {},
   "source": [
    "4.3.3.2"
   ]
  },
  {
   "cell_type": "code",
   "execution_count": 2,
   "metadata": {
    "scrolled": true
   },
   "outputs": [
    {
     "data": {
      "text/plain": [
       "'F ='"
      ]
     },
     "metadata": {},
     "output_type": "display_data"
    },
    {
     "data": {
      "text/latex": [
       "$\\displaystyle \\left[\\begin{matrix}\\cos^{2}{\\left(\\frac{\\pi}{9} \\right)} & - \\sin{\\left(\\frac{\\pi}{9} \\right)} \\cos{\\left(\\frac{\\pi}{9} \\right)} & \\sin{\\left(\\frac{\\pi}{9} \\right)}\\\\\\frac{\\sin{\\left(\\frac{\\pi}{9} \\right)} \\cos{\\left(\\frac{\\pi}{9} \\right)}}{2} + \\frac{\\sqrt{3} \\sin{\\left(\\frac{\\pi}{9} \\right)}}{2} & - \\frac{\\sin^{2}{\\left(\\frac{\\pi}{9} \\right)}}{2} + \\frac{\\sqrt{3} \\cos{\\left(\\frac{\\pi}{9} \\right)}}{2} & - \\frac{\\cos{\\left(\\frac{\\pi}{9} \\right)}}{2}\\\\- \\frac{\\sqrt{3} \\sin{\\left(\\frac{\\pi}{9} \\right)} \\cos{\\left(\\frac{\\pi}{9} \\right)}}{2} + \\frac{\\sin{\\left(\\frac{\\pi}{9} \\right)}}{2} & \\frac{\\sqrt{3} \\sin^{2}{\\left(\\frac{\\pi}{9} \\right)}}{2} + \\frac{\\cos{\\left(\\frac{\\pi}{9} \\right)}}{2} & \\frac{\\sqrt{3} \\cos{\\left(\\frac{\\pi}{9} \\right)}}{2}\\end{matrix}\\right]$"
      ],
      "text/plain": [
       "⎡             2⎛π⎞                   ⎛π⎞    ⎛π⎞          ⎛π⎞  ⎤\n",
       "⎢          cos ⎜─⎟               -sin⎜─⎟⋅cos⎜─⎟       sin⎜─⎟  ⎥\n",
       "⎢              ⎝9⎠                   ⎝9⎠    ⎝9⎠          ⎝9⎠  ⎥\n",
       "⎢                                                             ⎥\n",
       "⎢    ⎛π⎞    ⎛π⎞         ⎛π⎞        2⎛π⎞         ⎛π⎞      ⎛π⎞  ⎥\n",
       "⎢ sin⎜─⎟⋅cos⎜─⎟   √3⋅sin⎜─⎟     sin ⎜─⎟   √3⋅cos⎜─⎟  -cos⎜─⎟  ⎥\n",
       "⎢    ⎝9⎠    ⎝9⎠         ⎝9⎠         ⎝9⎠         ⎝9⎠      ⎝9⎠  ⎥\n",
       "⎢ ───────────── + ─────────   - ─────── + ─────────  ──────── ⎥\n",
       "⎢       2             2            2          2         2     ⎥\n",
       "⎢                                                             ⎥\n",
       "⎢        ⎛π⎞    ⎛π⎞      ⎛π⎞         2⎛π⎞      ⎛π⎞         ⎛π⎞⎥\n",
       "⎢  √3⋅sin⎜─⎟⋅cos⎜─⎟   sin⎜─⎟   √3⋅sin ⎜─⎟   cos⎜─⎟   √3⋅cos⎜─⎟⎥\n",
       "⎢        ⎝9⎠    ⎝9⎠      ⎝9⎠          ⎝9⎠      ⎝9⎠         ⎝9⎠⎥\n",
       "⎢- ──────────────── + ──────   ────────── + ──────   ─────────⎥\n",
       "⎣         2             2          2          2          2    ⎦"
      ]
     },
     "metadata": {},
     "output_type": "display_data"
    },
    {
     "data": {
      "text/plain": [
       "'F ='"
      ]
     },
     "metadata": {},
     "output_type": "display_data"
    },
    {
     "data": {
      "text/latex": [
       "$\\displaystyle \\left[\\begin{matrix}0.883022221559489 & -0.32139380484327 & 0.342020143325669\\\\0.456895035147659 & 0.755308792129118 & -0.469846310392954\\\\-0.107325127950375 & 0.571152038200704 & 0.813797681349374\\end{matrix}\\right]$"
      ],
      "text/plain": [
       "⎡0.883022221559489   -0.32139380484327  0.342020143325669 ⎤\n",
       "⎢                                                         ⎥\n",
       "⎢0.456895035147659   0.755308792129118  -0.469846310392954⎥\n",
       "⎢                                                         ⎥\n",
       "⎣-0.107325127950375  0.571152038200704  0.813797681349374 ⎦"
      ]
     },
     "metadata": {},
     "output_type": "display_data"
    },
    {
     "data": {
      "text/plain": [
       "'X ='"
      ]
     },
     "metadata": {},
     "output_type": "display_data"
    },
    {
     "data": {
      "text/latex": [
       "$\\displaystyle \\left[\\begin{matrix}X_{1}\\\\X_{2}\\\\X_{3}\\end{matrix}\\right]$"
      ],
      "text/plain": [
       "⎡X₁⎤\n",
       "⎢  ⎥\n",
       "⎢X₂⎥\n",
       "⎢  ⎥\n",
       "⎣X₃⎦"
      ]
     },
     "metadata": {},
     "output_type": "display_data"
    },
    {
     "data": {
      "text/plain": [
       "'x ='"
      ]
     },
     "metadata": {},
     "output_type": "display_data"
    },
    {
     "data": {
      "text/latex": [
       "$\\displaystyle \\left[\\begin{matrix}x_{1}\\\\x_{2}\\\\x_{3}\\end{matrix}\\right]$"
      ],
      "text/plain": [
       "⎡x₁⎤\n",
       "⎢  ⎥\n",
       "⎢x₂⎥\n",
       "⎢  ⎥\n",
       "⎣x₃⎦"
      ]
     },
     "metadata": {},
     "output_type": "display_data"
    },
    {
     "data": {
      "text/plain": [
       "'x =F.X ='"
      ]
     },
     "metadata": {},
     "output_type": "display_data"
    },
    {
     "data": {
      "text/latex": [
       "$\\displaystyle \\left[\\begin{matrix}0.883022221559489 x_{1} - 0.32139380484327 x_{2} + 0.342020143325669 x_{3}\\\\0.456895035147659 x_{1} + 0.755308792129118 x_{2} - 0.469846310392954 x_{3}\\\\- 0.107325127950375 x_{1} + 0.571152038200704 x_{2} + 0.813797681349374 x_{3}\\end{matrix}\\right]$"
      ],
      "text/plain": [
       "⎡ 0.883022221559489⋅x₁ - 0.32139380484327⋅x₂ + 0.342020143325669⋅x₃ ⎤\n",
       "⎢                                                                   ⎥\n",
       "⎢0.456895035147659⋅x₁ + 0.755308792129118⋅x₂ - 0.469846310392954⋅x₃ ⎥\n",
       "⎢                                                                   ⎥\n",
       "⎣-0.107325127950375⋅x₁ + 0.571152038200704⋅x₂ + 0.813797681349374⋅x₃⎦"
      ]
     },
     "metadata": {},
     "output_type": "display_data"
    },
    {
     "data": {
      "text/plain": [
       "'u = x-X ='"
      ]
     },
     "metadata": {},
     "output_type": "display_data"
    },
    {
     "data": {
      "text/latex": [
       "$\\displaystyle \\left[\\begin{matrix}- 0.116977778440511 X_{1} - 0.32139380484327 X_{2} + 0.342020143325669 X_{3}\\\\0.456895035147659 X_{1} - 0.244691207870882 X_{2} - 0.469846310392954 X_{3}\\\\- 0.107325127950375 X_{1} + 0.571152038200704 X_{2} - 0.186202318650626 X_{3}\\end{matrix}\\right]$"
      ],
      "text/plain": [
       "⎡-0.116977778440511⋅X₁ - 0.32139380484327⋅X₂ + 0.342020143325669⋅X₃ ⎤\n",
       "⎢                                                                   ⎥\n",
       "⎢0.456895035147659⋅X₁ - 0.244691207870882⋅X₂ - 0.469846310392954⋅X₃ ⎥\n",
       "⎢                                                                   ⎥\n",
       "⎣-0.107325127950375⋅X₁ + 0.571152038200704⋅X₂ - 0.186202318650626⋅X₃⎦"
      ]
     },
     "metadata": {},
     "output_type": "display_data"
    },
    {
     "data": {
      "text/plain": [
       "'∇u ='"
      ]
     },
     "metadata": {},
     "output_type": "display_data"
    },
    {
     "data": {
      "text/latex": [
       "$\\displaystyle \\left[\\begin{matrix}-0.116977778440511 & -0.32139380484327 & 0.342020143325669\\\\0.456895035147659 & -0.244691207870882 & -0.469846310392954\\\\-0.107325127950375 & 0.571152038200704 & -0.186202318650626\\end{matrix}\\right]$"
      ],
      "text/plain": [
       "⎡-0.116977778440511  -0.32139380484327   0.342020143325669 ⎤\n",
       "⎢                                                          ⎥\n",
       "⎢0.456895035147659   -0.244691207870882  -0.469846310392954⎥\n",
       "⎢                                                          ⎥\n",
       "⎣-0.107325127950375  0.571152038200704   -0.186202318650626⎦"
      ]
     },
     "metadata": {},
     "output_type": "display_data"
    },
    {
     "data": {
      "text/plain": [
       "'ε_small ='"
      ]
     },
     "metadata": {},
     "output_type": "display_data"
    },
    {
     "data": {
      "text/latex": [
       "$\\displaystyle \\left[\\begin{matrix}-0.116977778440511 & 0.0677506151521945 & 0.117347507687647\\\\0.0677506151521945 & -0.244691207870882 & 0.050652863903875\\\\0.117347507687647 & 0.050652863903875 & -0.186202318650626\\end{matrix}\\right]$"
      ],
      "text/plain": [
       "⎡-0.116977778440511  0.0677506151521945  0.117347507687647 ⎤\n",
       "⎢                                                          ⎥\n",
       "⎢0.0677506151521945  -0.244691207870882  0.050652863903875 ⎥\n",
       "⎢                                                          ⎥\n",
       "⎣0.117347507687647   0.050652863903875   -0.186202318650626⎦"
      ]
     },
     "metadata": {},
     "output_type": "display_data"
    },
    {
     "data": {
      "text/plain": [
       "'ε_Green ='"
      ]
     },
     "metadata": {},
     "output_type": "display_data"
    },
    {
     "data": {
      "text/latex": [
       "$\\displaystyle \\left[\\begin{matrix}2.77555756156289 \\cdot 10^{-17} & -2.77555756156289 \\cdot 10^{-17} & 0\\\\-2.77555756156289 \\cdot 10^{-17} & -5.55111512312578 \\cdot 10^{-17} & -2.08166817117217 \\cdot 10^{-17}\\\\0 & -2.08166817117217 \\cdot 10^{-17} & 0\\end{matrix}\\right]$"
      ],
      "text/plain": [
       "⎡2.77555756156289e-17   -2.77555756156289e-17            0          ⎤\n",
       "⎢                                                                   ⎥\n",
       "⎢-2.77555756156289e-17  -5.55111512312578e-17  -2.08166817117217e-17⎥\n",
       "⎢                                                                   ⎥\n",
       "⎣          0            -2.08166817117217e-17            0          ⎦"
      ]
     },
     "metadata": {},
     "output_type": "display_data"
    }
   ],
   "source": [
    "from sympy import *\n",
    "import sympy as sp\n",
    "theta = sp.symbols(\"\\u03B8\")\n",
    "X1,X2,X3=sp.symbols(\"X1 X2 X3\")\n",
    "x1,x2,x3=sp.symbols(\"x1 x2 x3\")\n",
    "Qx = Matrix([[1, 0, 0], \n",
    "              [0, sp.cos(theta),-sp.sin(theta)], \n",
    "              [0, sp.sin(theta),sp.cos(theta)]])\n",
    "# y rotation matrix\n",
    "Qy = Matrix([[sp.cos(theta), 0, sp.sin(theta)], \n",
    "              [0, 1, 0], \n",
    "              [-sp.sin(theta), 0, sp.cos(theta)]])\n",
    "# z rotation matrix\n",
    "Qz = Matrix([[sp.cos(theta), -sp.sin(theta), 0],\n",
    "              [sp.sin(theta), sp.cos(theta), 0], \n",
    "              [0, 0, 1]])\n",
    "Qx = Qx.subs({theta:30*sp.pi/180})\n",
    "Qy = Qy.subs({theta:20*sp.pi/180})\n",
    "Qz = Qz.subs({theta:20*sp.pi/180})\n",
    "F = Qx*Qy*Qz\n",
    "display(\"F =\",F)\n",
    "F = simplify(F).evalf()\n",
    "display(\"F =\",F)\n",
    "X=Matrix([X1,X2,X3])\n",
    "x=Matrix([x1,x2,x3])\n",
    "display(\"X =\",X)\n",
    "display(\"x =\",x)\n",
    "display(\"x =F.X =\",F*x)\n",
    "x = F*X\n",
    "u = x-X\n",
    "display(\"u = x-X =\",u)\n",
    "gradu = Matrix([[diff(i,j) for j in X] for i in u])\n",
    "display(\"\\u2207u =\",gradu)\n",
    "small_strain = (gradu+gradu.T)/2\n",
    "display(\"\\u03B5_small =\",small_strain)\n",
    "green_strain = (gradu+gradu.T+gradu.T*gradu)/2\n",
    "display(\"\\u03B5_Green =\",green_strain)"
   ]
  },
  {
   "cell_type": "markdown",
   "metadata": {},
   "source": [
    "4.3.3.3"
   ]
  },
  {
   "cell_type": "code",
   "execution_count": 3,
   "metadata": {},
   "outputs": [
    {
     "data": {
      "text/plain": [
       "'deformation gradient:'"
      ]
     },
     "metadata": {},
     "output_type": "display_data"
    },
    {
     "data": {
      "text/plain": [
       "'F ='"
      ]
     },
     "metadata": {},
     "output_type": "display_data"
    },
    {
     "data": {
      "text/latex": [
       "$\\displaystyle \\left[\\begin{matrix}1 & \\tan{\\left(θ \\right)} & 0\\\\0 & 1 & 0\\\\0 & 0 & 1\\end{matrix}\\right]$"
      ],
      "text/plain": [
       "⎡1  tan(θ)  0⎤\n",
       "⎢            ⎥\n",
       "⎢0    1     0⎥\n",
       "⎢            ⎥\n",
       "⎣0    0     1⎦"
      ]
     },
     "metadata": {},
     "output_type": "display_data"
    },
    {
     "data": {
      "text/plain": [
       "'position function:'"
      ]
     },
     "metadata": {},
     "output_type": "display_data"
    },
    {
     "data": {
      "text/plain": [
       "'x ='"
      ]
     },
     "metadata": {},
     "output_type": "display_data"
    },
    {
     "data": {
      "text/latex": [
       "$\\displaystyle \\left[\\begin{matrix}X_{1} + X_{2} \\tan{\\left(θ \\right)}\\\\X_{2}\\\\X_{3}\\end{matrix}\\right]$"
      ],
      "text/plain": [
       "⎡X₁ + X₂⋅tan(θ)⎤\n",
       "⎢              ⎥\n",
       "⎢      X₂      ⎥\n",
       "⎢              ⎥\n",
       "⎣      X₃      ⎦"
      ]
     },
     "metadata": {},
     "output_type": "display_data"
    },
    {
     "data": {
      "text/plain": [
       "'u = x-X ='"
      ]
     },
     "metadata": {},
     "output_type": "display_data"
    },
    {
     "data": {
      "text/latex": [
       "$\\displaystyle \\left[\\begin{matrix}X_{2} \\tan{\\left(θ \\right)}\\\\0\\\\0\\end{matrix}\\right]$"
      ],
      "text/plain": [
       "⎡X₂⋅tan(θ)⎤\n",
       "⎢         ⎥\n",
       "⎢    0    ⎥\n",
       "⎢         ⎥\n",
       "⎣    0    ⎦"
      ]
     },
     "metadata": {},
     "output_type": "display_data"
    },
    {
     "data": {
      "text/plain": [
       "'∇u ='"
      ]
     },
     "metadata": {},
     "output_type": "display_data"
    },
    {
     "data": {
      "text/latex": [
       "$\\displaystyle \\left[\\begin{matrix}0 & \\tan{\\left(θ \\right)} & 0\\\\0 & 0 & 0\\\\0 & 0 & 0\\end{matrix}\\right]$"
      ],
      "text/plain": [
       "⎡0  tan(θ)  0⎤\n",
       "⎢            ⎥\n",
       "⎢0    0     0⎥\n",
       "⎢            ⎥\n",
       "⎣0    0     0⎦"
      ]
     },
     "metadata": {},
     "output_type": "display_data"
    },
    {
     "data": {
      "text/plain": [
       "'ε_small ='"
      ]
     },
     "metadata": {},
     "output_type": "display_data"
    },
    {
     "data": {
      "text/latex": [
       "$\\displaystyle \\left[\\begin{matrix}0 & \\frac{\\tan{\\left(θ \\right)}}{2} & 0\\\\\\frac{\\tan{\\left(θ \\right)}}{2} & 0 & 0\\\\0 & 0 & 0\\end{matrix}\\right]$"
      ],
      "text/plain": [
       "⎡        tan(θ)   ⎤\n",
       "⎢  0     ──────  0⎥\n",
       "⎢          2      ⎥\n",
       "⎢                 ⎥\n",
       "⎢tan(θ)           ⎥\n",
       "⎢──────    0     0⎥\n",
       "⎢  2              ⎥\n",
       "⎢                 ⎥\n",
       "⎣  0       0     0⎦"
      ]
     },
     "metadata": {},
     "output_type": "display_data"
    },
    {
     "data": {
      "text/plain": [
       "'ε_Green ='"
      ]
     },
     "metadata": {},
     "output_type": "display_data"
    },
    {
     "data": {
      "text/latex": [
       "$\\displaystyle \\left[\\begin{matrix}0 & \\frac{\\tan{\\left(θ \\right)}}{2} & 0\\\\\\frac{\\tan{\\left(θ \\right)}}{2} & \\frac{\\tan^{2}{\\left(θ \\right)}}{2} & 0\\\\0 & 0 & 0\\end{matrix}\\right]$"
      ],
      "text/plain": [
       "⎡        tan(θ)    ⎤\n",
       "⎢  0     ──────   0⎥\n",
       "⎢          2       ⎥\n",
       "⎢                  ⎥\n",
       "⎢           2      ⎥\n",
       "⎢tan(θ)  tan (θ)   ⎥\n",
       "⎢──────  ───────  0⎥\n",
       "⎢  2        2      ⎥\n",
       "⎢                  ⎥\n",
       "⎣  0        0     0⎦"
      ]
     },
     "metadata": {},
     "output_type": "display_data"
    }
   ],
   "source": [
    "from sympy import *\n",
    "import sympy as sp\n",
    "sp.init_printing(use_latex=\"mathjax\")\n",
    "X1, X2, X3 = sp.symbols(\"X_1 X_2 X_3\")\n",
    "theta = sp.symbols(\"\\u03B8\")\n",
    "X = Matrix([X1, X2, X3])\n",
    "F = Matrix([[1,tan(theta),0],[0,1,0],[0,0,1]])\n",
    "display(\"deformation gradient:\")\n",
    "display(\"F =\",F)\n",
    "x = F*X\n",
    "display(\"position function:\")\n",
    "display(\"x =\",x)\n",
    "u = x-X\n",
    "display(\"u = x-X =\",u)\n",
    "gradu = Matrix([[diff(i,j) for j in X] for i in u])\n",
    "display(\"\\u2207u =\",gradu)\n",
    "small_strain = (gradu+gradu.T)/2\n",
    "display(\"\\u03B5_small =\",small_strain)\n",
    "green_strain = (gradu+gradu.T+gradu.T*gradu)/2\n",
    "display(\"\\u03B5_Green =\",green_strain)"
   ]
  },
  {
   "cell_type": "markdown",
   "metadata": {},
   "source": [
    "4.3.3.4"
   ]
  },
  {
   "cell_type": "code",
   "execution_count": 4,
   "metadata": {},
   "outputs": [
    {
     "data": {
      "text/plain": [
       "'ε_small ='"
      ]
     },
     "metadata": {},
     "output_type": "display_data"
    },
    {
     "data": {
      "text/latex": [
       "$\\displaystyle \\left[\\begin{matrix}0.01 & 0.012\\\\0.012 & 0\\end{matrix}\\right]$"
      ],
      "text/plain": [
       "⎡0.01   0.012⎤\n",
       "⎢            ⎥\n",
       "⎣0.012    0  ⎦"
      ]
     },
     "metadata": {},
     "output_type": "display_data"
    },
    {
     "data": {
      "text/plain": [
       "'eigensystem'"
      ]
     },
     "metadata": {},
     "output_type": "display_data"
    },
    {
     "data": {
      "text/latex": [
       "$\\displaystyle \\left[ \\left( 0.018, \\  1, \\  \\left[ \\left[\\begin{matrix}0.832050294337844\\\\0.554700196225229\\end{matrix}\\right]\\right]\\right), \\  \\left( -0.008, \\  1, \\  \\left[ \\left[\\begin{matrix}-0.554700196225229\\\\0.832050294337844\\end{matrix}\\right]\\right]\\right)\\right]$"
      ],
      "text/plain": [
       "⎡⎛          ⎡⎡0.832050294337844⎤⎤⎞  ⎛           ⎡⎡-0.554700196225229⎤⎤⎞⎤\n",
       "⎢⎜0.018, 1, ⎢⎢                 ⎥⎥⎟, ⎜-0.008, 1, ⎢⎢                  ⎥⎥⎟⎥\n",
       "⎣⎝          ⎣⎣0.554700196225229⎦⎦⎠  ⎝           ⎣⎣0.832050294337844 ⎦⎦⎠⎦"
      ]
     },
     "metadata": {},
     "output_type": "display_data"
    },
    {
     "data": {
      "text/plain": [
       "'eigenvalues (principal strains) ='"
      ]
     },
     "metadata": {},
     "output_type": "display_data"
    },
    {
     "data": {
      "text/latex": [
       "$\\displaystyle \\left[ 0.018, \\  -0.008\\right]$"
      ],
      "text/plain": [
       "[0.018, -0.008]"
      ]
     },
     "metadata": {},
     "output_type": "display_data"
    },
    {
     "data": {
      "text/plain": [
       "'eigenvectors (principal directions) ='"
      ]
     },
     "metadata": {},
     "output_type": "display_data"
    },
    {
     "data": {
      "text/latex": [
       "$\\displaystyle \\left[ \\left[\\begin{matrix}0.832050294337844 & 0.554700196225229\\end{matrix}\\right], \\  \\left[\\begin{matrix}-0.554700196225229 & 0.832050294337844\\end{matrix}\\right]\\right]$"
      ],
      "text/plain": [
       "[[0.832050294337844  0.554700196225229], [-0.554700196225229  0.83205029433784\n",
       "4]]"
      ]
     },
     "metadata": {},
     "output_type": "display_data"
    },
    {
     "data": {
      "text/plain": [
       "'Normalized eigenvectors (principal directions) ='"
      ]
     },
     "metadata": {},
     "output_type": "display_data"
    },
    {
     "data": {
      "text/latex": [
       "$\\displaystyle \\left[ \\left[\\begin{matrix}0.832050294337844 & 0.554700196225229\\end{matrix}\\right], \\  \\left[\\begin{matrix}-0.554700196225229 & 0.832050294337844\\end{matrix}\\right]\\right]$"
      ],
      "text/plain": [
       "[[0.832050294337844  0.554700196225229], [-0.554700196225229  0.83205029433784\n",
       "4]]"
      ]
     },
     "metadata": {},
     "output_type": "display_data"
    },
    {
     "data": {
      "text/plain": [
       "'Diagonalized matrix = Q.M.Q^T'"
      ]
     },
     "metadata": {},
     "output_type": "display_data"
    },
    {
     "data": {
      "text/latex": [
       "$\\displaystyle \\left[\\begin{matrix}0.018 & 0\\\\-8.67361737988404 \\cdot 10^{-19} & -0.008\\end{matrix}\\right]$"
      ],
      "text/plain": [
       "⎡        0.018            0   ⎤\n",
       "⎢                             ⎥\n",
       "⎣-8.67361737988404e-19  -0.008⎦"
      ]
     },
     "metadata": {},
     "output_type": "display_data"
    },
    {
     "data": {
      "text/plain": [
       "'Diagonalized matrix = Q.M.Q^T'"
      ]
     },
     "metadata": {},
     "output_type": "display_data"
    },
    {
     "data": {
      "text/latex": [
       "$\\displaystyle \\left[\\begin{matrix}0.018 & 0\\\\0 & -0.008\\end{matrix}\\right]$"
      ],
      "text/plain": [
       "⎡0.018    0   ⎤\n",
       "⎢             ⎥\n",
       "⎣  0    -0.008⎦"
      ]
     },
     "metadata": {},
     "output_type": "display_data"
    }
   ],
   "source": [
    "from sympy import *\n",
    "import sympy as sp\n",
    "sp.init_printing(use_latex=\"mathjax\")\n",
    "small_strain = Matrix([[0.01, 0.012],[0.012, 0]])\n",
    "display(\"\\u03B5_small =\",small_strain) \n",
    "# eigenvalues\n",
    "eigensystem = small_strain.eigenvects()\n",
    "display(\"eigensystem\", eigensystem)\n",
    "eigenvalues = [i[0] for i in eigensystem]\n",
    "eigenvectors = [i[2][0].T for i in eigensystem]\n",
    "neigenvectors = [i/i.norm() for i in eigenvectors]\n",
    "display(\"eigenvalues (principal strains) =\",eigenvalues)\n",
    "display(\"eigenvectors (principal directions) =\",eigenvectors)\n",
    "display(\"Normalized eigenvectors (principal directions) =\",neigenvectors)\n",
    "#The function Matrix ensures the list is a sympy matrix\n",
    "Q = Matrix(neigenvectors)\n",
    "display(\"Diagonalized matrix = Q.M.Q^T\",Q*small_strain*Q.T)\n",
    "display(\"Diagonalized matrix = Q.M.Q^T\",N(Q*small_strain*Q.T,chop=True))"
   ]
  },
  {
   "cell_type": "markdown",
   "metadata": {},
   "source": [
    "4.3.3.5"
   ]
  },
  {
   "cell_type": "code",
   "execution_count": 5,
   "metadata": {
    "scrolled": true
   },
   "outputs": [
    {
     "data": {
      "text/plain": [
       "'ε_small ='"
      ]
     },
     "metadata": {},
     "output_type": "display_data"
    },
    {
     "data": {
      "text/latex": [
       "$\\displaystyle \\left[\\begin{matrix}-0.01 & 0.002 & -0.023\\\\0.002 & 0.05 & 0\\\\-0.023 & 0 & 0.02\\end{matrix}\\right]$"
      ],
      "text/plain": [
       "⎡-0.01   0.002  -0.023⎤\n",
       "⎢                     ⎥\n",
       "⎢0.002   0.05     0   ⎥\n",
       "⎢                     ⎥\n",
       "⎣-0.023    0     0.02 ⎦"
      ]
     },
     "metadata": {},
     "output_type": "display_data"
    },
    {
     "data": {
      "text/plain": [
       "'part 1'"
      ]
     },
     "metadata": {},
     "output_type": "display_data"
    },
    {
     "data": {
      "text/plain": [
       "'dX ='"
      ]
     },
     "metadata": {},
     "output_type": "display_data"
    },
    {
     "data": {
      "text/latex": [
       "$\\displaystyle \\left[\\begin{matrix}1\\\\2\\\\1\\end{matrix}\\right]$"
      ],
      "text/plain": [
       "⎡1⎤\n",
       "⎢ ⎥\n",
       "⎢2⎥\n",
       "⎢ ⎥\n",
       "⎣1⎦"
      ]
     },
     "metadata": {},
     "output_type": "display_data"
    },
    {
     "data": {
      "text/plain": [
       "'norm of dX ='"
      ]
     },
     "metadata": {},
     "output_type": "display_data"
    },
    {
     "data": {
      "text/latex": [
       "$\\displaystyle \\sqrt{6}$"
      ],
      "text/plain": [
       "√6"
      ]
     },
     "metadata": {},
     "output_type": "display_data"
    },
    {
     "data": {
      "text/plain": [
       "'small strain along dX ='"
      ]
     },
     "metadata": {},
     "output_type": "display_data"
    },
    {
     "data": {
      "text/latex": [
       "$\\displaystyle 0.0286666666666667$"
      ],
      "text/plain": [
       "0.0286666666666667"
      ]
     },
     "metadata": {},
     "output_type": "display_data"
    },
    {
     "data": {
      "text/plain": [
       "'part 2'"
      ]
     },
     "metadata": {},
     "output_type": "display_data"
    },
    {
     "data": {
      "text/plain": [
       "'dX ='"
      ]
     },
     "metadata": {},
     "output_type": "display_data"
    },
    {
     "data": {
      "text/latex": [
       "$\\displaystyle \\left[\\begin{matrix}1\\\\0\\\\1\\end{matrix}\\right]$"
      ],
      "text/plain": [
       "⎡1⎤\n",
       "⎢ ⎥\n",
       "⎢0⎥\n",
       "⎢ ⎥\n",
       "⎣1⎦"
      ]
     },
     "metadata": {},
     "output_type": "display_data"
    },
    {
     "data": {
      "text/plain": [
       "'dY ='"
      ]
     },
     "metadata": {},
     "output_type": "display_data"
    },
    {
     "data": {
      "text/latex": [
       "$\\displaystyle \\left[\\begin{matrix}1\\\\1\\\\1\\end{matrix}\\right]$"
      ],
      "text/plain": [
       "⎡1⎤\n",
       "⎢ ⎥\n",
       "⎢1⎥\n",
       "⎢ ⎥\n",
       "⎣1⎦"
      ]
     },
     "metadata": {},
     "output_type": "display_data"
    },
    {
     "data": {
      "text/plain": [
       "'1/2 change of cos of angle between dX and dY ='"
      ]
     },
     "metadata": {},
     "output_type": "display_data"
    },
    {
     "data": {
      "text/latex": [
       "$\\displaystyle -0.0138804418757713$"
      ],
      "text/plain": [
       "-0.0138804418757713"
      ]
     },
     "metadata": {},
     "output_type": "display_data"
    },
    {
     "data": {
      "text/plain": [
       "'Φ ='"
      ]
     },
     "metadata": {},
     "output_type": "display_data"
    },
    {
     "data": {
      "text/latex": [
       "$\\displaystyle 0.615479708670387$"
      ],
      "text/plain": [
       "0.615479708670387"
      ]
     },
     "metadata": {},
     "output_type": "display_data"
    },
    {
     "data": {
      "text/plain": [
       "'degrees'"
      ]
     },
     "metadata": {},
     "output_type": "display_data"
    },
    {
     "data": {
      "text/latex": [
       "$\\displaystyle 35.2643896827547$"
      ],
      "text/plain": [
       "35.2643896827547"
      ]
     },
     "metadata": {},
     "output_type": "display_data"
    },
    {
     "data": {
      "text/plain": [
       "'θ ='"
      ]
     },
     "metadata": {},
     "output_type": "display_data"
    },
    {
     "data": {
      "text/latex": [
       "$\\displaystyle \\operatorname{acos}{\\left(0.816496580927726 - 0.0113333333333333 \\sqrt{6} \\right)}$"
      ],
      "text/plain": [
       "acos(0.816496580927726 - 0.0113333333333333⋅√6)"
      ]
     },
     "metadata": {},
     "output_type": "display_data"
    },
    {
     "data": {
      "text/plain": [
       "'degrees'"
      ]
     },
     "metadata": {},
     "output_type": "display_data"
    },
    {
     "data": {
      "text/latex": [
       "$\\displaystyle 37.9324830839225$"
      ],
      "text/plain": [
       "37.9324830839225"
      ]
     },
     "metadata": {},
     "output_type": "display_data"
    },
    {
     "data": {
      "text/plain": [
       "'part 3'"
      ]
     },
     "metadata": {},
     "output_type": "display_data"
    },
    {
     "data": {
      "text/plain": [
       "'dX ='"
      ]
     },
     "metadata": {},
     "output_type": "display_data"
    },
    {
     "data": {
      "text/latex": [
       "$\\displaystyle \\left[\\begin{matrix}-1\\\\1\\\\0\\end{matrix}\\right]$"
      ],
      "text/plain": [
       "⎡-1⎤\n",
       "⎢  ⎥\n",
       "⎢1 ⎥\n",
       "⎢  ⎥\n",
       "⎣0 ⎦"
      ]
     },
     "metadata": {},
     "output_type": "display_data"
    },
    {
     "data": {
      "text/plain": [
       "'dY ='"
      ]
     },
     "metadata": {},
     "output_type": "display_data"
    },
    {
     "data": {
      "text/latex": [
       "$\\displaystyle \\left[\\begin{matrix}1\\\\1\\\\0\\end{matrix}\\right]$"
      ],
      "text/plain": [
       "⎡1⎤\n",
       "⎢ ⎥\n",
       "⎢1⎥\n",
       "⎢ ⎥\n",
       "⎣0⎦"
      ]
     },
     "metadata": {},
     "output_type": "display_data"
    },
    {
     "data": {
      "text/plain": [
       "'shear strain ='"
      ]
     },
     "metadata": {},
     "output_type": "display_data"
    },
    {
     "data": {
      "text/latex": [
       "$\\displaystyle 0.03$"
      ],
      "text/plain": [
       "0.0300000000000000"
      ]
     },
     "metadata": {},
     "output_type": "display_data"
    }
   ],
   "source": [
    "import sympy as sp\n",
    "from sympy import *\n",
    "sp.init_printing(use_latex=\"mathjax\")\n",
    "small_strain = Matrix([[-0.01, 0.002, -0.023],[0.002, 0.05, 0],[-0.023, 0, 0.02]])\n",
    "display(\"\\u03B5_small =\",small_strain)\n",
    "# part 1\n",
    "display(\"part 1\")\n",
    "dX = Matrix([1,2,1])\n",
    "display(\"dX =\",dX)\n",
    "display(\"norm of dX =\",dX.norm())\n",
    "ndX = dX/dX.norm()\n",
    "display(\"small strain along dX =\",ndX.dot(small_strain*ndX))\n",
    "# part 2\n",
    "display(\"part 2\")\n",
    "dX = Matrix([1,0,1])\n",
    "dY = Matrix([1,1,1])\n",
    "display(\"dX =\",dX)\n",
    "display(\"dY =\",dY)\n",
    "ndX = dX/dX.norm()\n",
    "ndY = dY/dY.norm()\n",
    "small_strain_along = ndX.dot(small_strain*ndY)\n",
    "display(\"1/2 change of cos of angle between dX and dY =\",small_strain_along.evalf())\n",
    "phi = acos(ndX.dot(ndY)).evalf()\n",
    "display(\"\\u03A6 =\",phi,\"degrees\", deg(phi).evalf())\n",
    "theta = acos(small_strain_along*2 + cos(phi))\n",
    "display(\"\\u03B8 =\",theta,\"degrees\", deg(theta).evalf())\n",
    "# part 3\n",
    "display(\"part 3\")\n",
    "dX = Matrix([-1,1,0])\n",
    "dY = Matrix([1,1,0])\n",
    "display(\"dX =\",dX)\n",
    "display(\"dY =\",dY)\n",
    "ndX = dX/dX.norm()\n",
    "ndY = dY/dY.norm()\n",
    "display(\"shear strain =\",ndX.dot(small_strain*ndY).evalf())"
   ]
  },
  {
   "cell_type": "markdown",
   "metadata": {},
   "source": [
    "4.3.3.6"
   ]
  },
  {
   "cell_type": "code",
   "execution_count": 6,
   "metadata": {},
   "outputs": [
    {
     "data": {
      "text/latex": [
       "$\\displaystyle ε_{small}=$"
      ],
      "text/plain": [
       "ε_{small}="
      ]
     },
     "metadata": {},
     "output_type": "display_data"
    },
    {
     "data": {
      "text/latex": [
       "$\\displaystyle \\left[\\begin{matrix}ε_{11} & ε_{12}\\\\ε_{12} & ε_{22}\\end{matrix}\\right]$"
      ],
      "text/plain": [
       "⎡ε_{11}  ε_{12}⎤\n",
       "⎢              ⎥\n",
       "⎣ε_{12}  ε_{22}⎦"
      ]
     },
     "metadata": {},
     "output_type": "display_data"
    },
    {
     "data": {
      "text/plain": [
       "'a ='"
      ]
     },
     "metadata": {},
     "output_type": "display_data"
    },
    {
     "data": {
      "text/latex": [
       "$\\displaystyle \\left[\\begin{matrix}\\frac{\\sqrt{3}}{2}\\\\\\frac{1}{2}\\end{matrix}\\right]$"
      ],
      "text/plain": [
       "⎡√3 ⎤\n",
       "⎢── ⎥\n",
       "⎢2  ⎥\n",
       "⎢   ⎥\n",
       "⎣1/2⎦"
      ]
     },
     "metadata": {},
     "output_type": "display_data"
    },
    {
     "data": {
      "text/plain": [
       "'b ='"
      ]
     },
     "metadata": {},
     "output_type": "display_data"
    },
    {
     "data": {
      "text/latex": [
       "$\\displaystyle \\left[\\begin{matrix}0\\\\1\\end{matrix}\\right]$"
      ],
      "text/plain": [
       "⎡0⎤\n",
       "⎢ ⎥\n",
       "⎣1⎦"
      ]
     },
     "metadata": {},
     "output_type": "display_data"
    },
    {
     "data": {
      "text/plain": [
       "'c ='"
      ]
     },
     "metadata": {},
     "output_type": "display_data"
    },
    {
     "data": {
      "text/latex": [
       "$\\displaystyle \\left[\\begin{matrix}- \\frac{\\sqrt{3}}{2}\\\\\\frac{1}{2}\\end{matrix}\\right]$"
      ],
      "text/plain": [
       "⎡-√3 ⎤\n",
       "⎢────⎥\n",
       "⎢ 2  ⎥\n",
       "⎢    ⎥\n",
       "⎣1/2 ⎦"
      ]
     },
     "metadata": {},
     "output_type": "display_data"
    },
    {
     "data": {
      "text/plain": [
       "'Systems of equations:'"
      ]
     },
     "metadata": {},
     "output_type": "display_data"
    },
    {
     "data": {
      "text/latex": [
       "$\\displaystyle \\frac{3 ε_{11}}{4} + \\frac{\\sqrt{3} ε_{12}}{2} + \\frac{ε_{22}}{4} - \\frac{1}{200}$"
      ],
      "text/plain": [
       "3⋅ε_{11}   √3⋅ε_{12}   ε_{22}    1 \n",
       "──────── + ───────── + ────── - ───\n",
       "   4           2         4      200"
      ]
     },
     "metadata": {},
     "output_type": "display_data"
    },
    {
     "data": {
      "text/latex": [
       "$\\displaystyle ε_{22} - \\frac{1}{500}$"
      ],
      "text/plain": [
       "ε_{22} - 1/500"
      ]
     },
     "metadata": {},
     "output_type": "display_data"
    },
    {
     "data": {
      "text/latex": [
       "$\\displaystyle \\frac{3 ε_{11}}{4} - \\frac{\\sqrt{3} ε_{12}}{2} + \\frac{ε_{22}}{4} + \\frac{1}{1000}$"
      ],
      "text/plain": [
       "3⋅ε_{11}   √3⋅ε_{12}   ε_{22}    1  \n",
       "──────── - ───────── + ────── + ────\n",
       "   4           2         4      1000"
      ]
     },
     "metadata": {},
     "output_type": "display_data"
    },
    {
     "data": {
      "text/latex": [
       "$\\displaystyle ε_{small}=$"
      ],
      "text/plain": [
       "ε_{small}="
      ]
     },
     "metadata": {},
     "output_type": "display_data"
    },
    {
     "data": {
      "text/latex": [
       "$\\displaystyle \\left[\\begin{matrix}\\frac{1}{500} & \\frac{\\sqrt{3}}{500}\\\\\\frac{\\sqrt{3}}{500} & \\frac{1}{500}\\end{matrix}\\right]$"
      ],
      "text/plain": [
       "⎡         √3 ⎤\n",
       "⎢1/500   ─── ⎥\n",
       "⎢        500 ⎥\n",
       "⎢            ⎥\n",
       "⎢  √3        ⎥\n",
       "⎢ ───   1/500⎥\n",
       "⎣ 500        ⎦"
      ]
     },
     "metadata": {},
     "output_type": "display_data"
    },
    {
     "data": {
      "text/latex": [
       "$\\displaystyle ε_{small}=$"
      ],
      "text/plain": [
       "ε_{small}="
      ]
     },
     "metadata": {},
     "output_type": "display_data"
    },
    {
     "data": {
      "text/latex": [
       "$\\displaystyle \\left[\\begin{matrix}0.002 & 0.00346410161513775\\\\0.00346410161513775 & 0.002\\end{matrix}\\right]$"
      ],
      "text/plain": [
       "⎡       0.002         0.00346410161513775⎤\n",
       "⎢                                        ⎥\n",
       "⎣0.00346410161513775         0.002       ⎦"
      ]
     },
     "metadata": {},
     "output_type": "display_data"
    },
    {
     "data": {
      "text/plain": [
       "'eigensystem'"
      ]
     },
     "metadata": {},
     "output_type": "display_data"
    },
    {
     "data": {
      "text/latex": [
       "$\\displaystyle \\left[ \\left( -0.00146410161513775, \\  1, \\  \\left[ \\left[\\begin{matrix}-0.707106781186548\\\\0.707106781186548\\end{matrix}\\right]\\right]\\right), \\  \\left( 0.00546410161513775, \\  1, \\  \\left[ \\left[\\begin{matrix}-0.707106781186548\\\\-0.707106781186548\\end{matrix}\\right]\\right]\\right)\\right]$"
      ],
      "text/plain": [
       "⎡⎛                         ⎡⎡-0.707106781186548⎤⎤⎞  ⎛                        ⎡\n",
       "⎢⎜-0.00146410161513775, 1, ⎢⎢                  ⎥⎥⎟, ⎜0.00546410161513775, 1, ⎢\n",
       "⎣⎝                         ⎣⎣0.707106781186548 ⎦⎦⎠  ⎝                        ⎣\n",
       "\n",
       "⎡-0.707106781186548⎤⎤⎞⎤\n",
       "⎢                  ⎥⎥⎟⎥\n",
       "⎣-0.707106781186548⎦⎦⎠⎦"
      ]
     },
     "metadata": {},
     "output_type": "display_data"
    },
    {
     "data": {
      "text/plain": [
       "'eigenvalues (principal strains) ='"
      ]
     },
     "metadata": {},
     "output_type": "display_data"
    },
    {
     "data": {
      "text/latex": [
       "$\\displaystyle \\left[ -0.00146410161513775, \\  0.00546410161513775\\right]$"
      ],
      "text/plain": [
       "[-0.00146410161513775, 0.00546410161513775]"
      ]
     },
     "metadata": {},
     "output_type": "display_data"
    },
    {
     "data": {
      "text/plain": [
       "'eigenvectors (principal directions) ='"
      ]
     },
     "metadata": {},
     "output_type": "display_data"
    },
    {
     "data": {
      "text/latex": [
       "$\\displaystyle \\left[ \\left[\\begin{matrix}-0.707106781186548 & 0.707106781186548\\end{matrix}\\right], \\  \\left[\\begin{matrix}-0.707106781186548 & -0.707106781186548\\end{matrix}\\right]\\right]$"
      ],
      "text/plain": [
       "[[-0.707106781186548  0.707106781186548], [-0.707106781186548  -0.707106781186\n",
       "548]]"
      ]
     },
     "metadata": {},
     "output_type": "display_data"
    },
    {
     "data": {
      "text/plain": [
       "'Normalized eigenvectors (principal directions) ='"
      ]
     },
     "metadata": {},
     "output_type": "display_data"
    },
    {
     "data": {
      "text/latex": [
       "$\\displaystyle \\left[ \\left[\\begin{matrix}-0.707106781186548 & 0.707106781186548\\end{matrix}\\right], \\  \\left[\\begin{matrix}-0.707106781186548 & -0.707106781186548\\end{matrix}\\right]\\right]$"
      ],
      "text/plain": [
       "[[-0.707106781186548  0.707106781186548], [-0.707106781186548  -0.707106781186\n",
       "548]]"
      ]
     },
     "metadata": {},
     "output_type": "display_data"
    }
   ],
   "source": [
    "from sympy import *\n",
    "import sympy as sp\n",
    "sp.init_printing(use_latex=\"mathjax\")\n",
    "E11, E12, E22 = sp.symbols(\"\\u03B5_{11} \\u03B5_{12} \\u03B5_{22}\")\n",
    "E_s = sp.symbols(\"\\u03B5_{small}=\")\n",
    "E_small = Matrix([[E11, E12],[E12, E22]])\n",
    "display(E_s,E_small)\n",
    "theta = sp.symbols(\"\\u03B8\")\n",
    "a = Matrix([sp.cos(theta), sp.sin(theta)])\n",
    "b = Matrix([0,1])\n",
    "c = Matrix([-sp.cos(theta), sp.sin(theta)])\n",
    "a, c = a.subs({theta:30*sp.pi/180}), c.subs({theta:30*sp.pi/180})\n",
    "display(\"a =\",a)\n",
    "display(\"b =\",b)\n",
    "display(\"c =\",c)\n",
    "strain = Matrix([Rational('5/1000'), Rational('2/1000'),Rational('-1/1000')])\n",
    "eq1 = simplify(a.dot(E_small*a)) - strain[0]\n",
    "eq2 = simplify(b.dot(E_small*b)) - strain[1]\n",
    "eq3 = simplify(c.dot(E_small*c)) - strain[2]\n",
    "display(\"Systems of equations:\")\n",
    "display(eq1)\n",
    "display(eq2)\n",
    "display(eq3)\n",
    "sol = solve([eq1, eq2, eq3],[E11, E12, E22])\n",
    "E_small = E_small.subs({E11:sol[E11],E12:sol[E12],E22:sol[E22]})\n",
    "display(E_s,E_small)\n",
    "E_small = N(E_small)\n",
    "display(E_s,E_small)\n",
    "eigensystem = E_small.eigenvects()\n",
    "display(\"eigensystem\", eigensystem)\n",
    "eigenvalues=[i[0] for i in eigensystem]\n",
    "eigenvectors=[i[2][0].T for i in eigensystem]\n",
    "neigenvectors=[i/i.norm() for i in eigenvectors]\n",
    "display(\"eigenvalues (principal strains) =\",eigenvalues)\n",
    "display(\"eigenvectors (principal directions) =\",eigenvectors)\n",
    "display(\"Normalized eigenvectors (principal directions) =\",neigenvectors)"
   ]
  },
  {
   "cell_type": "markdown",
   "metadata": {},
   "source": [
    "4.3.3.7"
   ]
  },
  {
   "cell_type": "code",
   "execution_count": 7,
   "metadata": {
    "scrolled": false
   },
   "outputs": [
    {
     "data": {
      "text/plain": [
       "'u ='"
      ]
     },
     "metadata": {},
     "output_type": "display_data"
    },
    {
     "data": {
      "text/latex": [
       "$\\displaystyle \\left[\\begin{matrix}0.2 X_{1}\\\\0.09 X_{1} X_{2}\\end{matrix}\\right]$"
      ],
      "text/plain": [
       "⎡  0.2⋅X₁  ⎤\n",
       "⎢          ⎥\n",
       "⎣0.09⋅X₁⋅X₂⎦"
      ]
     },
     "metadata": {},
     "output_type": "display_data"
    },
    {
     "data": {
      "text/plain": [
       "'x ='"
      ]
     },
     "metadata": {},
     "output_type": "display_data"
    },
    {
     "data": {
      "text/latex": [
       "$\\displaystyle \\left[\\begin{matrix}1.2 X_{1}\\\\0.09 X_{1} X_{2} + X_{2}\\end{matrix}\\right]$"
      ],
      "text/plain": [
       "⎡    1.2⋅X₁     ⎤\n",
       "⎢               ⎥\n",
       "⎣0.09⋅X₁⋅X₂ + X₂⎦"
      ]
     },
     "metadata": {},
     "output_type": "display_data"
    },
    {
     "data": {
      "text/plain": [
       "'F ='"
      ]
     },
     "metadata": {},
     "output_type": "display_data"
    },
    {
     "data": {
      "text/latex": [
       "$\\displaystyle \\left[\\begin{matrix}1.2 & 0\\\\0.09 X_{2} & 0.09 X_{1} + 1\\end{matrix}\\right]$"
      ],
      "text/plain": [
       "⎡  1.2         0     ⎤\n",
       "⎢                    ⎥\n",
       "⎣0.09⋅X₂  0.09⋅X₁ + 1⎦"
      ]
     },
     "metadata": {},
     "output_type": "display_data"
    },
    {
     "data": {
      "text/plain": [
       "'∇u ='"
      ]
     },
     "metadata": {},
     "output_type": "display_data"
    },
    {
     "data": {
      "text/latex": [
       "$\\displaystyle \\left[\\begin{matrix}0.2 & 0\\\\0.09 X_{2} & 0.09 X_{1}\\end{matrix}\\right]$"
      ],
      "text/plain": [
       "⎡  0.2       0   ⎤\n",
       "⎢                ⎥\n",
       "⎣0.09⋅X₂  0.09⋅X₁⎦"
      ]
     },
     "metadata": {},
     "output_type": "display_data"
    },
    {
     "data": {
      "text/plain": [
       "'small strain ='"
      ]
     },
     "metadata": {},
     "output_type": "display_data"
    },
    {
     "data": {
      "text/latex": [
       "$\\displaystyle \\left[\\begin{matrix}0.2 & 0.045 X_{2}\\\\0.045 X_{2} & 0.09 X_{1}\\end{matrix}\\right]$"
      ],
      "text/plain": [
       "⎡  0.2     0.045⋅X₂⎤\n",
       "⎢                  ⎥\n",
       "⎣0.045⋅X₂  0.09⋅X₁ ⎦"
      ]
     },
     "metadata": {},
     "output_type": "display_data"
    },
    {
     "data": {
      "text/plain": [
       "'green strain ='"
      ]
     },
     "metadata": {},
     "output_type": "display_data"
    },
    {
     "data": {
      "text/latex": [
       "$\\displaystyle \\left[\\begin{matrix}0.00405 X_{2}^{2} + 0.22 & 0.00405 X_{1} X_{2} + 0.045 X_{2}\\\\0.00405 X_{1} X_{2} + 0.045 X_{2} & 0.00405 X_{1}^{2} + 0.09 X_{1}\\end{matrix}\\right]$"
      ],
      "text/plain": [
       "⎡             2                                    ⎤\n",
       "⎢   0.00405⋅X₂  + 0.22     0.00405⋅X₁⋅X₂ + 0.045⋅X₂⎥\n",
       "⎢                                                  ⎥\n",
       "⎢                                     2            ⎥\n",
       "⎣0.00405⋅X₁⋅X₂ + 0.045⋅X₂   0.00405⋅X₁  + 0.09⋅X₁  ⎦"
      ]
     },
     "metadata": {},
     "output_type": "display_data"
    },
    {
     "data": {
      "image/png": "[encoded data removed]",
      "text/plain": [
       "<Figure size 432x288 with 1 Axes>"
      ]
     },
     "metadata": {
      "needs_background": "light"
     },
     "output_type": "display_data"
    },
    {
     "data": {
      "image/png": "[encoded data removed]",
      "text/plain": [
       "<Figure size 432x288 with 2 Axes>"
      ]
     },
     "metadata": {
      "needs_background": "light"
     },
     "output_type": "display_data"
    },
    {
     "data": {
      "image/png": "[encoded data removed]",
      "text/plain": [
       "<Figure size 432x288 with 2 Axes>"
      ]
     },
     "metadata": {
      "needs_background": "light"
     },
     "output_type": "display_data"
    },
    {
     "data": {
      "image/png": "[encoded data removed]",
      "text/plain": [
       "<Figure size 432x288 with 2 Axes>"
      ]
     },
     "metadata": {
      "needs_background": "light"
     },
     "output_type": "display_data"
    },
    {
     "data": {
      "image/png": "[encoded data removed]",
      "text/plain": [
       "<Figure size 432x288 with 2 Axes>"
      ]
     },
     "metadata": {
      "needs_background": "light"
     },
     "output_type": "display_data"
    },
    {
     "data": {
      "image/png": "[encoded data removed]",
      "text/plain": [
       "<Figure size 432x288 with 2 Axes>"
      ]
     },
     "metadata": {
      "needs_background": "light"
     },
     "output_type": "display_data"
    },
    {
     "data": {
      "image/png": "[encoded data removed]",
      "text/plain": [
       "<Figure size 432x288 with 2 Axes>"
      ]
     },
     "metadata": {
      "needs_background": "light"
     },
     "output_type": "display_data"
    }
   ],
   "source": [
    "from sympy import *\n",
    "import sympy as sp\n",
    "from mpl_toolkits.mplot3d import Axes3D\n",
    "import matplotlib.pyplot as plt\n",
    "import numpy as np\n",
    "sp.init_printing(use_latex=\"mathjax\")\n",
    "# calculation\n",
    "X1, X2 = sp.symbols(\"X_1 X_2\")\n",
    "u = Matrix([0.2*X1, 0.09*X2*X1])\n",
    "display(\"u =\",u)\n",
    "X = Matrix([X1, X2])\n",
    "x = X + u\n",
    "display(\"x =\", x)\n",
    "F = Matrix([[diff(xi,Xj) for Xj in X] for xi in x])\n",
    "display(\"F =\",F)\n",
    "grad_u = F - eye(2)\n",
    "display(\"\\u2207u =\",grad_u)\n",
    "small_strain = (grad_u+grad_u.T)/2\n",
    "display(\"small strain =\",small_strain)\n",
    "green_strain = (grad_u+grad_u.T+grad_u.T*grad_u)/2\n",
    "display(\"green strain =\",green_strain)\n",
    "# plots\n",
    "\n",
    "# vector plots\n",
    "def plotVector(f, limits, title):\n",
    "    fx, fy = [lambdify((X1,X2),fi) for fi in f]\n",
    "    x1, xn, y1, yn = limits\n",
    "    dx, dy = 10/100*(xn-x1),10/100*(yn-y1)\n",
    "    xrange = np.arange(x1,xn,dx)\n",
    "    yrange = np.arange(y1,yn,dy)\n",
    "    X, Y = np.meshgrid(xrange, yrange)\n",
    "    dxplot, dyplot = fx(X,Y), fy(X,Y)\n",
    "    fig = plt.figure()\n",
    "    ax = fig.add_subplot(111)\n",
    "    ax.quiver(X, Y, dxplot, dyplot)\n",
    "    plt.title(title)\n",
    "# contour plots\n",
    "def plotContour(f, limits, title):\n",
    "    x1, xn, y1, yn = limits\n",
    "    dx, dy = 10/100*(xn-x1),10/100*(yn - y1)\n",
    "    xrange = np.arange(x1,x1+xn,dx)\n",
    "    yrange = np.arange(y1,y1+yn,dy)\n",
    "    X, Y = np.meshgrid(xrange, yrange)\n",
    "    lx, ly = len(xrange), len(yrange)\n",
    "    F = lambdify((X1,X2),f)\n",
    "    # if F is constant, then generates array\n",
    "    # if F generates array, doesn't change anything\n",
    "    Z = F(X,Y)*np.ones(lx*ly).reshape(lx, ly)\n",
    "    fig = plt.figure()\n",
    "    ax = fig.add_subplot(111)\n",
    "    cp = ax.contourf(X,Y,Z)\n",
    "    fig.colorbar(cp)\n",
    "    plt.title(title)\n",
    "# vector plot of u\n",
    "plotVector(u,[0,2,0,2],'u' )\n",
    "# small strain plots\n",
    "plotContour(small_strain[0,0],[0,2,0,2],'\\u03B5_small (1,1)')\n",
    "plotContour(small_strain[0,1],[0,2,0,2],'\\u03B5_small (1,2)')\n",
    "plotContour(small_strain[1,1],[0,2,0,2],'\\u03B5_small (2,2)')\n",
    "# green strain plots\n",
    "plotContour(green_strain[0,0],[0,2,0,2],'\\u03B5_Green (1,1)')\n",
    "plotContour(green_strain[0,1],[0,2,0,2],'\\u03B5_Green (1,2)')\n",
    "plotContour(green_strain[1,1],[0,2,0,2],'\\u03B5_Green (2,2)')"
   ]
  }
 ],
 "metadata": {
  "kernelspec": {
   "display_name": "Python 3",
   "language": "python",
   "name": "python3"
  },
  "language_info": {
   "codemirror_mode": {
    "name": "ipython",
    "version": 3
   },
   "file_extension": ".py",
   "mimetype": "text/x-python",
   "name": "python",
   "nbconvert_exporter": "python",
   "pygments_lexer": "ipython3",
   "version": "3.8.5"
  }
 },
 "nbformat": 4,
 "nbformat_minor": 4
}
