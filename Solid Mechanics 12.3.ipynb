{
 "cells": [
  {
   "cell_type": "markdown",
   "metadata": {},
   "source": [
    "https://engcourses-uofa.ca/books/introduction-to-solid-mechanics/finite-element-analysis/two-dimensional-solid-elements/triangular-elements/"
   ]
  },
  {
   "cell_type": "markdown",
   "metadata": {},
   "source": [
    "12.3.1.1"
   ]
  },
  {
   "cell_type": "markdown",
   "metadata": {},
   "source": [
    "Linear Triangular Element"
   ]
  },
  {
   "cell_type": "code",
   "execution_count": 1,
   "metadata": {},
   "outputs": [
    {
     "data": {
      "text/plain": [
       "'u ='"
      ]
     },
     "metadata": {},
     "output_type": "display_data"
    },
    {
     "data": {
      "text/latex": [
       "$\\displaystyle a_{0} + a_{1} x_{1} + a_{2} x_{2}$"
      ],
      "text/plain": [
       "a_0 + a_1*x_1 + a_2*x_2"
      ]
     },
     "metadata": {},
     "output_type": "display_data"
    },
    {
     "data": {
      "text/plain": [
       "'v ='"
      ]
     },
     "metadata": {},
     "output_type": "display_data"
    },
    {
     "data": {
      "text/latex": [
       "$\\displaystyle b_{0} + b_{1} x_{1} + b_{2} x_{2}$"
      ],
      "text/plain": [
       "b_0 + b_1*x_1 + b_2*x_2"
      ]
     },
     "metadata": {},
     "output_type": "display_data"
    },
    {
     "data": {
      "text/plain": [
       "'Coordinates: '"
      ]
     },
     "metadata": {},
     "output_type": "display_data"
    },
    {
     "data": {
      "text/plain": [
       "[{x_1: 0, x_2: 0}, {x_1: 1, x_2: 0}, {x_1: 0, x_2: 1}]"
      ]
     },
     "metadata": {},
     "output_type": "display_data"
    },
    {
     "data": {
      "text/plain": [
       "'Solve: '"
      ]
     },
     "metadata": {},
     "output_type": "display_data"
    },
    {
     "data": {
      "text/plain": [
       "{a_0: u_1,\n",
       " a_1: -u_1 + u_2,\n",
       " a_2: -u_1 + u_3,\n",
       " b_0: v_1,\n",
       " b_1: -v_1 + v_2,\n",
       " b_2: -v_1 + v_3}"
      ]
     },
     "metadata": {},
     "output_type": "display_data"
    },
    {
     "data": {
      "text/plain": [
       "'u ='"
      ]
     },
     "metadata": {},
     "output_type": "display_data"
    },
    {
     "data": {
      "text/latex": [
       "$\\displaystyle - u_{1} x_{1} - u_{1} x_{2} + u_{1} + u_{2} x_{1} + u_{3} x_{2}$"
      ],
      "text/plain": [
       "-u_1*x_1 - u_1*x_2 + u_1 + u_2*x_1 + u_3*x_2"
      ]
     },
     "metadata": {},
     "output_type": "display_data"
    },
    {
     "data": {
      "text/plain": [
       "'v ='"
      ]
     },
     "metadata": {},
     "output_type": "display_data"
    },
    {
     "data": {
      "text/latex": [
       "$\\displaystyle - v_{1} x_{1} - v_{1} x_{2} + v_{1} + v_{2} x_{1} + v_{3} x_{2}$"
      ],
      "text/plain": [
       "-v_1*x_1 - v_1*x_2 + v_1 + v_2*x_1 + v_3*x_2"
      ]
     },
     "metadata": {},
     "output_type": "display_data"
    },
    {
     "data": {
      "text/plain": [
       "'N1u1 ='"
      ]
     },
     "metadata": {},
     "output_type": "display_data"
    },
    {
     "data": {
      "text/latex": [
       "$\\displaystyle - x_{1} - x_{2} + 1$"
      ],
      "text/plain": [
       "-x_1 - x_2 + 1"
      ]
     },
     "metadata": {},
     "output_type": "display_data"
    },
    {
     "data": {
      "text/plain": [
       "'N1v1 ='"
      ]
     },
     "metadata": {},
     "output_type": "display_data"
    },
    {
     "data": {
      "text/latex": [
       "$\\displaystyle - x_{1} - x_{2} + 1$"
      ],
      "text/plain": [
       "-x_1 - x_2 + 1"
      ]
     },
     "metadata": {},
     "output_type": "display_data"
    },
    {
     "data": {
      "text/plain": [
       "'N2u2 ='"
      ]
     },
     "metadata": {},
     "output_type": "display_data"
    },
    {
     "data": {
      "text/latex": [
       "$\\displaystyle x_{1}$"
      ],
      "text/plain": [
       "x_1"
      ]
     },
     "metadata": {},
     "output_type": "display_data"
    },
    {
     "data": {
      "text/plain": [
       "'N2v2 ='"
      ]
     },
     "metadata": {},
     "output_type": "display_data"
    },
    {
     "data": {
      "text/latex": [
       "$\\displaystyle x_{1}$"
      ],
      "text/plain": [
       "x_1"
      ]
     },
     "metadata": {},
     "output_type": "display_data"
    },
    {
     "data": {
      "text/plain": [
       "'N3u3 ='"
      ]
     },
     "metadata": {},
     "output_type": "display_data"
    },
    {
     "data": {
      "text/latex": [
       "$\\displaystyle x_{2}$"
      ],
      "text/plain": [
       "x_2"
      ]
     },
     "metadata": {},
     "output_type": "display_data"
    },
    {
     "data": {
      "text/plain": [
       "'N3v3 ='"
      ]
     },
     "metadata": {},
     "output_type": "display_data"
    },
    {
     "data": {
      "text/latex": [
       "$\\displaystyle x_{2}$"
      ],
      "text/plain": [
       "x_2"
      ]
     },
     "metadata": {},
     "output_type": "display_data"
    }
   ],
   "source": [
    "import sympy as sp\n",
    "from sympy import solve\n",
    "a0,a1,a2,x1,x2 = sp.symbols(\"a_0 a_1 a_2 x_1 x_2\")\n",
    "b0,b1,b2= sp.symbols(\"b_0 b_1 b_2\")\n",
    "u1,u2,u3,v1,v2,v3 = sp.symbols(\"u_1 u_2 u_3 v_1 v_2 v_3\")\n",
    "u = a0+a1*x1+a2*x2\n",
    "v = b0+b1*x1+b2*x2\n",
    "display(\"u =\",u,\"v =\",v)\n",
    "Coordinates = [{x1:0,x2:0},{x1:1,x2:0},{x1:0,x2:1}]\n",
    "display(\"Coordinates: \",Coordinates)\n",
    "Eq1 = u.subs(Coordinates[0])\n",
    "Eq2 = u.subs(Coordinates[1])\n",
    "Eq3 = u.subs(Coordinates[2])\n",
    "Eq4 = v.subs(Coordinates[0])\n",
    "Eq5 = v.subs(Coordinates[1])\n",
    "Eq6 = v.subs(Coordinates[2])\n",
    "s = solve((Eq1-u1,Eq2-u2,Eq3-u3,Eq4-v1,Eq5-v2,Eq6-v3),\n",
    "          (a0,a1,a2,b0,b1,b2))\n",
    "display(\"Solve: \",s)\n",
    "u = u.subs(s).expand()\n",
    "v = v.subs(s).expand()\n",
    "display(\"u =\",u,\"v =\",v)\n",
    "N1_u = u.coeff(u1)\n",
    "N1_v = v.coeff(v1)\n",
    "N2_u = u.coeff(u2)\n",
    "N2_v = v.coeff(v2)\n",
    "N3_u = u.coeff(u3)\n",
    "N3_v = v.coeff(v3)\n",
    "display(\"N1u1 =\",N1_u,\"N1v1 =\",N1_v,\"N2u2 =\",N2_u,\n",
    "        \"N2v2 =\",N2_v,\"N3u3 =\",N3_u,\"N3v3 =\",N3_v)"
   ]
  },
  {
   "cell_type": "code",
   "execution_count": 2,
   "metadata": {
    "scrolled": false
   },
   "outputs": [
    {
     "data": {
      "text/plain": [
       "'K^e ='"
      ]
     },
     "metadata": {},
     "output_type": "display_data"
    },
    {
     "data": {
      "text/latex": [
       "$\\displaystyle \\left[\\begin{matrix}\\frac{E t \\left(2.0 \\nu - 1.5\\right)}{2 \\left(\\nu + 1\\right) \\left(2 \\nu - 1\\right)} & - \\frac{0.25 E t}{\\left(\\nu + 1\\right) \\left(2 \\nu - 1\\right)} & - \\frac{E t \\left(\\nu - 1\\right)}{2 \\left(\\nu + 1\\right) \\left(2 \\nu - 1\\right)} & - \\frac{0.25 E t}{\\nu + 1} & - \\frac{0.25 E t}{\\nu + 1} & \\frac{E \\nu t}{2 \\left(\\nu + 1\\right) \\left(2 \\nu - 1\\right)}\\\\- \\frac{0.25 E t}{\\left(\\nu + 1\\right) \\left(2 \\nu - 1\\right)} & \\frac{E t \\left(2.0 \\nu - 1.5\\right)}{2 \\left(\\nu + 1\\right) \\left(2 \\nu - 1\\right)} & \\frac{E \\nu t}{2 \\left(\\nu + 1\\right) \\left(2 \\nu - 1\\right)} & - \\frac{0.25 E t}{\\nu + 1} & - \\frac{0.25 E t}{\\nu + 1} & - \\frac{E t \\left(\\nu - 1\\right)}{2 \\left(\\nu + 1\\right) \\left(2 \\nu - 1\\right)}\\\\- \\frac{E t \\left(\\nu - 1\\right)}{2 \\left(\\nu + 1\\right) \\left(2 \\nu - 1\\right)} & \\frac{E \\nu t}{2 \\left(\\nu + 1\\right) \\left(2 \\nu - 1\\right)} & \\frac{E t \\left(\\nu - 1\\right)}{2 \\left(\\nu + 1\\right) \\left(2 \\nu - 1\\right)} & 0 & 0 & - \\frac{E \\nu t}{2 \\left(\\nu + 1\\right) \\left(2 \\nu - 1\\right)}\\\\- \\frac{0.25 E t}{\\nu + 1} & - \\frac{0.25 E t}{\\nu + 1} & 0 & \\frac{0.25 E t}{\\nu + 1} & \\frac{0.25 E t}{\\nu + 1} & 0\\\\- \\frac{0.25 E t}{\\nu + 1} & - \\frac{0.25 E t}{\\nu + 1} & 0 & \\frac{0.25 E t}{\\nu + 1} & \\frac{0.25 E t}{\\nu + 1} & 0\\\\\\frac{E \\nu t}{2 \\left(\\nu + 1\\right) \\left(2 \\nu - 1\\right)} & - \\frac{E t \\left(\\nu - 1\\right)}{2 \\left(\\nu + 1\\right) \\left(2 \\nu - 1\\right)} & - \\frac{E \\nu t}{2 \\left(\\nu + 1\\right) \\left(2 \\nu - 1\\right)} & 0 & 0 & \\frac{E t \\left(\\nu - 1\\right)}{2 \\left(\\nu + 1\\right) \\left(2 \\nu - 1\\right)}\\end{matrix}\\right]$"
      ],
      "text/plain": [
       "Matrix([\n",
       "[E*t*(2.0*nu - 1.5)/(2*(nu + 1)*(2*nu - 1)),            -0.25*E*t/((nu + 1)*(2*nu - 1)), -E*t*(nu - 1)/(2*(nu + 1)*(2*nu - 1)), -0.25*E*t/(nu + 1), -0.25*E*t/(nu + 1),        E*nu*t/(2*(nu + 1)*(2*nu - 1))],\n",
       "[           -0.25*E*t/((nu + 1)*(2*nu - 1)), E*t*(2.0*nu - 1.5)/(2*(nu + 1)*(2*nu - 1)),        E*nu*t/(2*(nu + 1)*(2*nu - 1)), -0.25*E*t/(nu + 1), -0.25*E*t/(nu + 1), -E*t*(nu - 1)/(2*(nu + 1)*(2*nu - 1))],\n",
       "[     -E*t*(nu - 1)/(2*(nu + 1)*(2*nu - 1)),             E*nu*t/(2*(nu + 1)*(2*nu - 1)),  E*t*(nu - 1)/(2*(nu + 1)*(2*nu - 1)),                  0,                  0,       -E*nu*t/(2*(nu + 1)*(2*nu - 1))],\n",
       "[                        -0.25*E*t/(nu + 1),                         -0.25*E*t/(nu + 1),                                     0,  0.25*E*t/(nu + 1),  0.25*E*t/(nu + 1),                                     0],\n",
       "[                        -0.25*E*t/(nu + 1),                         -0.25*E*t/(nu + 1),                                     0,  0.25*E*t/(nu + 1),  0.25*E*t/(nu + 1),                                     0],\n",
       "[            E*nu*t/(2*(nu + 1)*(2*nu - 1)),      -E*t*(nu - 1)/(2*(nu + 1)*(2*nu - 1)),       -E*nu*t/(2*(nu + 1)*(2*nu - 1)),                  0,                  0,  E*t*(nu - 1)/(2*(nu + 1)*(2*nu - 1))]])"
      ]
     },
     "metadata": {},
     "output_type": "display_data"
    }
   ],
   "source": [
    "import sympy as sp\n",
    "from sympy import Matrix,simplify\n",
    "Ee,nu,t = sp.symbols(\"E nu t\")\n",
    "B = Matrix([[-1,0,1,0,0,0],[0,-1,0,0,0,1],[-1,-1,0,1,1,0]])\n",
    "\n",
    "Cc = Ee*t/2/(1 + nu)*Matrix([[(1-nu)/(1-2*nu),nu/(1-2*nu),0], \n",
    "                         [nu/(1-2*nu),(1-nu)/(1-2*nu), 0], \n",
    "                         [0, 0, 1/2]])\n",
    "K = simplify(B.T*Cc*B)\n",
    "display(\"K^e =\",K)"
   ]
  },
  {
   "cell_type": "code",
   "execution_count": 3,
   "metadata": {
    "scrolled": false
   },
   "outputs": [
    {
     "data": {
      "text/plain": [
       "'Nodal Force due to Body Force:'"
      ]
     },
     "metadata": {},
     "output_type": "display_data"
    },
    {
     "data": {
      "text/plain": [
       "'f^e ='"
      ]
     },
     "metadata": {},
     "output_type": "display_data"
    },
    {
     "data": {
      "text/latex": [
       "$\\displaystyle \\left[\\begin{matrix}\\frac{\\rho_{1}}{6}\\\\\\frac{\\rho_{2}}{6}\\\\\\frac{\\rho_{1}}{6}\\\\\\frac{\\rho_{2}}{6}\\\\\\frac{\\rho_{1}}{6}\\\\\\frac{\\rho_{2}}{6}\\end{matrix}\\right]$"
      ],
      "text/plain": [
       "Matrix([\n",
       "[rho_1/6],\n",
       "[rho_2/6],\n",
       "[rho_1/6],\n",
       "[rho_2/6],\n",
       "[rho_1/6],\n",
       "[rho_2/6]])"
      ]
     },
     "metadata": {},
     "output_type": "display_data"
    }
   ],
   "source": [
    "import sympy as sp\n",
    "from sympy import Matrix,integrate\n",
    "x1,x2,rb1,rb2 = sp.symbols(\"x_1 x_2 rho_1 rho_2\")\n",
    "Shapefun = Matrix([[1-x1-x2],[x1],[x2]])\n",
    "Nn = Matrix([[0 for x in range(6)] for y in range(2)])\n",
    "for i in range(3):\n",
    "    Nn[0,2*i] = Nn[1,2*i+1] = Shapefun[i]\n",
    "rb = Matrix([[rb1],[rb2]])\n",
    "f = Matrix([[integrate(i,(x1,0,1-x2),(x2,0,1))]for i in Nn.T*rb])\n",
    "display(\"Nodal Force due to Body Force:\")\n",
    "display(\"f^e =\",f)"
   ]
  },
  {
   "cell_type": "code",
   "execution_count": 4,
   "metadata": {
    "scrolled": true
   },
   "outputs": [
    {
     "data": {
      "text/plain": [
       "'Nodal Force due to Traction Vector on One Side:'"
      ]
     },
     "metadata": {},
     "output_type": "display_data"
    },
    {
     "data": {
      "text/plain": [
       "'f^e ='"
      ]
     },
     "metadata": {},
     "output_type": "display_data"
    },
    {
     "data": {
      "text/latex": [
       "$\\displaystyle \\left[\\begin{matrix}\\frac{t_{1}}{2}\\\\\\frac{t_{2}}{2}\\\\0\\\\0\\\\\\frac{t_{1}}{2}\\\\\\frac{t_{2}}{2}\\end{matrix}\\right]$"
      ],
      "text/plain": [
       "Matrix([\n",
       "[t_1/2],\n",
       "[t_2/2],\n",
       "[    0],\n",
       "[    0],\n",
       "[t_1/2],\n",
       "[t_2/2]])"
      ]
     },
     "metadata": {},
     "output_type": "display_data"
    }
   ],
   "source": [
    "import sympy as sp\n",
    "from sympy import Matrix,integrate\n",
    "x1,x2,t1,t2 = sp.symbols(\"x_1 x_2 t_1 t_2\")\n",
    "Shapefun = Matrix([[1-x1-x2],[x1],[x2]])\n",
    "Nn = Matrix([[0 for x in range(6)] for y in range(2)])\n",
    "for i in range(3):\n",
    "    Nn[0,2*i] = Nn[1,2*i+1] = Shapefun[i]\n",
    "tn = Matrix([[t1],[t2]])\n",
    "f = Matrix([[(integrate(i,(x2,0,1))).subs({x1:0})]for i in Nn.T*tn])\n",
    "display(\"Nodal Force due to Traction Vector on One Side:\")\n",
    "display(\"f^e =\",f)"
   ]
  },
  {
   "cell_type": "markdown",
   "metadata": {},
   "source": [
    "Quadratic triangular elements"
   ]
  },
  {
   "cell_type": "code",
   "execution_count": 5,
   "metadata": {
    "scrolled": false
   },
   "outputs": [
    {
     "data": {
      "text/plain": [
       "'u ='"
      ]
     },
     "metadata": {},
     "output_type": "display_data"
    },
    {
     "data": {
      "text/latex": [
       "$\\displaystyle a_{0} + a_{1} x_{1} + a_{2} x_{2} + a_{3} x_{1} x_{2} + a_{4} x_{1}^{2} + a_{5} x_{2}^{2}$"
      ],
      "text/plain": [
       "a_0 + a_1*x_1 + a_2*x_2 + a_3*x_1*x_2 + a_4*x_1**2 + a_5*x_2**2"
      ]
     },
     "metadata": {},
     "output_type": "display_data"
    },
    {
     "data": {
      "text/plain": [
       "'v ='"
      ]
     },
     "metadata": {},
     "output_type": "display_data"
    },
    {
     "data": {
      "text/latex": [
       "$\\displaystyle b_{0} + b_{1} x_{1} + b_{2} x_{2} + b_{3} x_{1} x_{2} + b_{4} x_{1}^{2} + b_{5} x_{2}^{2}$"
      ],
      "text/plain": [
       "b_0 + b_1*x_1 + b_2*x_2 + b_3*x_1*x_2 + b_4*x_1**2 + b_5*x_2**2"
      ]
     },
     "metadata": {},
     "output_type": "display_data"
    },
    {
     "data": {
      "text/plain": [
       "'Coordinates ='"
      ]
     },
     "metadata": {},
     "output_type": "display_data"
    },
    {
     "data": {
      "text/plain": [
       "[{x_1: 0, x_2: 0},\n",
       " {x_1: 1, x_2: 0},\n",
       " {x_1: 0, x_2: 1},\n",
       " {x_1: 0.5, x_2: 0},\n",
       " {x_1: 0.5, x_2: 0.5},\n",
       " {x_1: 0, x_2: 0.5}]"
      ]
     },
     "metadata": {},
     "output_type": "display_data"
    },
    {
     "data": {
      "text/plain": [
       "'Solve: '"
      ]
     },
     "metadata": {},
     "output_type": "display_data"
    },
    {
     "data": {
      "text/plain": [
       "{a_0: u_1,\n",
       " a_1: -3.0*u_1 - u_2 + 4.0*u_4,\n",
       " a_2: -3.0*u_1 - u_3 + 4.0*u_6,\n",
       " a_3: 4.0*u_1 - 4.0*u_4 + 4.0*u_5 - 4.0*u_6,\n",
       " a_4: 2.0*u_1 + 2.0*u_2 - 4.0*u_4,\n",
       " a_5: 2.0*u_1 + 2.0*u_3 - 4.0*u_6,\n",
       " b_0: v_1,\n",
       " b_1: -3.0*v_1 - v_2 + 4.0*v_4,\n",
       " b_2: -3.0*v_1 - v_3 + 4.0*v_6,\n",
       " b_3: 4.0*v_1 - 4.0*v_4 + 4.0*v_5 - 4.0*v_6,\n",
       " b_4: 2.0*v_1 + 2.0*v_2 - 4.0*v_4,\n",
       " b_5: 2.0*v_1 + 2.0*v_3 - 4.0*v_6}"
      ]
     },
     "metadata": {},
     "output_type": "display_data"
    },
    {
     "data": {
      "text/plain": [
       "'u ='"
      ]
     },
     "metadata": {},
     "output_type": "display_data"
    },
    {
     "data": {
      "text/latex": [
       "$\\displaystyle 2.0 u_{1} x_{1}^{2} + 4.0 u_{1} x_{1} x_{2} - 3.0 u_{1} x_{1} + 2.0 u_{1} x_{2}^{2} - 3.0 u_{1} x_{2} + u_{1} + 2.0 u_{2} x_{1}^{2} - u_{2} x_{1} + 2.0 u_{3} x_{2}^{2} - u_{3} x_{2} - 4.0 u_{4} x_{1}^{2} - 4.0 u_{4} x_{1} x_{2} + 4.0 u_{4} x_{1} + 4.0 u_{5} x_{1} x_{2} - 4.0 u_{6} x_{1} x_{2} - 4.0 u_{6} x_{2}^{2} + 4.0 u_{6} x_{2}$"
      ],
      "text/plain": [
       "2.0*u_1*x_1**2 + 4.0*u_1*x_1*x_2 - 3.0*u_1*x_1 + 2.0*u_1*x_2**2 - 3.0*u_1*x_2 + u_1 + 2.0*u_2*x_1**2 - u_2*x_1 + 2.0*u_3*x_2**2 - u_3*x_2 - 4.0*u_4*x_1**2 - 4.0*u_4*x_1*x_2 + 4.0*u_4*x_1 + 4.0*u_5*x_1*x_2 - 4.0*u_6*x_1*x_2 - 4.0*u_6*x_2**2 + 4.0*u_6*x_2"
      ]
     },
     "metadata": {},
     "output_type": "display_data"
    },
    {
     "data": {
      "text/plain": [
       "'v ='"
      ]
     },
     "metadata": {},
     "output_type": "display_data"
    },
    {
     "data": {
      "text/latex": [
       "$\\displaystyle 2.0 v_{1} x_{1}^{2} + 4.0 v_{1} x_{1} x_{2} - 3.0 v_{1} x_{1} + 2.0 v_{1} x_{2}^{2} - 3.0 v_{1} x_{2} + v_{1} + 2.0 v_{2} x_{1}^{2} - v_{2} x_{1} + 2.0 v_{3} x_{2}^{2} - v_{3} x_{2} - 4.0 v_{4} x_{1}^{2} - 4.0 v_{4} x_{1} x_{2} + 4.0 v_{4} x_{1} + 4.0 v_{5} x_{1} x_{2} - 4.0 v_{6} x_{1} x_{2} - 4.0 v_{6} x_{2}^{2} + 4.0 v_{6} x_{2}$"
      ],
      "text/plain": [
       "2.0*v_1*x_1**2 + 4.0*v_1*x_1*x_2 - 3.0*v_1*x_1 + 2.0*v_1*x_2**2 - 3.0*v_1*x_2 + v_1 + 2.0*v_2*x_1**2 - v_2*x_1 + 2.0*v_3*x_2**2 - v_3*x_2 - 4.0*v_4*x_1**2 - 4.0*v_4*x_1*x_2 + 4.0*v_4*x_1 + 4.0*v_5*x_1*x_2 - 4.0*v_6*x_1*x_2 - 4.0*v_6*x_2**2 + 4.0*v_6*x_2"
      ]
     },
     "metadata": {},
     "output_type": "display_data"
    },
    {
     "data": {
      "text/plain": [
       "'N1u1 ='"
      ]
     },
     "metadata": {},
     "output_type": "display_data"
    },
    {
     "data": {
      "text/latex": [
       "$\\displaystyle 2.0 x_{1}^{2} + 4.0 x_{1} x_{2} - 3.0 x_{1} + 2.0 x_{2}^{2} - 3.0 x_{2} + 1$"
      ],
      "text/plain": [
       "2.0*x_1**2 + 4.0*x_1*x_2 - 3.0*x_1 + 2.0*x_2**2 - 3.0*x_2 + 1"
      ]
     },
     "metadata": {},
     "output_type": "display_data"
    },
    {
     "data": {
      "text/plain": [
       "'N1v1 ='"
      ]
     },
     "metadata": {},
     "output_type": "display_data"
    },
    {
     "data": {
      "text/latex": [
       "$\\displaystyle 2.0 x_{1}^{2} + 4.0 x_{1} x_{2} - 3.0 x_{1} + 2.0 x_{2}^{2} - 3.0 x_{2} + 1$"
      ],
      "text/plain": [
       "2.0*x_1**2 + 4.0*x_1*x_2 - 3.0*x_1 + 2.0*x_2**2 - 3.0*x_2 + 1"
      ]
     },
     "metadata": {},
     "output_type": "display_data"
    },
    {
     "data": {
      "text/plain": [
       "'N2u2 ='"
      ]
     },
     "metadata": {},
     "output_type": "display_data"
    },
    {
     "data": {
      "text/latex": [
       "$\\displaystyle 2.0 x_{1}^{2} - x_{1}$"
      ],
      "text/plain": [
       "2.0*x_1**2 - x_1"
      ]
     },
     "metadata": {},
     "output_type": "display_data"
    },
    {
     "data": {
      "text/plain": [
       "'N2v2 ='"
      ]
     },
     "metadata": {},
     "output_type": "display_data"
    },
    {
     "data": {
      "text/latex": [
       "$\\displaystyle 2.0 x_{1}^{2} - x_{1}$"
      ],
      "text/plain": [
       "2.0*x_1**2 - x_1"
      ]
     },
     "metadata": {},
     "output_type": "display_data"
    },
    {
     "data": {
      "text/plain": [
       "'N3u3 ='"
      ]
     },
     "metadata": {},
     "output_type": "display_data"
    },
    {
     "data": {
      "text/latex": [
       "$\\displaystyle 2.0 x_{2}^{2} - x_{2}$"
      ],
      "text/plain": [
       "2.0*x_2**2 - x_2"
      ]
     },
     "metadata": {},
     "output_type": "display_data"
    },
    {
     "data": {
      "text/plain": [
       "'N3v3 ='"
      ]
     },
     "metadata": {},
     "output_type": "display_data"
    },
    {
     "data": {
      "text/latex": [
       "$\\displaystyle 2.0 x_{2}^{2} - x_{2}$"
      ],
      "text/plain": [
       "2.0*x_2**2 - x_2"
      ]
     },
     "metadata": {},
     "output_type": "display_data"
    },
    {
     "data": {
      "text/plain": [
       "'N4u4 ='"
      ]
     },
     "metadata": {},
     "output_type": "display_data"
    },
    {
     "data": {
      "text/latex": [
       "$\\displaystyle - 4.0 x_{1}^{2} - 4.0 x_{1} x_{2} + 4.0 x_{1}$"
      ],
      "text/plain": [
       "-4.0*x_1**2 - 4.0*x_1*x_2 + 4.0*x_1"
      ]
     },
     "metadata": {},
     "output_type": "display_data"
    },
    {
     "data": {
      "text/plain": [
       "'N4v4 ='"
      ]
     },
     "metadata": {},
     "output_type": "display_data"
    },
    {
     "data": {
      "text/latex": [
       "$\\displaystyle - 4.0 x_{1}^{2} - 4.0 x_{1} x_{2} + 4.0 x_{1}$"
      ],
      "text/plain": [
       "-4.0*x_1**2 - 4.0*x_1*x_2 + 4.0*x_1"
      ]
     },
     "metadata": {},
     "output_type": "display_data"
    },
    {
     "data": {
      "text/plain": [
       "'N5u5 ='"
      ]
     },
     "metadata": {},
     "output_type": "display_data"
    },
    {
     "data": {
      "text/latex": [
       "$\\displaystyle 4.0 x_{1} x_{2}$"
      ],
      "text/plain": [
       "4.0*x_1*x_2"
      ]
     },
     "metadata": {},
     "output_type": "display_data"
    },
    {
     "data": {
      "text/plain": [
       "'N5v5 ='"
      ]
     },
     "metadata": {},
     "output_type": "display_data"
    },
    {
     "data": {
      "text/latex": [
       "$\\displaystyle 4.0 x_{1} x_{2}$"
      ],
      "text/plain": [
       "4.0*x_1*x_2"
      ]
     },
     "metadata": {},
     "output_type": "display_data"
    },
    {
     "data": {
      "text/plain": [
       "'N6u6 ='"
      ]
     },
     "metadata": {},
     "output_type": "display_data"
    },
    {
     "data": {
      "text/latex": [
       "$\\displaystyle - 4.0 x_{1} x_{2} - 4.0 x_{2}^{2} + 4.0 x_{2}$"
      ],
      "text/plain": [
       "-4.0*x_1*x_2 - 4.0*x_2**2 + 4.0*x_2"
      ]
     },
     "metadata": {},
     "output_type": "display_data"
    },
    {
     "data": {
      "text/plain": [
       "'N6v6 ='"
      ]
     },
     "metadata": {},
     "output_type": "display_data"
    },
    {
     "data": {
      "text/latex": [
       "$\\displaystyle - 4.0 x_{1} x_{2} - 4.0 x_{2}^{2} + 4.0 x_{2}$"
      ],
      "text/plain": [
       "-4.0*x_1*x_2 - 4.0*x_2**2 + 4.0*x_2"
      ]
     },
     "metadata": {},
     "output_type": "display_data"
    }
   ],
   "source": [
    "import sympy as sp\n",
    "from sympy import solve\n",
    "a0,a1,a2,a3,a4,a5,x1,x2 = sp.symbols(\"a_0 a_1 a_2 a_3 a_4 a_5 x_1 x_2\")\n",
    "b0,b1,b2,b3,b4,b5 = sp.symbols(\"b_0 b_1 b_2 b_3 b_4 b_5\")\n",
    "u1,u2,u3,u4,u5,u6 = sp.symbols(\"u_1 u_2 u_3 u_4 u_5 u_6\")\n",
    "v1,v2,v3,v4,v5,v6 = sp.symbols(\"v_1 v_2 v_3 v_4 v_5 v_6\")\n",
    "u = a0+a1*x1+a2*x2+a3*x1*x2+a4*x1**2+a5*x2**2\n",
    "v = b0+b1*x1+b2*x2+b3*x1*x2+b4*x1**2+b5*x2**2\n",
    "display(\"u =\",u,\"v =\",v)\n",
    "Coordinates = [{x1:0,x2:0},{x1:1,x2:0},{x1:0,x2:1},\n",
    "               {x1:1/2,x2:0},{x1:1/2,x2:1/2},{x1:0,x2:1/2}]\n",
    "display(\"Coordinates =\",Coordinates)\n",
    "Eq1 = u.subs(Coordinates[0])\n",
    "Eq2 = u.subs(Coordinates[1])\n",
    "Eq3 = u.subs(Coordinates[2])\n",
    "Eq4 = v.subs(Coordinates[0])\n",
    "Eq5 = v.subs(Coordinates[1])\n",
    "Eq6 = v.subs(Coordinates[2])\n",
    "Eq7 = u.subs(Coordinates[3])\n",
    "Eq8 = u.subs(Coordinates[4])\n",
    "Eq9 = u.subs(Coordinates[5])\n",
    "Eq10 = v.subs(Coordinates[3])\n",
    "Eq11 = v.subs(Coordinates[4])\n",
    "Eq12 = v.subs(Coordinates[5])\n",
    "s = solve((Eq1-u1,Eq2-u2,Eq3-u3,Eq4-v1,Eq5-v2,Eq6-v3,\n",
    "          Eq7-u4,Eq8-u5,Eq9-u6,Eq10-v4,Eq11-v5,Eq12-v6),\n",
    "          (a0,a1,a2,a3,a4,a5,b0,b1,b2,b3,b4,b5))\n",
    "display(\"Solve: \",s)\n",
    "u = u.subs(s).expand()\n",
    "v = v.subs(s).expand()\n",
    "display(\"u =\",u,\"v =\",v)\n",
    "N1_u = u.coeff(u1)\n",
    "N1_v = v.coeff(v1)\n",
    "N2_u = u.coeff(u2)\n",
    "N2_v = v.coeff(v2)\n",
    "N3_u = u.coeff(u3)\n",
    "N3_v = v.coeff(v3)\n",
    "N4_u = u.coeff(u4)\n",
    "N4_v = v.coeff(v4)\n",
    "N5_u = u.coeff(u5)\n",
    "N5_v = v.coeff(v5)\n",
    "N6_u = u.coeff(u6)\n",
    "N6_v = v.coeff(v6)\n",
    "display(\"N1u1 =\",N1_u,\"N1v1 =\",N1_v,\"N2u2 =\",N2_u,\n",
    "        \"N2v2 =\",N2_v,\"N3u3 =\",N3_u,\"N3v3 =\",N3_v,\n",
    "        \"N4u4 =\",N4_u,\"N4v4 =\",N4_v,\"N5u5 =\",N5_u,\n",
    "        \"N5v5 =\",N5_v,\"N6u6 =\",N6_u,\"N6v6 =\",N6_v)"
   ]
  },
  {
   "cell_type": "code",
   "execution_count": 6,
   "metadata": {},
   "outputs": [
    {
     "data": {
      "text/plain": [
       "'K^e ='"
      ]
     },
     "metadata": {},
     "output_type": "display_data"
    },
    {
     "data": {
      "text/latex": [
       "$\\displaystyle \\left[\\begin{array}{cccccccccccc}\\frac{1.0 Ee t \\left(63700992.0 \\nu - 47775744.0\\right)}{127401984.0 \\nu^{2} + 63700992.0 \\nu - 63700992.0} & - \\frac{15925248.0 Ee t}{127401984.0 \\nu^{2} + 63700992.0 \\nu - 63700992.0} & \\frac{Ee t \\left(\\nu - 1\\right)}{6 \\left(2 \\nu^{2} + \\nu - 1\\right)} & \\frac{0.0833333333333333 Ee t}{\\nu + 1} & \\frac{0.0833333333333333 Ee t}{\\nu + 1} & - \\frac{8192.0 Ee \\nu t}{98304.0 \\nu^{2} + 49152.0 \\nu - 49152.0} & - \\frac{42467328.0 Ee t \\left(\\nu - 1\\right)}{127401984.0 \\nu^{2} + 63700992.0 \\nu - 63700992.0} & - \\frac{0.333333333333333 Ee t}{\\nu + 1} & 0 & 0 & - \\frac{0.333333333333333 Ee t}{\\nu + 1} & \\frac{42467328.0 Ee \\nu t}{127401984.0 \\nu^{2} + 63700992.0 \\nu - 63700992.0}\\\\- \\frac{15925248.0 Ee t}{127401984.0 \\nu^{2} + 63700992.0 \\nu - 63700992.0} & \\frac{1.0 Ee t \\left(63700992.0 \\nu - 47775744.0\\right)}{127401984.0 \\nu^{2} + 63700992.0 \\nu - 63700992.0} & - \\frac{Ee \\nu t}{12 \\nu^{2} + 6 \\nu - 6} & \\frac{0.0833333333333333 Ee t}{\\nu + 1} & \\frac{0.0833333333333333 Ee t}{\\nu + 1} & \\frac{8192.0 Ee t \\left(\\nu - 1\\right)}{98304.0 \\nu^{2} + 49152.0 \\nu - 49152.0} & \\frac{42467328.0 Ee \\nu t}{127401984.0 \\nu^{2} + 63700992.0 \\nu - 63700992.0} & - \\frac{0.333333333333333 Ee t}{\\nu + 1} & 0 & 0 & - \\frac{0.333333333333333 Ee t}{\\nu + 1} & - \\frac{42467328.0 Ee t \\left(\\nu - 1\\right)}{127401984.0 \\nu^{2} + 63700992.0 \\nu - 63700992.0}\\\\\\frac{Ee t \\left(\\nu - 1\\right)}{6 \\left(2 \\nu^{2} + \\nu - 1\\right)} & - \\frac{Ee \\nu t}{12 \\nu^{2} + 6 \\nu - 6} & \\frac{Ee t \\left(\\nu - 1\\right)}{2 \\left(2 \\nu^{2} + \\nu - 1\\right)} & 0 & 0 & \\frac{256.0 Ee \\nu t}{3072.0 \\nu^{2} + 1536.0 \\nu - 1536.0} & \\frac{2 Ee t \\left(1 - \\nu\\right)}{3 \\left(2 \\nu^{2} + \\nu - 1\\right)} & \\frac{2 Ee \\nu t}{3 \\left(2 \\nu^{2} + \\nu - 1\\right)} & 0 & - \\frac{2 Ee \\nu t}{6 \\nu^{2} + 3 \\nu - 3} & 0 & 0\\\\\\frac{0.0833333333333333 Ee t}{\\nu + 1} & \\frac{0.0833333333333333 Ee t}{\\nu + 1} & 0 & \\frac{0.25 Ee t}{\\nu + 1} & - \\frac{0.0833333333333333 Ee t}{\\nu + 1} & 0 & - \\frac{0.333333333333333 Ee t}{\\nu + 1} & - \\frac{0.333333333333333 Ee t}{\\nu + 1} & \\frac{0.333333333333333 Ee t}{\\nu + 1} & 0 & 0 & 0\\\\\\frac{0.0833333333333333 Ee t}{\\nu + 1} & \\frac{0.0833333333333333 Ee t}{\\nu + 1} & 0 & - \\frac{0.0833333333333333 Ee t}{\\nu + 1} & \\frac{0.25 Ee t}{\\nu + 1} & 0 & 0 & 0 & 0 & \\frac{0.333333333333333 Ee t}{\\nu + 1} & - \\frac{0.333333333333333 Ee t}{\\nu + 1} & - \\frac{0.333333333333333 Ee t}{\\nu + 1}\\\\- \\frac{8192.0 Ee \\nu t}{98304.0 \\nu^{2} + 49152.0 \\nu - 49152.0} & \\frac{8192.0 Ee t \\left(\\nu - 1\\right)}{98304.0 \\nu^{2} + 49152.0 \\nu - 49152.0} & \\frac{256.0 Ee \\nu t}{3072.0 \\nu^{2} + 1536.0 \\nu - 1536.0} & 0 & 0 & \\frac{96.0 Ee t \\left(\\nu - 1\\right)}{384.0 \\nu^{2} + 192.0 \\nu - 192.0} & 0 & 0 & - \\frac{64.0 Ee \\nu t}{192.0 \\nu^{2} + 96.0 \\nu - 96.0} & 0 & \\frac{64.0 Ee \\nu t}{192.0 \\nu^{2} + 96.0 \\nu - 96.0} & - \\frac{32768.0 Ee t \\left(\\nu - 1\\right)}{98304.0 \\nu^{2} + 49152.0 \\nu - 49152.0}\\\\- \\frac{42467328.0 Ee t \\left(\\nu - 1\\right)}{127401984.0 \\nu^{2} + 63700992.0 \\nu - 63700992.0} & \\frac{42467328.0 Ee \\nu t}{127401984.0 \\nu^{2} + 63700992.0 \\nu - 63700992.0} & \\frac{2 Ee t \\left(1 - \\nu\\right)}{3 \\left(2 \\nu^{2} + \\nu - 1\\right)} & - \\frac{0.333333333333333 Ee t}{\\nu + 1} & 0 & 0 & \\frac{1.0 Ee t \\left(169869312.0 \\nu - 127401984.0\\right)}{127401984.0 \\nu^{2} + 63700992.0 \\nu - 63700992.0} & - \\frac{1327104.0 Ee t}{7962624.0 \\nu^{2} + 3981312.0 \\nu - 3981312.0} & - \\frac{0.666666666666667 Ee t}{\\nu + 1} & \\frac{1327104.0 Ee t}{7962624.0 \\nu^{2} + 3981312.0 \\nu - 3981312.0} & 0 & - \\frac{21233664.0 Ee t}{127401984.0 \\nu^{2} + 63700992.0 \\nu - 63700992.0}\\\\- \\frac{0.333333333333333 Ee t}{\\nu + 1} & - \\frac{0.333333333333333 Ee t}{\\nu + 1} & \\frac{2 Ee \\nu t}{3 \\left(2 \\nu^{2} + \\nu - 1\\right)} & - \\frac{0.333333333333333 Ee t}{\\nu + 1} & 0 & 0 & - \\frac{1327104.0 Ee t}{7962624.0 \\nu^{2} + 3981312.0 \\nu - 3981312.0} & \\frac{1.0 Ee t \\left(169869312.0 \\nu - 127401984.0\\right)}{127401984.0 \\nu^{2} + 63700992.0 \\nu - 63700992.0} & \\frac{55296.0 Ee t}{331776.0 \\nu^{2} + 165888.0 \\nu - 165888.0} & - \\frac{10616832.0 Ee t \\left(\\nu - 1\\right)}{15925248.0 \\nu^{2} + 7962624.0 \\nu - 7962624.0} & - \\frac{442368.0 Ee t}{2654208.0 \\nu^{2} + 1327104.0 \\nu - 1327104.0} & 0\\\\0 & 0 & 0 & \\frac{0.333333333333333 Ee t}{\\nu + 1} & 0 & - \\frac{64.0 Ee \\nu t}{192.0 \\nu^{2} + 96.0 \\nu - 96.0} & - \\frac{0.666666666666667 Ee t}{\\nu + 1} & \\frac{55296.0 Ee t}{331776.0 \\nu^{2} + 165888.0 \\nu - 165888.0} & \\frac{1.0 Ee t \\left(2304.0 \\nu - 1728.0\\right)}{1728.0 \\nu^{2} + 864.0 \\nu - 864.0} & - \\frac{256.0 Ee t}{1536.0 \\nu^{2} + 768.0 \\nu - 768.0} & - \\frac{18432.0 Ee t \\left(\\nu - 1\\right)}{27648.0 \\nu^{2} + 13824.0 \\nu - 13824.0} & \\frac{2048.0 Ee t}{12288.0 \\nu^{2} + 6144.0 \\nu - 6144.0}\\\\0 & 0 & - \\frac{2 Ee \\nu t}{6 \\nu^{2} + 3 \\nu - 3} & 0 & \\frac{0.333333333333333 Ee t}{\\nu + 1} & 0 & \\frac{1327104.0 Ee t}{7962624.0 \\nu^{2} + 3981312.0 \\nu - 3981312.0} & - \\frac{10616832.0 Ee t \\left(\\nu - 1\\right)}{15925248.0 \\nu^{2} + 7962624.0 \\nu - 7962624.0} & - \\frac{256.0 Ee t}{1536.0 \\nu^{2} + 768.0 \\nu - 768.0} & \\frac{1.0 Ee t \\left(165888.0 \\nu - 124416.0\\right)}{124416.0 \\nu^{2} + 62208.0 \\nu - 62208.0} & \\frac{2048.0 Ee t}{12288.0 \\nu^{2} + 6144.0 \\nu - 6144.0} & - \\frac{0.666666666666667 Ee t}{\\nu + 1}\\\\- \\frac{0.333333333333333 Ee t}{\\nu + 1} & - \\frac{0.333333333333333 Ee t}{\\nu + 1} & 0 & 0 & - \\frac{0.333333333333333 Ee t}{\\nu + 1} & \\frac{64.0 Ee \\nu t}{192.0 \\nu^{2} + 96.0 \\nu - 96.0} & 0 & - \\frac{442368.0 Ee t}{2654208.0 \\nu^{2} + 1327104.0 \\nu - 1327104.0} & - \\frac{18432.0 Ee t \\left(\\nu - 1\\right)}{27648.0 \\nu^{2} + 13824.0 \\nu - 13824.0} & \\frac{2048.0 Ee t}{12288.0 \\nu^{2} + 6144.0 \\nu - 6144.0} & \\frac{1.0 Ee t \\left(36864.0 \\nu - 27648.0\\right)}{27648.0 \\nu^{2} + 13824.0 \\nu - 13824.0} & - \\frac{2048.0 Ee t}{12288.0 \\nu^{2} + 6144.0 \\nu - 6144.0}\\\\\\frac{42467328.0 Ee \\nu t}{127401984.0 \\nu^{2} + 63700992.0 \\nu - 63700992.0} & - \\frac{42467328.0 Ee t \\left(\\nu - 1\\right)}{127401984.0 \\nu^{2} + 63700992.0 \\nu - 63700992.0} & 0 & 0 & - \\frac{0.333333333333333 Ee t}{\\nu + 1} & - \\frac{32768.0 Ee t \\left(\\nu - 1\\right)}{98304.0 \\nu^{2} + 49152.0 \\nu - 49152.0} & - \\frac{21233664.0 Ee t}{127401984.0 \\nu^{2} + 63700992.0 \\nu - 63700992.0} & 0 & \\frac{2048.0 Ee t}{12288.0 \\nu^{2} + 6144.0 \\nu - 6144.0} & - \\frac{0.666666666666667 Ee t}{\\nu + 1} & - \\frac{2048.0 Ee t}{12288.0 \\nu^{2} + 6144.0 \\nu - 6144.0} & \\frac{1.0 Ee t \\left(169869312.0 \\nu - 127401984.0\\right)}{127401984.0 \\nu^{2} + 63700992.0 \\nu - 63700992.0}\\end{array}\\right]$"
      ],
      "text/plain": [
       "Matrix([\n",
       "[1.0*Ee*t*(63700992.0*nu - 47775744.0)/(127401984.0*nu**2 + 63700992.0*nu - 63700992.0),                      -15925248.0*Ee*t/(127401984.0*nu**2 + 63700992.0*nu - 63700992.0),              Ee*t*(nu - 1)/(6*(2*nu**2 + nu - 1)),  0.0833333333333333*Ee*t/(nu + 1),  0.0833333333333333*Ee*t/(nu + 1),        -8192.0*Ee*nu*t/(98304.0*nu**2 + 49152.0*nu - 49152.0),               -42467328.0*Ee*t*(nu - 1)/(127401984.0*nu**2 + 63700992.0*nu - 63700992.0),                                                         -0.333333333333333*Ee*t/(nu + 1),                                                               0,                                                                         0,                                       -0.333333333333333*Ee*t/(nu + 1),                      42467328.0*Ee*nu*t/(127401984.0*nu**2 + 63700992.0*nu - 63700992.0)],\n",
       "[                     -15925248.0*Ee*t/(127401984.0*nu**2 + 63700992.0*nu - 63700992.0), 1.0*Ee*t*(63700992.0*nu - 47775744.0)/(127401984.0*nu**2 + 63700992.0*nu - 63700992.0),                    -Ee*nu*t/(12*nu**2 + 6*nu - 6),  0.0833333333333333*Ee*t/(nu + 1),  0.0833333333333333*Ee*t/(nu + 1),   8192.0*Ee*t*(nu - 1)/(98304.0*nu**2 + 49152.0*nu - 49152.0),                      42467328.0*Ee*nu*t/(127401984.0*nu**2 + 63700992.0*nu - 63700992.0),                                                         -0.333333333333333*Ee*t/(nu + 1),                                                               0,                                                                         0,                                       -0.333333333333333*Ee*t/(nu + 1),               -42467328.0*Ee*t*(nu - 1)/(127401984.0*nu**2 + 63700992.0*nu - 63700992.0)],\n",
       "[                                                  Ee*t*(nu - 1)/(6*(2*nu**2 + nu - 1)),                                                         -Ee*nu*t/(12*nu**2 + 6*nu - 6),              Ee*t*(nu - 1)/(2*(2*nu**2 + nu - 1)),                                 0,                                 0,             256.0*Ee*nu*t/(3072.0*nu**2 + 1536.0*nu - 1536.0),                                                   2*Ee*t*(1 - nu)/(3*(2*nu**2 + nu - 1)),                                                         2*Ee*nu*t/(3*(2*nu**2 + nu - 1)),                                                               0,                                           -2*Ee*nu*t/(6*nu**2 + 3*nu - 3),                                                                      0,                                                                                        0],\n",
       "[                                                      0.0833333333333333*Ee*t/(nu + 1),                                                       0.0833333333333333*Ee*t/(nu + 1),                                                 0,                0.25*Ee*t/(nu + 1), -0.0833333333333333*Ee*t/(nu + 1),                                                             0,                                                         -0.333333333333333*Ee*t/(nu + 1),                                                         -0.333333333333333*Ee*t/(nu + 1),                                 0.333333333333333*Ee*t/(nu + 1),                                                                         0,                                                                      0,                                                                                        0],\n",
       "[                                                      0.0833333333333333*Ee*t/(nu + 1),                                                       0.0833333333333333*Ee*t/(nu + 1),                                                 0, -0.0833333333333333*Ee*t/(nu + 1),                0.25*Ee*t/(nu + 1),                                                             0,                                                                                        0,                                                                                        0,                                                               0,                                           0.333333333333333*Ee*t/(nu + 1),                                       -0.333333333333333*Ee*t/(nu + 1),                                                         -0.333333333333333*Ee*t/(nu + 1)],\n",
       "[                                -8192.0*Ee*nu*t/(98304.0*nu**2 + 49152.0*nu - 49152.0),                            8192.0*Ee*t*(nu - 1)/(98304.0*nu**2 + 49152.0*nu - 49152.0), 256.0*Ee*nu*t/(3072.0*nu**2 + 1536.0*nu - 1536.0),                                 0,                                 0,           96.0*Ee*t*(nu - 1)/(384.0*nu**2 + 192.0*nu - 192.0),                                                                                        0,                                                                                        0,                    -64.0*Ee*nu*t/(192.0*nu**2 + 96.0*nu - 96.0),                                                                         0,                            64.0*Ee*nu*t/(192.0*nu**2 + 96.0*nu - 96.0),                            -32768.0*Ee*t*(nu - 1)/(98304.0*nu**2 + 49152.0*nu - 49152.0)],\n",
       "[            -42467328.0*Ee*t*(nu - 1)/(127401984.0*nu**2 + 63700992.0*nu - 63700992.0),                    42467328.0*Ee*nu*t/(127401984.0*nu**2 + 63700992.0*nu - 63700992.0),            2*Ee*t*(1 - nu)/(3*(2*nu**2 + nu - 1)),  -0.333333333333333*Ee*t/(nu + 1),                                 0,                                                             0, 1.0*Ee*t*(169869312.0*nu - 127401984.0)/(127401984.0*nu**2 + 63700992.0*nu - 63700992.0),                             -1327104.0*Ee*t/(7962624.0*nu**2 + 3981312.0*nu - 3981312.0),                                -0.666666666666667*Ee*t/(nu + 1),               1327104.0*Ee*t/(7962624.0*nu**2 + 3981312.0*nu - 3981312.0),                                                                      0,                        -21233664.0*Ee*t/(127401984.0*nu**2 + 63700992.0*nu - 63700992.0)],\n",
       "[                                                      -0.333333333333333*Ee*t/(nu + 1),                                                       -0.333333333333333*Ee*t/(nu + 1),                  2*Ee*nu*t/(3*(2*nu**2 + nu - 1)),  -0.333333333333333*Ee*t/(nu + 1),                                 0,                                                             0,                             -1327104.0*Ee*t/(7962624.0*nu**2 + 3981312.0*nu - 3981312.0), 1.0*Ee*t*(169869312.0*nu - 127401984.0)/(127401984.0*nu**2 + 63700992.0*nu - 63700992.0),          55296.0*Ee*t/(331776.0*nu**2 + 165888.0*nu - 165888.0),   -10616832.0*Ee*t*(nu - 1)/(15925248.0*nu**2 + 7962624.0*nu - 7962624.0),            -442368.0*Ee*t/(2654208.0*nu**2 + 1327104.0*nu - 1327104.0),                                                                                        0],\n",
       "[                                                                                     0,                                                                                      0,                                                 0,   0.333333333333333*Ee*t/(nu + 1),                                 0,                  -64.0*Ee*nu*t/(192.0*nu**2 + 96.0*nu - 96.0),                                                         -0.666666666666667*Ee*t/(nu + 1),                                   55296.0*Ee*t/(331776.0*nu**2 + 165888.0*nu - 165888.0), 1.0*Ee*t*(2304.0*nu - 1728.0)/(1728.0*nu**2 + 864.0*nu - 864.0),                             -256.0*Ee*t/(1536.0*nu**2 + 768.0*nu - 768.0),          -18432.0*Ee*t*(nu - 1)/(27648.0*nu**2 + 13824.0*nu - 13824.0),                                         2048.0*Ee*t/(12288.0*nu**2 + 6144.0*nu - 6144.0)],\n",
       "[                                                                                     0,                                                                                      0,                   -2*Ee*nu*t/(6*nu**2 + 3*nu - 3),                                 0,   0.333333333333333*Ee*t/(nu + 1),                                                             0,                              1327104.0*Ee*t/(7962624.0*nu**2 + 3981312.0*nu - 3981312.0),                  -10616832.0*Ee*t*(nu - 1)/(15925248.0*nu**2 + 7962624.0*nu - 7962624.0),                   -256.0*Ee*t/(1536.0*nu**2 + 768.0*nu - 768.0), 1.0*Ee*t*(165888.0*nu - 124416.0)/(124416.0*nu**2 + 62208.0*nu - 62208.0),                       2048.0*Ee*t/(12288.0*nu**2 + 6144.0*nu - 6144.0),                                                         -0.666666666666667*Ee*t/(nu + 1)],\n",
       "[                                                      -0.333333333333333*Ee*t/(nu + 1),                                                       -0.333333333333333*Ee*t/(nu + 1),                                                 0,                                 0,  -0.333333333333333*Ee*t/(nu + 1),                   64.0*Ee*nu*t/(192.0*nu**2 + 96.0*nu - 96.0),                                                                                        0,                              -442368.0*Ee*t/(2654208.0*nu**2 + 1327104.0*nu - 1327104.0),   -18432.0*Ee*t*(nu - 1)/(27648.0*nu**2 + 13824.0*nu - 13824.0),                          2048.0*Ee*t/(12288.0*nu**2 + 6144.0*nu - 6144.0), 1.0*Ee*t*(36864.0*nu - 27648.0)/(27648.0*nu**2 + 13824.0*nu - 13824.0),                                        -2048.0*Ee*t/(12288.0*nu**2 + 6144.0*nu - 6144.0)],\n",
       "[                   42467328.0*Ee*nu*t/(127401984.0*nu**2 + 63700992.0*nu - 63700992.0),             -42467328.0*Ee*t*(nu - 1)/(127401984.0*nu**2 + 63700992.0*nu - 63700992.0),                                                 0,                                 0,  -0.333333333333333*Ee*t/(nu + 1), -32768.0*Ee*t*(nu - 1)/(98304.0*nu**2 + 49152.0*nu - 49152.0),                        -21233664.0*Ee*t/(127401984.0*nu**2 + 63700992.0*nu - 63700992.0),                                                                                        0,                2048.0*Ee*t/(12288.0*nu**2 + 6144.0*nu - 6144.0),                                          -0.666666666666667*Ee*t/(nu + 1),                      -2048.0*Ee*t/(12288.0*nu**2 + 6144.0*nu - 6144.0), 1.0*Ee*t*(169869312.0*nu - 127401984.0)/(127401984.0*nu**2 + 63700992.0*nu - 63700992.0)]])"
      ]
     },
     "metadata": {},
     "output_type": "display_data"
    }
   ],
   "source": [
    "import sympy as sp\n",
    "from sympy import simplify,diff,integrate\n",
    "x1,x2,t,Ee,nu = sp.symbols(\"x_1 x_2 t Ee nu\")\n",
    "half=sp.sympify('1/2') \n",
    "Shapefun = Matrix([[2*(1-x1-x2)*(half-x1-x2)],[2*x1*(x1-half)],\n",
    "                   [2*x2*(x2-1/2)],[4*x1*(1-x1-x2)],\n",
    "                   [4*x1*x2],[4*x2*(1-x1-x2)]])\n",
    "B = Matrix([[0 for x in range(12)] for y in range(3)])\n",
    "for i in range(6):\n",
    "    B[0,2*i] = B[2,2*i+1] = diff(Shapefun[i],x1)\n",
    "    B[1,2*i+1] = B[2,2*i] = diff(Shapefun[i],x2)                                                                                                   \n",
    "Cc = Ee/(1 + nu)*Matrix([[(1-nu)/(1-2*nu),nu/(1-2*nu),0], \n",
    "                         [nu/(1-2*nu),(1-nu)/(1-2*nu), 0], \n",
    "                         [0, 0, 1/2]])   \n",
    "Kbeforeintegration = t*simplify(B.T*Cc*B)\n",
    "K = Matrix([[simplify(integrate(Kbeforeintegration[i,j],(x1,0,1-x2),(x2,0,1)))for i in range (12)] for j in range (12)])\n",
    "display(\"K^e =\",K)"
   ]
  },
  {
   "cell_type": "code",
   "execution_count": 7,
   "metadata": {},
   "outputs": [
    {
     "data": {
      "text/plain": [
       "'Nodal Force due to Body Force:'"
      ]
     },
     "metadata": {},
     "output_type": "display_data"
    },
    {
     "data": {
      "text/plain": [
       "'f^e ='"
      ]
     },
     "metadata": {},
     "output_type": "display_data"
    },
    {
     "data": {
      "text/latex": [
       "$\\displaystyle \\left[\\begin{matrix}0\\\\0\\\\0\\\\0\\\\0\\\\0\\\\\\frac{\\rho_{1}}{6}\\\\\\frac{\\rho_{2}}{6}\\\\\\frac{\\rho_{1}}{6}\\\\\\frac{\\rho_{2}}{6}\\\\\\frac{\\rho_{1}}{6}\\\\\\frac{\\rho_{2}}{6}\\end{matrix}\\right]$"
      ],
      "text/plain": [
       "Matrix([\n",
       "[      0],\n",
       "[      0],\n",
       "[      0],\n",
       "[      0],\n",
       "[      0],\n",
       "[      0],\n",
       "[rho_1/6],\n",
       "[rho_2/6],\n",
       "[rho_1/6],\n",
       "[rho_2/6],\n",
       "[rho_1/6],\n",
       "[rho_2/6]])"
      ]
     },
     "metadata": {},
     "output_type": "display_data"
    }
   ],
   "source": [
    "import sympy as sp\n",
    "from sympy import simplify,integrate,N,Matrix\n",
    "x1,x2,rb1,rb2 = sp.symbols(\"x_1 x_2 rho_1 rho_2\")\n",
    "half=sp.sympify('1/2') \n",
    "Shapefun = Matrix([[2*(1-x1-x2)*(half-x1-x2)],[2*x1*(x1-half)],\n",
    "                   [2*x2*(x2-1/2)],[4*x1*(1-x1-x2)],\n",
    "                   [4*x1*x2],[4*x2*(1-x1-x2)]])\n",
    "Nn = Matrix([[0 for x in range(12)] for y in range(2)])\n",
    "for i in range(6):\n",
    "    Nn[0,2*i] = Nn[1,2*i+1] = Shapefun[i]                                                                                                 \n",
    "rb = Matrix([rb1,rb2])\n",
    "solve = Nn.T*rb\n",
    "f = Matrix([[simplify(integrate(solve[i],(x1,0,1-x2),(x2,0,1)))]for i in range (12)])\n",
    "display(\"Nodal Force due to Body Force:\")\n",
    "display(\"f^e =\",f)"
   ]
  },
  {
   "cell_type": "code",
   "execution_count": 8,
   "metadata": {},
   "outputs": [
    {
     "data": {
      "text/plain": [
       "'Nodal Force due to Traction Vector on One Side:'"
      ]
     },
     "metadata": {},
     "output_type": "display_data"
    },
    {
     "data": {
      "text/plain": [
       "'f^e ='"
      ]
     },
     "metadata": {},
     "output_type": "display_data"
    },
    {
     "data": {
      "text/latex": [
       "$\\displaystyle \\left[\\begin{matrix}\\frac{t_{1}}{2}\\\\\\frac{t_{2}}{2}\\\\0\\\\0\\\\\\frac{t_{1}}{2}\\\\\\frac{t_{2}}{2}\\end{matrix}\\right]$"
      ],
      "text/plain": [
       "Matrix([\n",
       "[t_1/2],\n",
       "[t_2/2],\n",
       "[    0],\n",
       "[    0],\n",
       "[t_1/2],\n",
       "[t_2/2]])"
      ]
     },
     "metadata": {},
     "output_type": "display_data"
    }
   ],
   "source": [
    "import sympy as sp\n",
    "from sympy import Matrix,integrate\n",
    "x1,x2,t1,t2 = sp.symbols(\"x_1 x_2 t_1 t_2\")\n",
    "Shapefun = Matrix([[1-x1-x2],[x1],[x2]])\n",
    "Nn = Matrix([[0 for x in range(6)] for y in range(2)])\n",
    "for i in range(3):\n",
    "    Nn[0,2*i] = Nn[1,2*i+1] = Shapefun[i]\n",
    "tn = Matrix([[t1],[t2]])\n",
    "f = Matrix([[(integrate(i,(x2,0,1))).subs({x1:0})]for i in Nn.T*tn])\n",
    "display(\"Nodal Force due to Traction Vector on One Side:\")\n",
    "display(\"f^e =\",f)"
   ]
  },
  {
   "cell_type": "code",
   "execution_count": null,
   "metadata": {},
   "outputs": [],
   "source": []
  }
 ],
 "metadata": {
  "kernelspec": {
   "display_name": "Python 3",
   "language": "python",
   "name": "python3"
  },
  "language_info": {
   "codemirror_mode": {
    "name": "ipython",
    "version": 3
   },
   "file_extension": ".py",
   "mimetype": "text/x-python",
   "name": "python",
   "nbconvert_exporter": "python",
   "pygments_lexer": "ipython3",
   "version": "3.8.5"
  }
 },
 "nbformat": 4,
 "nbformat_minor": 4
}
