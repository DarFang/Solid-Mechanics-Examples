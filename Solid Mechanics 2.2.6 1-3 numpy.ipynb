{
 "cells": [
  {
   "cell_type": "markdown",
   "metadata": {},
   "source": [
    "https://engcourses-uofa.ca/books/introduction-to-solid-mechanics/linear-algebra/2-2-linear-maps-between-vector-spaces/examples-and-problems/"
   ]
  },
  {
   "cell_type": "markdown",
   "metadata": {},
   "source": [
    "2.2.6.1"
   ]
  },
  {
   "cell_type": "code",
   "execution_count": 1,
   "metadata": {
    "scrolled": false
   },
   "outputs": [
    {
     "name": "stdout",
     "output_type": "stream",
     "text": [
      "M^T=\n",
      " [[1 1 0]\n",
      " [1 1 0]\n",
      " [0 0 1]]\n",
      "Det (M) = 0.0\n",
      "Vectors in the Kernel (Nullspace)=\n",
      " [[ 0.70710678]\n",
      " [-0.70710678]\n",
      " [-0.        ]]\n",
      "eigenvectors and eigenvalues\n",
      " (array([2.+0.j, 0.+0.j, 1.+0.j]), array([[ 0.70710678, -0.70710678,  0.        ],\n",
      "       [ 0.70710678,  0.70710678,  0.        ],\n",
      "       [ 0.        ,  0.        ,  1.        ]]))\n",
      "Eigenvalues = \n",
      " [2.+0.j 0.+0.j 1.+0.j]\n",
      "Eigenvectors = \n",
      " [[ 0.70710678  0.70710678  0.        ]\n",
      " [-0.70710678  0.70710678  0.        ]\n",
      " [ 0.          0.          1.        ]]\n",
      "Q =\n",
      " [[ 0.70710678  0.70710678  0.        ]\n",
      " [-0.70710678  0.70710678  0.        ]\n",
      " [ 0.          0.          1.        ]]\n",
      "Q.M.Q^T=\n",
      " [[2. 0. 0.]\n",
      " [0. 0. 0.]\n",
      " [0. 0. 1.]]\n",
      "Q.M.Q^T=\n",
      " [[2. 0. 0.]\n",
      " [0. 0. 0.]\n",
      " [0. 0. 1.]]\n"
     ]
    }
   ],
   "source": [
    "import numpy as np\n",
    "from numpy.linalg import *\n",
    "from scipy.linalg import *\n",
    "M = np.array([[1, 1, 0], [1, 1, 0], [0, 0, 1]])\n",
    "print(\"M^T=\\n\",M.transpose()) # transpose matrix\n",
    "print(\"Det (M) =\",det(M)) # determinant\n",
    "print(\"Vectors in the Kernel (Nullspace)=\\n\",null_space(M)) # null space unit matrix\n",
    "eigen = eig(M) # eigen values and vectors\n",
    "print(\"eigenvectors and eigenvalues\\n\",eigen)\n",
    "# first index is eigen values\n",
    "print(\"Eigenvalues = \\n\",eigen[0])\n",
    "# Columns are normalized eigenvectors. Transpose is used to convert them into rows\n",
    "print(\"Eigenvectors = \\n\",eigen[1].T)\n",
    "#The rotation matrix is made out of the rows of the eigenvectors\n",
    "Q=eigen[1].T\n",
    "print(\"Q =\\n\",Q)\n",
    "# @ is matrix multiply\n",
    "print(\"Q.M.Q^T=\\n\",Q@M@Q.transpose())\n",
    "# this also works\n",
    "print(\"Q.M.Q^T=\\n\",Q.dot(M).dot(Q.transpose()))"
   ]
  },
  {
   "cell_type": "markdown",
   "metadata": {},
   "source": [
    "2.2.6.2"
   ]
  },
  {
   "cell_type": "code",
   "execution_count": 2,
   "metadata": {
    "scrolled": false
   },
   "outputs": [
    {
     "name": "stdout",
     "output_type": "stream",
     "text": [
      "[3 8 4]\n",
      "Check length of vectors\n",
      "|u|= 1.0\n",
      "|v|= 1.0\n",
      "|w|= 1.0\n",
      "Check orthogonality\n",
      "u.v = 0.0\n",
      "u.w = 0.0\n",
      "v.w = 0.0\n",
      "Check orientation\n",
      "u.v×w= 1.0\n",
      "Q=\n",
      " [[ 0.6  0.8  0. ]\n",
      " [-0.8  0.6  0. ]\n",
      " [ 0.   0.   1. ]]\n",
      "Q=\n",
      " [[ 0.6  0.8  0. ]\n",
      " [-0.8  0.6  0. ]\n",
      " [ 0.   0.   1. ]]\n",
      "x=\n",
      " [1 1 1]\n",
      "x'=\n",
      " [ 1.4 -0.2  1. ]\n",
      "y=\n",
      " [3 8 4]\n",
      "M=\n",
      " [[ 2  1  0]\n",
      " [ 1  5  2]\n",
      " [ 2 -1  3]]\n",
      "M'=\n",
      " [[ 4.88  1.16  1.6 ]\n",
      " [ 1.16  2.12  1.2 ]\n",
      " [ 0.4  -2.2   3.  ]]\n",
      "y'=M'x'=\n",
      " [8.2 2.4 4. ]\n",
      "y'= Qy\n",
      " [8.2 2.4 4. ]\n"
     ]
    }
   ],
   "source": [
    "import numpy as np\n",
    "import numpy as np\n",
    "from numpy.linalg import *\n",
    "x = np.array([1, 1, 1]) \n",
    "M = np.array([[2, 1, 0], [1, 5, 2], [2, -1, 3]])\n",
    "# matrix multiply\n",
    "y = np.matmul(M,x)\n",
    "# same operation\n",
    "y = M@x\n",
    "print(y)\n",
    "u = np.array([3/5, 4/5, 0])\n",
    "v = np.array([-4/5, 3/5, 0])\n",
    "w = np.array([0, 0, 1])\n",
    "print(\"Check length of vectors\")\n",
    "print(\"|u|=\",norm(u))\n",
    "print(\"|v|=\",norm(v))\n",
    "print(\"|w|=\",norm(w))\n",
    "# @ also works as dot product\n",
    "print(\"Check orthogonality\")\n",
    "print(\"u.v =\",u@v)\n",
    "print(\"u.w =\",u@w)\n",
    "print(\"v.w =\",v@w)\n",
    "print(\"Check orientation\")\n",
    "print(\"u.v\\u00D7w=\",u@np.cross(v,w))\n",
    "# Q will be a 3 x 3\n",
    "Q = u\n",
    "# Adds row to matrix\n",
    "Q = np.vstack([Q, v])\n",
    "Q = np.vstack([Q, w])\n",
    "print(\"Q=\\n\",Q)\n",
    "#Alternatively, Q can be defined as:\n",
    "Q=np.array([u,v,w])\n",
    "print(\"Q=\\n\",Q)\n",
    "print(\"x=\\n\",x)\n",
    "xp = Q@x\n",
    "yp = Q@y\n",
    "Mp = Q@M@Q.transpose()\n",
    "print(\"x'=\\n\",xp)\n",
    "print(\"y=\\n\",y)\n",
    "print(\"M=\\n\",M)\n",
    "print(\"M'=\\n\",Mp)\n",
    "print(\"y'=M'x'=\\n\",Mp@xp)\n",
    "print(\"y'= Qy\\n\",yp)"
   ]
  },
  {
   "cell_type": "markdown",
   "metadata": {},
   "source": [
    "2.2.6.3"
   ]
  },
  {
   "cell_type": "code",
   "execution_count": 3,
   "metadata": {
    "scrolled": false
   },
   "outputs": [
    {
     "name": "stdout",
     "output_type": "stream",
     "text": [
      "Q =\n",
      " [[ 0.93969262 -0.34202014]\n",
      " [ 0.34202014  0.93969262]]\n",
      "v = [1.19534495 2.56342553]\n",
      "|u| = 2.8284271247461903\n",
      "|v| = 2.8284271247461903\n",
      "theta(rad) = 0.3490658503988661\n"
     ]
    }
   ],
   "source": [
    "import numpy as np\n",
    "from numpy.linalg import *\n",
    "# input degrees get radians\n",
    "theta = np.radians(20) \n",
    "c, s = np.cos(theta), np.sin(theta)\n",
    "# using the 2D rotation formula\n",
    "Q = np.array([[c, -s], [s, c]]) \n",
    "print(\"Q =\\n\",Q)\n",
    "u = np.array([2, 2])\n",
    "v = Q@u\n",
    "print(\"v =\",v)\n",
    "print(\"|u| =\",norm(u))\n",
    "print(\"|v| =\",norm(v))\n",
    "# using angle formula\n",
    "th=np.arccos(u@v/norm(u)/norm(v))\n",
    "print(\"theta(rad) =\",th) "
   ]
  },
  {
   "cell_type": "code",
   "execution_count": null,
   "metadata": {},
   "outputs": [],
   "source": []
  }
 ],
 "metadata": {
  "kernelspec": {
   "display_name": "Python 3",
   "language": "python",
   "name": "python3"
  },
  "language_info": {
   "codemirror_mode": {
    "name": "ipython",
    "version": 3
   },
   "file_extension": ".py",
   "mimetype": "text/x-python",
   "name": "python",
   "nbconvert_exporter": "python",
   "pygments_lexer": "ipython3",
   "version": "3.8.5"
  }
 },
 "nbformat": 4,
 "nbformat_minor": 4
}
