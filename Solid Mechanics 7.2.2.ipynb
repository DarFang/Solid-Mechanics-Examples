{
 "cells": [
  {
   "cell_type": "markdown",
   "metadata": {},
   "source": [
    "https://engcourses-uofa.ca/books/introduction-to-solid-mechanics/constitutive-laws/linear-elastic-materials/restrictions-on-the-elastic-moduli/"
   ]
  },
  {
   "cell_type": "markdown",
   "metadata": {},
   "source": [
    "7.2.2.1"
   ]
  },
  {
   "cell_type": "code",
   "execution_count": 4,
   "metadata": {},
   "outputs": [
    {
     "data": {
      "text/plain": [
       "'C ='"
      ]
     },
     "metadata": {},
     "output_type": "display_data"
    },
    {
     "data": {
      "text/latex": [
       "$\\displaystyle \\left[\\begin{matrix}\\frac{1}{E} & - \\frac{\\nu}{E} & - \\frac{\\nu}{E} & 0 & 0 & 0\\\\- \\frac{\\nu}{E} & \\frac{1}{E} & - \\frac{\\nu}{E} & 0 & 0 & 0\\\\- \\frac{\\nu}{E} & - \\frac{\\nu}{E} & \\frac{1}{E} & 0 & 0 & 0\\\\0 & 0 & 0 & \\frac{2 \\left(\\nu + 1\\right)}{E} & 0 & 0\\\\0 & 0 & 0 & 0 & \\frac{2 \\left(\\nu + 1\\right)}{E} & 0\\\\0 & 0 & 0 & 0 & 0 & \\frac{2 \\left(\\nu + 1\\right)}{E}\\end{matrix}\\right]$"
      ],
      "text/plain": [
       "Matrix([\n",
       "[  1/E, -nu/E, -nu/E,            0,            0,            0],\n",
       "[-nu/E,   1/E, -nu/E,            0,            0,            0],\n",
       "[-nu/E, -nu/E,   1/E,            0,            0,            0],\n",
       "[    0,     0,     0, 2*(nu + 1)/E,            0,            0],\n",
       "[    0,     0,     0,            0, 2*(nu + 1)/E,            0],\n",
       "[    0,     0,     0,            0,            0, 2*(nu + 1)/E]])"
      ]
     },
     "metadata": {},
     "output_type": "display_data"
    },
    {
     "data": {
      "text/plain": [
       "'eigenvalues ='"
      ]
     },
     "metadata": {},
     "output_type": "display_data"
    },
    {
     "data": {
      "text/plain": [
       "[(nu + 1)/E, -(2*nu - 1)/E, (2*nu + 2)/E]"
      ]
     },
     "metadata": {},
     "output_type": "display_data"
    },
    {
     "data": {
      "text/plain": [
       "'Inequalities for Eigenvalues to be positive:'"
      ]
     },
     "metadata": {},
     "output_type": "display_data"
    },
    {
     "data": {
      "text/latex": [
       "$\\displaystyle -1 < \\nu \\wedge \\nu < \\frac{1}{2}$"
      ],
      "text/plain": [
       "(-1 < nu) & (nu < 1/2)"
      ]
     },
     "metadata": {},
     "output_type": "display_data"
    },
    {
     "data": {
      "text/latex": [
       "$\\displaystyle 0 < E$"
      ],
      "text/plain": [
       "0 < E"
      ]
     },
     "metadata": {},
     "output_type": "display_data"
    }
   ],
   "source": [
    "from sympy import Matrix,fraction\n",
    "from sympy.solvers.inequalities import reduce_rational_inequalities\n",
    "import sympy as sp\n",
    "Ee,Nu = sp.symbols(\"E nu\", real = True)\n",
    "G = Ee/2/(1 + Nu)\n",
    "Cc = Matrix([[1/Ee,-Nu/Ee,-Nu/Ee,0,0,0],\n",
    "              [-Nu/Ee,1/Ee, -Nu/Ee,0,0,0], \n",
    "              [-Nu/Ee, -Nu/Ee, 1/Ee,0, 0, 0], \n",
    "              [0, 0, 0, 1/G, 0, 0], \n",
    "              [0, 0, 0, 0, 1/G, 0], \n",
    "              [0, 0, 0, 0, 0, 1/G]])\n",
    "display(\"C =\",Cc)\n",
    "eigensystem = Cc.eigenvects()\n",
    "eigenvalues = [i[0] for i in eigensystem]\n",
    "display(\"eigenvalues =\",eigenvalues)\n",
    "# I have not found an algorithm where sympy can solve multiple values in inequalities\n",
    "n1,d1 = fraction(eigensystem[0][0])\n",
    "n2,d2 = fraction(eigensystem[1][0])\n",
    "n3,d3 = fraction(eigensystem[2][0])\n",
    "s_Nu = reduce_rational_inequalities([[n1>0,n2>0,n3>0]], Nu)\n",
    "s_Ee = reduce_rational_inequalities([[1/d1>0,1/d2>0,1/d3>0]], Ee)\n",
    "display(\"Inequalities for Eigenvalues to be positive:\",s_Nu,s_Ee)"
   ]
  }
 ],
 "metadata": {
  "kernelspec": {
   "display_name": "Python 3",
   "language": "python",
   "name": "python3"
  },
  "language_info": {
   "codemirror_mode": {
    "name": "ipython",
    "version": 3
   },
   "file_extension": ".py",
   "mimetype": "text/x-python",
   "name": "python",
   "nbconvert_exporter": "python",
   "pygments_lexer": "ipython3",
   "version": "3.8.5"
  }
 },
 "nbformat": 4,
 "nbformat_minor": 4
}
